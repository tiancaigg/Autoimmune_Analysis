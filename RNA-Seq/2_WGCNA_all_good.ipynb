{
 "cells": [
  {
   "cell_type": "markdown",
   "metadata": {},
   "source": [
    "## Read the data from RDS file"
   ]
  },
  {
   "cell_type": "code",
   "execution_count": 1,
   "metadata": {
    "scrolled": true,
    "tags": []
   },
   "outputs": [
    {
     "name": "stderr",
     "output_type": "stream",
     "text": [
      "Loading required package: dynamicTreeCut\n",
      "\n",
      "Loading required package: fastcluster\n",
      "\n",
      "\n",
      "Attaching package: ‘fastcluster’\n",
      "\n",
      "\n",
      "The following object is masked from ‘package:stats’:\n",
      "\n",
      "    hclust\n",
      "\n",
      "\n",
      "\n",
      "\n",
      "\n",
      "Attaching package: ‘WGCNA’\n",
      "\n",
      "\n",
      "The following object is masked from ‘package:stats’:\n",
      "\n",
      "    cor\n",
      "\n",
      "\n",
      "\n",
      "Attaching package: ‘dplyr’\n",
      "\n",
      "\n",
      "The following objects are masked from ‘package:stats’:\n",
      "\n",
      "    filter, lag\n",
      "\n",
      "\n",
      "The following objects are masked from ‘package:base’:\n",
      "\n",
      "    intersect, setdiff, setequal, union\n",
      "\n",
      "\n",
      "\n",
      "Attaching package: ‘tidyr’\n",
      "\n",
      "\n",
      "The following object is masked from ‘package:reshape2’:\n",
      "\n",
      "    smiths\n",
      "\n",
      "\n"
     ]
    },
    {
     "name": "stdout",
     "output_type": "stream",
     "text": [
      "Allowing parallel execution with up to 127 working processes.\n"
     ]
    }
   ],
   "source": [
    "library(WGCNA)\n",
    "library(reshape2)\n",
    "library(stringr)\n",
    "library(dplyr)\n",
    "library(ggplot2)\n",
    "library(tidyr)\n",
    "# \n",
    "options(stringsAsFactors = FALSE)\n",
    "# 打开多线程\n",
    "enableWGCNAThreads()\n",
    "\n",
    "## Allowing parallel execution with maximum threads\n",
    "\n",
    "\n",
    "# Deseq2的varianceStabilizingTransformation\n",
    "\n",
    "# exprMat <- './csv/reduced_assay_vst_shoot_3DMs_Mine_20220421.csv'"
   ]
  },
  {
   "cell_type": "code",
   "execution_count": 2,
   "metadata": {
    "scrolled": true,
    "tags": []
   },
   "outputs": [],
   "source": [
    "dataExpr <- readRDS('./Rdata/vst.Rds') %>% as.data.frame \n",
    "# dataExpr"
   ]
  },
  {
   "cell_type": "code",
   "execution_count": 3,
   "metadata": {
    "scrolled": true,
    "tags": []
   },
   "outputs": [
    {
     "data": {
      "text/html": [
       "<table class=\"dataframe\">\n",
       "<caption>A data.frame: 2 × 2</caption>\n",
       "<thead>\n",
       "\t<tr><th scope=col>gene_id</th><th scope=col>gene_name</th></tr>\n",
       "\t<tr><th scope=col>&lt;chr&gt;</th><th scope=col>&lt;chr&gt;</th></tr>\n",
       "</thead>\n",
       "<tbody>\n",
       "\t<tr><td>AT2G07995</td><td>AT2G07995</td></tr>\n",
       "\t<tr><td>AT1G63150</td><td>AT1G63150</td></tr>\n",
       "</tbody>\n",
       "</table>\n"
      ],
      "text/latex": [
       "A data.frame: 2 × 2\n",
       "\\begin{tabular}{ll}\n",
       " gene\\_id & gene\\_name\\\\\n",
       " <chr> & <chr>\\\\\n",
       "\\hline\n",
       "\t AT2G07995 & AT2G07995\\\\\n",
       "\t AT1G63150 & AT1G63150\\\\\n",
       "\\end{tabular}\n"
      ],
      "text/markdown": [
       "\n",
       "A data.frame: 2 × 2\n",
       "\n",
       "| gene_id &lt;chr&gt; | gene_name &lt;chr&gt; |\n",
       "|---|---|\n",
       "| AT2G07995 | AT2G07995 |\n",
       "| AT1G63150 | AT1G63150 |\n",
       "\n"
      ],
      "text/plain": [
       "  gene_id   gene_name\n",
       "1 AT2G07995 AT2G07995\n",
       "2 AT1G63150 AT1G63150"
      ]
     },
     "metadata": {},
     "output_type": "display_data"
    }
   ],
   "source": [
    "map_id_name <- read.csv('../gene_table_and_other_scripts/bioMartR_Ath_all_genes_info_googled.csv')\n",
    "map_id_name <- map_id_name %>% dplyr::rename('gene_name' = 'external_gene_name', 'gene_id' = 'ensembl_gene_id')\n",
    "sample_n(map_id_name, 2)"
   ]
  },
  {
   "cell_type": "code",
   "execution_count": 4,
   "metadata": {
    "scrolled": true,
    "tags": []
   },
   "outputs": [
    {
     "data": {
      "text/html": [
       "<table class=\"dataframe\">\n",
       "<caption>A data.frame: 22 × 2</caption>\n",
       "<thead>\n",
       "\t<tr><th scope=col>gene_id</th><th scope=col>gene_name</th></tr>\n",
       "\t<tr><th scope=col>&lt;chr&gt;</th><th scope=col>&lt;chr&gt;</th></tr>\n",
       "</thead>\n",
       "<tbody>\n",
       "\t<tr><td>AT5G38120</td><td>4CL8                   </td></tr>\n",
       "\t<tr><td>AT5G13050</td><td>5-FCL                  </td></tr>\n",
       "\t<tr><td>AT3G21240</td><td>4CL2                   </td></tr>\n",
       "\t<tr><td>AT2G26260</td><td>3BETAHSD/D2            </td></tr>\n",
       "\t<tr><td>AT1G51680</td><td>4CL1                   </td></tr>\n",
       "\t<tr><td>AT4G23800</td><td>3xHMG-box2             </td></tr>\n",
       "\t<tr><td>AT1G65060</td><td>4CL3                   </td></tr>\n",
       "\t<tr><td>AT1G47510</td><td>5PTASE11               </td></tr>\n",
       "\t<tr><td>AT1G03410</td><td>2A6                    </td></tr>\n",
       "\t<tr><td>AT2G43900</td><td>5PTase12               </td></tr>\n",
       "\t<tr><td>AT5G06290</td><td>2-Cys Prx B            </td></tr>\n",
       "\t<tr><td>AT3G21230</td><td>4CL5                   </td></tr>\n",
       "\t<tr><td>AT4G11080</td><td>3xHMG-box1             </td></tr>\n",
       "\t<tr><td>AT1G47290</td><td>3BETAHSD/D1            </td></tr>\n",
       "\t<tr><td>AT2G31830</td><td>5PTase14               </td></tr>\n",
       "\t<tr><td>AT1G05630</td><td>5PTASE13               </td></tr>\n",
       "\t<tr><td>AT3G09570</td><td>7TM2                   </td></tr>\n",
       "\t<tr><td>AT5G42090</td><td>7TM4                   </td></tr>\n",
       "\t<tr><td>AT3G19480</td><td>3-PGDH                 </td></tr>\n",
       "\t<tr><td>AT2G01070</td><td>7TM5                   </td></tr>\n",
       "\t<tr><td>AT3G19010</td><td>2-OXOGLUTARATEOXYGENASE</td></tr>\n",
       "\t<tr><td>AT3G11630</td><td>2CPA                   </td></tr>\n",
       "</tbody>\n",
       "</table>\n"
      ],
      "text/latex": [
       "A data.frame: 22 × 2\n",
       "\\begin{tabular}{ll}\n",
       " gene\\_id & gene\\_name\\\\\n",
       " <chr> & <chr>\\\\\n",
       "\\hline\n",
       "\t AT5G38120 & 4CL8                   \\\\\n",
       "\t AT5G13050 & 5-FCL                  \\\\\n",
       "\t AT3G21240 & 4CL2                   \\\\\n",
       "\t AT2G26260 & 3BETAHSD/D2            \\\\\n",
       "\t AT1G51680 & 4CL1                   \\\\\n",
       "\t AT4G23800 & 3xHMG-box2             \\\\\n",
       "\t AT1G65060 & 4CL3                   \\\\\n",
       "\t AT1G47510 & 5PTASE11               \\\\\n",
       "\t AT1G03410 & 2A6                    \\\\\n",
       "\t AT2G43900 & 5PTase12               \\\\\n",
       "\t AT5G06290 & 2-Cys Prx B            \\\\\n",
       "\t AT3G21230 & 4CL5                   \\\\\n",
       "\t AT4G11080 & 3xHMG-box1             \\\\\n",
       "\t AT1G47290 & 3BETAHSD/D1            \\\\\n",
       "\t AT2G31830 & 5PTase14               \\\\\n",
       "\t AT1G05630 & 5PTASE13               \\\\\n",
       "\t AT3G09570 & 7TM2                   \\\\\n",
       "\t AT5G42090 & 7TM4                   \\\\\n",
       "\t AT3G19480 & 3-PGDH                 \\\\\n",
       "\t AT2G01070 & 7TM5                   \\\\\n",
       "\t AT3G19010 & 2-OXOGLUTARATEOXYGENASE\\\\\n",
       "\t AT3G11630 & 2CPA                   \\\\\n",
       "\\end{tabular}\n"
      ],
      "text/markdown": [
       "\n",
       "A data.frame: 22 × 2\n",
       "\n",
       "| gene_id &lt;chr&gt; | gene_name &lt;chr&gt; |\n",
       "|---|---|\n",
       "| AT5G38120 | 4CL8                    |\n",
       "| AT5G13050 | 5-FCL                   |\n",
       "| AT3G21240 | 4CL2                    |\n",
       "| AT2G26260 | 3BETAHSD/D2             |\n",
       "| AT1G51680 | 4CL1                    |\n",
       "| AT4G23800 | 3xHMG-box2              |\n",
       "| AT1G65060 | 4CL3                    |\n",
       "| AT1G47510 | 5PTASE11                |\n",
       "| AT1G03410 | 2A6                     |\n",
       "| AT2G43900 | 5PTase12                |\n",
       "| AT5G06290 | 2-Cys Prx B             |\n",
       "| AT3G21230 | 4CL5                    |\n",
       "| AT4G11080 | 3xHMG-box1              |\n",
       "| AT1G47290 | 3BETAHSD/D1             |\n",
       "| AT2G31830 | 5PTase14                |\n",
       "| AT1G05630 | 5PTASE13                |\n",
       "| AT3G09570 | 7TM2                    |\n",
       "| AT5G42090 | 7TM4                    |\n",
       "| AT3G19480 | 3-PGDH                  |\n",
       "| AT2G01070 | 7TM5                    |\n",
       "| AT3G19010 | 2-OXOGLUTARATEOXYGENASE |\n",
       "| AT3G11630 | 2CPA                    |\n",
       "\n"
      ],
      "text/plain": [
       "   gene_id   gene_name              \n",
       "1  AT5G38120 4CL8                   \n",
       "2  AT5G13050 5-FCL                  \n",
       "3  AT3G21240 4CL2                   \n",
       "4  AT2G26260 3BETAHSD/D2            \n",
       "5  AT1G51680 4CL1                   \n",
       "6  AT4G23800 3xHMG-box2             \n",
       "7  AT1G65060 4CL3                   \n",
       "8  AT1G47510 5PTASE11               \n",
       "9  AT1G03410 2A6                    \n",
       "10 AT2G43900 5PTase12               \n",
       "11 AT5G06290 2-Cys Prx B            \n",
       "12 AT3G21230 4CL5                   \n",
       "13 AT4G11080 3xHMG-box1             \n",
       "14 AT1G47290 3BETAHSD/D1            \n",
       "15 AT2G31830 5PTase14               \n",
       "16 AT1G05630 5PTASE13               \n",
       "17 AT3G09570 7TM2                   \n",
       "18 AT5G42090 7TM4                   \n",
       "19 AT3G19480 3-PGDH                 \n",
       "20 AT2G01070 7TM5                   \n",
       "21 AT3G19010 2-OXOGLUTARATEOXYGENASE\n",
       "22 AT3G11630 2CPA                   "
      ]
     },
     "metadata": {},
     "output_type": "display_data"
    }
   ],
   "source": [
    "map_id_name %>% filter(gene_name %>% str_detect('^\\\\d'))"
   ]
  },
  {
   "cell_type": "code",
   "execution_count": 5,
   "metadata": {
    "scrolled": true,
    "tags": []
   },
   "outputs": [
    {
     "name": "stderr",
     "output_type": "stream",
     "text": [
      "Registering fonts with R\n",
      "\n",
      "aakar already registered with pdfFont().\n",
      "\n",
      "Abyssinica SIL already registered with pdfFont().\n",
      "\n",
      "Andale Mono already registered with pdfFont().\n",
      "\n",
      "Ani already registered with pdfFont().\n",
      "\n",
      "AnjaliOldLipi already registered with pdfFont().\n",
      "\n",
      "Arial already registered with pdfFont().\n",
      "\n",
      "Arial Black already registered with pdfFont().\n",
      "\n",
      "Chandas already registered with pdfFont().\n",
      "\n",
      "Comic Sans MS already registered with pdfFont().\n",
      "\n",
      "Courier New already registered with pdfFont().\n",
      "\n",
      "DejaVu Sans already registered with pdfFont().\n",
      "\n",
      "DejaVu Sans Mono already registered with pdfFont().\n",
      "\n",
      "DejaVu Serif already registered with pdfFont().\n",
      "\n",
      "Dhurjati already registered with pdfFont().\n",
      "\n",
      "Droid Sans Fallback already registered with pdfFont().\n",
      "\n",
      "Dyuthi already registered with pdfFont().\n",
      "\n",
      "FreeMono already registered with pdfFont().\n",
      "\n",
      "FreeSans already registered with pdfFont().\n",
      "\n",
      "FreeSerif already registered with pdfFont().\n",
      "\n",
      "Gargi already registered with pdfFont().\n",
      "\n",
      "Garuda already registered with pdfFont().\n",
      "\n",
      "Georgia already registered with pdfFont().\n",
      "\n",
      "Gidugu already registered with pdfFont().\n",
      "\n",
      "Gubbi already registered with pdfFont().\n",
      "\n",
      "Gurajada already registered with pdfFont().\n",
      "\n",
      "Impact already registered with pdfFont().\n",
      "\n",
      "Jamrul already registered with pdfFont().\n",
      "\n",
      "KacstArt already registered with pdfFont().\n",
      "\n",
      "KacstBook already registered with pdfFont().\n",
      "\n",
      "KacstDecorative already registered with pdfFont().\n",
      "\n",
      "KacstDigital already registered with pdfFont().\n",
      "\n",
      "KacstFarsi already registered with pdfFont().\n",
      "\n",
      "KacstLetter already registered with pdfFont().\n",
      "\n",
      "KacstNaskh already registered with pdfFont().\n",
      "\n",
      "KacstOffice already registered with pdfFont().\n",
      "\n",
      "KacstOne already registered with pdfFont().\n",
      "\n",
      "KacstPen already registered with pdfFont().\n",
      "\n",
      "KacstPoster already registered with pdfFont().\n",
      "\n",
      "KacstQurn already registered with pdfFont().\n",
      "\n",
      "KacstScreen already registered with pdfFont().\n",
      "\n",
      "KacstTitle already registered with pdfFont().\n",
      "\n",
      "KacstTitleL already registered with pdfFont().\n",
      "\n",
      "Kalapi already registered with pdfFont().\n",
      "\n",
      "Kalimati already registered with pdfFont().\n",
      "\n",
      "Karumbi already registered with pdfFont().\n",
      "\n",
      "Keraleeyam already registered with pdfFont().\n",
      "\n",
      "Khmer OS already registered with pdfFont().\n",
      "\n",
      "Khmer OS System already registered with pdfFont().\n",
      "\n",
      "More than one version of regular/bold/italic found for Kinnari. Skipping setup for this font.\n",
      "\n",
      "LakkiReddy already registered with pdfFont().\n",
      "\n",
      "Laksaman already registered with pdfFont().\n",
      "\n",
      "More than one version of regular/bold/italic found for Liberation Mono. Skipping setup for this font.\n",
      "\n",
      "More than one version of regular/bold/italic found for Liberation Sans. Skipping setup for this font.\n",
      "\n",
      "Liberation Sans Narrow already registered with pdfFont().\n",
      "\n",
      "More than one version of regular/bold/italic found for Liberation Serif. Skipping setup for this font.\n",
      "\n",
      "Likhan already registered with pdfFont().\n",
      "\n",
      "LKLUG already registered with pdfFont().\n",
      "\n",
      "Lohit Assamese already registered with pdfFont().\n",
      "\n",
      "Lohit Bengali already registered with pdfFont().\n",
      "\n",
      "Lohit Devanagari already registered with pdfFont().\n",
      "\n",
      "Lohit Gujarati already registered with pdfFont().\n",
      "\n",
      "Lohit Gurmukhi already registered with pdfFont().\n",
      "\n",
      "Lohit Kannada already registered with pdfFont().\n",
      "\n",
      "Lohit Malayalam already registered with pdfFont().\n",
      "\n",
      "Lohit Odia already registered with pdfFont().\n",
      "\n",
      "Lohit Tamil already registered with pdfFont().\n",
      "\n",
      "Lohit Tamil Classical already registered with pdfFont().\n",
      "\n",
      "Lohit Telugu already registered with pdfFont().\n",
      "\n",
      "Loma already registered with pdfFont().\n",
      "\n",
      "Mallanna already registered with pdfFont().\n",
      "\n",
      "Mandali already registered with pdfFont().\n",
      "\n",
      "Meera already registered with pdfFont().\n",
      "\n",
      "Mitra  already registered with pdfFont().\n",
      "\n",
      "mry_KacstQurn already registered with pdfFont().\n",
      "\n",
      "More than one version of regular/bold/italic found for Mukti. Skipping setup for this font.\n",
      "\n",
      "Nakula already registered with pdfFont().\n",
      "\n",
      "NATS already registered with pdfFont().\n",
      "\n",
      "Navilu already registered with pdfFont().\n",
      "\n",
      "More than one version of regular/bold/italic found for Norasi. Skipping setup for this font.\n",
      "\n",
      "Noto Mono already registered with pdfFont().\n",
      "\n",
      "Noto Sans Mono already registered with pdfFont().\n",
      "\n",
      "NTR already registered with pdfFont().\n",
      "\n",
      "OpenSymbol already registered with pdfFont().\n",
      "\n",
      "Padauk already registered with pdfFont().\n",
      "\n",
      "Padauk Book already registered with pdfFont().\n",
      "\n",
      "More than one version of regular/bold/italic found for padmaa. Skipping setup for this font.\n",
      "\n",
      "No regular (non-bold, non-italic) version of padmaa-Bold.1.1. Skipping setup for this font.\n",
      "\n",
      "Pagul already registered with pdfFont().\n",
      "\n",
      "Peddana already registered with pdfFont().\n",
      "\n",
      "Phetsarath OT already registered with pdfFont().\n",
      "\n",
      "Ponnala already registered with pdfFont().\n",
      "\n",
      "Pothana2000 already registered with pdfFont().\n",
      "\n",
      "Potti Sreeramulu already registered with pdfFont().\n",
      "\n",
      "Purisa already registered with pdfFont().\n",
      "\n",
      "Rachana already registered with pdfFont().\n",
      "\n",
      "RaghuMalayalamSans already registered with pdfFont().\n",
      "\n",
      "Ramabhadra already registered with pdfFont().\n",
      "\n",
      "Ramaraja already registered with pdfFont().\n",
      "\n",
      "Rasa already registered with pdfFont().\n",
      "\n",
      "Rasa Light already registered with pdfFont().\n",
      "\n",
      "Rasa Medium already registered with pdfFont().\n",
      "\n",
      "Rasa SemiBold already registered with pdfFont().\n",
      "\n",
      "RaviPrakash already registered with pdfFont().\n",
      "\n",
      "Rekha already registered with pdfFont().\n",
      "\n",
      "Saab already registered with pdfFont().\n",
      "\n",
      "Sahadeva already registered with pdfFont().\n",
      "\n",
      "Samanata already registered with pdfFont().\n",
      "\n",
      "Samyak Devanagari already registered with pdfFont().\n",
      "\n",
      "Samyak Gujarati already registered with pdfFont().\n",
      "\n",
      "Samyak Malayalam already registered with pdfFont().\n",
      "\n",
      "Samyak Tamil already registered with pdfFont().\n",
      "\n",
      "Sarai already registered with pdfFont().\n",
      "\n",
      "Sawasdee already registered with pdfFont().\n",
      "\n",
      "Sree Krushnadevaraya already registered with pdfFont().\n",
      "\n",
      "Suranna already registered with pdfFont().\n",
      "\n",
      "Suravaram already registered with pdfFont().\n",
      "\n",
      "Suruma already registered with pdfFont().\n",
      "\n",
      "Syamala Ramana already registered with pdfFont().\n",
      "\n",
      "TenaliRamakrishna already registered with pdfFont().\n",
      "\n",
      "Tibetan Machine Uni already registered with pdfFont().\n",
      "\n",
      "Times New Roman already registered with pdfFont().\n",
      "\n",
      "Timmana already registered with pdfFont().\n",
      "\n",
      "Tlwg Typist already registered with pdfFont().\n",
      "\n",
      "Tlwg Typo already registered with pdfFont().\n",
      "\n",
      "TlwgMono already registered with pdfFont().\n",
      "\n",
      "TlwgTypewriter already registered with pdfFont().\n",
      "\n",
      "Trebuchet MS already registered with pdfFont().\n",
      "\n",
      "Ubuntu already registered with pdfFont().\n",
      "\n",
      "Ubuntu Condensed already registered with pdfFont().\n",
      "\n",
      "Ubuntu Light already registered with pdfFont().\n",
      "\n",
      "Ubuntu Mono already registered with pdfFont().\n",
      "\n",
      "Ubuntu Thin already registered with pdfFont().\n",
      "\n",
      "More than one version of regular/bold/italic found for Umpush. Skipping setup for this font.\n",
      "\n",
      "Uroob already registered with pdfFont().\n",
      "\n",
      "utkal already registered with pdfFont().\n",
      "\n",
      "Vemana2000 already registered with pdfFont().\n",
      "\n",
      "Verdana already registered with pdfFont().\n",
      "\n",
      "Waree already registered with pdfFont().\n",
      "\n",
      "Webdings already registered with pdfFont().\n",
      "\n",
      "Yrsa already registered with pdfFont().\n",
      "\n",
      "Yrsa Light already registered with pdfFont().\n",
      "\n",
      "Yrsa Medium already registered with pdfFont().\n",
      "\n",
      "Yrsa SemiBold already registered with pdfFont().\n",
      "\n",
      "aakar already registered with postscriptFont().\n",
      "\n",
      "Abyssinica SIL already registered with postscriptFont().\n",
      "\n",
      "Andale Mono already registered with postscriptFont().\n",
      "\n",
      "Ani already registered with postscriptFont().\n",
      "\n",
      "AnjaliOldLipi already registered with postscriptFont().\n",
      "\n",
      "Arial already registered with postscriptFont().\n",
      "\n",
      "Arial Black already registered with postscriptFont().\n",
      "\n",
      "Chandas already registered with postscriptFont().\n",
      "\n",
      "Comic Sans MS already registered with postscriptFont().\n",
      "\n",
      "Courier New already registered with postscriptFont().\n",
      "\n",
      "DejaVu Sans already registered with postscriptFont().\n",
      "\n",
      "DejaVu Sans Mono already registered with postscriptFont().\n",
      "\n",
      "DejaVu Serif already registered with postscriptFont().\n",
      "\n",
      "Dhurjati already registered with postscriptFont().\n",
      "\n",
      "Droid Sans Fallback already registered with postscriptFont().\n",
      "\n",
      "Dyuthi already registered with postscriptFont().\n",
      "\n",
      "FreeMono already registered with postscriptFont().\n",
      "\n",
      "FreeSans already registered with postscriptFont().\n",
      "\n",
      "FreeSerif already registered with postscriptFont().\n",
      "\n",
      "Gargi already registered with postscriptFont().\n",
      "\n",
      "Garuda already registered with postscriptFont().\n",
      "\n",
      "Georgia already registered with postscriptFont().\n",
      "\n",
      "Gidugu already registered with postscriptFont().\n",
      "\n",
      "Gubbi already registered with postscriptFont().\n",
      "\n",
      "Gurajada already registered with postscriptFont().\n",
      "\n",
      "Impact already registered with postscriptFont().\n",
      "\n",
      "Jamrul already registered with postscriptFont().\n",
      "\n",
      "KacstArt already registered with postscriptFont().\n",
      "\n",
      "KacstBook already registered with postscriptFont().\n",
      "\n",
      "KacstDecorative already registered with postscriptFont().\n",
      "\n",
      "KacstDigital already registered with postscriptFont().\n",
      "\n",
      "KacstFarsi already registered with postscriptFont().\n",
      "\n",
      "KacstLetter already registered with postscriptFont().\n",
      "\n",
      "KacstNaskh already registered with postscriptFont().\n",
      "\n",
      "KacstOffice already registered with postscriptFont().\n",
      "\n",
      "KacstOne already registered with postscriptFont().\n",
      "\n",
      "KacstPen already registered with postscriptFont().\n",
      "\n",
      "KacstPoster already registered with postscriptFont().\n",
      "\n",
      "KacstQurn already registered with postscriptFont().\n",
      "\n",
      "KacstScreen already registered with postscriptFont().\n",
      "\n",
      "KacstTitle already registered with postscriptFont().\n",
      "\n",
      "KacstTitleL already registered with postscriptFont().\n",
      "\n",
      "Kalapi already registered with postscriptFont().\n",
      "\n",
      "Kalimati already registered with postscriptFont().\n",
      "\n",
      "Karumbi already registered with postscriptFont().\n",
      "\n",
      "Keraleeyam already registered with postscriptFont().\n",
      "\n",
      "Khmer OS already registered with postscriptFont().\n",
      "\n",
      "Khmer OS System already registered with postscriptFont().\n",
      "\n",
      "More than one version of regular/bold/italic found for Kinnari. Skipping setup for this font.\n",
      "\n",
      "LakkiReddy already registered with postscriptFont().\n",
      "\n",
      "Laksaman already registered with postscriptFont().\n",
      "\n",
      "More than one version of regular/bold/italic found for Liberation Mono. Skipping setup for this font.\n",
      "\n",
      "More than one version of regular/bold/italic found for Liberation Sans. Skipping setup for this font.\n",
      "\n",
      "Liberation Sans Narrow already registered with postscriptFont().\n",
      "\n",
      "More than one version of regular/bold/italic found for Liberation Serif. Skipping setup for this font.\n",
      "\n",
      "Likhan already registered with postscriptFont().\n",
      "\n",
      "LKLUG already registered with postscriptFont().\n",
      "\n",
      "Lohit Assamese already registered with postscriptFont().\n",
      "\n",
      "Lohit Bengali already registered with postscriptFont().\n",
      "\n",
      "Lohit Devanagari already registered with postscriptFont().\n",
      "\n",
      "Lohit Gujarati already registered with postscriptFont().\n",
      "\n",
      "Lohit Gurmukhi already registered with postscriptFont().\n",
      "\n",
      "Lohit Kannada already registered with postscriptFont().\n",
      "\n",
      "Lohit Malayalam already registered with postscriptFont().\n",
      "\n",
      "Lohit Odia already registered with postscriptFont().\n",
      "\n",
      "Lohit Tamil already registered with postscriptFont().\n",
      "\n",
      "Lohit Tamil Classical already registered with postscriptFont().\n",
      "\n",
      "Lohit Telugu already registered with postscriptFont().\n",
      "\n",
      "Loma already registered with postscriptFont().\n",
      "\n",
      "Mallanna already registered with postscriptFont().\n",
      "\n",
      "Mandali already registered with postscriptFont().\n",
      "\n",
      "Meera already registered with postscriptFont().\n",
      "\n",
      "Mitra  already registered with postscriptFont().\n",
      "\n",
      "mry_KacstQurn already registered with postscriptFont().\n",
      "\n",
      "More than one version of regular/bold/italic found for Mukti. Skipping setup for this font.\n",
      "\n",
      "Nakula already registered with postscriptFont().\n",
      "\n",
      "NATS already registered with postscriptFont().\n",
      "\n",
      "Navilu already registered with postscriptFont().\n",
      "\n",
      "More than one version of regular/bold/italic found for Norasi. Skipping setup for this font.\n",
      "\n",
      "Noto Mono already registered with postscriptFont().\n",
      "\n",
      "Noto Sans Mono already registered with postscriptFont().\n",
      "\n",
      "NTR already registered with postscriptFont().\n",
      "\n",
      "OpenSymbol already registered with postscriptFont().\n",
      "\n",
      "Padauk already registered with postscriptFont().\n",
      "\n",
      "Padauk Book already registered with postscriptFont().\n",
      "\n",
      "More than one version of regular/bold/italic found for padmaa. Skipping setup for this font.\n",
      "\n",
      "No regular (non-bold, non-italic) version of padmaa-Bold.1.1. Skipping setup for this font.\n",
      "\n",
      "Pagul already registered with postscriptFont().\n",
      "\n",
      "Peddana already registered with postscriptFont().\n",
      "\n",
      "Phetsarath OT already registered with postscriptFont().\n",
      "\n",
      "Ponnala already registered with postscriptFont().\n",
      "\n",
      "Pothana2000 already registered with postscriptFont().\n",
      "\n",
      "Potti Sreeramulu already registered with postscriptFont().\n",
      "\n",
      "Purisa already registered with postscriptFont().\n",
      "\n",
      "Rachana already registered with postscriptFont().\n",
      "\n",
      "RaghuMalayalamSans already registered with postscriptFont().\n",
      "\n",
      "Ramabhadra already registered with postscriptFont().\n",
      "\n",
      "Ramaraja already registered with postscriptFont().\n",
      "\n",
      "Rasa already registered with postscriptFont().\n",
      "\n",
      "Rasa Light already registered with postscriptFont().\n",
      "\n",
      "Rasa Medium already registered with postscriptFont().\n",
      "\n",
      "Rasa SemiBold already registered with postscriptFont().\n",
      "\n",
      "RaviPrakash already registered with postscriptFont().\n",
      "\n",
      "Rekha already registered with postscriptFont().\n",
      "\n",
      "Saab already registered with postscriptFont().\n",
      "\n",
      "Sahadeva already registered with postscriptFont().\n",
      "\n",
      "Samanata already registered with postscriptFont().\n",
      "\n",
      "Samyak Devanagari already registered with postscriptFont().\n",
      "\n",
      "Samyak Gujarati already registered with postscriptFont().\n",
      "\n",
      "Samyak Malayalam already registered with postscriptFont().\n",
      "\n",
      "Samyak Tamil already registered with postscriptFont().\n",
      "\n",
      "Sarai already registered with postscriptFont().\n",
      "\n",
      "Sawasdee already registered with postscriptFont().\n",
      "\n",
      "Sree Krushnadevaraya already registered with postscriptFont().\n",
      "\n",
      "Suranna already registered with postscriptFont().\n",
      "\n",
      "Suravaram already registered with postscriptFont().\n",
      "\n",
      "Suruma already registered with postscriptFont().\n",
      "\n",
      "Syamala Ramana already registered with postscriptFont().\n",
      "\n",
      "TenaliRamakrishna already registered with postscriptFont().\n",
      "\n",
      "Tibetan Machine Uni already registered with postscriptFont().\n",
      "\n",
      "Times New Roman already registered with postscriptFont().\n",
      "\n",
      "Timmana already registered with postscriptFont().\n",
      "\n",
      "Tlwg Typist already registered with postscriptFont().\n",
      "\n",
      "Tlwg Typo already registered with postscriptFont().\n",
      "\n",
      "TlwgMono already registered with postscriptFont().\n",
      "\n",
      "TlwgTypewriter already registered with postscriptFont().\n",
      "\n",
      "Trebuchet MS already registered with postscriptFont().\n",
      "\n",
      "Ubuntu already registered with postscriptFont().\n",
      "\n",
      "Ubuntu Condensed already registered with postscriptFont().\n",
      "\n",
      "Ubuntu Light already registered with postscriptFont().\n",
      "\n",
      "Ubuntu Mono already registered with postscriptFont().\n",
      "\n",
      "Ubuntu Thin already registered with postscriptFont().\n",
      "\n",
      "More than one version of regular/bold/italic found for Umpush. Skipping setup for this font.\n",
      "\n",
      "Uroob already registered with postscriptFont().\n",
      "\n",
      "utkal already registered with postscriptFont().\n",
      "\n",
      "Vemana2000 already registered with postscriptFont().\n",
      "\n",
      "Verdana already registered with postscriptFont().\n",
      "\n",
      "Waree already registered with postscriptFont().\n",
      "\n",
      "Webdings already registered with postscriptFont().\n",
      "\n",
      "Yrsa already registered with postscriptFont().\n",
      "\n",
      "Yrsa Light already registered with postscriptFont().\n",
      "\n",
      "Yrsa Medium already registered with postscriptFont().\n",
      "\n",
      "Yrsa SemiBold already registered with postscriptFont().\n",
      "\n",
      "aakar already registered with pdfFont().\n",
      "\n",
      "Abyssinica SIL already registered with pdfFont().\n",
      "\n",
      "Andale Mono already registered with pdfFont().\n",
      "\n",
      "Ani already registered with pdfFont().\n",
      "\n",
      "AnjaliOldLipi already registered with pdfFont().\n",
      "\n",
      "Arial already registered with pdfFont().\n",
      "\n",
      "Arial Black already registered with pdfFont().\n",
      "\n",
      "Chandas already registered with pdfFont().\n",
      "\n",
      "Comic Sans MS already registered with pdfFont().\n",
      "\n",
      "Courier New already registered with pdfFont().\n",
      "\n",
      "DejaVu Sans already registered with pdfFont().\n",
      "\n",
      "DejaVu Sans Mono already registered with pdfFont().\n",
      "\n",
      "DejaVu Serif already registered with pdfFont().\n",
      "\n",
      "Dhurjati already registered with pdfFont().\n",
      "\n",
      "Droid Sans Fallback already registered with pdfFont().\n",
      "\n",
      "Dyuthi already registered with pdfFont().\n",
      "\n",
      "FreeMono already registered with pdfFont().\n",
      "\n",
      "FreeSans already registered with pdfFont().\n",
      "\n",
      "FreeSerif already registered with pdfFont().\n",
      "\n",
      "Gargi already registered with pdfFont().\n",
      "\n",
      "Garuda already registered with pdfFont().\n",
      "\n",
      "Georgia already registered with pdfFont().\n",
      "\n",
      "Gidugu already registered with pdfFont().\n",
      "\n",
      "Gubbi already registered with pdfFont().\n",
      "\n",
      "Gurajada already registered with pdfFont().\n",
      "\n",
      "Impact already registered with pdfFont().\n",
      "\n",
      "Jamrul already registered with pdfFont().\n",
      "\n",
      "KacstArt already registered with pdfFont().\n",
      "\n",
      "KacstBook already registered with pdfFont().\n",
      "\n",
      "KacstDecorative already registered with pdfFont().\n",
      "\n",
      "KacstDigital already registered with pdfFont().\n",
      "\n",
      "KacstFarsi already registered with pdfFont().\n",
      "\n",
      "KacstLetter already registered with pdfFont().\n",
      "\n",
      "KacstNaskh already registered with pdfFont().\n",
      "\n",
      "KacstOffice already registered with pdfFont().\n",
      "\n",
      "KacstOne already registered with pdfFont().\n",
      "\n",
      "KacstPen already registered with pdfFont().\n",
      "\n",
      "KacstPoster already registered with pdfFont().\n",
      "\n",
      "KacstQurn already registered with pdfFont().\n",
      "\n",
      "KacstScreen already registered with pdfFont().\n",
      "\n",
      "KacstTitle already registered with pdfFont().\n",
      "\n",
      "KacstTitleL already registered with pdfFont().\n",
      "\n",
      "Kalapi already registered with pdfFont().\n",
      "\n",
      "Kalimati already registered with pdfFont().\n",
      "\n",
      "Karumbi already registered with pdfFont().\n",
      "\n",
      "Keraleeyam already registered with pdfFont().\n",
      "\n",
      "Khmer OS already registered with pdfFont().\n",
      "\n",
      "Khmer OS System already registered with pdfFont().\n",
      "\n",
      "More than one version of regular/bold/italic found for Kinnari. Skipping setup for this font.\n",
      "\n",
      "LakkiReddy already registered with pdfFont().\n",
      "\n",
      "Laksaman already registered with pdfFont().\n",
      "\n",
      "More than one version of regular/bold/italic found for Liberation Mono. Skipping setup for this font.\n",
      "\n",
      "More than one version of regular/bold/italic found for Liberation Sans. Skipping setup for this font.\n",
      "\n",
      "Liberation Sans Narrow already registered with pdfFont().\n",
      "\n",
      "More than one version of regular/bold/italic found for Liberation Serif. Skipping setup for this font.\n",
      "\n",
      "Likhan already registered with pdfFont().\n",
      "\n",
      "LKLUG already registered with pdfFont().\n",
      "\n",
      "Lohit Assamese already registered with pdfFont().\n",
      "\n",
      "Lohit Bengali already registered with pdfFont().\n",
      "\n",
      "Lohit Devanagari already registered with pdfFont().\n",
      "\n",
      "Lohit Gujarati already registered with pdfFont().\n",
      "\n",
      "Lohit Gurmukhi already registered with pdfFont().\n",
      "\n",
      "Lohit Kannada already registered with pdfFont().\n",
      "\n",
      "Lohit Malayalam already registered with pdfFont().\n",
      "\n",
      "Lohit Odia already registered with pdfFont().\n",
      "\n",
      "Lohit Tamil already registered with pdfFont().\n",
      "\n",
      "Lohit Tamil Classical already registered with pdfFont().\n",
      "\n",
      "Lohit Telugu already registered with pdfFont().\n",
      "\n",
      "Loma already registered with pdfFont().\n",
      "\n",
      "Mallanna already registered with pdfFont().\n",
      "\n",
      "Mandali already registered with pdfFont().\n",
      "\n",
      "Meera already registered with pdfFont().\n",
      "\n",
      "Mitra  already registered with pdfFont().\n",
      "\n",
      "mry_KacstQurn already registered with pdfFont().\n",
      "\n",
      "More than one version of regular/bold/italic found for Mukti. Skipping setup for this font.\n",
      "\n",
      "Nakula already registered with pdfFont().\n",
      "\n",
      "NATS already registered with pdfFont().\n",
      "\n",
      "Navilu already registered with pdfFont().\n",
      "\n",
      "More than one version of regular/bold/italic found for Norasi. Skipping setup for this font.\n",
      "\n",
      "Noto Mono already registered with pdfFont().\n",
      "\n",
      "Noto Sans Mono already registered with pdfFont().\n",
      "\n",
      "NTR already registered with pdfFont().\n",
      "\n",
      "OpenSymbol already registered with pdfFont().\n",
      "\n",
      "Padauk already registered with pdfFont().\n",
      "\n",
      "Padauk Book already registered with pdfFont().\n",
      "\n",
      "More than one version of regular/bold/italic found for padmaa. Skipping setup for this font.\n",
      "\n",
      "No regular (non-bold, non-italic) version of padmaa-Bold.1.1. Skipping setup for this font.\n",
      "\n",
      "Pagul already registered with pdfFont().\n",
      "\n",
      "Peddana already registered with pdfFont().\n",
      "\n",
      "Phetsarath OT already registered with pdfFont().\n",
      "\n",
      "Ponnala already registered with pdfFont().\n",
      "\n",
      "Pothana2000 already registered with pdfFont().\n",
      "\n",
      "Potti Sreeramulu already registered with pdfFont().\n",
      "\n",
      "Purisa already registered with pdfFont().\n",
      "\n",
      "Rachana already registered with pdfFont().\n",
      "\n",
      "RaghuMalayalamSans already registered with pdfFont().\n",
      "\n",
      "Ramabhadra already registered with pdfFont().\n",
      "\n",
      "Ramaraja already registered with pdfFont().\n",
      "\n",
      "Rasa already registered with pdfFont().\n",
      "\n",
      "Rasa Light already registered with pdfFont().\n",
      "\n",
      "Rasa Medium already registered with pdfFont().\n",
      "\n",
      "Rasa SemiBold already registered with pdfFont().\n",
      "\n",
      "RaviPrakash already registered with pdfFont().\n",
      "\n",
      "Rekha already registered with pdfFont().\n",
      "\n",
      "Saab already registered with pdfFont().\n",
      "\n",
      "Sahadeva already registered with pdfFont().\n",
      "\n",
      "Samanata already registered with pdfFont().\n",
      "\n",
      "Samyak Devanagari already registered with pdfFont().\n",
      "\n",
      "Samyak Gujarati already registered with pdfFont().\n",
      "\n",
      "Samyak Malayalam already registered with pdfFont().\n",
      "\n",
      "Samyak Tamil already registered with pdfFont().\n",
      "\n",
      "Sarai already registered with pdfFont().\n",
      "\n",
      "Sawasdee already registered with pdfFont().\n",
      "\n",
      "Sree Krushnadevaraya already registered with pdfFont().\n",
      "\n",
      "Suranna already registered with pdfFont().\n",
      "\n",
      "Suravaram already registered with pdfFont().\n",
      "\n",
      "Suruma already registered with pdfFont().\n",
      "\n",
      "Syamala Ramana already registered with pdfFont().\n",
      "\n",
      "TenaliRamakrishna already registered with pdfFont().\n",
      "\n",
      "Tibetan Machine Uni already registered with pdfFont().\n",
      "\n",
      "Times New Roman already registered with pdfFont().\n",
      "\n",
      "Timmana already registered with pdfFont().\n",
      "\n",
      "Tlwg Typist already registered with pdfFont().\n",
      "\n",
      "Tlwg Typo already registered with pdfFont().\n",
      "\n",
      "TlwgMono already registered with pdfFont().\n",
      "\n",
      "TlwgTypewriter already registered with pdfFont().\n",
      "\n",
      "Trebuchet MS already registered with pdfFont().\n",
      "\n",
      "Ubuntu already registered with pdfFont().\n",
      "\n",
      "Ubuntu Condensed already registered with pdfFont().\n",
      "\n",
      "Ubuntu Light already registered with pdfFont().\n",
      "\n",
      "Ubuntu Mono already registered with pdfFont().\n",
      "\n",
      "Ubuntu Thin already registered with pdfFont().\n",
      "\n",
      "More than one version of regular/bold/italic found for Umpush. Skipping setup for this font.\n",
      "\n",
      "Uroob already registered with pdfFont().\n",
      "\n",
      "utkal already registered with pdfFont().\n",
      "\n",
      "Vemana2000 already registered with pdfFont().\n",
      "\n",
      "Verdana already registered with pdfFont().\n",
      "\n",
      "Waree already registered with pdfFont().\n",
      "\n",
      "Webdings already registered with pdfFont().\n",
      "\n",
      "Yrsa already registered with pdfFont().\n",
      "\n",
      "Yrsa Light already registered with pdfFont().\n",
      "\n",
      "Yrsa Medium already registered with pdfFont().\n",
      "\n",
      "Yrsa SemiBold already registered with pdfFont().\n",
      "\n",
      "\n",
      "Attaching package: ‘gridExtra’\n",
      "\n",
      "\n",
      "The following object is masked from ‘package:dplyr’:\n",
      "\n",
      "    combine\n",
      "\n",
      "\n"
     ]
    }
   ],
   "source": [
    "source('../gene_table_and_other_scripts/theme_Publication.R')"
   ]
  },
  {
   "cell_type": "code",
   "execution_count": 6,
   "metadata": {
    "scrolled": true,
    "tags": []
   },
   "outputs": [],
   "source": [
    "Ath_TFs <- read.csv('../3DMs_pathogen/TFs/Ath_TF_list.txt', sep = '\\t')"
   ]
  },
  {
   "cell_type": "code",
   "execution_count": 7,
   "metadata": {
    "tags": []
   },
   "outputs": [],
   "source": [
    "WGCNA_export_path <- './WGCNA_output_all'\n",
    "\n",
    "create_directory_if_not_exists <- function(dir_path) {\n",
    "  # Check if the directory exists; if not, create the directory\n",
    "  if (!file.exists(dir_path)) {\n",
    "    dir.create(dir_path, recursive = TRUE)\n",
    "  }\n",
    "}\n",
    "\n",
    "create_directory_if_not_exists(WGCNA_export_path)\n",
    "\n",
    "plots_path <- paste0(WGCNA_export_path, \"/plots/\")\n",
    "create_directory_if_not_exists(plots_path)"
   ]
  },
  {
   "cell_type": "code",
   "execution_count": 8,
   "metadata": {
    "tags": []
   },
   "outputs": [],
   "source": [
    "\n",
    "type = \"signed\"\n",
    "\n",
    "# cor\n",
    "#  biweight mid-correlation & bicor\n",
    "# corType: pearson or bicor\n",
    "\n",
    "corType = \"bicor\"\n",
    "\n",
    "corFnc = ifelse(corType==\"pearson\", cor, bicor)\n",
    "\n",
    "maxPOutliers = ifelse(corType==\"pearson\",1,0.05)\n",
    "\n",
    "\n",
    "robustY = ifelse(corType==\"pearson\",T,F)"
   ]
  },
  {
   "cell_type": "code",
   "execution_count": 9,
   "metadata": {
    "tags": []
   },
   "outputs": [
    {
     "data": {
      "text/html": [
       "<table class=\"dataframe\">\n",
       "<caption>A data.frame: 2 × 71</caption>\n",
       "<thead>\n",
       "\t<tr><th></th><th scope=col>DM1/DM2d_1</th><th scope=col>Col-0_12_1</th><th scope=col>DM1/DM2d_2</th><th scope=col>Col-0_12_2</th><th scope=col>DM1/DM2d_3</th><th scope=col>DM6/DM7_1</th><th scope=col>Col-0_14_1</th><th scope=col>DM6/DM7_2</th><th scope=col>Col-0_14_2</th><th scope=col>DM6/DM7_3</th><th scope=col>⋯</th><th scope=col>S12-C</th><th scope=col>M20-A</th><th scope=col>M20-B</th><th scope=col>M20-C</th><th scope=col>R20-A</th><th scope=col>R20-B</th><th scope=col>R20-C</th><th scope=col>S20-A</th><th scope=col>S20-B</th><th scope=col>S20-C</th></tr>\n",
       "\t<tr><th></th><th scope=col>&lt;dbl&gt;</th><th scope=col>&lt;dbl&gt;</th><th scope=col>&lt;dbl&gt;</th><th scope=col>&lt;dbl&gt;</th><th scope=col>&lt;dbl&gt;</th><th scope=col>&lt;dbl&gt;</th><th scope=col>&lt;dbl&gt;</th><th scope=col>&lt;dbl&gt;</th><th scope=col>&lt;dbl&gt;</th><th scope=col>&lt;dbl&gt;</th><th scope=col>⋯</th><th scope=col>&lt;dbl&gt;</th><th scope=col>&lt;dbl&gt;</th><th scope=col>&lt;dbl&gt;</th><th scope=col>&lt;dbl&gt;</th><th scope=col>&lt;dbl&gt;</th><th scope=col>&lt;dbl&gt;</th><th scope=col>&lt;dbl&gt;</th><th scope=col>&lt;dbl&gt;</th><th scope=col>&lt;dbl&gt;</th><th scope=col>&lt;dbl&gt;</th></tr>\n",
       "</thead>\n",
       "<tbody>\n",
       "\t<tr><th scope=row>AT1G30814</th><td>7.854118</td><td>7.134483</td><td>8.072488</td><td>6.900123</td><td>7.904952</td><td>7.665448</td><td>6.900123</td><td>7.926750</td><td>6.900123</td><td>7.668472</td><td>⋯</td><td>7.743128</td><td>6.900123</td><td>6.900123</td><td>6.900123</td><td>8.713060</td><td>8.689767</td><td>8.708205</td><td>8.756711</td><td>8.550218</td><td>8.408096</td></tr>\n",
       "\t<tr><th scope=row>AT1G78930</th><td>8.322251</td><td>9.048173</td><td>7.991578</td><td>9.229448</td><td>8.210870</td><td>8.598738</td><td>8.638332</td><td>8.435372</td><td>8.537098</td><td>8.585173</td><td>⋯</td><td>9.917472</td><td>9.263148</td><td>9.600597</td><td>9.649772</td><td>9.020265</td><td>8.666605</td><td>8.992366</td><td>8.878447</td><td>9.007046</td><td>8.962624</td></tr>\n",
       "</tbody>\n",
       "</table>\n"
      ],
      "text/latex": [
       "A data.frame: 2 × 71\n",
       "\\begin{tabular}{r|lllllllllllllllllllll}\n",
       "  & DM1/DM2d\\_1 & Col-0\\_12\\_1 & DM1/DM2d\\_2 & Col-0\\_12\\_2 & DM1/DM2d\\_3 & DM6/DM7\\_1 & Col-0\\_14\\_1 & DM6/DM7\\_2 & Col-0\\_14\\_2 & DM6/DM7\\_3 & ⋯ & S12-C & M20-A & M20-B & M20-C & R20-A & R20-B & R20-C & S20-A & S20-B & S20-C\\\\\n",
       "  & <dbl> & <dbl> & <dbl> & <dbl> & <dbl> & <dbl> & <dbl> & <dbl> & <dbl> & <dbl> & ⋯ & <dbl> & <dbl> & <dbl> & <dbl> & <dbl> & <dbl> & <dbl> & <dbl> & <dbl> & <dbl>\\\\\n",
       "\\hline\n",
       "\tAT1G30814 & 7.854118 & 7.134483 & 8.072488 & 6.900123 & 7.904952 & 7.665448 & 6.900123 & 7.926750 & 6.900123 & 7.668472 & ⋯ & 7.743128 & 6.900123 & 6.900123 & 6.900123 & 8.713060 & 8.689767 & 8.708205 & 8.756711 & 8.550218 & 8.408096\\\\\n",
       "\tAT1G78930 & 8.322251 & 9.048173 & 7.991578 & 9.229448 & 8.210870 & 8.598738 & 8.638332 & 8.435372 & 8.537098 & 8.585173 & ⋯ & 9.917472 & 9.263148 & 9.600597 & 9.649772 & 9.020265 & 8.666605 & 8.992366 & 8.878447 & 9.007046 & 8.962624\\\\\n",
       "\\end{tabular}\n"
      ],
      "text/markdown": [
       "\n",
       "A data.frame: 2 × 71\n",
       "\n",
       "| <!--/--> | DM1/DM2d_1 &lt;dbl&gt; | Col-0_12_1 &lt;dbl&gt; | DM1/DM2d_2 &lt;dbl&gt; | Col-0_12_2 &lt;dbl&gt; | DM1/DM2d_3 &lt;dbl&gt; | DM6/DM7_1 &lt;dbl&gt; | Col-0_14_1 &lt;dbl&gt; | DM6/DM7_2 &lt;dbl&gt; | Col-0_14_2 &lt;dbl&gt; | DM6/DM7_3 &lt;dbl&gt; | ⋯ ⋯ | S12-C &lt;dbl&gt; | M20-A &lt;dbl&gt; | M20-B &lt;dbl&gt; | M20-C &lt;dbl&gt; | R20-A &lt;dbl&gt; | R20-B &lt;dbl&gt; | R20-C &lt;dbl&gt; | S20-A &lt;dbl&gt; | S20-B &lt;dbl&gt; | S20-C &lt;dbl&gt; |\n",
       "|---|---|---|---|---|---|---|---|---|---|---|---|---|---|---|---|---|---|---|---|---|---|\n",
       "| AT1G30814 | 7.854118 | 7.134483 | 8.072488 | 6.900123 | 7.904952 | 7.665448 | 6.900123 | 7.926750 | 6.900123 | 7.668472 | ⋯ | 7.743128 | 6.900123 | 6.900123 | 6.900123 | 8.713060 | 8.689767 | 8.708205 | 8.756711 | 8.550218 | 8.408096 |\n",
       "| AT1G78930 | 8.322251 | 9.048173 | 7.991578 | 9.229448 | 8.210870 | 8.598738 | 8.638332 | 8.435372 | 8.537098 | 8.585173 | ⋯ | 9.917472 | 9.263148 | 9.600597 | 9.649772 | 9.020265 | 8.666605 | 8.992366 | 8.878447 | 9.007046 | 8.962624 |\n",
       "\n"
      ],
      "text/plain": [
       "          DM1/DM2d_1 Col-0_12_1 DM1/DM2d_2 Col-0_12_2 DM1/DM2d_3 DM6/DM7_1\n",
       "AT1G30814 7.854118   7.134483   8.072488   6.900123   7.904952   7.665448 \n",
       "AT1G78930 8.322251   9.048173   7.991578   9.229448   8.210870   8.598738 \n",
       "          Col-0_14_1 DM6/DM7_2 Col-0_14_2 DM6/DM7_3 ⋯ S12-C    M20-A   \n",
       "AT1G30814 6.900123   7.926750  6.900123   7.668472  ⋯ 7.743128 6.900123\n",
       "AT1G78930 8.638332   8.435372  8.537098   8.585173  ⋯ 9.917472 9.263148\n",
       "          M20-B    M20-C    R20-A    R20-B    R20-C    S20-A    S20-B   \n",
       "AT1G30814 6.900123 6.900123 8.713060 8.689767 8.708205 8.756711 8.550218\n",
       "AT1G78930 9.600597 9.649772 9.020265 8.666605 8.992366 8.878447 9.007046\n",
       "          S20-C   \n",
       "AT1G30814 8.408096\n",
       "AT1G78930 8.962624"
      ]
     },
     "metadata": {},
     "output_type": "display_data"
    },
    {
     "data": {
      "text/html": [
       "<style>\n",
       ".list-inline {list-style: none; margin:0; padding: 0}\n",
       ".list-inline>li {display: inline-block}\n",
       ".list-inline>li:not(:last-child)::after {content: \"\\00b7\"; padding: 0 .5ex}\n",
       "</style>\n",
       "<ol class=list-inline><li>27270</li><li>71</li></ol>\n"
      ],
      "text/latex": [
       "\\begin{enumerate*}\n",
       "\\item 27270\n",
       "\\item 71\n",
       "\\end{enumerate*}\n"
      ],
      "text/markdown": [
       "1. 27270\n",
       "2. 71\n",
       "\n",
       "\n"
      ],
      "text/plain": [
       "[1] 27270    71"
      ]
     },
     "metadata": {},
     "output_type": "display_data"
    }
   ],
   "source": [
    "head(dataExpr, 2)\n",
    "dim(dataExpr)"
   ]
  },
  {
   "cell_type": "code",
   "execution_count": 10,
   "metadata": {},
   "outputs": [],
   "source": [
    "sample_names <- data.frame(name = rownames(dataExpr)  )"
   ]
  },
  {
   "cell_type": "code",
   "execution_count": 11,
   "metadata": {
    "scrolled": true,
    "tags": []
   },
   "outputs": [
    {
     "data": {
      "text/html": [
       "<table class=\"dataframe\">\n",
       "<caption>A tibble: 27270 × 2</caption>\n",
       "<thead>\n",
       "\t<tr><th scope=col>name2</th><th scope=col>n</th></tr>\n",
       "\t<tr><th scope=col>&lt;chr&gt;</th><th scope=col>&lt;int&gt;</th></tr>\n",
       "</thead>\n",
       "<tbody>\n",
       "\t<tr><td>AT1G01010</td><td>1</td></tr>\n",
       "\t<tr><td>AT1G01020</td><td>1</td></tr>\n",
       "\t<tr><td>AT1G01030</td><td>1</td></tr>\n",
       "\t<tr><td>AT1G01040</td><td>1</td></tr>\n",
       "\t<tr><td>AT1G01046</td><td>1</td></tr>\n",
       "\t<tr><td>AT1G01050</td><td>1</td></tr>\n",
       "\t<tr><td>AT1G01060</td><td>1</td></tr>\n",
       "\t<tr><td>AT1G01070</td><td>1</td></tr>\n",
       "\t<tr><td>AT1G01080</td><td>1</td></tr>\n",
       "\t<tr><td>AT1G01090</td><td>1</td></tr>\n",
       "\t<tr><td>AT1G01100</td><td>1</td></tr>\n",
       "\t<tr><td>AT1G01110</td><td>1</td></tr>\n",
       "\t<tr><td>AT1G01120</td><td>1</td></tr>\n",
       "\t<tr><td>AT1G01130</td><td>1</td></tr>\n",
       "\t<tr><td>AT1G01140</td><td>1</td></tr>\n",
       "\t<tr><td>AT1G01150</td><td>1</td></tr>\n",
       "\t<tr><td>AT1G01160</td><td>1</td></tr>\n",
       "\t<tr><td>AT1G01170</td><td>1</td></tr>\n",
       "\t<tr><td>AT1G01180</td><td>1</td></tr>\n",
       "\t<tr><td>AT1G01183</td><td>1</td></tr>\n",
       "\t<tr><td>AT1G01190</td><td>1</td></tr>\n",
       "\t<tr><td>AT1G01200</td><td>1</td></tr>\n",
       "\t<tr><td>AT1G01210</td><td>1</td></tr>\n",
       "\t<tr><td>AT1G01220</td><td>1</td></tr>\n",
       "\t<tr><td>AT1G01225</td><td>1</td></tr>\n",
       "\t<tr><td>AT1G01230</td><td>1</td></tr>\n",
       "\t<tr><td>AT1G01240</td><td>1</td></tr>\n",
       "\t<tr><td>AT1G01250</td><td>1</td></tr>\n",
       "\t<tr><td>AT1G01260</td><td>1</td></tr>\n",
       "\t<tr><td>AT1G01280</td><td>1</td></tr>\n",
       "\t<tr><td>⋮</td><td>⋮</td></tr>\n",
       "\t<tr><td>ATMG01190</td><td>1</td></tr>\n",
       "\t<tr><td>ATMG01200</td><td>1</td></tr>\n",
       "\t<tr><td>ATMG01210</td><td>1</td></tr>\n",
       "\t<tr><td>ATMG01220</td><td>1</td></tr>\n",
       "\t<tr><td>ATMG01230</td><td>1</td></tr>\n",
       "\t<tr><td>ATMG01240</td><td>1</td></tr>\n",
       "\t<tr><td>ATMG01250</td><td>1</td></tr>\n",
       "\t<tr><td>ATMG01260</td><td>1</td></tr>\n",
       "\t<tr><td>ATMG01270</td><td>1</td></tr>\n",
       "\t<tr><td>ATMG01275</td><td>1</td></tr>\n",
       "\t<tr><td>ATMG01280</td><td>1</td></tr>\n",
       "\t<tr><td>ATMG01290</td><td>1</td></tr>\n",
       "\t<tr><td>ATMG01300</td><td>1</td></tr>\n",
       "\t<tr><td>ATMG01310</td><td>1</td></tr>\n",
       "\t<tr><td>ATMG01320</td><td>1</td></tr>\n",
       "\t<tr><td>ATMG01330</td><td>1</td></tr>\n",
       "\t<tr><td>ATMG01340</td><td>1</td></tr>\n",
       "\t<tr><td>ATMG01350</td><td>1</td></tr>\n",
       "\t<tr><td>ATMG01360</td><td>1</td></tr>\n",
       "\t<tr><td>ATMG01370</td><td>1</td></tr>\n",
       "\t<tr><td>ATMG01380</td><td>1</td></tr>\n",
       "\t<tr><td>ATMG01390</td><td>1</td></tr>\n",
       "\t<tr><td>ATMG01400</td><td>1</td></tr>\n",
       "\t<tr><td>ATMG01410</td><td>1</td></tr>\n",
       "\t<tr><td>ATMG09450</td><td>1</td></tr>\n",
       "\t<tr><td>ATMG09730</td><td>1</td></tr>\n",
       "\t<tr><td>ATMG09740</td><td>1</td></tr>\n",
       "\t<tr><td>ATMG09950</td><td>1</td></tr>\n",
       "\t<tr><td>ATMG09960</td><td>1</td></tr>\n",
       "\t<tr><td>ATMG09980</td><td>1</td></tr>\n",
       "</tbody>\n",
       "</table>\n"
      ],
      "text/latex": [
       "A tibble: 27270 × 2\n",
       "\\begin{tabular}{ll}\n",
       " name2 & n\\\\\n",
       " <chr> & <int>\\\\\n",
       "\\hline\n",
       "\t AT1G01010 & 1\\\\\n",
       "\t AT1G01020 & 1\\\\\n",
       "\t AT1G01030 & 1\\\\\n",
       "\t AT1G01040 & 1\\\\\n",
       "\t AT1G01046 & 1\\\\\n",
       "\t AT1G01050 & 1\\\\\n",
       "\t AT1G01060 & 1\\\\\n",
       "\t AT1G01070 & 1\\\\\n",
       "\t AT1G01080 & 1\\\\\n",
       "\t AT1G01090 & 1\\\\\n",
       "\t AT1G01100 & 1\\\\\n",
       "\t AT1G01110 & 1\\\\\n",
       "\t AT1G01120 & 1\\\\\n",
       "\t AT1G01130 & 1\\\\\n",
       "\t AT1G01140 & 1\\\\\n",
       "\t AT1G01150 & 1\\\\\n",
       "\t AT1G01160 & 1\\\\\n",
       "\t AT1G01170 & 1\\\\\n",
       "\t AT1G01180 & 1\\\\\n",
       "\t AT1G01183 & 1\\\\\n",
       "\t AT1G01190 & 1\\\\\n",
       "\t AT1G01200 & 1\\\\\n",
       "\t AT1G01210 & 1\\\\\n",
       "\t AT1G01220 & 1\\\\\n",
       "\t AT1G01225 & 1\\\\\n",
       "\t AT1G01230 & 1\\\\\n",
       "\t AT1G01240 & 1\\\\\n",
       "\t AT1G01250 & 1\\\\\n",
       "\t AT1G01260 & 1\\\\\n",
       "\t AT1G01280 & 1\\\\\n",
       "\t ⋮ & ⋮\\\\\n",
       "\t ATMG01190 & 1\\\\\n",
       "\t ATMG01200 & 1\\\\\n",
       "\t ATMG01210 & 1\\\\\n",
       "\t ATMG01220 & 1\\\\\n",
       "\t ATMG01230 & 1\\\\\n",
       "\t ATMG01240 & 1\\\\\n",
       "\t ATMG01250 & 1\\\\\n",
       "\t ATMG01260 & 1\\\\\n",
       "\t ATMG01270 & 1\\\\\n",
       "\t ATMG01275 & 1\\\\\n",
       "\t ATMG01280 & 1\\\\\n",
       "\t ATMG01290 & 1\\\\\n",
       "\t ATMG01300 & 1\\\\\n",
       "\t ATMG01310 & 1\\\\\n",
       "\t ATMG01320 & 1\\\\\n",
       "\t ATMG01330 & 1\\\\\n",
       "\t ATMG01340 & 1\\\\\n",
       "\t ATMG01350 & 1\\\\\n",
       "\t ATMG01360 & 1\\\\\n",
       "\t ATMG01370 & 1\\\\\n",
       "\t ATMG01380 & 1\\\\\n",
       "\t ATMG01390 & 1\\\\\n",
       "\t ATMG01400 & 1\\\\\n",
       "\t ATMG01410 & 1\\\\\n",
       "\t ATMG09450 & 1\\\\\n",
       "\t ATMG09730 & 1\\\\\n",
       "\t ATMG09740 & 1\\\\\n",
       "\t ATMG09950 & 1\\\\\n",
       "\t ATMG09960 & 1\\\\\n",
       "\t ATMG09980 & 1\\\\\n",
       "\\end{tabular}\n"
      ],
      "text/markdown": [
       "\n",
       "A tibble: 27270 × 2\n",
       "\n",
       "| name2 &lt;chr&gt; | n &lt;int&gt; |\n",
       "|---|---|\n",
       "| AT1G01010 | 1 |\n",
       "| AT1G01020 | 1 |\n",
       "| AT1G01030 | 1 |\n",
       "| AT1G01040 | 1 |\n",
       "| AT1G01046 | 1 |\n",
       "| AT1G01050 | 1 |\n",
       "| AT1G01060 | 1 |\n",
       "| AT1G01070 | 1 |\n",
       "| AT1G01080 | 1 |\n",
       "| AT1G01090 | 1 |\n",
       "| AT1G01100 | 1 |\n",
       "| AT1G01110 | 1 |\n",
       "| AT1G01120 | 1 |\n",
       "| AT1G01130 | 1 |\n",
       "| AT1G01140 | 1 |\n",
       "| AT1G01150 | 1 |\n",
       "| AT1G01160 | 1 |\n",
       "| AT1G01170 | 1 |\n",
       "| AT1G01180 | 1 |\n",
       "| AT1G01183 | 1 |\n",
       "| AT1G01190 | 1 |\n",
       "| AT1G01200 | 1 |\n",
       "| AT1G01210 | 1 |\n",
       "| AT1G01220 | 1 |\n",
       "| AT1G01225 | 1 |\n",
       "| AT1G01230 | 1 |\n",
       "| AT1G01240 | 1 |\n",
       "| AT1G01250 | 1 |\n",
       "| AT1G01260 | 1 |\n",
       "| AT1G01280 | 1 |\n",
       "| ⋮ | ⋮ |\n",
       "| ATMG01190 | 1 |\n",
       "| ATMG01200 | 1 |\n",
       "| ATMG01210 | 1 |\n",
       "| ATMG01220 | 1 |\n",
       "| ATMG01230 | 1 |\n",
       "| ATMG01240 | 1 |\n",
       "| ATMG01250 | 1 |\n",
       "| ATMG01260 | 1 |\n",
       "| ATMG01270 | 1 |\n",
       "| ATMG01275 | 1 |\n",
       "| ATMG01280 | 1 |\n",
       "| ATMG01290 | 1 |\n",
       "| ATMG01300 | 1 |\n",
       "| ATMG01310 | 1 |\n",
       "| ATMG01320 | 1 |\n",
       "| ATMG01330 | 1 |\n",
       "| ATMG01340 | 1 |\n",
       "| ATMG01350 | 1 |\n",
       "| ATMG01360 | 1 |\n",
       "| ATMG01370 | 1 |\n",
       "| ATMG01380 | 1 |\n",
       "| ATMG01390 | 1 |\n",
       "| ATMG01400 | 1 |\n",
       "| ATMG01410 | 1 |\n",
       "| ATMG09450 | 1 |\n",
       "| ATMG09730 | 1 |\n",
       "| ATMG09740 | 1 |\n",
       "| ATMG09950 | 1 |\n",
       "| ATMG09960 | 1 |\n",
       "| ATMG09980 | 1 |\n",
       "\n"
      ],
      "text/plain": [
       "      name2     n\n",
       "1     AT1G01010 1\n",
       "2     AT1G01020 1\n",
       "3     AT1G01030 1\n",
       "4     AT1G01040 1\n",
       "5     AT1G01046 1\n",
       "6     AT1G01050 1\n",
       "7     AT1G01060 1\n",
       "8     AT1G01070 1\n",
       "9     AT1G01080 1\n",
       "10    AT1G01090 1\n",
       "11    AT1G01100 1\n",
       "12    AT1G01110 1\n",
       "13    AT1G01120 1\n",
       "14    AT1G01130 1\n",
       "15    AT1G01140 1\n",
       "16    AT1G01150 1\n",
       "17    AT1G01160 1\n",
       "18    AT1G01170 1\n",
       "19    AT1G01180 1\n",
       "20    AT1G01183 1\n",
       "21    AT1G01190 1\n",
       "22    AT1G01200 1\n",
       "23    AT1G01210 1\n",
       "24    AT1G01220 1\n",
       "25    AT1G01225 1\n",
       "26    AT1G01230 1\n",
       "27    AT1G01240 1\n",
       "28    AT1G01250 1\n",
       "29    AT1G01260 1\n",
       "30    AT1G01280 1\n",
       "⋮     ⋮         ⋮\n",
       "27241 ATMG01190 1\n",
       "27242 ATMG01200 1\n",
       "27243 ATMG01210 1\n",
       "27244 ATMG01220 1\n",
       "27245 ATMG01230 1\n",
       "27246 ATMG01240 1\n",
       "27247 ATMG01250 1\n",
       "27248 ATMG01260 1\n",
       "27249 ATMG01270 1\n",
       "27250 ATMG01275 1\n",
       "27251 ATMG01280 1\n",
       "27252 ATMG01290 1\n",
       "27253 ATMG01300 1\n",
       "27254 ATMG01310 1\n",
       "27255 ATMG01320 1\n",
       "27256 ATMG01330 1\n",
       "27257 ATMG01340 1\n",
       "27258 ATMG01350 1\n",
       "27259 ATMG01360 1\n",
       "27260 ATMG01370 1\n",
       "27261 ATMG01380 1\n",
       "27262 ATMG01390 1\n",
       "27263 ATMG01400 1\n",
       "27264 ATMG01410 1\n",
       "27265 ATMG09450 1\n",
       "27266 ATMG09730 1\n",
       "27267 ATMG09740 1\n",
       "27268 ATMG09950 1\n",
       "27269 ATMG09960 1\n",
       "27270 ATMG09980 1"
      ]
     },
     "metadata": {},
     "output_type": "display_data"
    }
   ],
   "source": [
    "sample_names %>% mutate(name2 = name %>% str_remove('_[\\\\dA-Za-z]$') %>% str_remove('-[\\\\dA-Za-z]$')) %>%\n",
    "    group_by(name2) %>% summarise(n = n())\n",
    "    "
   ]
  },
  {
   "cell_type": "markdown",
   "metadata": {},
   "source": [
    "### remove DM10/DM11 samples"
   ]
  },
  {
   "cell_type": "code",
   "execution_count": 12,
   "metadata": {
    "scrolled": true,
    "tags": []
   },
   "outputs": [],
   "source": [
    "# dataExpr <- dataExpr %>% dplyr::select(!matches('Tuescha|Cdm|DM11'))"
   ]
  },
  {
   "cell_type": "markdown",
   "metadata": {},
   "source": [
    "## Check samples: all samples look evenly"
   ]
  },
  {
   "cell_type": "code",
   "execution_count": 13,
   "metadata": {
    "tags": []
   },
   "outputs": [
    {
     "data": {
      "text/html": [
       "<strong>png:</strong> 2"
      ],
      "text/latex": [
       "\\textbf{png:} 2"
      ],
      "text/markdown": [
       "**png:** 2"
      ],
      "text/plain": [
       "png \n",
       "  2 "
      ]
     },
     "metadata": {},
     "output_type": "display_data"
    }
   ],
   "source": [
    "options(repr.plot.width=12, repr.plot.height=8)\n",
    "pdf(file = paste0(plots_path, \"sapmle_barplot_\", Sys.time(), '.pdf'),  wi = 12, he = 8)\n",
    "boxplot(dataExpr) \n",
    "dev.off()"
   ]
  },
  {
   "cell_type": "markdown",
   "metadata": {
    "execution": {
     "iopub.execute_input": "2022-07-30T07:17:14.752923Z",
     "iopub.status.busy": "2022-07-30T07:17:14.751950Z",
     "iopub.status.idle": "2022-07-30T07:17:14.759740Z",
     "shell.execute_reply": "2022-07-30T07:17:14.758658Z"
    },
    "tags": []
   },
   "source": [
    "## choose top 20% most variable genes accross all samples"
   ]
  },
  {
   "cell_type": "code",
   "execution_count": 14,
   "metadata": {
    "tags": []
   },
   "outputs": [
    {
     "name": "stdout",
     "output_type": "stream",
     "text": [
      " Flagging genes and samples with too many missing values...\n",
      "  ..step 1\n"
     ]
    },
    {
     "data": {
      "text/html": [
       "TRUE"
      ],
      "text/latex": [
       "TRUE"
      ],
      "text/markdown": [
       "TRUE"
      ],
      "text/plain": [
       "[1] TRUE"
      ]
     },
     "metadata": {},
     "output_type": "display_data"
    },
    {
     "data": {
      "text/html": [
       "<style>\n",
       ".list-inline {list-style: none; margin:0; padding: 0}\n",
       ".list-inline>li {display: inline-block}\n",
       ".list-inline>li:not(:last-child)::after {content: \"\\00b7\"; padding: 0 .5ex}\n",
       "</style>\n",
       "<ol class=list-inline><li>71</li><li>5454</li></ol>\n"
      ],
      "text/latex": [
       "\\begin{enumerate*}\n",
       "\\item 71\n",
       "\\item 5454\n",
       "\\end{enumerate*}\n"
      ],
      "text/markdown": [
       "1. 71\n",
       "2. 5454\n",
       "\n",
       "\n"
      ],
      "text/plain": [
       "[1]   71 5454"
      ]
     },
     "metadata": {},
     "output_type": "display_data"
    },
    {
     "data": {
      "text/html": [
       "<table class=\"dataframe\">\n",
       "<caption>A data.frame: 6 × 8</caption>\n",
       "<thead>\n",
       "\t<tr><th></th><th scope=col>AT1G69810</th><th scope=col>AT1G52200</th><th scope=col>AT1G71890</th><th scope=col>AT1G80870</th><th scope=col>AT1G47900</th><th scope=col>AT1G19715</th><th scope=col>AT1G53625</th><th scope=col>AT1G51440</th></tr>\n",
       "\t<tr><th></th><th scope=col>&lt;dbl&gt;</th><th scope=col>&lt;dbl&gt;</th><th scope=col>&lt;dbl&gt;</th><th scope=col>&lt;dbl&gt;</th><th scope=col>&lt;dbl&gt;</th><th scope=col>&lt;dbl&gt;</th><th scope=col>&lt;dbl&gt;</th><th scope=col>&lt;dbl&gt;</th></tr>\n",
       "</thead>\n",
       "<tbody>\n",
       "\t<tr><th scope=row>DM1/DM2d_1</th><td>9.265026</td><td>14.09817</td><td>8.237040</td><td> 8.575142</td><td> 9.509747</td><td> 8.859563</td><td>10.642340</td><td>6.900123</td></tr>\n",
       "\t<tr><th scope=row>Col-0_12_1</th><td>8.131310</td><td>11.82631</td><td>8.037637</td><td> 9.112330</td><td>11.301110</td><td>10.732077</td><td> 7.288023</td><td>8.839410</td></tr>\n",
       "\t<tr><th scope=row>DM1/DM2d_2</th><td>9.240087</td><td>14.07083</td><td>8.193998</td><td> 8.586995</td><td> 9.567334</td><td> 8.988276</td><td>10.594132</td><td>7.112101</td></tr>\n",
       "\t<tr><th scope=row>Col-0_12_2</th><td>8.231868</td><td>11.55445</td><td>8.287390</td><td> 9.239839</td><td>11.237102</td><td>10.679388</td><td> 7.070480</td><td>8.382313</td></tr>\n",
       "\t<tr><th scope=row>DM1/DM2d_3</th><td>9.126552</td><td>13.90354</td><td>8.347767</td><td> 8.610593</td><td> 9.665241</td><td> 8.880352</td><td>10.448508</td><td>7.048042</td></tr>\n",
       "\t<tr><th scope=row>DM6/DM7_1</th><td>9.278535</td><td>12.28272</td><td>8.805269</td><td>10.139657</td><td> 9.532483</td><td>11.130371</td><td> 9.727366</td><td>7.366667</td></tr>\n",
       "</tbody>\n",
       "</table>\n"
      ],
      "text/latex": [
       "A data.frame: 6 × 8\n",
       "\\begin{tabular}{r|llllllll}\n",
       "  & AT1G69810 & AT1G52200 & AT1G71890 & AT1G80870 & AT1G47900 & AT1G19715 & AT1G53625 & AT1G51440\\\\\n",
       "  & <dbl> & <dbl> & <dbl> & <dbl> & <dbl> & <dbl> & <dbl> & <dbl>\\\\\n",
       "\\hline\n",
       "\tDM1/DM2d\\_1 & 9.265026 & 14.09817 & 8.237040 &  8.575142 &  9.509747 &  8.859563 & 10.642340 & 6.900123\\\\\n",
       "\tCol-0\\_12\\_1 & 8.131310 & 11.82631 & 8.037637 &  9.112330 & 11.301110 & 10.732077 &  7.288023 & 8.839410\\\\\n",
       "\tDM1/DM2d\\_2 & 9.240087 & 14.07083 & 8.193998 &  8.586995 &  9.567334 &  8.988276 & 10.594132 & 7.112101\\\\\n",
       "\tCol-0\\_12\\_2 & 8.231868 & 11.55445 & 8.287390 &  9.239839 & 11.237102 & 10.679388 &  7.070480 & 8.382313\\\\\n",
       "\tDM1/DM2d\\_3 & 9.126552 & 13.90354 & 8.347767 &  8.610593 &  9.665241 &  8.880352 & 10.448508 & 7.048042\\\\\n",
       "\tDM6/DM7\\_1 & 9.278535 & 12.28272 & 8.805269 & 10.139657 &  9.532483 & 11.130371 &  9.727366 & 7.366667\\\\\n",
       "\\end{tabular}\n"
      ],
      "text/markdown": [
       "\n",
       "A data.frame: 6 × 8\n",
       "\n",
       "| <!--/--> | AT1G69810 &lt;dbl&gt; | AT1G52200 &lt;dbl&gt; | AT1G71890 &lt;dbl&gt; | AT1G80870 &lt;dbl&gt; | AT1G47900 &lt;dbl&gt; | AT1G19715 &lt;dbl&gt; | AT1G53625 &lt;dbl&gt; | AT1G51440 &lt;dbl&gt; |\n",
       "|---|---|---|---|---|---|---|---|---|\n",
       "| DM1/DM2d_1 | 9.265026 | 14.09817 | 8.237040 |  8.575142 |  9.509747 |  8.859563 | 10.642340 | 6.900123 |\n",
       "| Col-0_12_1 | 8.131310 | 11.82631 | 8.037637 |  9.112330 | 11.301110 | 10.732077 |  7.288023 | 8.839410 |\n",
       "| DM1/DM2d_2 | 9.240087 | 14.07083 | 8.193998 |  8.586995 |  9.567334 |  8.988276 | 10.594132 | 7.112101 |\n",
       "| Col-0_12_2 | 8.231868 | 11.55445 | 8.287390 |  9.239839 | 11.237102 | 10.679388 |  7.070480 | 8.382313 |\n",
       "| DM1/DM2d_3 | 9.126552 | 13.90354 | 8.347767 |  8.610593 |  9.665241 |  8.880352 | 10.448508 | 7.048042 |\n",
       "| DM6/DM7_1 | 9.278535 | 12.28272 | 8.805269 | 10.139657 |  9.532483 | 11.130371 |  9.727366 | 7.366667 |\n",
       "\n"
      ],
      "text/plain": [
       "           AT1G69810 AT1G52200 AT1G71890 AT1G80870 AT1G47900 AT1G19715\n",
       "DM1/DM2d_1 9.265026  14.09817  8.237040   8.575142  9.509747  8.859563\n",
       "Col-0_12_1 8.131310  11.82631  8.037637   9.112330 11.301110 10.732077\n",
       "DM1/DM2d_2 9.240087  14.07083  8.193998   8.586995  9.567334  8.988276\n",
       "Col-0_12_2 8.231868  11.55445  8.287390   9.239839 11.237102 10.679388\n",
       "DM1/DM2d_3 9.126552  13.90354  8.347767   8.610593  9.665241  8.880352\n",
       "DM6/DM7_1  9.278535  12.28272  8.805269  10.139657  9.532483 11.130371\n",
       "           AT1G53625 AT1G51440\n",
       "DM1/DM2d_1 10.642340 6.900123 \n",
       "Col-0_12_1  7.288023 8.839410 \n",
       "DM1/DM2d_2 10.594132 7.112101 \n",
       "Col-0_12_2  7.070480 8.382313 \n",
       "DM1/DM2d_3 10.448508 7.048042 \n",
       "DM6/DM7_1   9.727366 7.366667 "
      ]
     },
     "metadata": {},
     "output_type": "display_data"
    }
   ],
   "source": [
    "m.mad <- apply(dataExpr,1,mad)\n",
    "dataExprVar <- dataExpr[which(m.mad > \n",
    "                 max(quantile(m.mad, probs=seq(0, 1, 0.8))[2],0.01)),]\n",
    "\n",
    "## transpose, the genes are column\n",
    "dataExpr <- as.data.frame(t(dataExprVar))\n",
    "\n",
    "\n",
    "gsg = goodSamplesGenes(dataExpr, verbose = 3)\n",
    "\n",
    "##  Flagging genes and samples with too many missing values...\n",
    "##   ..step 1\n",
    "gsg$allOK\n",
    "if (!gsg$allOK){\n",
    "  # Optionally, print the gene and sample names that were removed:\n",
    "  if (sum(!gsg$goodGenes)>0) \n",
    "    printFlush(paste(\"Removing genes:\", \n",
    "                     paste(names(dataExpr)[!gsg$goodGenes], collapse = \",\")));\n",
    "  if (sum(!gsg$goodSamples)>0) \n",
    "    printFlush(paste(\"Removing samples:\", \n",
    "                     paste(rownames(dataExpr)[!gsg$goodSamples], collapse = \",\")));\n",
    "  # Remove the offending genes and samples from the data:\n",
    "  dataExpr = dataExpr[gsg$goodSamples, gsg$goodGenes]\n",
    "}\n",
    "\n",
    "nGenes = ncol(dataExpr)\n",
    "nSamples = nrow(dataExpr)\n",
    "\n",
    "dim(dataExpr)\n",
    "\n",
    "## [1]  134 2697\n",
    "\n",
    "head(dataExpr)[,1:8]\n",
    "\n",
    "##       MMT00000051 MMT00000080 MMT00000102 MMT00000149 MMT00000159\n",
    "## F2_2  -0.02260000 -0.04870000  0.17600000  0.07680000 -0.14800000\n",
    "## F2_3   0.06170000  0.05820000 -0.18900000  0.18600000  0.17700000"
   ]
  },
  {
   "cell_type": "code",
   "execution_count": 15,
   "metadata": {
    "tags": []
   },
   "outputs": [
    {
     "data": {
      "text/html": [
       "<style>\n",
       ".list-inline {list-style: none; margin:0; padding: 0}\n",
       ".list-inline>li {display: inline-block}\n",
       ".list-inline>li:not(:last-child)::after {content: \"\\00b7\"; padding: 0 .5ex}\n",
       "</style>\n",
       "<ol class=list-inline><li>'AT1G69810'</li><li>'AT1G52200'</li><li>'AT1G71890'</li><li>'AT1G80870'</li><li>'AT1G47900'</li><li>'AT1G19715'</li></ol>\n"
      ],
      "text/latex": [
       "\\begin{enumerate*}\n",
       "\\item 'AT1G69810'\n",
       "\\item 'AT1G52200'\n",
       "\\item 'AT1G71890'\n",
       "\\item 'AT1G80870'\n",
       "\\item 'AT1G47900'\n",
       "\\item 'AT1G19715'\n",
       "\\end{enumerate*}\n"
      ],
      "text/markdown": [
       "1. 'AT1G69810'\n",
       "2. 'AT1G52200'\n",
       "3. 'AT1G71890'\n",
       "4. 'AT1G80870'\n",
       "5. 'AT1G47900'\n",
       "6. 'AT1G19715'\n",
       "\n",
       "\n"
      ],
      "text/plain": [
       "[1] \"AT1G69810\" \"AT1G52200\" \"AT1G71890\" \"AT1G80870\" \"AT1G47900\" \"AT1G19715\""
      ]
     },
     "metadata": {},
     "output_type": "display_data"
    }
   ],
   "source": [
    "gene.names <- colnames(dataExpr)\n",
    "head(gene.names)"
   ]
  },
  {
   "cell_type": "markdown",
   "metadata": {
    "tags": []
   },
   "source": [
    "### Sample Clustering"
   ]
  },
  {
   "cell_type": "code",
   "execution_count": 16,
   "metadata": {
    "tags": []
   },
   "outputs": [
    {
     "data": {
      "text/html": [
       "<strong>png:</strong> 2"
      ],
      "text/latex": [
       "\\textbf{png:} 2"
      ],
      "text/markdown": [
       "**png:** 2"
      ],
      "text/plain": [
       "png \n",
       "  2 "
      ]
     },
     "metadata": {},
     "output_type": "display_data"
    },
    {
     "data": {
      "image/png": "[encoded data removed]",
      "text/plain": [
       "Plot with title “Sample clustering to detect outliers”"
      ]
     },
     "metadata": {
      "image/png": {
       "height": 400,
       "width": 800
      }
     },
     "output_type": "display_data"
    }
   ],
   "source": [
    "options(repr.plot.width=8, repr.plot.height=4, repr.plot.res = 200)\n",
    "## 查看是否有离群样品\n",
    "sampleTree = hclust(dist(dataExpr), method = \"average\")\n",
    "plot(sampleTree, main = \"Sample clustering to detect outliers\", sub=\"\", xlab=\"\")\n",
    "\n",
    "pdf(file = paste0(plots_path, 'sample_clustering',Sys.time(), '.pdf'), width = 9.5, height = 4)\n",
    "plot(sampleTree, main = \"Sample clustering to detect outliers\", sub=\"\", xlab=\"\", cex= 0.7)\n",
    "dev.off()"
   ]
  },
  {
   "cell_type": "markdown",
   "metadata": {},
   "source": [
    "## Determine Soft threshold (power)"
   ]
  },
  {
   "cell_type": "markdown",
   "metadata": {},
   "source": [
    "http://pklab.med.harvard.edu/scw2014/WGCNA.html"
   ]
  },
  {
   "cell_type": "code",
   "execution_count": 17,
   "metadata": {
    "tags": []
   },
   "outputs": [
    {
     "name": "stdout",
     "output_type": "stream",
     "text": [
      "pickSoftThreshold: will use block size 5454.\n",
      " pickSoftThreshold: calculating connectivity for given powers...\n",
      "   ..working on genes 1 through 5454 of 5454\n",
      "   Power SFT.R.sq   slope truncated.R.sq mean.k. median.k. max.k.\n",
      "1      1  0.28500  9.8800        0.96800    2770    2780.0   3030\n",
      "2      2  0.85400  5.2000        0.83400    1900    1960.0   2210\n",
      "3      3  0.91300  2.2300        0.89000    1470    1560.0   1880\n",
      "4      4  0.87800  1.3300        0.85500    1190    1300.0   1660\n",
      "5      5  0.72100  0.8310        0.64800    1000    1100.0   1510\n",
      "6      6  0.48700  0.5080        0.34000     858     948.0   1390\n",
      "7      7  0.22000  0.2870        0.00636     745     823.0   1290\n",
      "8      8  0.04070  0.1150       -0.20300     654     720.0   1200\n",
      "9      9  0.00407 -0.0391       -0.21100     579     634.0   1120\n",
      "10    10  0.04900 -0.1420       -0.11500     516     561.0   1050\n",
      "11    12  0.17900 -0.3170        0.11900     417     445.0    925\n",
      "12    14  0.28700 -0.4320        0.30500     343     357.0    824\n",
      "13    16  0.37300 -0.5200        0.44400     286     289.0    737\n",
      "14    18  0.42600 -0.6110        0.54500     241     237.0    662\n",
      "15    20  0.46200 -0.6960        0.60800     205     195.0    597\n",
      "16    22  0.50400 -0.7430        0.67100     176     163.0    541\n",
      "17    24  0.54500 -0.7940        0.72700     152     136.0    491\n",
      "18    26  0.56700 -0.8360        0.76400     133     115.0    447\n",
      "19    28  0.58400 -0.8780        0.78800     116      98.0    408\n",
      "20    30  0.61100 -0.9070        0.82100     102      83.9    373\n"
     ]
    },
    {
     "data": {
      "image/png": "[encoded data removed]",
      "text/plain": [
       "Plot with title “Mean connectivity”"
      ]
     },
     "metadata": {
      "image/png": {
       "height": 200,
       "width": 400
      }
     },
     "output_type": "display_data"
    }
   ],
   "source": [
    "options(repr.plot.width=8, repr.plot.height=4, repr.plot.res = 100)\n",
    "\n",
    "powers = c(c(1:10), seq(from = 12, to=30, by=2))\n",
    "sft = pickSoftThreshold(dataExpr, powerVector=powers, \n",
    "                        networkType=type, verbose=5)\n",
    "\n",
    "par(mfrow = c(1,2))\n",
    "cex1 = 0.9\n",
    "# 横轴是Soft threshold (power)，纵轴是无标度网络的评估参数，数值越高，\n",
    "# 网络越符合无标度特征 (non-scale)\n",
    "plot(sft$fitIndices[,1], -sign(sft$fitIndices[,3])*sft$fitIndices[,2],\n",
    "     xlab=\"Soft Threshold (power)\",\n",
    "     ylab=\"Scale Free Topology Model Fit,signed R^2\",type=\"n\",\n",
    "     main = paste(\"Scale independence\"))\n",
    "text(sft$fitIndices[,1], -sign(sft$fitIndices[,3])*sft$fitIndices[,2],\n",
    "     labels=powers,cex=cex1,col=\"red\")\n",
    "# 筛选标准。R-square=0.85\n",
    "abline(h=0.85,col=\"red\")\n",
    "\n",
    "# Soft threshold与平均连通性\n",
    "plot(sft$fitIndices[,1], sft$fitIndices[,5],\n",
    "     xlab=\"Soft Threshold (power)\",ylab=\"Mean Connectivity\", type=\"n\",\n",
    "     main = paste(\"Mean connectivity\"))\n",
    "text(sft$fitIndices[,1], sft$fitIndices[,5], labels=powers, \n",
    "     cex=cex1, col=\"red\")"
   ]
  },
  {
   "cell_type": "code",
   "execution_count": 18,
   "metadata": {
    "tags": []
   },
   "outputs": [
    {
     "data": {
      "text/html": [
       "2"
      ],
      "text/latex": [
       "2"
      ],
      "text/markdown": [
       "2"
      ],
      "text/plain": [
       "[1] 2"
      ]
     },
     "metadata": {},
     "output_type": "display_data"
    }
   ],
   "source": [
    "power = sft$powerEstimate\n",
    "power"
   ]
  },
  {
   "cell_type": "markdown",
   "metadata": {},
   "source": [
    "### construct network, decide power"
   ]
  },
  {
   "cell_type": "code",
   "execution_count": 19,
   "metadata": {
    "tags": []
   },
   "outputs": [
    {
     "data": {
      "text/html": [
       "2"
      ],
      "text/latex": [
       "2"
      ],
      "text/markdown": [
       "2"
      ],
      "text/plain": [
       "[1] 2"
      ]
     },
     "metadata": {},
     "output_type": "display_data"
    }
   ],
   "source": [
    "### 无向网络在power小于15或有向网络power小于30内，没有一个power值可以使\n",
    "### 无标度网络图谱结构R^2达到0.8，平均连接度较高如在100以上，可能是由于\n",
    "### 部分样品与其他样品差别太大。这可能由批次效应、样品异质性或实验条件对\n",
    "### 表达影响太大等造成。可以通过绘制样品聚类查看分组信息和有无异常样品。\n",
    "### 如果这确实是由有意义的生物变化引起的，也可以使用下面的经验power值。\n",
    "if (is.na(power)){\n",
    "  power = ifelse(nSamples<20, ifelse(type == \"unsigned\", 9, 18),\n",
    "          ifelse(nSamples<30, ifelse(type == \"unsigned\", 8, 16),\n",
    "          ifelse(nSamples<40, ifelse(type == \"unsigned\", 7, 14),\n",
    "          ifelse(type == \"unsigned\", 6, 12))       \n",
    "          )\n",
    "          )\n",
    "}\n",
    "power"
   ]
  },
  {
   "cell_type": "code",
   "execution_count": 20,
   "metadata": {
    "tags": []
   },
   "outputs": [
    {
     "name": "stdout",
     "output_type": "stream",
     "text": [
      "[1] \"calculating power =  2\"\n"
     ]
    }
   ],
   "source": [
    "print(paste('calculating power = ' , power) )"
   ]
  },
  {
   "cell_type": "markdown",
   "metadata": {},
   "source": [
    "### Generating adjacency and TOM similarity matrices based on the selected softpower"
   ]
  },
  {
   "cell_type": "markdown",
   "metadata": {
    "execution": {
     "iopub.execute_input": "2020-09-22T04:15:07.808401Z",
     "iopub.status.busy": "2020-09-22T04:15:07.805615Z",
     "iopub.status.idle": "2020-09-22T04:15:07.822336Z"
    }
   },
   "source": [
    "#### manually assign power if softpowder doesn't work"
   ]
  },
  {
   "cell_type": "code",
   "execution_count": 21,
   "metadata": {
    "tags": []
   },
   "outputs": [
    {
     "name": "stdout",
     "output_type": "stream",
     "text": [
      "TOM calculation: adjacency..\n",
      "..will use 127 parallel threads.\n",
      " Fraction of slow calculations: 0.000000\n",
      "..connectivity..\n",
      "..matrix multiplication (system BLAS)..\n",
      "..normalization..\n",
      "..done.\n"
     ]
    }
   ],
   "source": [
    "softPower = 14;\n",
    "\n",
    "#calclute the adjacency matrix\n",
    "adj= adjacency(dataExpr,type = type, power = softPower);\n",
    "\n",
    "#turn adjacency matrix into topological overlap to minimize the effects of noise and spurious associations\n",
    "TOM=TOMsimilarityFromExpr(dataExpr,networkType = type, TOMType = type, power = softPower);"
   ]
  },
  {
   "cell_type": "code",
   "execution_count": 22,
   "metadata": {
    "tags": []
   },
   "outputs": [],
   "source": [
    "colnames(TOM) =rownames(TOM) = gene.names\n",
    "dissTOM=1-TOM"
   ]
  },
  {
   "cell_type": "code",
   "execution_count": 23,
   "metadata": {
    "tags": []
   },
   "outputs": [
    {
     "name": "stderr",
     "output_type": "stream",
     "text": [
      "\n",
      "Attaching package: ‘flashClust’\n",
      "\n",
      "\n",
      "The following object is masked from ‘package:fastcluster’:\n",
      "\n",
      "    hclust\n",
      "\n",
      "\n",
      "The following object is masked from ‘package:stats’:\n",
      "\n",
      "    hclust\n",
      "\n",
      "\n"
     ]
    }
   ],
   "source": [
    "library(flashClust)"
   ]
  },
  {
   "cell_type": "code",
   "execution_count": 24,
   "metadata": {
    "tags": []
   },
   "outputs": [],
   "source": [
    "geneTree = flashClust(as.dist(dissTOM),method=\"average\")"
   ]
  },
  {
   "cell_type": "code",
   "execution_count": 25,
   "metadata": {
    "tags": []
   },
   "outputs": [
    {
     "name": "stdout",
     "output_type": "stream",
     "text": [
      " ..cutHeight not given, setting it to 0.992  ===>  99% of the (truncated) height range in dendro.\n",
      " ..done.\n"
     ]
    },
    {
     "data": {
      "text/plain": [
       "dynamicMods\n",
       "   1    2    3    4    5    6    7    8    9   10   11   12   13   14   15   16 \n",
       "1202  727  581  546  381  300  293  293  285  125   93   84   63   60   58   55 \n",
       "  17   18   19   20   21   22   23 \n",
       "  55   54   50   44   38   34   33 "
      ]
     },
     "metadata": {},
     "output_type": "display_data"
    },
    {
     "data": {
      "text/plain": [
       "dynamicColors\n",
       "        black          blue         brown          cyan     darkgreen \n",
       "          293           727           581            60            34 \n",
       "      darkred darkturquoise         green   greenyellow        grey60 \n",
       "           38            33           381            93            55 \n",
       "    lightcyan    lightgreen   lightyellow       magenta  midnightblue \n",
       "           55            54            50           285            58 \n",
       "         pink        purple           red     royalblue        salmon \n",
       "          293           125           300            44            63 \n",
       "          tan     turquoise        yellow \n",
       "           84          1202           546 "
      ]
     },
     "metadata": {},
     "output_type": "display_data"
    }
   ],
   "source": [
    "options(repr.plot.width=14, repr.plot.height=10, repr.plot.res = 140)\n",
    "# Set the minimum module size\n",
    "minModuleSize = 30\n",
    "\n",
    "# Module identification using dynamic tree cut\n",
    "\n",
    "#dynamicMods = cutreeDynamic(dendro = geneTree,  method=\"hybrid\", distM = dissTOM, \n",
    "#                            minClusterSize = minModuleSize);\n",
    "dynamicMods = cutreeDynamic(dendro = geneTree, distM = dissTOM, method=\"hybrid\", deepSplit = 2, pamRespectsDendro = FALSE, minClusterSize = minModuleSize);\n",
    "\n",
    "#default deepSplit = 2\n",
    "\n",
    "#the following command gives the module labels and the size of each module. Lable 0 is reserved for unassigned genes\n",
    "table(dynamicMods)\n",
    "\n",
    "\n",
    "dynamicColors = labels2colors(dynamicMods)\n",
    "table(dynamicColors)\n",
    "\n",
    "# plotDendroAndColors(geneTree, dynamicColors, \"Dynamic Tree Cut\", dendroLabels = FALSE, hang = 0.03, addGuide = TRUE, guideHang = 0.05, main = \"Gene dendrogram and module colors\")"
   ]
  },
  {
   "cell_type": "code",
   "execution_count": 26,
   "metadata": {
    "scrolled": true,
    "tags": []
   },
   "outputs": [
    {
     "name": "stdout",
     "output_type": "stream",
     "text": [
      "TOM calculation: adjacency..\n",
      "..will use 127 parallel threads.\n",
      " Fraction of slow calculations: 0.000000\n",
      "..connectivity..\n",
      "..matrix multiplication (system BLAS)..\n",
      "..normalization..\n",
      "..done.\n"
     ]
    },
    {
     "data": {
      "text/plain": [
       "dynamicMods\n",
       "   1    2    3    4    5    6    7    8    9   10   11   12   13   14   15   16 \n",
       "1202  727  581  546  381  300  293  293  285  125   93   84   63   60   58   55 \n",
       "  17   18   19   20   21   22   23 \n",
       "  55   54   50   44   38   34   33 "
      ]
     },
     "metadata": {},
     "output_type": "display_data"
    },
    {
     "data": {
      "text/plain": [
       "dynamicColors\n",
       "        black          blue         brown          cyan     darkgreen \n",
       "          293           727           581            60            34 \n",
       "      darkred darkturquoise         green   greenyellow        grey60 \n",
       "           38            33           381            93            55 \n",
       "    lightcyan    lightgreen   lightyellow       magenta  midnightblue \n",
       "           55            54            50           285            58 \n",
       "         pink        purple           red     royalblue        salmon \n",
       "          293           125           300            44            63 \n",
       "          tan     turquoise        yellow \n",
       "           84          1202           546 "
      ]
     },
     "metadata": {},
     "output_type": "display_data"
    },
    {
     "data": {
      "image/png": "[encoded data removed]",
      "text/plain": [
       "Plot with title “”"
      ]
     },
     "metadata": {
      "image/png": {
       "height": 350,
       "width": 560
      }
     },
     "output_type": "display_data"
    }
   ],
   "source": [
    "options(repr.plot.width=8, repr.plot.height=5, repr.plot.res = 140)\n",
    "\n",
    "#discard the unassigned genes, and focus on the rest\n",
    "restGenes= (dynamicColors != \"grey\")\n",
    "diss1=1-TOMsimilarityFromExpr(dataExpr[,restGenes], power = softPower)\n",
    "\n",
    "#the following command gives the module labels and the size of each module. Lable 0 is reserved for unassigned genes\n",
    "table(dynamicMods)\n",
    "\n",
    "#Plot the module assignment under the dendrogram; note: The grey color is reserved for unassigned genes\n",
    "dynamicColors = labels2colors(dynamicMods)\n",
    "table(dynamicColors)\n",
    "\n",
    "colnames(diss1) =rownames(diss1) = gene.names[restGenes]\n",
    "hier1=flashClust(as.dist(diss1), method=\"average\" )\n",
    "plotDendroAndColors(hier1, dynamicColors[restGenes], \"Dynamic Tree Cut\", dendroLabels = FALSE, \n",
    "                    hang = 0.03, addGuide = TRUE, guideHang = 0.05, main = \"Gene dendrogram and module colors\")"
   ]
  },
  {
   "cell_type": "code",
   "execution_count": null,
   "metadata": {},
   "outputs": [],
   "source": []
  },
  {
   "cell_type": "markdown",
   "metadata": {},
   "source": [
    "## merged mod"
   ]
  },
  {
   "cell_type": "markdown",
   "metadata": {},
   "source": [
    "https://horvath.genetics.ucla.edu/html/CoexpressionNetwork/Rpackages/WGCNA/Tutorials/FemaleLiver-02-networkConstr-man.pdf"
   ]
  },
  {
   "cell_type": "code",
   "execution_count": 27,
   "metadata": {
    "tags": []
   },
   "outputs": [
    {
     "name": "stdout",
     "output_type": "stream",
     "text": [
      " mergeCloseModules: Merging modules whose distance is less than 0.25\n",
      "   multiSetMEs: Calculating module MEs.\n",
      "     Working on set 1 ...\n",
      "     moduleEigengenes: Calculating 23 module eigengenes in given set.\n",
      "   multiSetMEs: Calculating module MEs.\n",
      "     Working on set 1 ...\n",
      "     moduleEigengenes: Calculating 11 module eigengenes in given set.\n",
      "   multiSetMEs: Calculating module MEs.\n",
      "     Working on set 1 ...\n",
      "     moduleEigengenes: Calculating 10 module eigengenes in given set.\n",
      "   Calculating new MEs...\n",
      "   multiSetMEs: Calculating module MEs.\n",
      "     Working on set 1 ...\n",
      "     moduleEigengenes: Calculating 10 module eigengenes in given set.\n"
     ]
    }
   ],
   "source": [
    "# Calculate eigengenes\n",
    "MEList = moduleEigengenes(dataExpr, colors = dynamicColors)\n",
    "MEs = MEList$eigengenes\n",
    "# Calculate dissimilarity of module eigengenes\n",
    "MEDiss = 1-cor(MEs);\n",
    "# Cluster module eigengenes\n",
    "METree = hclust(as.dist(MEDiss), method = \"average\");\n",
    "# Plot the result\n",
    "sizeGrWindow(7, 6)\n",
    "plot(METree, main = \"Clustering of module eigengenes\",\n",
    "xlab = \"\", sub = \"\")\n",
    "\n",
    "MEDissThres = 0.25 #0.25 default\n",
    "# Plot the cut line into the dendrogram\n",
    "abline(h=MEDissThres, col = \"red\")\n",
    "# Call an automatic merging function\n",
    "merge = mergeCloseModules(dataExpr, dynamicColors, cutHeight = MEDissThres, verbose = 3)\n",
    "# The merged module colors\n",
    "mergedColors = merge$colors;\n",
    "# Eigengenes of the new merged modules:\n",
    "mergedMEs = merge$newMEs;\n"
   ]
  },
  {
   "cell_type": "code",
   "execution_count": 28,
   "metadata": {},
   "outputs": [
    {
     "data": {
      "text/plain": [
       "mergedColors\n",
       "         blue          cyan     darkgreen       darkred darkturquoise \n",
       "         2222          2490            84            93            33 \n",
       "  greenyellow  midnightblue        purple        salmon           tan \n",
       "           93            58           234            63            84 "
      ]
     },
     "metadata": {},
     "output_type": "display_data"
    }
   ],
   "source": [
    "table(mergedColors)"
   ]
  },
  {
   "cell_type": "code",
   "execution_count": 29,
   "metadata": {
    "tags": []
   },
   "outputs": [
    {
     "data": {
      "image/png": "[encoded data removed]",
      "text/plain": [
       "Plot with title “”"
      ]
     },
     "metadata": {
      "image/png": {
       "height": 160,
       "width": 332
      }
     },
     "output_type": "display_data"
    }
   ],
   "source": [
    "\n",
    "options(repr.plot.width=8.3, repr.plot.height=4, repr.plot.res = 80)\n",
    "\n",
    "plotDendroAndColors(geneTree, cbind(dynamicColors, mergedColors),\n",
    "c(\"Dynamic Tree Cut\", \"Merged dynamic\"),\n",
    "                     autoColorHeight = FALSE,    colorHeight = 0.16,\n",
    "dendroLabels = FALSE, hang = 0.03,\n",
    "addGuide = TRUE, guideHang = 0.05)"
   ]
  },
  {
   "cell_type": "code",
   "execution_count": 30,
   "metadata": {},
   "outputs": [
    {
     "data": {
      "text/html": [
       "<strong>png:</strong> 2"
      ],
      "text/latex": [
       "\\textbf{png:} 2"
      ],
      "text/markdown": [
       "**png:** 2"
      ],
      "text/plain": [
       "png \n",
       "  2 "
      ]
     },
     "metadata": {},
     "output_type": "display_data"
    }
   ],
   "source": [
    "#sizeGrWindow(12, 9)\n",
    "pdf(file = paste0(plots_path, 'plotDendroAndColors' ,Sys.time(), '.pdf'),  wi = 3.5, he = 5)\n",
    "\n",
    "plotDendroAndColors(geneTree, cbind(dynamicColors, mergedColors),\n",
    "c(\"Dynamic Tree Cut\", \"Merged dynamic\"),\n",
    "autoColorHeight = FALSE,    colorHeight = 0.16,\n",
    "dendroLabels = FALSE, hang = 0.03,\n",
    "addGuide = TRUE, guideHang = 0.05)\n",
    "dev.off()"
   ]
  },
  {
   "cell_type": "code",
   "execution_count": 31,
   "metadata": {},
   "outputs": [
    {
     "data": {
      "text/html": [
       "<strong>png:</strong> 2"
      ],
      "text/latex": [
       "\\textbf{png:} 2"
      ],
      "text/markdown": [
       "**png:** 2"
      ],
      "text/plain": [
       "png \n",
       "  2 "
      ]
     },
     "metadata": {},
     "output_type": "display_data"
    }
   ],
   "source": [
    "library(extrafont)\n",
    "\n",
    "# Set global font size and family\n",
    "par(cex=0.8, family=\"Arial\")\n",
    "\n",
    "# Save the plot\n",
    "pdf(file = paste0(plots_path, 'plotDendroAndColors' ,Sys.time(), '.pdf'),  wi = 3.3, he = 5, family = \"Arial\")\n",
    "\n",
    "plotDendroAndColors(geneTree, cbind(dynamicColors, mergedColors),\n",
    "                    c(\"Dynamic Tree Cut\", \"Merged dynamic\"),\n",
    "                    autoColorHeight = FALSE,    \n",
    "                    colorHeight = 0.16,\n",
    "                    dendroLabels = FALSE, hang = 0.03,\n",
    "                    addGuide = TRUE, guideHang = 0.05)\n",
    "\n",
    "dev.off()\n"
   ]
  },
  {
   "cell_type": "code",
   "execution_count": 32,
   "metadata": {
    "tags": []
   },
   "outputs": [
    {
     "data": {
      "text/html": [
       "<style>\n",
       ".dl-inline {width: auto; margin:0; padding: 0}\n",
       ".dl-inline>dt, .dl-inline>dd {float: none; width: auto; display: inline-block}\n",
       ".dl-inline>dt::after {content: \":\\0020\"; padding-right: .5ex}\n",
       ".dl-inline>dt:not(:first-of-type) {padding-left: .5ex}\n",
       "</style><dl class=dl-inline><dt>blue</dt><dd>'AT1G75680'</dd><dt>cyan</dt><dd>'AT5G42010'</dd><dt>darkgreen</dt><dd>'AT3G15940'</dd><dt>darkred</dt><dd>'AT2G39330'</dd><dt>darkturquoise</dt><dd>'AT5G14580'</dd><dt>greenyellow</dt><dd>'AT5G27890'</dd><dt>midnightblue</dt><dd>'AT3G11010'</dd><dt>purple</dt><dd>'AT4G27030'</dd><dt>salmon</dt><dd>'AT3G44670'</dd><dt>tan</dt><dd>'AT5G24470'</dd></dl>\n"
      ],
      "text/latex": [
       "\\begin{description*}\n",
       "\\item[blue] 'AT1G75680'\n",
       "\\item[cyan] 'AT5G42010'\n",
       "\\item[darkgreen] 'AT3G15940'\n",
       "\\item[darkred] 'AT2G39330'\n",
       "\\item[darkturquoise] 'AT5G14580'\n",
       "\\item[greenyellow] 'AT5G27890'\n",
       "\\item[midnightblue] 'AT3G11010'\n",
       "\\item[purple] 'AT4G27030'\n",
       "\\item[salmon] 'AT3G44670'\n",
       "\\item[tan] 'AT5G24470'\n",
       "\\end{description*}\n"
      ],
      "text/markdown": [
       "blue\n",
       ":   'AT1G75680'cyan\n",
       ":   'AT5G42010'darkgreen\n",
       ":   'AT3G15940'darkred\n",
       ":   'AT2G39330'darkturquoise\n",
       ":   'AT5G14580'greenyellow\n",
       ":   'AT5G27890'midnightblue\n",
       ":   'AT3G11010'purple\n",
       ":   'AT4G27030'salmon\n",
       ":   'AT3G44670'tan\n",
       ":   'AT5G24470'\n",
       "\n"
      ],
      "text/plain": [
       "         blue          cyan     darkgreen       darkred darkturquoise \n",
       "  \"AT1G75680\"   \"AT5G42010\"   \"AT3G15940\"   \"AT2G39330\"   \"AT5G14580\" \n",
       "  greenyellow  midnightblue        purple        salmon           tan \n",
       "  \"AT5G27890\"   \"AT3G11010\"   \"AT4G27030\"   \"AT3G44670\"   \"AT5G24470\" "
      ]
     },
     "metadata": {},
     "output_type": "display_data"
    }
   ],
   "source": [
    "hubs = chooseTopHubInEachModule(dataExpr, colorh=  mergedColors, power=power, type=type)\n",
    "hubs"
   ]
  },
  {
   "cell_type": "markdown",
   "metadata": {},
   "source": [
    "## export module hub genes from, sorted by connectivity"
   ]
  },
  {
   "cell_type": "code",
   "execution_count": 33,
   "metadata": {
    "tags": []
   },
   "outputs": [],
   "source": [
    "# the grey module is omitted\n",
    "topHubs <- function (datExpr, colorh, omitColors = \"grey\", power = 2, type = \"signed\", \n",
    "    ...) \n",
    "{\n",
    "    # modified from chooseTopHubInEachModule, but return the table of all genes connectivity\n",
    "    isIndex = FALSE\n",
    "    modules = names(table(colorh))\n",
    "    if (!is.na(omitColors)[1]) \n",
    "        modules = modules[!is.element(modules, omitColors)]\n",
    "    if (is.null(colnames(datExpr))) {\n",
    "        colnames(datExpr) = 1:dim(datExpr)[2]\n",
    "        isIndex = TRUE\n",
    "    }\n",
    "    \n",
    "    connectivity_table <- data.frame(matrix(ncol = 3)) %>% setNames(c('gene', 'connectivity_rowSums_adj', 'module'))\n",
    "    hubs = rep(NA, length(modules))\n",
    "    names(hubs) = modules\n",
    "    for (m in modules) {\n",
    "        adj = adjacency(datExpr[, colorh == m], power = power, \n",
    "            type = type, ...)\n",
    "\n",
    "        hub = which.max(rowSums(adj))\n",
    "\n",
    "        hubs[m] = colnames(adj)[hub]\n",
    "\n",
    "        sorted_genes <- rowSums(adj) %>% sort(decreasing = T) %>% as.data.frame()  %>%  \n",
    "                tibble::rownames_to_column() %>% setNames(c('gene', 'connectivity_rowSums_adj')) %>% mutate(module = m)\n",
    "        connectivity_table <- connectivity_table %>% rbind(sorted_genes)\n",
    "\n",
    "\n",
    "\n",
    "    }\n",
    "    if (isIndex) {\n",
    "        hubs = as.numeric(hubs)\n",
    "        names(hubs) = modules\n",
    "    }\n",
    "    return(connectivity_table %>% na.omit)\n",
    "}"
   ]
  },
  {
   "cell_type": "code",
   "execution_count": 34,
   "metadata": {
    "scrolled": true,
    "tags": []
   },
   "outputs": [],
   "source": [
    "connectivity_table= topHubs(dataExpr, colorh=  mergedColors, power=power, type=type)"
   ]
  },
  {
   "cell_type": "code",
   "execution_count": null,
   "metadata": {},
   "outputs": [],
   "source": []
  },
  {
   "cell_type": "code",
   "execution_count": 35,
   "metadata": {
    "scrolled": true,
    "tags": []
   },
   "outputs": [],
   "source": [
    "connectivity_table <- connectivity_table %>% left_join(map_id_name, by =c('gene' = 'gene_id'))"
   ]
  },
  {
   "cell_type": "code",
   "execution_count": 36,
   "metadata": {
    "scrolled": true,
    "tags": []
   },
   "outputs": [
    {
     "data": {
      "text/html": [
       "<table class=\"dataframe\">\n",
       "<caption>A grouped_df: 20 × 4</caption>\n",
       "<thead>\n",
       "\t<tr><th scope=col>gene</th><th scope=col>connectivity_rowSums_adj</th><th scope=col>module</th><th scope=col>gene_name</th></tr>\n",
       "\t<tr><th scope=col>&lt;chr&gt;</th><th scope=col>&lt;dbl&gt;</th><th scope=col>&lt;chr&gt;</th><th scope=col>&lt;chr&gt;</th></tr>\n",
       "</thead>\n",
       "<tbody>\n",
       "\t<tr><td>AT1G75680</td><td>1824.90372</td><td>blue         </td><td>GH9B7            </td></tr>\n",
       "\t<tr><td>AT1G55360</td><td>1819.23727</td><td>blue         </td><td>-1803            </td></tr>\n",
       "\t<tr><td>AT5G42010</td><td>1955.10496</td><td>cyan         </td><td>AT5G42010        </td></tr>\n",
       "\t<tr><td>AT1G63720</td><td>1954.52831</td><td>cyan         </td><td>AT1G63720        </td></tr>\n",
       "\t<tr><td>AT3G15940</td><td>  66.55779</td><td>darkgreen    </td><td>Gene.ID#AT3G15940</td></tr>\n",
       "\t<tr><td>AT3G19400</td><td>  66.55244</td><td>darkgreen    </td><td>AT3G19400        </td></tr>\n",
       "\t<tr><td>AT2G39330</td><td>  76.82642</td><td>darkred      </td><td>JAL23            </td></tr>\n",
       "\t<tr><td>AT3G16470</td><td>  76.78207</td><td>darkred      </td><td>JR1              </td></tr>\n",
       "\t<tr><td>AT5G14580</td><td>  27.63659</td><td>darkturquoise</td><td>AT5G14580        </td></tr>\n",
       "\t<tr><td>AT3G12270</td><td>  27.14098</td><td>darkturquoise</td><td>PRMT3            </td></tr>\n",
       "\t<tr><td>AT5G27890</td><td>  72.78292</td><td>greenyellow  </td><td>AT5G27890        </td></tr>\n",
       "\t<tr><td>AT1G58807</td><td>  71.54586</td><td>greenyellow  </td><td>AT1G58807        </td></tr>\n",
       "\t<tr><td>AT3G11010</td><td>  46.68285</td><td>midnightblue </td><td>RLP34            </td></tr>\n",
       "\t<tr><td>AT5G10760</td><td>  46.17556</td><td>midnightblue </td><td>AED1             </td></tr>\n",
       "\t<tr><td>AT4G27030</td><td> 188.21548</td><td>purple       </td><td>FADA             </td></tr>\n",
       "\t<tr><td>AT2G26080</td><td> 187.97010</td><td>purple       </td><td>GLDP2            </td></tr>\n",
       "\t<tr><td>AT3G44670</td><td>  50.10345</td><td>salmon       </td><td>DM2H             </td></tr>\n",
       "\t<tr><td>AT3G28100</td><td>  49.71324</td><td>salmon       </td><td>UMAMIT45         </td></tr>\n",
       "\t<tr><td>AT5G24470</td><td>  68.75528</td><td>tan          </td><td>PRR5             </td></tr>\n",
       "\t<tr><td>AT1G68050</td><td>  67.89177</td><td>tan          </td><td>FKF1             </td></tr>\n",
       "</tbody>\n",
       "</table>\n"
      ],
      "text/latex": [
       "A grouped\\_df: 20 × 4\n",
       "\\begin{tabular}{llll}\n",
       " gene & connectivity\\_rowSums\\_adj & module & gene\\_name\\\\\n",
       " <chr> & <dbl> & <chr> & <chr>\\\\\n",
       "\\hline\n",
       "\t AT1G75680 & 1824.90372 & blue          & GH9B7            \\\\\n",
       "\t AT1G55360 & 1819.23727 & blue          & -1803            \\\\\n",
       "\t AT5G42010 & 1955.10496 & cyan          & AT5G42010        \\\\\n",
       "\t AT1G63720 & 1954.52831 & cyan          & AT1G63720        \\\\\n",
       "\t AT3G15940 &   66.55779 & darkgreen     & Gene.ID\\#AT3G15940\\\\\n",
       "\t AT3G19400 &   66.55244 & darkgreen     & AT3G19400        \\\\\n",
       "\t AT2G39330 &   76.82642 & darkred       & JAL23            \\\\\n",
       "\t AT3G16470 &   76.78207 & darkred       & JR1              \\\\\n",
       "\t AT5G14580 &   27.63659 & darkturquoise & AT5G14580        \\\\\n",
       "\t AT3G12270 &   27.14098 & darkturquoise & PRMT3            \\\\\n",
       "\t AT5G27890 &   72.78292 & greenyellow   & AT5G27890        \\\\\n",
       "\t AT1G58807 &   71.54586 & greenyellow   & AT1G58807        \\\\\n",
       "\t AT3G11010 &   46.68285 & midnightblue  & RLP34            \\\\\n",
       "\t AT5G10760 &   46.17556 & midnightblue  & AED1             \\\\\n",
       "\t AT4G27030 &  188.21548 & purple        & FADA             \\\\\n",
       "\t AT2G26080 &  187.97010 & purple        & GLDP2            \\\\\n",
       "\t AT3G44670 &   50.10345 & salmon        & DM2H             \\\\\n",
       "\t AT3G28100 &   49.71324 & salmon        & UMAMIT45         \\\\\n",
       "\t AT5G24470 &   68.75528 & tan           & PRR5             \\\\\n",
       "\t AT1G68050 &   67.89177 & tan           & FKF1             \\\\\n",
       "\\end{tabular}\n"
      ],
      "text/markdown": [
       "\n",
       "A grouped_df: 20 × 4\n",
       "\n",
       "| gene &lt;chr&gt; | connectivity_rowSums_adj &lt;dbl&gt; | module &lt;chr&gt; | gene_name &lt;chr&gt; |\n",
       "|---|---|---|---|\n",
       "| AT1G75680 | 1824.90372 | blue          | GH9B7             |\n",
       "| AT1G55360 | 1819.23727 | blue          | -1803             |\n",
       "| AT5G42010 | 1955.10496 | cyan          | AT5G42010         |\n",
       "| AT1G63720 | 1954.52831 | cyan          | AT1G63720         |\n",
       "| AT3G15940 |   66.55779 | darkgreen     | Gene.ID#AT3G15940 |\n",
       "| AT3G19400 |   66.55244 | darkgreen     | AT3G19400         |\n",
       "| AT2G39330 |   76.82642 | darkred       | JAL23             |\n",
       "| AT3G16470 |   76.78207 | darkred       | JR1               |\n",
       "| AT5G14580 |   27.63659 | darkturquoise | AT5G14580         |\n",
       "| AT3G12270 |   27.14098 | darkturquoise | PRMT3             |\n",
       "| AT5G27890 |   72.78292 | greenyellow   | AT5G27890         |\n",
       "| AT1G58807 |   71.54586 | greenyellow   | AT1G58807         |\n",
       "| AT3G11010 |   46.68285 | midnightblue  | RLP34             |\n",
       "| AT5G10760 |   46.17556 | midnightblue  | AED1              |\n",
       "| AT4G27030 |  188.21548 | purple        | FADA              |\n",
       "| AT2G26080 |  187.97010 | purple        | GLDP2             |\n",
       "| AT3G44670 |   50.10345 | salmon        | DM2H              |\n",
       "| AT3G28100 |   49.71324 | salmon        | UMAMIT45          |\n",
       "| AT5G24470 |   68.75528 | tan           | PRR5              |\n",
       "| AT1G68050 |   67.89177 | tan           | FKF1              |\n",
       "\n"
      ],
      "text/plain": [
       "   gene      connectivity_rowSums_adj module        gene_name        \n",
       "1  AT1G75680 1824.90372               blue          GH9B7            \n",
       "2  AT1G55360 1819.23727               blue          -1803            \n",
       "3  AT5G42010 1955.10496               cyan          AT5G42010        \n",
       "4  AT1G63720 1954.52831               cyan          AT1G63720        \n",
       "5  AT3G15940   66.55779               darkgreen     Gene.ID#AT3G15940\n",
       "6  AT3G19400   66.55244               darkgreen     AT3G19400        \n",
       "7  AT2G39330   76.82642               darkred       JAL23            \n",
       "8  AT3G16470   76.78207               darkred       JR1              \n",
       "9  AT5G14580   27.63659               darkturquoise AT5G14580        \n",
       "10 AT3G12270   27.14098               darkturquoise PRMT3            \n",
       "11 AT5G27890   72.78292               greenyellow   AT5G27890        \n",
       "12 AT1G58807   71.54586               greenyellow   AT1G58807        \n",
       "13 AT3G11010   46.68285               midnightblue  RLP34            \n",
       "14 AT5G10760   46.17556               midnightblue  AED1             \n",
       "15 AT4G27030  188.21548               purple        FADA             \n",
       "16 AT2G26080  187.97010               purple        GLDP2            \n",
       "17 AT3G44670   50.10345               salmon        DM2H             \n",
       "18 AT3G28100   49.71324               salmon        UMAMIT45         \n",
       "19 AT5G24470   68.75528               tan           PRR5             \n",
       "20 AT1G68050   67.89177               tan           FKF1             "
      ]
     },
     "metadata": {},
     "output_type": "display_data"
    }
   ],
   "source": [
    "connectivity_table %>% group_by(module) %>% top_n(2, wt = connectivity_rowSums_adj)"
   ]
  },
  {
   "cell_type": "code",
   "execution_count": 37,
   "metadata": {
    "scrolled": true,
    "tags": []
   },
   "outputs": [],
   "source": [
    "top_50_each_module <- connectivity_table %>% group_by(module) %>% top_n(50, wt = connectivity_rowSums_adj)"
   ]
  },
  {
   "cell_type": "code",
   "execution_count": 38,
   "metadata": {
    "tags": []
   },
   "outputs": [
    {
     "name": "stderr",
     "output_type": "stream",
     "text": [
      "Loading required package: openxlsx\n",
      "\n"
     ]
    }
   ],
   "source": [
    "require(openxlsx)\n",
    "\n",
    "wb <- createWorkbook()\n",
    "for (i in connectivity_table %>% pull(module) %>% unique) {\n",
    "#     print(i)\n",
    "    addWorksheet(wb, i)\n",
    "    writeData(wb, i, connectivity_table %>% filter(module == i))\n",
    "    \n",
    "}\n",
    "saveWorkbook(wb, file = paste0(WGCNA_export_path, \"connectivity_each_gene_in_module.xlsx\"), overwrite = T)"
   ]
  },
  {
   "cell_type": "raw",
   "metadata": {
    "execution": {
     "iopub.execute_input": "2022-08-24T23:18:27.017490Z",
     "iopub.status.busy": "2022-08-24T23:18:27.014459Z",
     "iopub.status.idle": "2022-08-24T23:18:27.087317Z",
     "shell.execute_reply": "2022-08-24T23:18:27.086019Z"
    },
    "tags": []
   },
   "source": [
    "connectivity_table %>% saveRDS('./hisat2_featurecounts_deseq2/Rds_Rdata/connectivity_table.rds')"
   ]
  },
  {
   "cell_type": "code",
   "execution_count": 39,
   "metadata": {
    "tags": []
   },
   "outputs": [],
   "source": [
    "# Rename to moduleColors\n",
    "moduleColors = mergedColors\n",
    "# Construct numerical labels corresponding to the colors\n",
    "colorOrder = c(\"grey\", standardColors(50));\n",
    "moduleLabels = match(moduleColors, colorOrder)-1;\n",
    "MEs = mergedMEs;\n",
    "# Save module colors and labels for use in subsequent parts\n",
    "#save(MEs, moduleLabels, moduleColors, geneTree, file = \"FemaleLiver-02-networkConstruction-stepByStep.RData\")"
   ]
  },
  {
   "cell_type": "code",
   "execution_count": 40,
   "metadata": {
    "scrolled": true,
    "tags": []
   },
   "outputs": [
    {
     "data": {
      "text/html": [
       "<style>\n",
       ".list-inline {list-style: none; margin:0; padding: 0}\n",
       ".list-inline>li {display: inline-block}\n",
       ".list-inline>li:not(:last-child)::after {content: \"\\00b7\"; padding: 0 .5ex}\n",
       "</style>\n",
       "<ol class=list-inline><li>'cyan'</li><li>'purple'</li><li>'blue'</li><li>'darkred'</li><li>'midnightblue'</li><li>'salmon'</li><li>'darkturquoise'</li><li>'greenyellow'</li><li>'darkgreen'</li><li>'tan'</li></ol>\n"
      ],
      "text/latex": [
       "\\begin{enumerate*}\n",
       "\\item 'cyan'\n",
       "\\item 'purple'\n",
       "\\item 'blue'\n",
       "\\item 'darkred'\n",
       "\\item 'midnightblue'\n",
       "\\item 'salmon'\n",
       "\\item 'darkturquoise'\n",
       "\\item 'greenyellow'\n",
       "\\item 'darkgreen'\n",
       "\\item 'tan'\n",
       "\\end{enumerate*}\n"
      ],
      "text/markdown": [
       "1. 'cyan'\n",
       "2. 'purple'\n",
       "3. 'blue'\n",
       "4. 'darkred'\n",
       "5. 'midnightblue'\n",
       "6. 'salmon'\n",
       "7. 'darkturquoise'\n",
       "8. 'greenyellow'\n",
       "9. 'darkgreen'\n",
       "10. 'tan'\n",
       "\n",
       "\n"
      ],
      "text/plain": [
       " [1] \"cyan\"          \"purple\"        \"blue\"          \"darkred\"      \n",
       " [5] \"midnightblue\"  \"salmon\"        \"darkturquoise\" \"greenyellow\"  \n",
       " [9] \"darkgreen\"     \"tan\"          "
      ]
     },
     "metadata": {},
     "output_type": "display_data"
    },
    {
     "data": {
      "text/html": [
       "<table class=\"dataframe\">\n",
       "<caption>A data.frame: 2 × 10</caption>\n",
       "<thead>\n",
       "\t<tr><th></th><th scope=col>MEblue</th><th scope=col>MEpurple</th><th scope=col>MEdarkturquoise</th><th scope=col>MEcyan</th><th scope=col>MEdarkred</th><th scope=col>MEgreenyellow</th><th scope=col>MEsalmon</th><th scope=col>MEtan</th><th scope=col>MEdarkgreen</th><th scope=col>MEmidnightblue</th></tr>\n",
       "\t<tr><th></th><th scope=col>&lt;dbl&gt;</th><th scope=col>&lt;dbl&gt;</th><th scope=col>&lt;dbl&gt;</th><th scope=col>&lt;dbl&gt;</th><th scope=col>&lt;dbl&gt;</th><th scope=col>&lt;dbl&gt;</th><th scope=col>&lt;dbl&gt;</th><th scope=col>&lt;dbl&gt;</th><th scope=col>&lt;dbl&gt;</th><th scope=col>&lt;dbl&gt;</th></tr>\n",
       "</thead>\n",
       "<tbody>\n",
       "\t<tr><th scope=row>DM1/DM2d_1</th><td>-0.20568039</td><td>-0.1557923</td><td>-0.2208651</td><td> 0.16508252</td><td>-0.15081550</td><td>-0.06307087</td><td> 0.197631192</td><td>0.02351471</td><td>0.15351248</td><td>0.200398583</td></tr>\n",
       "\t<tr><th scope=row>Col-0_12_1</th><td> 0.07341693</td><td>-0.0319329</td><td>-0.0755548</td><td>-0.06875897</td><td>-0.01812837</td><td> 0.02593431</td><td>-0.005166699</td><td>0.07076801</td><td>0.01114131</td><td>0.006875687</td></tr>\n",
       "</tbody>\n",
       "</table>\n"
      ],
      "text/latex": [
       "A data.frame: 2 × 10\n",
       "\\begin{tabular}{r|llllllllll}\n",
       "  & MEblue & MEpurple & MEdarkturquoise & MEcyan & MEdarkred & MEgreenyellow & MEsalmon & MEtan & MEdarkgreen & MEmidnightblue\\\\\n",
       "  & <dbl> & <dbl> & <dbl> & <dbl> & <dbl> & <dbl> & <dbl> & <dbl> & <dbl> & <dbl>\\\\\n",
       "\\hline\n",
       "\tDM1/DM2d\\_1 & -0.20568039 & -0.1557923 & -0.2208651 &  0.16508252 & -0.15081550 & -0.06307087 &  0.197631192 & 0.02351471 & 0.15351248 & 0.200398583\\\\\n",
       "\tCol-0\\_12\\_1 &  0.07341693 & -0.0319329 & -0.0755548 & -0.06875897 & -0.01812837 &  0.02593431 & -0.005166699 & 0.07076801 & 0.01114131 & 0.006875687\\\\\n",
       "\\end{tabular}\n"
      ],
      "text/markdown": [
       "\n",
       "A data.frame: 2 × 10\n",
       "\n",
       "| <!--/--> | MEblue &lt;dbl&gt; | MEpurple &lt;dbl&gt; | MEdarkturquoise &lt;dbl&gt; | MEcyan &lt;dbl&gt; | MEdarkred &lt;dbl&gt; | MEgreenyellow &lt;dbl&gt; | MEsalmon &lt;dbl&gt; | MEtan &lt;dbl&gt; | MEdarkgreen &lt;dbl&gt; | MEmidnightblue &lt;dbl&gt; |\n",
       "|---|---|---|---|---|---|---|---|---|---|---|\n",
       "| DM1/DM2d_1 | -0.20568039 | -0.1557923 | -0.2208651 |  0.16508252 | -0.15081550 | -0.06307087 |  0.197631192 | 0.02351471 | 0.15351248 | 0.200398583 |\n",
       "| Col-0_12_1 |  0.07341693 | -0.0319329 | -0.0755548 | -0.06875897 | -0.01812837 |  0.02593431 | -0.005166699 | 0.07076801 | 0.01114131 | 0.006875687 |\n",
       "\n"
      ],
      "text/plain": [
       "           MEblue      MEpurple   MEdarkturquoise MEcyan      MEdarkred  \n",
       "DM1/DM2d_1 -0.20568039 -0.1557923 -0.2208651       0.16508252 -0.15081550\n",
       "Col-0_12_1  0.07341693 -0.0319329 -0.0755548      -0.06875897 -0.01812837\n",
       "           MEgreenyellow MEsalmon     MEtan      MEdarkgreen MEmidnightblue\n",
       "DM1/DM2d_1 -0.06307087    0.197631192 0.02351471 0.15351248  0.200398583   \n",
       "Col-0_12_1  0.02593431   -0.005166699 0.07076801 0.01114131  0.006875687   "
      ]
     },
     "metadata": {},
     "output_type": "display_data"
    }
   ],
   "source": [
    "moduleColors %>% unique()\n",
    "MEs %>% head(2)"
   ]
  },
  {
   "cell_type": "code",
   "execution_count": 41,
   "metadata": {
    "tags": []
   },
   "outputs": [
    {
     "data": {
      "text/html": [
       "<strong>png:</strong> 2"
      ],
      "text/latex": [
       "\\textbf{png:} 2"
      ],
      "text/markdown": [
       "**png:** 2"
      ],
      "text/plain": [
       "png \n",
       "  2 "
      ]
     },
     "metadata": {},
     "output_type": "display_data"
    }
   ],
   "source": [
    "#set the diagonal of the dissimilarity to NA \n",
    "diag(diss1) = NA;\n",
    "\n",
    "#Visualize the Tom plot. Raise the dissimilarity matrix to the power of 4 to bring out the module structure\n",
    "#sizeGrWindow(7,7)\n",
    "\n",
    "pdf(file = paste0(plots_path, 'TOMplot' ,Sys.time(), '.pdf'),  wi = 6, he = 12)\n",
    "TOMplot(diss1, hier1, as.character(moduleColors[restGenes]))\n",
    "dev.off()"
   ]
  },
  {
   "cell_type": "code",
   "execution_count": 42,
   "metadata": {},
   "outputs": [
    {
     "data": {
      "text/html": [
       "<strong>png:</strong> 2"
      ],
      "text/latex": [
       "\\textbf{png:} 2"
      ],
      "text/markdown": [
       "**png:** 2"
      ],
      "text/plain": [
       "png \n",
       "  2 "
      ]
     },
     "metadata": {},
     "output_type": "display_data"
    },
    {
     "data": {
      "image/png": "[encoded data removed]",
      "text/plain": [
       "Plot with title “ Eigengene network plot”"
      ]
     },
     "metadata": {
      "image/png": {
       "height": 225,
       "width": 102.5
      }
     },
     "output_type": "display_data"
    }
   ],
   "source": [
    "options(repr.plot.width=4.1, repr.plot.height=9, repr.plot.res = 50)\n",
    "\n",
    "# Set up the font family and size\n",
    "par(family = \"Arial\", cex = 0.8)\n",
    "\n",
    "MEList = moduleEigengenes(dataExpr, colors = moduleColors)\n",
    "MEs = MEList$eigengenes\n",
    "\n",
    "# Plot with the specified font settings\n",
    "plotEigengeneNetworks(MEs, \"Eigengene network plot\", marDendro = c(2,3 ,3,2), marHeatmap = c(2, 3, 3, 2))\n",
    "\n",
    "# Save the plot to a PDF file with the specified font settings\n",
    "pdf(file = paste0(plots_path, 'ME_tree_' ,Sys.time(), '.pdf'),  wi = 3.1, he = 7.3, family = \"Arial\")\n",
    "par(cex = 0.8)  # Set the font size to 8 points in the PDF device\n",
    "plotEigengeneNetworks(MEs, \"\", marDendro = c(2,3 ,3,2), marHeatmap = c(2, 3, 3, 2))\n",
    "dev.off()\n"
   ]
  },
  {
   "cell_type": "code",
   "execution_count": null,
   "metadata": {},
   "outputs": [],
   "source": []
  },
  {
   "cell_type": "markdown",
   "metadata": {},
   "source": [
    "## Export Merged Moduels for Cytoscape"
   ]
  },
  {
   "cell_type": "code",
   "execution_count": 43,
   "metadata": {},
   "outputs": [
    {
     "data": {
      "text/html": [
       "<style>\n",
       ".list-inline {list-style: none; margin:0; padding: 0}\n",
       ".list-inline>li {display: inline-block}\n",
       ".list-inline>li:not(:last-child)::after {content: \"\\00b7\"; padding: 0 .5ex}\n",
       "</style>\n",
       "<ol class=list-inline><li>'cyan'</li><li>'purple'</li><li>'blue'</li><li>'darkred'</li><li>'midnightblue'</li><li>'salmon'</li><li>'darkturquoise'</li><li>'greenyellow'</li><li>'darkgreen'</li><li>'tan'</li></ol>\n"
      ],
      "text/latex": [
       "\\begin{enumerate*}\n",
       "\\item 'cyan'\n",
       "\\item 'purple'\n",
       "\\item 'blue'\n",
       "\\item 'darkred'\n",
       "\\item 'midnightblue'\n",
       "\\item 'salmon'\n",
       "\\item 'darkturquoise'\n",
       "\\item 'greenyellow'\n",
       "\\item 'darkgreen'\n",
       "\\item 'tan'\n",
       "\\end{enumerate*}\n"
      ],
      "text/markdown": [
       "1. 'cyan'\n",
       "2. 'purple'\n",
       "3. 'blue'\n",
       "4. 'darkred'\n",
       "5. 'midnightblue'\n",
       "6. 'salmon'\n",
       "7. 'darkturquoise'\n",
       "8. 'greenyellow'\n",
       "9. 'darkgreen'\n",
       "10. 'tan'\n",
       "\n",
       "\n"
      ],
      "text/plain": [
       " [1] \"cyan\"          \"purple\"        \"blue\"          \"darkred\"      \n",
       " [5] \"midnightblue\"  \"salmon\"        \"darkturquoise\" \"greenyellow\"  \n",
       " [9] \"darkgreen\"     \"tan\"          "
      ]
     },
     "metadata": {},
     "output_type": "display_data"
    }
   ],
   "source": [
    "moduleColors %>% unique()"
   ]
  },
  {
   "cell_type": "code",
   "execution_count": 44,
   "metadata": {},
   "outputs": [
    {
     "name": "stdout",
     "output_type": "stream",
     "text": [
      "TOM calculation: adjacency..\n",
      "..will use 127 parallel threads.\n",
      " Fraction of slow calculations: 0.000000\n",
      "..connectivity..\n",
      "..matrix multiplication (system BLAS)..\n",
      "..normalization..\n",
      "..done.\n"
     ]
    }
   ],
   "source": [
    "# Recalculate topological overlap if needed\n",
    "TOM = TOMsimilarityFromExpr(dataExpr, power = 6);\n",
    "threshold_ = 0.01\n",
    "node_edge_path <- paste0(WGCNA_export_path, '/', threshold_, 'edge_node' , '/')\n",
    "# Select modules\n",
    "modules = c('purple','darkred','midnightblue','salmon',\n",
    "            'darkturquoise','greenyellow','darkgreen','tan')\n",
    "# Select module probes\n",
    "probes = names(dataExpr)\n",
    "inModule = is.finite(match(moduleColors, modules));\n",
    "modProbes = probes[inModule];\n",
    "modGenes = modProbes\n",
    "# Select the corresponding Topological Overlap\n",
    "modTOM = TOM[inModule, inModule];\n",
    "\n",
    "dimnames(modTOM) = list(modProbes, modProbes)\n",
    "# Export the network into edge and node list files Cytoscape can read\n",
    "cyt = exportNetworkToCytoscape(modTOM,\n",
    "    edgeFile = paste(node_edge_path, '/', \"edges-\", paste(modules, collapse=\"-\"), \".txt\", sep=\"\"),\n",
    "    nodeFile = paste(node_edge_path, '/', \"nodes-\", paste(modules, collapse=\"-\"), \".txt\", sep=\"\"),\n",
    "    weighted = TRUE,\n",
    "    threshold = threshold_,\n",
    "    nodeNames = modProbes,\n",
    "    altNodeNames = modGenes,\n",
    "    nodeAttr = moduleColors[inModule])"
   ]
  },
  {
   "cell_type": "code",
   "execution_count": 45,
   "metadata": {},
   "outputs": [
    {
     "name": "stdout",
     "output_type": "stream",
     "text": [
      "TOM calculation: adjacency..\n",
      "..will use 127 parallel threads.\n",
      " Fraction of slow calculations: 0.000000\n",
      "..connectivity..\n",
      "..matrix multiplication (system BLAS)..\n",
      "..normalization..\n",
      "..done.\n"
     ]
    }
   ],
   "source": [
    "# Recalculate topological overlap if needed\n",
    "TOM = TOMsimilarityFromExpr(dataExpr, power = 6);\n",
    "threshold_ = 0.01\n",
    "node_edge_path <- paste0(WGCNA_export_path, '/', threshold_, 'edge_node' , '/')\n",
    "# Select modules\n",
    "modules = moduleColors %>% unique()\n",
    "# Select module probes\n",
    "probes = names(dataExpr)\n",
    "inModule = is.finite(match(moduleColors, modules));\n",
    "modProbes = probes[inModule];\n",
    "modGenes = modProbes\n",
    "# Select the corresponding Topological Overlap\n",
    "modTOM = TOM[inModule, inModule];\n",
    "\n",
    "dimnames(modTOM) = list(modProbes, modProbes)\n",
    "# Export the network into edge and node list files Cytoscape can read\n",
    "cyt = exportNetworkToCytoscape(modTOM,\n",
    "    edgeFile = paste(node_edge_path, '/', \"edges-\", paste(modules, collapse=\"-\"), \".txt\", sep=\"\"),\n",
    "    nodeFile = paste(node_edge_path, '/', \"nodes-\", paste(modules, collapse=\"-\"), \".txt\", sep=\"\"),\n",
    "    weighted = TRUE,\n",
    "    threshold = threshold_,\n",
    "    nodeNames = modProbes,\n",
    "    altNodeNames = modGenes,\n",
    "    nodeAttr = moduleColors[inModule])"
   ]
  },
  {
   "cell_type": "markdown",
   "metadata": {},
   "source": [
    "## edges and nodes of top n each module "
   ]
  },
  {
   "cell_type": "code",
   "execution_count": 46,
   "metadata": {
    "scrolled": true,
    "tags": []
   },
   "outputs": [],
   "source": [
    "top_50_each_module_edge <- cyt[[1]] %>% semi_join(top_50_each_module, by = c('fromNode' = 'gene')) %>% \n",
    "    semi_join(top_50_each_module, by = c('toNode' = 'gene'))\n",
    "top_50_each_module_edge %>%    write.csv(paste0(node_edge_path, '/', \"edges-\",'top50_each_module', \".csv\"), row.names = F, quote = F)"
   ]
  },
  {
   "cell_type": "code",
   "execution_count": 47,
   "metadata": {
    "scrolled": true,
    "tags": []
   },
   "outputs": [],
   "source": [
    "top_50_each_module_edge_node <- cyt[[2]] %>% semi_join(top_50_each_module, by = c('nodeName' = 'gene')) \n",
    "\n",
    "top_50_each_module_edge_node %>%\n",
    "    write.csv(paste0(node_edge_path, '/', \"nodes-\",'top50_each_module', \".csv\"), row.names = F, quote = F)"
   ]
  },
  {
   "cell_type": "code",
   "execution_count": 48,
   "metadata": {
    "scrolled": true,
    "tags": []
   },
   "outputs": [],
   "source": [
    "connectivity_table %>% group_by(module) %>% top_n(5, wt = connectivity_rowSums_adj) %>% \n",
    "    mutate(hub = 'yes') %>% write.csv(paste0(node_edge_path, '/', \"5hub_each_module.csv\"), row.names = F, quote = F)"
   ]
  },
  {
   "cell_type": "code",
   "execution_count": 49,
   "metadata": {},
   "outputs": [
    {
     "name": "stdout",
     "output_type": "stream",
     "text": [
      "TOM calculation: adjacency..\n",
      "..will use 127 parallel threads.\n",
      " Fraction of slow calculations: 0.000000\n",
      "..connectivity..\n",
      "..matrix multiplication (system BLAS)..\n",
      "..normalization..\n",
      "..done.\n"
     ]
    }
   ],
   "source": [
    "# Recalculate topological overlap if needed\n",
    "TOM = TOMsimilarityFromExpr(dataExpr, power = 6);\n",
    "threshold_ = 0.01\n",
    "node_edge_path <- paste0(WGCNA_export_path, '/', threshold_, 'edge_node' , '/')\n",
    "create_directory_if_not_exists(node_edge_path)\n",
    "for (color in moduleColors %>% unique()) {\n",
    "    if (color == 'grey') {\n",
    "        next }\n",
    "    # Select modules\n",
    "    modules = color\n",
    "    # Select module probes\n",
    "    probes = names(dataExpr)\n",
    "    inModule = is.finite(match(moduleColors, modules));\n",
    "    modProbes = probes[inModule];\n",
    "    modGenes = modProbes\n",
    "    # Select the corresponding Topological Overlap\n",
    "    modTOM = TOM[inModule, inModule];\n",
    "\n",
    "    dimnames(modTOM) = list(modProbes, modProbes)\n",
    "    # Export the network into edge and node list files Cytoscape can read\n",
    "    cyt = exportNetworkToCytoscape(modTOM,\n",
    "    edgeFile = paste(  node_edge_path, color,'-', threshold_,  \"-edges-\", paste(modules, collapse=\"-\"), \".txt\", sep=\"\"),\n",
    "    nodeFile = paste(node_edge_path, color, '-', threshold_, \"-nodes-\", paste(modules, collapse=\"-\"), \".txt\", sep=\"\"),\n",
    "    weighted = TRUE,\n",
    "    threshold = threshold_ ,\n",
    "    nodeNames = modProbes,\n",
    "    altNodeNames = modGenes,\n",
    "    nodeAttr = moduleColors[inModule])\n",
    "}"
   ]
  },
  {
   "cell_type": "code",
   "execution_count": 50,
   "metadata": {},
   "outputs": [],
   "source": [
    "create_directory_if_not_exists(WGCNA_export_path)"
   ]
  },
  {
   "cell_type": "code",
   "execution_count": 51,
   "metadata": {
    "tags": []
   },
   "outputs": [
    {
     "data": {
      "text/html": [
       "5454"
      ],
      "text/latex": [
       "5454"
      ],
      "text/markdown": [
       "5454"
      ],
      "text/plain": [
       "[1] 5454"
      ]
     },
     "metadata": {},
     "output_type": "display_data"
    },
    {
     "data": {
      "text/html": [
       "<table class=\"dataframe\">\n",
       "<caption>A data.frame: 2 × 2</caption>\n",
       "<thead>\n",
       "\t<tr><th scope=col>gene</th><th scope=col>module</th></tr>\n",
       "\t<tr><th scope=col>&lt;chr&gt;</th><th scope=col>&lt;chr&gt;</th></tr>\n",
       "</thead>\n",
       "<tbody>\n",
       "\t<tr><td>AT4G34230</td><td>cyan</td></tr>\n",
       "\t<tr><td>AT1G66725</td><td>cyan</td></tr>\n",
       "</tbody>\n",
       "</table>\n"
      ],
      "text/latex": [
       "A data.frame: 2 × 2\n",
       "\\begin{tabular}{ll}\n",
       " gene & module\\\\\n",
       " <chr> & <chr>\\\\\n",
       "\\hline\n",
       "\t AT4G34230 & cyan\\\\\n",
       "\t AT1G66725 & cyan\\\\\n",
       "\\end{tabular}\n"
      ],
      "text/markdown": [
       "\n",
       "A data.frame: 2 × 2\n",
       "\n",
       "| gene &lt;chr&gt; | module &lt;chr&gt; |\n",
       "|---|---|\n",
       "| AT4G34230 | cyan |\n",
       "| AT1G66725 | cyan |\n",
       "\n"
      ],
      "text/plain": [
       "  gene      module\n",
       "1 AT4G34230 cyan  \n",
       "2 AT1G66725 cyan  "
      ]
     },
     "metadata": {},
     "output_type": "display_data"
    }
   ],
   "source": [
    "cyt_merged_0 = exportNetworkToCytoscape(TOM,\n",
    "             edgeFile = paste(WGCNA_export_path,  \"/0_all_mdoules_edges.txt\", sep=\"\"),\n",
    "             nodeFile = paste(WGCNA_export_path, \"/0_all_mdoules_nodes.txt\", sep=\"\"),\n",
    "             weighted = TRUE, threshold = 0,\n",
    "             nodeNames = probes, nodeAttr = moduleColors)\n",
    "node_data <- cyt_merged_0$nodeData[, c(1,3)]\n",
    "names(node_data) <- c('gene', 'module')\n",
    "nrow(node_data)\n",
    "node_data %>% sample_n(2)"
   ]
  },
  {
   "cell_type": "code",
   "execution_count": 52,
   "metadata": {
    "scrolled": true,
    "tags": []
   },
   "outputs": [],
   "source": [
    "node_n <- node_data %>% group_by(module) %>% summarise(n= n()) %>% mutate(module = paste0('ME', module))"
   ]
  },
  {
   "cell_type": "code",
   "execution_count": null,
   "metadata": {},
   "outputs": [],
   "source": []
  },
  {
   "cell_type": "raw",
   "metadata": {
    "tags": []
   },
   "source": [
    "node_data %>% saveRDS('./separate_output/all_combined_nodes.rds')"
   ]
  },
  {
   "cell_type": "raw",
   "metadata": {
    "tags": []
   },
   "source": [
    "cyt_merged_0$edgeData %>% filter()"
   ]
  },
  {
   "cell_type": "markdown",
   "metadata": {},
   "source": [
    "## Module-trait relationships"
   ]
  },
  {
   "cell_type": "raw",
   "metadata": {
    "tags": []
   },
   "source": [
    "options(repr.plot.width=6, repr.plot.height=3)\n",
    "\n",
    "gamma = 1.5\n",
    "displayColors(blueWhiteRed(20, gamma = gamma , endSaturation = 0.3))"
   ]
  },
  {
   "cell_type": "code",
   "execution_count": 53,
   "metadata": {
    "scrolled": true,
    "tags": []
   },
   "outputs": [
    {
     "ename": "ERROR",
     "evalue": "Error in parse(text = x, srcfile = src): <text>:60:1: unexpected symbol\n59: \n60: traitData\n    ^\n",
     "output_type": "error",
     "traceback": [
      "Error in parse(text = x, srcfile = src): <text>:60:1: unexpected symbol\n59: \n60: traitData\n    ^\nTraceback:\n"
     ]
    }
   ],
   "source": [
    "traits <-readxl::read_excel(\"./refs/3-DM_shoots_root_JC14_adr1s_pathogen.xlsx\") %>% filter(tissue =='Shoot')\n",
    "traits <- traits %>% tibble::column_to_rownames( var = \"short_name\")  %>%  mutate( \n",
    "\n",
    "traits <- traits %>% tibble::column_to_rownames( var = \"short_name\")  %>%  mutate( \n",
    "    `DM1/DM2d` = case_when(\n",
    "  group2 %in% c(\"DM1/DM2d\") ~ 1,\n",
    "  group2 %in% c(\"Col-0_12\") ~ -1), \n",
    "    \n",
    "    `DM6/DM7` = case_when(\n",
    "  group2 %in% c(\"DM6/DM7\") ~ 1,\n",
    "  group2 %in% c(\"Col-0_14\") ~ -1),    \n",
    "    \n",
    "    `2DMs_vs_WT` = case_when(\n",
    "  group2 %in% c(\"DM6/DM7\", \"DM1/DM2d\" ) ~ 1,\n",
    "  group2 %in% c(\"Col-0_14\", \"Col-0_12\") ~ -1), \n",
    "    \n",
    "    `DM1_DM2d_adr1s` = case_when(\n",
    "  group2 %in% c( \"DM1/DM2d_adr1s\" ) ~ 1,\n",
    "  group2 %in% c(\"Col-0_12\" ) ~ -1), \n",
    "    \n",
    "    `DM1_DM2d_adr1s` = case_when(\n",
    "  group2 %in% c(\"DM6/DM7_adr1s\" ) ~ 1,\n",
    "  group2 %in% c(\"Col-0_14\" ) ~ -1), \n",
    "    \n",
    "    `Col-0_adr1s` = case_when(\n",
    "  group2 %in% c(\"Col-0_adr1s\" ) ~ 1,\n",
    "  group2 %in% c(\"Col-0_12\" ) ~ -1), \n",
    "    \n",
    "    `DM1/DM2d_vs_DM6/DM7`  = case_when(\n",
    "  group2 %in% c(\"DM1/DM2d\" ) ~ 1,\n",
    "  group2 %in% c(\"DM6/DM7\" ) ~ -1), \n",
    "    \n",
    "    `DM1/DM2d_adr1s_vs_DM6/DM7_adr1s`  = case_when(\n",
    "  group2 %in% c(\"DM1/DM2d_adr1s\" ) ~ 1,\n",
    "  group2 %in% c(\"DM6/DM7_adr1s\" ) ~ -1), \n",
    "\n",
    "     `DM_adr1s_vs_Col-0_adr1s` = case_when(\n",
    "  group2 %in% c(\"DM6/DM7_adr1s\", \"DM1/DM2d_adr1s\" ) ~ 1,\n",
    "  group2 %in% c('Col-0_adr1s' ) ~ -1), \n",
    "\n",
    "    \n",
    "    `2adr1s_vs_WT` = case_when(\n",
    "  group2 %in% c(\"DM6/DM7_adr1s\", \"DM1/DM2d_adr1s\" ) ~ 1,\n",
    "  group2 %in% c(\"Col-0_14\", \"Col-0_12\" ) ~ -1), \n",
    "    \n",
    "     `3adr1s_vs_WT` = case_when(\n",
    "  group2 %in% c(\"DM6/DM7_adr1s\", \"DM1/DM2d_adr1s\", 'Col-0_adr1s') ~ 1,\n",
    "  group2 %in% c(\"Col-0_14\", \"Col-0_12\" ) ~ -1), \n",
    "\n",
    "     `2adr1s_vs_DM` = case_when(\n",
    "  group2 %in% c(\"DM6/DM7_adr1s\", \"DM1/DM2d_adr1s\" ) ~ 1,\n",
    "  group2 %in% c(\"DM6/DM7\", \"DM1/DM2d\" ) ~ -1), \n",
    "    \n",
    "     `3adr1s_vs_DM` = case_when(\n",
    "  group2 %in% c(\"DM6/DM7_adr1s\", \"DM1/DM2d_adr1s\", 'Col-0_adr1s' ) ~ 1,\n",
    "  group2 %in% c(\"DM6/DM7\", \"DM1/DM2d\" ) ~ -1)\n",
    "    \n",
    ") \n",
    "\n",
    "traitData <- traits  %>%  select(`DM1/DM2d`,`DM6/DM7`,`2DMs_vs_WT`,`DM1_DM2d_adr1s`,\n",
    "        DM1_DM2d_adr1s,`Col-0_adr1s`,`2adr1s_vs_WT`,\n",
    "    `3adr1s_vs_WT`,`2adr1s_vs_DM`,`3adr1s_vs_DM`,\n",
    "        `DM1/DM2d_vs_DM6/DM7`,`DM1/DM2d_adr1s_vs_DM6/DM7_adr1s`, `DM_adr1s_vs_Col-0_adr1s`,\n",
    "                                 DAS) #%>% filter(!grepl('Tuescha|Cdm|DM11', rownames(traits)))\n",
    "\n",
    "\n",
    "traitData"
   ]
  },
  {
   "cell_type": "code",
   "execution_count": null,
   "metadata": {
    "scrolled": true,
    "tags": []
   },
   "outputs": [],
   "source": [
    "readxl::read_excel(\"./refs/3-DM_shoots_root_JC14_adr1s_pathogen.xlsx\") %>% filter(tissue =='Shoot')"
   ]
  },
  {
   "cell_type": "code",
   "execution_count": null,
   "metadata": {
    "scrolled": true,
    "tags": []
   },
   "outputs": [],
   "source": [
    "traits <-readxl::read_excel(\"./refs/3-DM_shoots_root_JC14_adr1s_pathogen.xlsx\") %>% filter(tissue =='Shoot')\n",
    "traits <- traits %>% tibble::column_to_rownames( var = \"short_name\")  %>%  mutate( \n",
    "\n",
    "    `Rps4_vs_Rpt2_20h`  = case_when(\n",
    "  group2 %in% c( \"AvrRps4-20h\") ~ 1,\n",
    "  group2 %in% c(\"AvrRpt2-20h\" ) ~ -1), \n",
    "    \n",
    "  #   `Avr_vs_DM6/DM7_DM1/DM2d`  = case_when(\n",
    "  # group2 %in% c(\"AvrRps4-20h\",'AvrRpt2-20h' ) ~ 1,\n",
    "  # group2 %in% c(\"DM1/DM2d\", 'DM6/DM7') ~ -1), \n",
    "    \n",
    "    `DM1/DM2d_vs_DM6/DM7`  = case_when(\n",
    "  group2 %in% c(\"DM1/DM2d\" ) ~ 1,\n",
    "  group2 %in% c(\"DM6/DM7\" ) ~ -1), \n",
    "    \n",
    "    `DM1/DM2d_adr1s_vs_DM6/DM7_adr1s`  = case_when(\n",
    "  group2 %in% c(\"DM1/DM2d_adr1s\" ) ~ 1,\n",
    "  group2 %in% c(\"DM6/DM7_adr1s\" ) ~ -1), \n",
    "\n",
    "     `2adr1s_vs_DM` = case_when(\n",
    "  group2 %in% c(\"DM6/DM7_adr1s\", \"DM1/DM2d_adr1s\" ) ~ 1,\n",
    "  group2 %in% c(\"DM6/DM7\", \"DM1/DM2d\" ) ~ -1), \n",
    "    \n",
    "    `DM_vs_WT` = case_when(\n",
    "  group2 %in% c(\"DM6/DM7\", \"DM1/DM2d\" ) ~ 1,\n",
    "  group2 %in% c('Col-0_14', 'Col-0_12') ~ -1), \n",
    "    \n",
    "        `Avr_vs_Mock` = case_when(\n",
    "  group2 %in% c(\"AvrRps4-20h\", \"AvrRpt2-20h\") ~ 1,\n",
    "  group2 %in% c('Mock-20h' ) ~ -1), \n",
    "    \n",
    "    `DM_vs_Avr` = case_when(\n",
    "  group2 %in% c(\"DM6/DM7\", \"DM1/DM2d\" ) ~ 1,\n",
    "  group2 %in% c(\"AvrRps4-20h\", \"AvrRpt2-20h\") ~ -1), \n",
    "      \n",
    "    \n",
    "    \n",
    ") \n",
    "\n",
    "traitData <- traits  %>%  select(18:ncol(traits))\n",
    "\n",
    "\n",
    "traitData"
   ]
  },
  {
   "cell_type": "code",
   "execution_count": null,
   "metadata": {},
   "outputs": [],
   "source": [
    "rownames(MEs)"
   ]
  },
  {
   "cell_type": "code",
   "execution_count": null,
   "metadata": {},
   "outputs": [],
   "source": [
    "MEs %>% nrow\n",
    "# rownames(MEs)\n",
    "# rownames(traitData)\n",
    "all(rownames(MEs) == rownames(traitData))"
   ]
  },
  {
   "cell_type": "code",
   "execution_count": null,
   "metadata": {
    "tags": []
   },
   "outputs": [],
   "source": [
    "# Correlate traits --------------------------------------------------------\n",
    "options(repr.plot.width=20, repr.plot.height=12, repr.plot.res = 140)\n",
    " \n",
    "#Define number of genes and samples\n",
    "nGenes = ncol(dataExpr)\n",
    "nSamples = nrow(dataExpr)\n",
    "#Recalculate MEs with color labels\n",
    "MEs0 = moduleEigengenes(dataExpr, moduleColors)$eigengenes\n",
    "MEs = orderMEs(MEs0)\n",
    "moduleTraitCor = cor(MEs, traitData, use= \"p\")\n",
    "moduleTraitPvalue = corPvalueStudent(moduleTraitCor, nSamples)\n",
    "\n",
    " \n",
    "#Print correlation heatmap between modules and traits\n",
    "textMatrix= paste(signif(moduleTraitCor, 2), \"\\n(\",\n",
    "                        signif(moduleTraitPvalue, 1), \")\", sep= \"\")\n",
    "dim(textMatrix)= dim(moduleTraitCor)\n",
    "\n",
    "# par(mar= c(9, 15, 3, 3))\n",
    "# module_relationship_plot <- labeledHeatmap(Matrix= moduleTraitCor,\n",
    "#             xLabels= names(traitData),\n",
    "#             yLabels= names(MEs),\n",
    "#             ySymbols= names(MEs),\n",
    "#             colorLabels= FALSE,\n",
    "#             colors= blueWhiteRed(20, gamma = 0.3, endSaturation = 0.3),\n",
    "#             textMatrix= textMatrix,\n",
    "#             setStdMargins= FALSE,\n",
    "#             xLabelsAngle =35,\n",
    "#             cex.text= 1,\n",
    "#             zlim= c(-1,1),\n",
    "#             main= paste(\"Module-trait relationships\")\n",
    "#                                           )\n",
    "\n",
    "pdf(file = paste0(plots_path, \"module_trait_merged.pdf\"),  wi = 14, he = 9)\n",
    "\n",
    "par(mar= c(9, 7, 3, 3))\n",
    "module_relationship_plot <- labeledHeatmap(Matrix= moduleTraitCor,\n",
    "            xLabels= names(traitData),\n",
    "            yLabels= names(MEs),\n",
    "            ySymbols= names(MEs),\n",
    "            colorLabels= FALSE,\n",
    "            colors= blueWhiteRed(20, gamma =0.3 , endSaturation = 0.3),\n",
    "            textMatrix= textMatrix,\n",
    "            setStdMargins= FALSE,\n",
    "            xLabelsAngle =35,\n",
    "            cex.text= 1,\n",
    "            zlim= c(-1,1),\n",
    "            main= paste(\"Module-trait relationships\")\n",
    "                                          )\n",
    "\n",
    "dev.off()"
   ]
  },
  {
   "cell_type": "code",
   "execution_count": null,
   "metadata": {},
   "outputs": [],
   "source": [
    "names(traitData)"
   ]
  },
  {
   "cell_type": "markdown",
   "metadata": {},
   "source": [
    "# customized trait plot"
   ]
  },
  {
   "cell_type": "code",
   "execution_count": null,
   "metadata": {
    "scrolled": true,
    "tags": []
   },
   "outputs": [],
   "source": [
    "module_trait_df <- moduleTraitCor %>%\n",
    "  as.data.frame() %>%\n",
    "  tibble::rownames_to_column(var = 'Module') %>%\n",
    "  pivot_longer(cols = -Module, names_to = 'Trait', values_to = 'Correlation') %>% \n",
    "    left_join(\n",
    "        moduleTraitPvalue %>%\n",
    "  as.data.frame() %>%\n",
    "  tibble::rownames_to_column(var = 'Module') %>%\n",
    "  pivot_longer(cols = -Module, names_to = 'Trait', values_to = 'Pvalue'),\n",
    "    by = c('Module' = 'Module', 'Trait' = 'Trait')) %>% \n",
    "    mutate(Module = factor(Module, levels = c(rownames(moduleTraitCor))),\n",
    "          colors = Module %>% str_remove('ME')) %>% mutate(Trait = factor(Trait, levels = names(traitData)))"
   ]
  },
  {
   "cell_type": "raw",
   "metadata": {},
   "source": [
    "# Convert the correlation matrix and p-values into a tidy format\n",
    "module_trait_df <- data.frame(Module = rownames(moduleTraitCor),\n",
    "                              Trait = colnames(moduleTraitCor),\n",
    "                              Correlation = as.vector(moduleTraitCor),\n",
    "                              Pvalue = as.vector(moduleTraitPvalue)) %>% \n",
    "    mutate(Module = factor(Module, levels = c(rownames(moduleTraitCor))),\n",
    "          colors = Module %>% str_remove('ME')) "
   ]
  },
  {
   "cell_type": "code",
   "execution_count": null,
   "metadata": {
    "scrolled": true,
    "tags": []
   },
   "outputs": [],
   "source": [
    "module_trait_n  <- module_trait_df %>% select(Module) %>% distinct %>% \n",
    "    left_join(node_n, by = c('Module' = 'module')) %>% mutate(Module = factor(Module, levels = c(rownames(moduleTraitCor))))\n",
    "module_colors <- setNames(as.character(unique(module_trait_df$colors)), unique(module_trait_df$Module))"
   ]
  },
  {
   "cell_type": "code",
   "execution_count": null,
   "metadata": {},
   "outputs": [],
   "source": [
    "module_trait_n <- module_trait_n %>%\n",
    "  mutate(Module_n = paste0(Module, '\\nn=', n) ) %>% mutate(Module_n = factor(Module_n, levels = paste0(Module, '\\nn=', n) ))"
   ]
  },
  {
   "cell_type": "code",
   "execution_count": null,
   "metadata": {},
   "outputs": [],
   "source": [
    "module_colors['MEyellow'] = '#e5e64c'\n",
    "module_colors['MEred'] = '#e84646'"
   ]
  },
  {
   "cell_type": "code",
   "execution_count": null,
   "metadata": {},
   "outputs": [],
   "source": [
    "module_legend_grob2 <- ggplot(module_trait_n) +\n",
    "    geom_tile(aes(x = 1, y = Module_n , fill = Module)) +\n",
    "    scale_fill_manual(values = module_colors) +\n",
    "    theme_classic() +\n",
    "    theme(axis.line = element_blank(),\n",
    "          axis.text.x = element_blank(),\n",
    "          axis.text.y = element_text(size = 10),\n",
    "          axis.ticks = element_blank(),\n",
    "          axis.title.x = element_blank(),\n",
    "          axis.title.y = element_blank(),\n",
    "          legend.position = \"none\") +\n",
    "    labs(y = \"Module\") +\n",
    "    coord_cartesian(clip = \"off\")\n",
    "module_legend_grob2 <- ggplotGrob(module_legend_grob2)\n",
    "# module_legend_grob2 %>% plot"
   ]
  },
  {
   "cell_type": "code",
   "execution_count": null,
   "metadata": {},
   "outputs": [],
   "source": [
    "module_colors"
   ]
  },
  {
   "cell_type": "code",
   "execution_count": null,
   "metadata": {},
   "outputs": [],
   "source": [
    "module_legend_grob2"
   ]
  },
  {
   "cell_type": "code",
   "execution_count": null,
   "metadata": {},
   "outputs": [],
   "source": [
    "trait_plot_height = 8\n",
    "trait_plot_width = 8.4\n",
    "options(repr.plot.width=trait_plot_width, repr.plot.height= trait_plot_height, repr.plot.res = 200)\n",
    "module_relationship_plot <- ggplot(module_trait_df, aes(x = Trait, y = Module, fill = Correlation)) +\n",
    "  geom_tile() +\n",
    "  geom_text(aes(label = paste0(round(Correlation, 2), \"\\n(\", formatC(Pvalue, format = \"e\", digits = 0), \")\")),\n",
    "            size = 3, color = \"black\") +\n",
    "  scale_fill_gradient2(low = \"#5CB9FF\", mid = \"white\", high = \"#FF9E6A\", midpoint = 0, limits = c(-1, 1),\n",
    "                       guide = guide_colorbar(title = \"Correlation\", title.position = \"top\", title.hjust = 0.5)) +\n",
    "  theme_classic() +\n",
    "  theme(axis.text.x = element_text(angle = 35, hjust = 1),\n",
    "        plot.title = element_text(hjust = 0.5),\n",
    "        plot.margin = margin(9, 15, 3, 3, \"pt\")) +\n",
    "  labs(x = \"\", y = \"\", title = \"Module-trait relationships\") +\n",
    "  theme(axis.line  = element_blank(),\n",
    "        axis.text.y = element_blank(),\n",
    "        axis.ticks = element_blank(),\n",
    "        axis.title.y = element_blank()) +\n",
    "  coord_cartesian(xlim = c(-2, length(unique(module_trait_df$Trait))), clip = 'off') +\n",
    "  annotation_custom(grob = module_legend_grob2, xmin = -2, xmax = 0.5, ymin = 0.18, ymax = length(unique(module_trait_df$Module)) + 0.74)\n",
    "\n",
    "module_relationship_plot\n",
    "module_relationship_plot %>%  ggsave(file = paste0(plots_path, 'relationship', Sys.time(), '.pdf'), \n",
    "                    height = trait_plot_height, width = trait_plot_width)\n"
   ]
  },
  {
   "cell_type": "code",
   "execution_count": null,
   "metadata": {},
   "outputs": [],
   "source": [
    "node_data %>% filter(gene %in% c('AT5G49450', 'AT1G23380', 'AT5G65510'))"
   ]
  },
  {
   "cell_type": "code",
   "execution_count": null,
   "metadata": {
    "scrolled": true,
    "tags": []
   },
   "outputs": [],
   "source": [
    "node_data %>% filter(module != 'grey')"
   ]
  },
  {
   "cell_type": "code",
   "execution_count": null,
   "metadata": {
    "scrolled": true,
    "tags": []
   },
   "outputs": [],
   "source": [
    "node_data %>% pull(module) %>%unique"
   ]
  },
  {
   "cell_type": "code",
   "execution_count": null,
   "metadata": {},
   "outputs": [],
   "source": []
  },
  {
   "cell_type": "code",
   "execution_count": null,
   "metadata": {
    "tags": []
   },
   "outputs": [],
   "source": [
    "library('DOSE')\n",
    "library(\"clusterProfiler\")\n",
    "library(gprofiler2)"
   ]
  },
  {
   "cell_type": "code",
   "execution_count": null,
   "metadata": {
    "tags": []
   },
   "outputs": [],
   "source": [
    "# Split the data frame into a list of named sublists by module\n",
    "module_lists <- split(node_data$gene, node_data$module)\n",
    "module_lists$black %>% length"
   ]
  },
  {
   "cell_type": "code",
   "execution_count": null,
   "metadata": {},
   "outputs": [],
   "source": [
    "GOs = gost( module_lists,\n",
    "      organism = \"athaliana\", sources = c(\"GO:BP\", \"GO:MF\", \"GO:CC\", \"KEGG\"), multi_query = FALSE, evcodes = TRUE)"
   ]
  },
  {
   "cell_type": "code",
   "execution_count": null,
   "metadata": {},
   "outputs": [],
   "source": [
    "# Define the function to process g:Profiler data\n",
    "process_gprofiler_data <- function(df, include_terms_pattern = NULL, apply_filter = TRUE, cluster_order = NULL) {\n",
    "  # Select relevant columns from the input dataframe\n",
    "  gp_mod <- df$result[, c(\"query\", \"source\", \"term_id\",\n",
    "                          \"term_name\", \"p_value\", \"query_size\", \n",
    "                          \"intersection_size\", \"term_size\", \n",
    "                          \"effective_domain_size\", \"intersection\")]\n",
    "  \n",
    "  # Calculate GeneRatio and BgRatio\n",
    "  gp_mod$GeneRatio <- paste0(gp_mod$intersection_size, \"/\", gp_mod$query_size)\n",
    "  gp_mod$BgRatio <- paste0(gp_mod$term_size, \"/\", gp_mod$effective_domain_size)\n",
    "  \n",
    "  # Rename columns\n",
    "  names(gp_mod) <- c(\"Cluster\", \"Category\", \"ID\", \"Description\", \"p.adjust\", \n",
    "                     \"query_size\", \"Count\", \"term_size\", \"effective_domain_size\", \n",
    "                     \"geneID\", \"GeneRatio\", \"BgRatio\")\n",
    "  \n",
    "  # Replace commas with slashes in geneID column\n",
    "  gp_mod$geneID <- gsub(\",\", \"/\", gp_mod$geneID)\n",
    "  \n",
    "  # Apply filter based on include_terms_pattern if apply_filter is TRUE\n",
    "  if (apply_filter && !is.null(include_terms_pattern)) {\n",
    "    gp_mod <- gp_mod %>% filter(str_detect(Description, include_terms_pattern))\n",
    "  }\n",
    "  \n",
    "  # Capitalize the first letter of each word in the Description column\n",
    "  gp_mod$Description <- stringr::str_replace(gp_mod$Description, \"^\\\\w\", stringr::str_to_title)\n",
    "  \n",
    "  # Factorize the Cluster column based on the input list (cluster_order)\n",
    "  if (!is.null(cluster_order)) {\n",
    "    gp_mod$Cluster <- factor(gp_mod$Cluster, levels = cluster_order)\n",
    "  }\n",
    "\n",
    "  # Return the modified dataframe\n",
    "  return(gp_mod)\n",
    "}\n",
    "\n",
    "# Usage example:\n",
    "\n",
    "# Define the terms to include\n",
    "include_terms <- c('systemic acquired resistance', 'response to salicylic acid', 'response to oxidative stress',\n",
    "                  'programmed cell death', 'defense response', 'response to hypoxia', 'chitin metabolic process',\n",
    "                  'aminoglycan metabolic process', 'response to toxic substance', 'hydrogen peroxide catabolic process',\n",
    "                  'detoxification',\n",
    "                  'secretory vesicle', 'plasma membrane', 'extracellular region',\n",
    "                  'tetrapyrrole binding', 'polysaccharide binding', 'peroxidase activity',\n",
    "                  'Starch and sucrose metabolism', 'Plant-pathogen interaction', 'Phenylpropanoid biosynthesis'\n",
    "                  )\n",
    "\n",
    "\n",
    "# Create the include_terms_pattern\n",
    "include_terms_pattern <- paste0(\"^(\", paste(include_terms, collapse = \"|\"), \")$\")\n",
    "\n",
    "\n",
    "# Define the list to order Cluster column\n",
    "# cluster_order <- c(\"DM10/DM11\", \"DM1/DM2d\", \"DM6/DM7\", \"DM1/DM2d_adr1s\", \"DM6/DM7_adr1s\", \"Col-0_adr1s\")\n",
    "\n",
    "# Process the GO_up and GO_down dataframes using the process_gprofiler_data function\n",
    "GO_result <- process_gprofiler_data(GOs, include_terms_pattern, apply_filter = F )\n"
   ]
  },
  {
   "cell_type": "code",
   "execution_count": null,
   "metadata": {},
   "outputs": [],
   "source": [
    "library(ggh4x)"
   ]
  },
  {
   "cell_type": "code",
   "execution_count": null,
   "metadata": {
    "scrolled": true,
    "tags": []
   },
   "outputs": [],
   "source": [
    "GO_result %>% arrange(p.adjust)"
   ]
  },
  {
   "cell_type": "code",
   "execution_count": null,
   "metadata": {
    "tags": []
   },
   "outputs": [],
   "source": [
    "# Function to create a customized dot plot\n",
    "customize_dotplot <- function(data,\n",
    "                              description_width = 40,\n",
    "                              low_color = \"#fe6865\",\n",
    "                              high_color = \"#0fc3c7\",\n",
    "                              text_size = 10,\n",
    "                              panel_spacing_y = 0.05,\n",
    "                              dodge_labels = FALSE,\n",
    "                              plot_title = \"Customized Dot Plot\") {\n",
    "  \n",
    "  # Wrap the Description text to a fixed width\n",
    "  data$Description <- str_wrap(data$Description, width = description_width)\n",
    "  \n",
    "  # Calculate the proportions of unique Descriptions for each Category\n",
    "  category_proportions <- data %>%\n",
    "    group_by(Category) %>%\n",
    "    summarise(n_unique_descriptions = n_distinct(Description)) %>%\n",
    "    mutate(proportion = n_unique_descriptions / sum(n_unique_descriptions)) %>%\n",
    "    pull(proportion)\n",
    "    \n",
    "  # Create the customized dot plot\n",
    "  go_plot <- ggplot(data, aes(x = Cluster, y = reorder(Description, `p.adjust`), size = Count/query_size, color = `p.adjust`)) +\n",
    "    geom_point() +\n",
    "    scale_color_gradient(low = low_color, high = high_color) +\n",
    "    facet_grid(Category ~ . , scales = \"free_y\",\n",
    "               labeller = label_wrap_gen(width = description_width, multi_line = T)) +\n",
    "    labs(title = plot_title,\n",
    "         x = NULL, # Remove x-axis title\n",
    "         y = NULL, # Remove y-axis title\n",
    "         size = \"Gene Ratio\",\n",
    "         color = \"p.adjust\") +\n",
    "    theme_minimal() +\n",
    "    theme(\n",
    "      text = element_text(size = text_size, color = \"black\"),\n",
    "      plot.title = element_text(size = text_size, color = \"black\"), # Set plot title font size\n",
    "      legend.text = element_text(size = text_size, color = \"black\"), # Set legend font size\n",
    "      strip.background = element_rect(fill = \"grey80\"),\n",
    "      panel.border = element_rect(colour = \"black\", fill = NA, linewidth = 1),\n",
    "      panel.spacing.y = unit(panel_spacing_y, \"lines\"), # Set space between facets\n",
    "      legend.margin = margin(0, -10, 0, 0), # Reduced space between legend and plot\n",
    "      axis.text.y = element_text(face = \"bold\"), # Bold Description\n",
    "      axis.text.x = element_text(face = \"bold\", angle = ifelse(dodge_labels, 45, 0), hjust = ifelse(dodge_labels, 1, 0.5), vjust = ifelse(dodge_labels, 1, 0.5)), # Bold Cluster with optional dodging\n",
    "      strip.text.y = element_text(face = \"bold\") # Bold facet name\n",
    "    ) + \n",
    "    guides(size = guide_legend(order = 0),\n",
    "           color = guide_colourbar(order = 1)) +\n",
    "    force_panelsizes(rows = category_proportions)\n",
    "  \n",
    "  return(go_plot)\n",
    "}\n",
    "\n",
    "# Call the function with the data object and dodge_labels set to TRUE\n",
    "go_plot <- GO_result %>% customize_dotplot(plot_title = 'modules', text_size = 4, dodge_labels = TRUE)\n",
    "# go_plot\n",
    "go_plot\n"
   ]
  },
  {
   "cell_type": "code",
   "execution_count": null,
   "metadata": {},
   "outputs": [],
   "source": []
  },
  {
   "cell_type": "code",
   "execution_count": null,
   "metadata": {},
   "outputs": [],
   "source": [
    "# Call the function with the data object and dodge_labels set to TRUE\n",
    "go_plot <- GO_result %>% customize_dotplot(plot_title = 'modules', text_size = 4, dodge_labels = TRUE)\n",
    "# go_plot"
   ]
  },
  {
   "cell_type": "code",
   "execution_count": null,
   "metadata": {},
   "outputs": [],
   "source": [
    "go_plot_list <- list()\n",
    "for (i in GO_result %>% pull(Cluster) %>% unique) {\n",
    "   GO_result %>% filter(Cluster == i) %>% customize_dotplot(plot_title = 'modules', text_size = 4, dodge_labels = TRUE)\n",
    "}"
   ]
  },
  {
   "cell_type": "code",
   "execution_count": null,
   "metadata": {},
   "outputs": [],
   "source": [
    "# Create an empty list for storing the plots\n",
    "go_plot_list <- list()\n",
    "\n",
    "# Iterate through each unique value in the \"cluster\" column\n",
    "for (i in unique(GO_result$Cluster)) {\n",
    "  # Filter the data for the specific cluster value\n",
    "  cluster_data <- GO_result %>% filter(Cluster == i)\n",
    "  \n",
    "  # Customize the dot plot and store it in a variable\n",
    "  plot <- customize_dotplot(cluster_data, plot_title = 'modules', text_size = 8, dodge_labels = TRUE)\n",
    "  \n",
    "  # Append the plot to the go_plot_list\n",
    "  go_plot_list[[paste0(\"Cluster_\", i)]] <- plot\n",
    "}\n"
   ]
  },
  {
   "cell_type": "code",
   "execution_count": null,
   "metadata": {},
   "outputs": [],
   "source": [
    "# Load necessary libraries\n",
    "library(gridExtra)\n",
    "library(grid)\n",
    "# Arrange the plots from go_plot_list in a grid with the specified dimensions\n",
    "combined_plot <- arrangeGrob(grobs = go_plot_list, ncol = 2, width =8.4)\n",
    "\n",
    "# Display the combined plot\n",
    "# grid.draw(combined_plot)\n",
    "combined_plot %>% ggsave(file = paste0(plots_path, 'GO_', Sys.time(), '.pdf'), height = 40, width = 8)"
   ]
  },
  {
   "cell_type": "code",
   "execution_count": null,
   "metadata": {},
   "outputs": [],
   "source": []
  },
  {
   "cell_type": "code",
   "execution_count": null,
   "metadata": {
    "tags": []
   },
   "outputs": [],
   "source": [
    "node_data %>% mutate(module = paste0('ME', module )) %>% mutate(module = factor(module, levels = rownames(moduleTraitCor))) %>% filter(module == 'MEsalmon') %>% left_join(map_id_name, by= c('gene' = 'gene_id')) %>% pull(gene_name)"
   ]
  },
  {
   "cell_type": "code",
   "execution_count": null,
   "metadata": {
    "tags": []
   },
   "outputs": [],
   "source": [
    "formula_GO_BP <- compareCluster( gene ~ module ,data = node_data,# %>% as.data.frame, \n",
    "                              OrgDb = \"org.At.tair.db\", \n",
    "                              fun = \"enrichGO\", ont=\"BP\",\n",
    "                              keyType=\"TAIR\")\n",
    "\n",
    "simplified_GO_BP <- simplify(formula_GO_BP, \n",
    "                       cutoff=0.5, # smaller,fewer category  0.4\n",
    "                       by=\"p.adjust\", select_fun = min,\n",
    "  measure = \"Wang\",)"
   ]
  },
  {
   "cell_type": "code",
   "execution_count": null,
   "metadata": {
    "tags": []
   },
   "outputs": [],
   "source": [
    "options(repr.plot.width=8, repr.plot.height=6, repr.plot.res = 160)\n",
    "\n",
    "#somehow the levels of module is lost, level it again\n",
    "GO_plot <- dotplot(simplified_GO_BP,\n",
    "                   font.size = 10) + scale_x_discrete(guide = guide_axis(n.dodge = 2)) #+ theme_Publication()\n",
    "GO_plot %>% ggsave(file = paste0(plots_path, \"wgcna_GO_plot_2.pdf\"), width=8, height=8)\n",
    "GO_plot"
   ]
  },
  {
   "cell_type": "markdown",
   "metadata": {},
   "source": [
    "# heatmap"
   ]
  },
  {
   "cell_type": "code",
   "execution_count": null,
   "metadata": {
    "scrolled": true,
    "tags": []
   },
   "outputs": [],
   "source": [
    "Res_combined <- readRDS('./Rdata/Res_combined.rds')\n",
    "Res_combined"
   ]
  },
  {
   "cell_type": "code",
   "execution_count": null,
   "metadata": {
    "scrolled": true,
    "tags": []
   },
   "outputs": [],
   "source": [
    "Res_combined <- Res_combined  %>% right_join(node_data, by= c('AGI' = 'gene')) %>% \n",
    "    mutate(module = paste0('ME', module )) %>% mutate(module = factor(module, levels = rownames(moduleTraitCor) %>% rev))"
   ]
  },
  {
   "cell_type": "code",
   "execution_count": null,
   "metadata": {
    "scrolled": true,
    "tags": []
   },
   "outputs": [],
   "source": [
    "Res_combined "
   ]
  },
  {
   "cell_type": "code",
   "execution_count": null,
   "metadata": {},
   "outputs": [],
   "source": [
    "Res_combined <- Res_combined %>% mutate(source = factor(source, levels = c('AvrRpt2-6h', 'AvrRpt2-12h', 'AvrRpt2-20h',\n",
    "        'AvrRps4-6h', 'AvrRps4-12h', 'AvrRps4-20h',   'DM10/DM11',  'DM1/DM2d',  'DM6/DM7',\n",
    "        'DM1/DM2d_adr1s', 'DM6/DM7_adr1s', 'Col-0_adr1s')))"
   ]
  },
  {
   "cell_type": "code",
   "execution_count": null,
   "metadata": {},
   "outputs": [],
   "source": [
    "module_n <- node_data %>%  mutate(module = paste0('ME', module )) %>% \n",
    "    mutate(module = factor(module, levels = rownames(moduleTraitCor) %>% rev))%>% \n",
    "    group_by(module) %>% summarise(n =n())\n",
    "module_list <- split(module_n$n, module_n$module)\n",
    "names(module_list) <- module_n$module\n",
    "module_list"
   ]
  },
  {
   "cell_type": "code",
   "execution_count": null,
   "metadata": {},
   "outputs": [],
   "source": [
    "rownames(moduleTraitCor)"
   ]
  },
  {
   "cell_type": "code",
   "execution_count": null,
   "metadata": {
    "scrolled": true,
    "tags": []
   },
   "outputs": [],
   "source": [
    "Res_combined  %>% filter(module == 'MEdarkred')"
   ]
  },
  {
   "cell_type": "code",
   "execution_count": null,
   "metadata": {
    "scrolled": true,
    "tags": []
   },
   "outputs": [],
   "source": [
    "module_trait_n"
   ]
  },
  {
   "cell_type": "code",
   "execution_count": null,
   "metadata": {
    "scrolled": true,
    "tags": []
   },
   "outputs": [],
   "source": [
    "Res_combined <- Res_combined %>% left_join(module_trait_n, by = c('module' = 'Module') )"
   ]
  },
  {
   "cell_type": "code",
   "execution_count": null,
   "metadata": {
    "scrolled": true,
    "tags": []
   },
   "outputs": [],
   "source": [
    "Res_combined %>% mutate(Module_n = Module_n %>% str_replace('\\n', ' '))"
   ]
  },
  {
   "cell_type": "code",
   "execution_count": null,
   "metadata": {},
   "outputs": [],
   "source": [
    "#factor column Module_n as module #\n",
    "Res_combined <- Res_combined %>%\n",
    "  arrange(module) %>%\n",
    "  mutate(Module_n = forcats::fct_inorder(as.character(Module_n)))"
   ]
  },
  {
   "cell_type": "code",
   "execution_count": null,
   "metadata": {},
   "outputs": [],
   "source": [
    "Res_combined %>% pull(module) %>% unique"
   ]
  },
  {
   "cell_type": "code",
   "execution_count": null,
   "metadata": {},
   "outputs": [],
   "source": [
    "module_colors <- list(\n",
    "  \"MEmidnightblue\" = \"#00009C\",  # Substitute with your desired colors\n",
    "  \"MEdarkgreen\" = \"#006400\",\n",
    "  \"MEtan\" = \"#D2B48C\",\n",
    "  \"MEsalmon\" = \"#FA8072\",\n",
    "  \"MEgreenyellow\" = \"#ADFF2F\",\n",
    "  \"MEdarkred\" = \"#8B0000\",\n",
    "  \"MEcyan\" = \"#00FFFF\",\n",
    "  \"MEdarkturquoise\" = \"#00CED1\",\n",
    "  \"MEpurple\" = \"#800080\",\n",
    "  \"MEblue\" = \"#0000FF\"\n",
    ")\n"
   ]
  },
  {
   "cell_type": "code",
   "execution_count": null,
   "metadata": {
    "tags": []
   },
   "outputs": [],
   "source": [
    "width_ = 8.2\n",
    "height_ = 7\n",
    "options(repr.plot.width= width_ , repr.plot.height= height_ , repr.plot.res = 100)\n",
    "\n",
    "library(RColorBrewer)\n",
    "plot <- Res_combined %>% ggplot(aes(x = source, y = AGI, fill = log2FC)) +\n",
    "    geom_tile() +\n",
    "    scale_fill_gradientn(\n",
    "        colors = colorRampPalette(rev(c( '#e34c4b', 'white', '#5453e0' )))(30),\n",
    "        limits = c(-3, 3),\n",
    "        guide = guide_colorbar(title = \"log2FC\", title.position = \"top\", title.hjust = 0.5),\n",
    "        oob = scales::oob_squish # out of limit values use max or min color\n",
    "    )  +\n",
    "    facet_grid(Module_n ~ ., scales = \"free_y\", space = \"free_y\") + \n",
    "    theme(\n",
    "        text = element_text(face=\"bold\", size=14,  family = 'Helvetica'),\n",
    "        axis.text.y = element_blank(),\n",
    "        axis.line  = element_blank(),\n",
    "        axis.text.x = element_text(angle = 45, hjust = 1),\n",
    "        axis.title = element_blank(),\n",
    "        axis.ticks = element_blank(),\n",
    "         strip.text.y = element_text(angle = 0),  # Make facet labels horizontal\n",
    "        panel.spacing = unit(0.2, \"lines\") ## spacing between facets\n",
    "    ) \n",
    "\n",
    "module_list_sqrt <- lapply(module_list, sqrt) #some modules too few genes\n",
    "module_list_sqrt_plus <- lapply(module_list_sqrt, function(x) x + 6)\n",
    "\n",
    "plot1 <- plot + force_panelsizes(rows = module_list_sqrt_plus)\n",
    "plot1\n",
    "# plot1 %>% ggsave(file = paste0(plots_path, 'heatmap', Sys.time(), '.pdf'), height = 8, width = 8.3)\n",
    "plot1 %>% ggsave(file = paste0(plots_path, 'heatmap', Sys.time(), '.pdf'), width = width_, height = height_ )\n",
    "plot1 %>% ggsave(file = paste0(plots_path, 'heatmap', Sys.time(), '.png'), width = width_, height = height_ , dpi = 1200)"
   ]
  },
  {
   "cell_type": "code",
   "execution_count": null,
   "metadata": {
    "tags": []
   },
   "outputs": [],
   "source": [
    "module_list"
   ]
  },
  {
   "cell_type": "code",
   "execution_count": null,
   "metadata": {},
   "outputs": [],
   "source": [
    "options(repr.plot.width= width_ , repr.plot.height= height_ , repr.plot.res = 50)\n",
    "\n",
    "library(RColorBrewer)\n",
    "plot <- Res_combined %>% ggplot(aes(x = source, y = AGI, fill = log2FC)) +\n",
    "    geom_tile() +\n",
    "    scale_fill_gradientn(\n",
    "        colors = colorRampPalette(rev(c( '#e34c4b', 'white', '#5453e0' )))(30),\n",
    "        limits = c(-3, 3),\n",
    "        guide = guide_colorbar(title = \"log2FC\", title.position = \"top\", title.hjust = 0.5, direction = \"horizontal\"),\n",
    "        oob = scales::oob_squish # out of limit values use max or min color\n",
    "    )  +\n",
    "    facet_grid(Module_n ~ ., scales = \"free_y\", space = \"free_y\") + \n",
    "    theme(\n",
    "        text = element_text(face=\"bold\", size=14,  family = 'Helvetica'),\n",
    "        axis.text.y = element_blank(),\n",
    "        axis.line  = element_blank(),\n",
    "        axis.text.x = element_text(angle = 45, hjust = 1),\n",
    "        axis.title = element_blank(),\n",
    "        axis.ticks = element_blank(),\n",
    "        strip.text.y = element_text(angle = 0),  # Make facet labels horizontal\n",
    "        panel.spacing = unit(0.2, \"lines\"), ## spacing between facets\n",
    "        legend.position = \"bottom\"\n",
    "    ) \n",
    "\n",
    "module_list_sqrt <- lapply(module_list, sqrt) #some modules too few genes\n",
    "module_list_sqrt_plus <- lapply(module_list_sqrt, function(x) x + 6)\n",
    "\n",
    "plot1 <- plot + force_panelsizes(rows = module_list_sqrt_plus)\n",
    "plot1\n",
    "# plot1 %>% ggsave(file = paste0(plots_path, 'heatmap', Sys.time(), '.pdf'), height = 8, width = 8.3)\n",
    "plot1 %>% ggsave(file = paste0(plots_path, 'heatmap', Sys.time(), '.pdf'), width = width_, height = height_ )\n"
   ]
  },
  {
   "cell_type": "code",
   "execution_count": null,
   "metadata": {},
   "outputs": [],
   "source": [
    "library(ggplot2)\n",
    "library(dplyr)\n",
    "\n",
    "# Create a data frame\n",
    "df <- data.frame(\n",
    "  module = names(module_list_sqrt_plus),\n",
    "  height = unlist(module_list_sqrt_plus),\n",
    "  color = unlist(module_colors)\n",
    ")\n",
    "\n",
    "# Reorder factor levels\n",
    "levels_order <- c('MEmidnightblue', 'MEdarkgreen', 'MEtan', 'MEsalmon', 'MEgreenyellow', 'MEdarkred', 'MEcyan', 'MEdarkturquoise', 'MEpurple', 'MEblue')\n",
    "df$module <- factor(df$module, levels = levels_order)\n",
    "\n",
    "# Compute y positions with a gap of 0.2 between each tile\n",
    "df <- df %>%\n",
    "  arrange(desc(module)) %>%\n",
    "  mutate(ymin = cumsum(height) - height,\n",
    "         ymax = cumsum(height) - 1.4)  # subtract 0.2 from ymax to create a space\n",
    "\n",
    "# Create the plot\n",
    "tiles <- ggplot(df, aes(fill = module, ymin = ymin, ymax = ymax)) +\n",
    "  geom_rect(aes(xmin = 2, xmax = 4)) +\n",
    "  scale_fill_manual(values = module_colors) +\n",
    "  theme_classic() \n",
    "\n",
    "tiles\n",
    "tiles %>% ggsave(file = paste0(plots_path, 'tiles', Sys.time(), '.pdf'), width = width_, height = height_ )\n"
   ]
  },
  {
   "cell_type": "code",
   "execution_count": null,
   "metadata": {},
   "outputs": [],
   "source": [
    "df %>% select(module, color)"
   ]
  },
  {
   "cell_type": "markdown",
   "metadata": {},
   "source": [
    "# biomart"
   ]
  },
  {
   "cell_type": "raw",
   "metadata": {
    "tags": []
   },
   "source": [
    "all_genes_info <- readRDS( '../gene_table_and_other_scripts/Ath_all_genes_info.rds')\n",
    "all_genes_info"
   ]
  },
  {
   "cell_type": "code",
   "execution_count": null,
   "metadata": {
    "scrolled": true,
    "tags": []
   },
   "outputs": [],
   "source": [
    "node_data_info <- node_data %>% mutate(module = paste0('ME', module )) %>% mutate(module = factor(module, levels = rownames(moduleTraitCor))) %>% left_join(map_id_name , by =c('gene' = 'gene_id'))"
   ]
  },
  {
   "cell_type": "code",
   "execution_count": null,
   "metadata": {
    "scrolled": true,
    "tags": []
   },
   "outputs": [],
   "source": [
    "connectivity_table_info <- connectivity_table %>% arrange(desc(connectivity_rowSums_adj)) %>% \n",
    "    mutate(module = paste0('ME', module ))  %>% select(-gene_name) %>%\n",
    "    left_join(map_id_name , by =c('gene' = 'gene_id'))"
   ]
  },
  {
   "cell_type": "code",
   "execution_count": null,
   "metadata": {
    "scrolled": true,
    "tags": []
   },
   "outputs": [],
   "source": [
    "connectivity_table_info <- connectivity_table_info %>% left_join (\n",
    "    Res_combined  %>% distinct() %>% pivot_wider(names_from = source, values_from = log2FC) %>% dplyr::select(-module,  -n, -Module_n),\n",
    "    by = c('gene' = 'AGI'))"
   ]
  },
  {
   "cell_type": "code",
   "execution_count": null,
   "metadata": {
    "scrolled": true,
    "tags": []
   },
   "outputs": [],
   "source": [
    "require(openxlsx)\n",
    "\n",
    "wb <- createWorkbook()\n",
    "for (i in connectivity_table_info %>% pull(module) %>% unique) {\n",
    "#     print(i)\n",
    "    addWorksheet(wb, i)\n",
    "    writeData(wb, i, connectivity_table_info %>% filter(module == i))\n",
    "    \n",
    "}\n",
    "saveWorkbook(wb, file = paste0(WGCNA_export_path, \"/connectivity_info.xlsx\"), overwrite = T)"
   ]
  },
  {
   "cell_type": "code",
   "execution_count": null,
   "metadata": {},
   "outputs": [],
   "source": [
    "connectivity_table_info %>% write.csv( paste0(WGCNA_export_path, \"/connectivity_info.csv\"), \n",
    "                                      row.names= F)"
   ]
  },
  {
   "cell_type": "code",
   "execution_count": null,
   "metadata": {},
   "outputs": [],
   "source": [
    "connectivity_table_info %>% filter(gene == 'AT4G14400')"
   ]
  },
  {
   "cell_type": "code",
   "execution_count": null,
   "metadata": {},
   "outputs": [],
   "source": [
    "connectivity_table_info %>% filter(gene == 'AT4G14390')"
   ]
  },
  {
   "cell_type": "code",
   "execution_count": null,
   "metadata": {
    "scrolled": true,
    "tags": []
   },
   "outputs": [],
   "source": [
    "library(biomaRt)\n",
    "# library(Biostrings)\n",
    "# library(BSgenome.Athaliana.TAIR.TAIR9)"
   ]
  },
  {
   "cell_type": "code",
   "execution_count": null,
   "metadata": {},
   "outputs": [],
   "source": [
    "# Specify the genes of interest\n",
    "genes_of_interest <- top_50_each_module$gene\n",
    "\n",
    "# Use the BioMart database\n",
    "plant_mart <- useMart(biomart = \"plants_mart\", host=\"https://plants.ensembl.org\")\n",
    "athaliana <- useDataset(\"athaliana_eg_gene\", mart = plant_mart)\n",
    "\n",
    "# Get the gene information\n",
    "gene_info <- getBM(attributes=c('ensembl_gene_id', 'chromosome_name', 'strand', 'start_position', 'end_position', 'transcription_start_site'),\n",
    "                   filters = 'ensembl_gene_id',\n",
    "                   values = genes_of_interest,\n",
    "                   mart = athaliana)\n",
    "\n",
    "# Separate dataframe by strand\n",
    "strand_positive <- gene_info %>% filter(strand == 1)\n",
    "strand_negative <- gene_info %>% filter(strand == -1)\n",
    "\n",
    "# For strand == 1, keep row with min transcription_start_site\n",
    "strand_positive <- strand_positive %>% \n",
    "  group_by(ensembl_gene_id) %>% \n",
    "  filter(transcription_start_site == min(transcription_start_site))\n",
    "\n",
    "# For strand == -1, keep row with max transcription_start_site\n",
    "strand_negative <- strand_negative %>% \n",
    "  group_by(ensembl_gene_id) %>% \n",
    "  filter(transcription_start_site == max(transcription_start_site))\n",
    "\n",
    "# Combine the dataframes\n",
    "gene_info_filtered <- bind_rows(strand_positive, strand_negative) %>%\n",
    "    filter(ensembl_gene_id %>% str_detect('AT\\\\dG'))"
   ]
  },
  {
   "cell_type": "code",
   "execution_count": null,
   "metadata": {},
   "outputs": [],
   "source": [
    "# Initialize an empty list to store the sequences\n",
    "sequences <- list()\n",
    "\n",
    "# Loop over the filtered gene info dataframe\n",
    "for (i in 1:nrow(gene_info_filtered)) {\n",
    "  # Get the current gene's info\n",
    "  current_gene <- gene_info_filtered[i, ]\n",
    "  \n",
    "  # Calculate the start and end positions\n",
    "  if (current_gene$strand == 1) {\n",
    "    start <- current_gene$transcription_start_site - 1799\n",
    "    end <- current_gene$transcription_start_site + 200\n",
    "  } else {\n",
    "    start <- current_gene$transcription_start_site - 200\n",
    "    end <- current_gene$transcription_start_site + 1799\n",
    "  }\n",
    "  \n",
    "  # Extract the sequence\n",
    "  sequence <- getSeq(BSgenome.Athaliana.TAIR.TAIR9, \n",
    "                     names = paste0(\"Chr\", current_gene$chromosome_name),\n",
    "                     start = start,\n",
    "                     end = end)\n",
    "  \n",
    "  # If the gene is on the negative strand, reverse complement the sequence\n",
    "  if (current_gene$strand == -1) {\n",
    "    sequence <- reverseComplement(sequence)\n",
    "  }\n",
    "  \n",
    "  # Add the sequence to the list, with the gene ID as the name\n",
    "  sequences[[current_gene$ensembl_gene_id]] <- sequence\n",
    "}\n",
    "\n",
    "# Convert the list to a DNAStringSet\n",
    "sequences_set <- DNAStringSet(unlist(sequences))\n",
    "\n",
    "# Add names to the DNAStringSet\n",
    "names(sequences_set) <- names(sequences)\n",
    "\n",
    "# Write the sequences to a FASTA file\n",
    "writeXStringSet(sequences_set, filepath = paste0(WGCNA_export_path, '/', \"promtoters.fasta\"))\n",
    "\n"
   ]
  },
  {
   "cell_type": "code",
   "execution_count": null,
   "metadata": {
    "scrolled": true,
    "tags": []
   },
   "outputs": [],
   "source": [
    "plantregmap_top50_each_module <- read.csv('./plantregmap/plantTFBS_fimo.txt', sep = '\\t') %>% \n",
    "    dplyr::select(1, 3) %>% dplyr::rename('TF' = 'X.pattern.name', 'target' = 'sequence.name' ) "
   ]
  },
  {
   "cell_type": "code",
   "execution_count": null,
   "metadata": {
    "scrolled": true,
    "tags": []
   },
   "outputs": [],
   "source": [
    "plantregmap_top50_each_module <- plantregmap_top50_each_module %>% semi_join(top_50_each_module, by = c('TF' = 'gene')) %>%\n",
    "    semi_join(top_50_each_module, by = c('target' = 'gene')) %>% group_by(TF, target) %>% \n",
    "    summarise(TF_weight = n()) %>% mutate(source = 'TF') \n",
    "\n",
    "  #  write.csv(paste0(WGCNA_export_path, 'TF_top50_each_module', \".csv\"), row.names = F, quote = F)"
   ]
  },
  {
   "cell_type": "code",
   "execution_count": null,
   "metadata": {
    "scrolled": true,
    "tags": []
   },
   "outputs": [],
   "source": [
    "plantregmap_top50_each_module %>% dplyr::rename('fromNode' = 'TF', 'toNode' = 'target') %>% \n",
    "    mutate(direction = 'directed', weight = NA)  %>% rbind(\n",
    "    top_50_each_module_edge %>% mutate(source = 'correlation', TF_weight = NA) %>%\n",
    "    dplyr::select(-toAltName, - fromAltName)\n",
    "    ) %>% write.csv(paste0(WGCNA_export_path,'/', 'TF+WGCNA_top50_each_module', \".csv\"), row.names = F, quote = F)"
   ]
  },
  {
   "cell_type": "markdown",
   "metadata": {
    "tags": []
   },
   "source": [
    "## NLRs LRRs in WGCNA modules"
   ]
  },
  {
   "cell_type": "code",
   "execution_count": null,
   "metadata": {},
   "outputs": [],
   "source": [
    "NLRs_and_TIRs <- read.csv(file = \"../gene_table_and_other_scripts/NLRs_and_TIR_only.csv\") %>%\n",
    "    dplyr::rename('GeneFamily' = 'Class')"
   ]
  },
  {
   "cell_type": "code",
   "execution_count": null,
   "metadata": {
    "scrolled": true,
    "tags": []
   },
   "outputs": [],
   "source": [
    "NLRs_and_TIRs_connectivity_table_info <- connectivity_table_info %>% semi_join(NLRs_and_TIRs, by = c('gene'= 'AGI')) %>%\n",
    "    left_join(NLRs_and_TIRs, by = c('gene'= 'AGI'))"
   ]
  },
  {
   "cell_type": "code",
   "execution_count": null,
   "metadata": {},
   "outputs": [],
   "source": [
    "require(openxlsx)\n",
    "\n",
    "NLRs_and_TIRs_connectivity_table_info %>% write.csv(paste0(WGCNA_export_path, '/','NLRs_and_TIRs_connectivity_table_info', \".csv\"), row.names = F, quote = F)\n",
    "\n",
    "wb <- createWorkbook()\n",
    "for (i in NLRs_and_TIRs_connectivity_table_info %>% pull(module) %>% unique) {\n",
    "#     print(i)\n",
    "    addWorksheet(wb, i)\n",
    "    writeData(wb, i, NLRs_and_TIRs_connectivity_table_info %>% filter(module == i) %>% arrange(GeneFamily))\n",
    "    \n",
    "}\n",
    "saveWorkbook(wb, file = paste0(WGCNA_export_path, \"/NLRs_and_TIRs_connectivity_table_info.xlsx\"), overwrite = T)"
   ]
  },
  {
   "cell_type": "raw",
   "metadata": {
    "tags": []
   },
   "source": [
    "connectivity_table_info %>% filter(gene %in% NLRs_AGI) %>% write.csv(file = paste0(WGCNA_export_path, \"/\", \"NLRs_in_connectivity_table.csv\"), row.names = F, quote = F)"
   ]
  },
  {
   "cell_type": "code",
   "execution_count": null,
   "metadata": {},
   "outputs": [],
   "source": []
  },
  {
   "cell_type": "code",
   "execution_count": null,
   "metadata": {
    "scrolled": true,
    "tags": []
   },
   "outputs": [],
   "source": [
    "Pathways_Ngou_2021 <- readxl::read_excel(\"../gene_table_and_other_scripts/Ngou_2021_Nature_figure2E_pathways_mod.xlsx\")"
   ]
  },
  {
   "cell_type": "code",
   "execution_count": null,
   "metadata": {
    "scrolled": true,
    "tags": []
   },
   "outputs": [],
   "source": [
    "Pathways <- Pathways_Ngou_2021 %>% dplyr::select(Target, GeneFamily)\n",
    "Pathways <- Pathways %>%as.data.frame  %>% dplyr::rename('AGI' = 'Target')\n",
    "LRRs <- Pathways %>% filter(GeneFamily %>% str_detect('LRR'))"
   ]
  },
  {
   "cell_type": "code",
   "execution_count": null,
   "metadata": {},
   "outputs": [],
   "source": [
    "connectivity_table_info %>% semi_join(LRRs, by = c('gene'= 'AGI')) %>%\n",
    "    left_join(LRRs, by = c('gene'= 'AGI'))  %>% write.csv(paste0(WGCNA_export_path, '/','LRRs_connectivity_table_info', \".csv\"), row.names = F, quote = F)"
   ]
  },
  {
   "cell_type": "code",
   "execution_count": null,
   "metadata": {},
   "outputs": [],
   "source": []
  }
 ],
 "metadata": {
  "kernelspec": {
   "display_name": "R [conda env:work2] *",
   "language": "R",
   "name": "conda-env-work2-r"
  },
  "language_info": {
   "codemirror_mode": "r",
   "file_extension": ".r",
   "mimetype": "text/x-r-source",
   "name": "R",
   "pygments_lexer": "r",
   "version": "4.3.1"
  }
 },
 "nbformat": 4,
 "nbformat_minor": 4
}
