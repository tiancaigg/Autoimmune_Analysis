{
 "cells": [
  {
   "cell_type": "markdown",
   "metadata": {
    "tags": []
   },
   "source": [
    "# Load package, preppare data"
   ]
  },
  {
   "cell_type": "code",
   "execution_count": null,
   "metadata": {},
   "outputs": [],
   "source": []
  },
  {
   "cell_type": "code",
   "execution_count": 6,
   "metadata": {
    "scrolled": true,
    "tags": []
   },
   "outputs": [
    {
     "data": {
      "text/html": [
       "'R version 4.2.2 (2022-10-31)'"
      ],
      "text/latex": [
       "'R version 4.2.2 (2022-10-31)'"
      ],
      "text/markdown": [
       "'R version 4.2.2 (2022-10-31)'"
      ],
      "text/plain": [
       "[1] \"R version 4.2.2 (2022-10-31)\""
      ]
     },
     "metadata": {},
     "output_type": "display_data"
    },
    {
     "data": {
      "text/html": [
       "'/media/HDD2/donghui/Pathogen_JC14_3DM'"
      ],
      "text/latex": [
       "'/media/HDD2/donghui/Pathogen\\_JC14\\_3DM'"
      ],
      "text/markdown": [
       "'/media/HDD2/donghui/Pathogen_JC14_3DM'"
      ],
      "text/plain": [
       "[1] \"/media/HDD2/donghui/Pathogen_JC14_3DM\""
      ]
     },
     "metadata": {},
     "output_type": "display_data"
    }
   ],
   "source": [
    "R.version.string\n",
    "getwd()\n",
    "library('dplyr')\n",
    "library(\"DESeq2\")\n",
    "library('stringr')\n",
    "library('EnhancedVolcano')\n",
    "library('pheatmap')\n",
    "library(\"vsn\")\n",
    "library('tidyr')\n",
    "library('ggplot2')\n",
    "library(grid)\n",
    "library(gridExtra)\n",
    "library(ggh4x)\n"
   ]
  },
  {
   "cell_type": "code",
   "execution_count": 7,
   "metadata": {
    "scrolled": true,
    "tags": []
   },
   "outputs": [
    {
     "data": {
      "text/html": [
       "<table class=\"dataframe\">\n",
       "<caption>A tibble: 2 × 2</caption>\n",
       "<thead>\n",
       "\t<tr><th scope=col>gene_id</th><th scope=col>gene_name</th></tr>\n",
       "\t<tr><th scope=col>&lt;chr&gt;</th><th scope=col>&lt;chr&gt;</th></tr>\n",
       "</thead>\n",
       "<tbody>\n",
       "\t<tr><td>AT5G25230</td><td>AT5G25230</td></tr>\n",
       "\t<tr><td>AT5G04090</td><td>AT5G04090</td></tr>\n",
       "</tbody>\n",
       "</table>\n"
      ],
      "text/latex": [
       "A tibble: 2 × 2\n",
       "\\begin{tabular}{ll}\n",
       " gene\\_id & gene\\_name\\\\\n",
       " <chr> & <chr>\\\\\n",
       "\\hline\n",
       "\t AT5G25230 & AT5G25230\\\\\n",
       "\t AT5G04090 & AT5G04090\\\\\n",
       "\\end{tabular}\n"
      ],
      "text/markdown": [
       "\n",
       "A tibble: 2 × 2\n",
       "\n",
       "| gene_id &lt;chr&gt; | gene_name &lt;chr&gt; |\n",
       "|---|---|\n",
       "| AT5G25230 | AT5G25230 |\n",
       "| AT5G04090 | AT5G04090 |\n",
       "\n"
      ],
      "text/plain": [
       "  gene_id   gene_name\n",
       "1 AT5G25230 AT5G25230\n",
       "2 AT5G04090 AT5G04090"
      ]
     },
     "metadata": {},
     "output_type": "display_data"
    }
   ],
   "source": [
    "# Read the xlsx file\n",
    "map_id_name <- readxl::read_excel(\"../gene_table_and_other_scripts/gene_table.xlsx\")\n",
    "map_id_name <- map_id_name %>% mutate(gene_name = gene_name %>% str_remove(\"'\"))\n",
    "sample_n(map_id_name, 2)"
   ]
  },
  {
   "cell_type": "code",
   "execution_count": 8,
   "metadata": {
    "scrolled": true,
    "tags": []
   },
   "outputs": [],
   "source": [
    "source('../gene_table_and_other_scripts/theme_Publication.R')"
   ]
  },
  {
   "cell_type": "markdown",
   "metadata": {},
   "source": [
    "### sample data"
   ]
  },
  {
   "cell_type": "code",
   "execution_count": 11,
   "metadata": {
    "scrolled": true,
    "tags": []
   },
   "outputs": [
    {
     "data": {
      "text/html": [
       "<table class=\"dataframe\">\n",
       "<caption>A data.frame: 82 × 18</caption>\n",
       "<thead>\n",
       "\t<tr><th></th><th scope=col>short_name</th><th scope=col>sample_Names</th><th scope=col>genotype</th><th scope=col>tissue</th><th scope=col>DM</th><th scope=col>DAS</th><th scope=col>accession</th><th scope=col>media</th><th scope=col>replicate</th><th scope=col>Bam_name</th><th scope=col>ERS</th><th scope=col>ERR</th><th scope=col>group1</th><th scope=col>group2</th><th scope=col>group3</th><th scope=col>hpi</th><th scope=col>treatment</th><th scope=col>batch2</th></tr>\n",
       "\t<tr><th></th><th scope=col>&lt;chr&gt;</th><th scope=col>&lt;chr&gt;</th><th scope=col>&lt;chr&gt;</th><th scope=col>&lt;chr&gt;</th><th scope=col>&lt;chr&gt;</th><th scope=col>&lt;chr&gt;</th><th scope=col>&lt;chr&gt;</th><th scope=col>&lt;chr&gt;</th><th scope=col>&lt;chr&gt;</th><th scope=col>&lt;chr&gt;</th><th scope=col>&lt;chr&gt;</th><th scope=col>&lt;chr&gt;</th><th scope=col>&lt;chr&gt;</th><th scope=col>&lt;chr&gt;</th><th scope=col>&lt;chr&gt;</th><th scope=col>&lt;dbl&gt;</th><th scope=col>&lt;chr&gt;</th><th scope=col>&lt;dbl&gt;</th></tr>\n",
       "</thead>\n",
       "<tbody>\n",
       "\t<tr><th scope=row>DM1/DM2d_1</th><td>DM1/DM2d_1     </td><td>DM1/DM2d_Shoot_1</td><td>DM</td><td>Shoot</td><td>DM1/DM2d </td><td>12</td><td>Col-0    </td><td>1/2MS</td><td>1</td><td>DM2_SHOO  </td><td>NA        </td><td>NA        </td><td>DM1/DM2d_Shoot       </td><td>DM1/DM2d             </td><td>DM1/DM2d             </td><td>0</td><td>control</td><td>1</td></tr>\n",
       "\t<tr><th scope=row>Col-0_12_1</th><td>Col-0_12_1     </td><td>Col-0_Shoot_1   </td><td>WT</td><td>Shoot</td><td>WT       </td><td>12</td><td>Col-0    </td><td>1/2MS</td><td>1</td><td>COL4_SHO  </td><td>NA        </td><td>NA        </td><td>Col-0_Shoot          </td><td>Col-0_12             </td><td>Col-0_12             </td><td>0</td><td>control</td><td>1</td></tr>\n",
       "\t<tr><th scope=row>DM1/DM2d_2</th><td>DM1/DM2d_2     </td><td>DM1/DM2d_Shoot_2</td><td>DM</td><td>Shoot</td><td>DM1/DM2d </td><td>12</td><td>Col-0    </td><td>1/2MS</td><td>2</td><td>DM6_SHOO  </td><td>NA        </td><td>NA        </td><td>DM1/DM2d_Shoot       </td><td>DM1/DM2d             </td><td>DM1/DM2d             </td><td>0</td><td>control</td><td>1</td></tr>\n",
       "\t<tr><th scope=row>Col-0_12_2</th><td>Col-0_12_2     </td><td>Col-0_Shoot_2   </td><td>WT</td><td>Shoot</td><td>WT       </td><td>12</td><td>Col-0    </td><td>1/2MS</td><td>2</td><td>COL8_SHO  </td><td>NA        </td><td>NA        </td><td>Col-0_Shoot          </td><td>Col-0_12             </td><td>Col-0_12             </td><td>0</td><td>control</td><td>1</td></tr>\n",
       "\t<tr><th scope=row>DM1/DM2d_3</th><td>DM1/DM2d_3     </td><td>DM1/DM2d_Shoot_3</td><td>DM</td><td>Shoot</td><td>DM1/DM2d </td><td>12</td><td>Col-0    </td><td>1/2MS</td><td>3</td><td>DM14_SHO  </td><td>NA        </td><td>NA        </td><td>DM1/DM2d_Shoot       </td><td>DM1/DM2d             </td><td>DM1/DM2d             </td><td>0</td><td>control</td><td>1</td></tr>\n",
       "\t<tr><th scope=row>DM6/DM7_1</th><td>DM6/DM7_1      </td><td>DM6/DM7_Shoot_1 </td><td>DM</td><td>Shoot</td><td>DM6/DM7  </td><td>14</td><td>Col-0    </td><td>1/2MS</td><td>1</td><td>12-LCH3315</td><td>NA        </td><td>NA        </td><td>DM6/DM7_Shoot        </td><td>DM6/DM7              </td><td>DM6/DM7              </td><td>0</td><td>control</td><td>2</td></tr>\n",
       "\t<tr><th scope=row>Col-0_14_1</th><td>Col-0_14_1     </td><td>Col-0_Shoot_1   </td><td>WT</td><td>Shoot</td><td>WT       </td><td>14</td><td>Col-0    </td><td>1/2MS</td><td>1</td><td>14-LCH3317</td><td>NA        </td><td>NA        </td><td>Col-0_Shoot          </td><td>Col-0_14             </td><td>Col-0_14             </td><td>0</td><td>control</td><td>2</td></tr>\n",
       "\t<tr><th scope=row>DM6/DM7_2</th><td>DM6/DM7_2      </td><td>DM6/DM7_Shoot_2 </td><td>DM</td><td>Shoot</td><td>DM6/DM7  </td><td>14</td><td>Col-0    </td><td>1/2MS</td><td>2</td><td>16-LCH3319</td><td>NA        </td><td>NA        </td><td>DM6/DM7_Shoot        </td><td>DM6/DM7              </td><td>DM6/DM7              </td><td>0</td><td>control</td><td>2</td></tr>\n",
       "\t<tr><th scope=row>Col-0_14_2</th><td>Col-0_14_2     </td><td>Col-0_Shoot_2   </td><td>WT</td><td>Shoot</td><td>WT       </td><td>14</td><td>Col-0    </td><td>1/2MS</td><td>2</td><td>18-LCH3321</td><td>NA        </td><td>NA        </td><td>Col-0_Shoot          </td><td>Col-0_14             </td><td>Col-0_14             </td><td>0</td><td>control</td><td>2</td></tr>\n",
       "\t<tr><th scope=row>DM6/DM7_3</th><td>DM6/DM7_3      </td><td>DM6/DM7_Shoot_3 </td><td>DM</td><td>Shoot</td><td>DM6/DM7  </td><td>14</td><td>Col-0    </td><td>1/2MS</td><td>3</td><td>22-LCH3323</td><td>NA        </td><td>NA        </td><td>DM6/DM7_Shoot        </td><td>DM6/DM7              </td><td>DM6/DM7              </td><td>0</td><td>control</td><td>2</td></tr>\n",
       "\t<tr><th scope=row>Col-0_14_3</th><td>Col-0_14_3     </td><td>Col-0_Shoot_3   </td><td>WT</td><td>Shoot</td><td>WT       </td><td>14</td><td>Col-0    </td><td>1/2MS</td><td>3</td><td>28-LCH3325</td><td>NA        </td><td>NA        </td><td>Col-0_Shoot          </td><td>Col-0_14             </td><td>Col-0_14             </td><td>0</td><td>control</td><td>2</td></tr>\n",
       "\t<tr><th scope=row>DM10/DM11_6</th><td>DM10/DM11_6    </td><td>DM10/DM11_6     </td><td>DM</td><td>Shoot</td><td>DM10/DM11</td><td>10</td><td>DM10/DM11</td><td>Soil </td><td>6</td><td>ERR4138667</td><td>ERS4555963</td><td>ERR4138667</td><td>DM10/DM11            </td><td>DM10/DM11            </td><td>DM10/DM11            </td><td>0</td><td>control</td><td>3</td></tr>\n",
       "\t<tr><th scope=row>DM10/DM11_5</th><td>DM10/DM11_5    </td><td>DM10/DM11_5     </td><td>DM</td><td>Shoot</td><td>DM10/DM11</td><td>10</td><td>DM10/DM11</td><td>Soil </td><td>5</td><td>ERR4138668</td><td>ERS4555962</td><td>ERR4138668</td><td>DM10/DM11            </td><td>DM10/DM11            </td><td>DM10/DM11            </td><td>0</td><td>control</td><td>3</td></tr>\n",
       "\t<tr><th scope=row>DM10/DM11_4</th><td>DM10/DM11_4    </td><td>DM10/DM11_4     </td><td>DM</td><td>Shoot</td><td>DM10/DM11</td><td>10</td><td>DM10/DM11</td><td>Soil </td><td>4</td><td>ERR4138669</td><td>ERS4555961</td><td>ERR4138669</td><td>DM10/DM11            </td><td>DM10/DM11            </td><td>DM10/DM11            </td><td>0</td><td>control</td><td>3</td></tr>\n",
       "\t<tr><th scope=row>DM10/DM11_3</th><td>DM10/DM11_3    </td><td>DM10/DM11_3     </td><td>DM</td><td>Shoot</td><td>DM10/DM11</td><td>10</td><td>DM10/DM11</td><td>Soil </td><td>3</td><td>ERR4138670</td><td>ERS4555960</td><td>ERR4138670</td><td>DM10/DM11            </td><td>DM10/DM11            </td><td>DM10/DM11            </td><td>0</td><td>control</td><td>3</td></tr>\n",
       "\t<tr><th scope=row>DM10/DM11_2</th><td>DM10/DM11_2    </td><td>DM10/DM11_2     </td><td>DM</td><td>Shoot</td><td>DM10/DM11</td><td>10</td><td>DM10/DM11</td><td>Soil </td><td>2</td><td>ERR4138671</td><td>ERS4555959</td><td>ERR4138671</td><td>DM10/DM11            </td><td>DM10/DM11            </td><td>DM10/DM11            </td><td>0</td><td>control</td><td>3</td></tr>\n",
       "\t<tr><th scope=row>DM10/DM11_1</th><td>DM10/DM11_1    </td><td>DM10/DM11_1     </td><td>DM</td><td>Shoot</td><td>DM10/DM11</td><td>10</td><td>DM10/DM11</td><td>Soil </td><td>1</td><td>ERR4138672</td><td>ERS4555958</td><td>ERR4138672</td><td>DM10/DM11            </td><td>DM10/DM11            </td><td>DM10/DM11            </td><td>0</td><td>control</td><td>3</td></tr>\n",
       "\t<tr><th scope=row>Tuescha-9_6</th><td>Tuescha-9_6    </td><td>Tuescha-9_6     </td><td>WT</td><td>Shoot</td><td>WT       </td><td>10</td><td>Tuescha-9</td><td>Soil </td><td>6</td><td>ERR4138673</td><td>ERS4555957</td><td>ERR4138673</td><td>Tuescha-9            </td><td>Tuescha-9            </td><td>Parents_DM10_DM11    </td><td>0</td><td>control</td><td>3</td></tr>\n",
       "\t<tr><th scope=row>Tuescha-9_5</th><td>Tuescha-9_5    </td><td>Tuescha-9_5     </td><td>WT</td><td>Shoot</td><td>WT       </td><td>10</td><td>Tuescha-9</td><td>Soil </td><td>5</td><td>ERR4138674</td><td>ERS4555956</td><td>ERR4138674</td><td>Tuescha-9            </td><td>Tuescha-9            </td><td>Parents_DM10_DM11    </td><td>0</td><td>control</td><td>3</td></tr>\n",
       "\t<tr><th scope=row>Tuescha-9_4</th><td>Tuescha-9_4    </td><td>Tuescha-9_4     </td><td>WT</td><td>Shoot</td><td>WT       </td><td>10</td><td>Tuescha-9</td><td>Soil </td><td>4</td><td>ERR4138675</td><td>ERS4555955</td><td>ERR4138675</td><td>Tuescha-9            </td><td>Tuescha-9            </td><td>Parents_DM10_DM11    </td><td>0</td><td>control</td><td>3</td></tr>\n",
       "\t<tr><th scope=row>Tuescha-9_3</th><td>Tuescha-9_3    </td><td>Tuescha-9_3     </td><td>WT</td><td>Shoot</td><td>WT       </td><td>10</td><td>Tuescha-9</td><td>Soil </td><td>3</td><td>ERR4138676</td><td>ERS4555954</td><td>ERR4138676</td><td>Tuescha-9            </td><td>Tuescha-9            </td><td>Parents_DM10_DM11    </td><td>0</td><td>control</td><td>3</td></tr>\n",
       "\t<tr><th scope=row>Tuescha-9_2</th><td>Tuescha-9_2    </td><td>Tuescha-9_2     </td><td>WT</td><td>Shoot</td><td>WT       </td><td>10</td><td>Tuescha-9</td><td>Soil </td><td>2</td><td>ERR4138677</td><td>ERS4555953</td><td>ERR4138677</td><td>Tuescha-9            </td><td>Tuescha-9            </td><td>Parents_DM10_DM11    </td><td>0</td><td>control</td><td>3</td></tr>\n",
       "\t<tr><th scope=row>Tuescha-9_1</th><td>Tuescha-9_1    </td><td>Tuescha-9_1     </td><td>WT</td><td>Shoot</td><td>WT       </td><td>10</td><td>Tuescha-9</td><td>Soil </td><td>1</td><td>ERR4138678</td><td>ERS4555952</td><td>ERR4138678</td><td>Tuescha-9            </td><td>Tuescha-9            </td><td>Parents_DM10_DM11    </td><td>0</td><td>control</td><td>3</td></tr>\n",
       "\t<tr><th scope=row>Cdm-0_6</th><td>Cdm-0_6        </td><td>Cdm-0_6         </td><td>WT</td><td>Shoot</td><td>WT       </td><td>10</td><td>Cdm-0    </td><td>Soil </td><td>6</td><td>ERR4138679</td><td>ERS4555951</td><td>ERR4138679</td><td>Cdm-0                </td><td>Cdm-0                </td><td>Parents_DM10_DM11    </td><td>0</td><td>control</td><td>3</td></tr>\n",
       "\t<tr><th scope=row>Cdm-0_5</th><td>Cdm-0_5        </td><td>Cdm-0_5         </td><td>WT</td><td>Shoot</td><td>WT       </td><td>10</td><td>Cdm-0    </td><td>Soil </td><td>5</td><td>ERR4138680</td><td>ERS4555950</td><td>ERR4138680</td><td>Cdm-0                </td><td>Cdm-0                </td><td>Parents_DM10_DM11    </td><td>0</td><td>control</td><td>3</td></tr>\n",
       "\t<tr><th scope=row>Cdm-0_4</th><td>Cdm-0_4        </td><td>Cdm-0_4         </td><td>WT</td><td>Shoot</td><td>WT       </td><td>10</td><td>Cdm-0    </td><td>Soil </td><td>4</td><td>ERR4138681</td><td>ERS4555949</td><td>ERR4138681</td><td>Cdm-0                </td><td>Cdm-0                </td><td>Parents_DM10_DM11    </td><td>0</td><td>control</td><td>3</td></tr>\n",
       "\t<tr><th scope=row>Cdm-0_3</th><td>Cdm-0_3        </td><td>Cdm-0_3         </td><td>WT</td><td>Shoot</td><td>WT       </td><td>10</td><td>Cdm-0    </td><td>Soil </td><td>3</td><td>ERR4138682</td><td>ERS4555948</td><td>ERR4138682</td><td>Cdm-0                </td><td>Cdm-0                </td><td>Parents_DM10_DM11    </td><td>0</td><td>control</td><td>3</td></tr>\n",
       "\t<tr><th scope=row>Cdm-0_2</th><td>Cdm-0_2        </td><td>Cdm-0_2         </td><td>WT</td><td>Shoot</td><td>WT       </td><td>10</td><td>Cdm-0    </td><td>Soil </td><td>2</td><td>ERR4138683</td><td>ERS4555947</td><td>ERR4138683</td><td>Cdm-0                </td><td>Cdm-0                </td><td>Parents_DM10_DM11    </td><td>0</td><td>control</td><td>3</td></tr>\n",
       "\t<tr><th scope=row>Cdm-0_1</th><td>Cdm-0_1        </td><td>Cdm-0_1         </td><td>WT</td><td>Shoot</td><td>WT       </td><td>10</td><td>Cdm-0    </td><td>Soil </td><td>1</td><td>ERR4138684</td><td>ERS4555946</td><td>ERR4138684</td><td>Cdm-0                </td><td>Cdm-0                </td><td>Parents_DM10_DM11    </td><td>0</td><td>control</td><td>3</td></tr>\n",
       "\t<tr><th scope=row>DM1/DM2d_Root_1</th><td>DM1/DM2d_Root_1</td><td>DM1/DM2d_Root_1 </td><td>DM</td><td>Root </td><td>DM1_DM2d </td><td>12</td><td>Col-0    </td><td>1/2MS</td><td>1</td><td>DM1_ROOT  </td><td>NA        </td><td>NA        </td><td>DM1/DM2d_Root_1_12DAG</td><td>DM1/DM2d_Root_1_12DAG</td><td>DM1/DM2d_Root_1_12DAG</td><td>2</td><td>control</td><td>1</td></tr>\n",
       "\t<tr><th scope=row>⋮</th><td>⋮</td><td>⋮</td><td>⋮</td><td>⋮</td><td>⋮</td><td>⋮</td><td>⋮</td><td>⋮</td><td>⋮</td><td>⋮</td><td>⋮</td><td>⋮</td><td>⋮</td><td>⋮</td><td>⋮</td><td>⋮</td><td>⋮</td><td>⋮</td></tr>\n",
       "\t<tr><th scope=row>C-A</th><td>C-A  </td><td>C-A  </td><td>WT</td><td>Shoot</td><td>WT</td><td>12</td><td>Col-0</td><td>1/2MS</td><td>1</td><td>C-A  </td><td>NA</td><td>NA</td><td>control</td><td>control    </td><td>control    </td><td> 0</td><td>control</td><td>5</td></tr>\n",
       "\t<tr><th scope=row>C-B</th><td>C-B  </td><td>C-B  </td><td>WT</td><td>Shoot</td><td>WT</td><td>12</td><td>Col-0</td><td>1/2MS</td><td>2</td><td>C-B  </td><td>NA</td><td>NA</td><td>control</td><td>control    </td><td>control    </td><td> 0</td><td>control</td><td>5</td></tr>\n",
       "\t<tr><th scope=row>C-C</th><td>C-C  </td><td>C-C  </td><td>WT</td><td>Shoot</td><td>WT</td><td>12</td><td>Col-0</td><td>1/2MS</td><td>3</td><td>C-C  </td><td>NA</td><td>NA</td><td>control</td><td>control    </td><td>control    </td><td> 0</td><td>control</td><td>5</td></tr>\n",
       "\t<tr><th scope=row>M6-A</th><td>M6-A </td><td>M6-A </td><td>WT</td><td>Shoot</td><td>WT</td><td>12</td><td>Col-0</td><td>1/2MS</td><td>1</td><td>M6-A </td><td>NA</td><td>NA</td><td>Mock   </td><td>Mock-6h    </td><td>Mock-6h    </td><td> 6</td><td>Mock   </td><td>5</td></tr>\n",
       "\t<tr><th scope=row>M6-B</th><td>M6-B </td><td>M6-B </td><td>WT</td><td>Shoot</td><td>WT</td><td>12</td><td>Col-0</td><td>1/2MS</td><td>2</td><td>M6-B </td><td>NA</td><td>NA</td><td>Mock   </td><td>Mock-6h    </td><td>Mock-6h    </td><td> 6</td><td>Mock   </td><td>5</td></tr>\n",
       "\t<tr><th scope=row>M6-C</th><td>M6-C </td><td>M6-C </td><td>WT</td><td>Shoot</td><td>WT</td><td>12</td><td>Col-0</td><td>1/2MS</td><td>3</td><td>M6-C </td><td>NA</td><td>NA</td><td>Mock   </td><td>Mock-6h    </td><td>Mock-6h    </td><td> 6</td><td>Mock   </td><td>5</td></tr>\n",
       "\t<tr><th scope=row>R6-A</th><td>R6-A </td><td>R6-A </td><td>WT</td><td>Shoot</td><td>WT</td><td>12</td><td>Col-0</td><td>1/2MS</td><td>1</td><td>R6-A </td><td>NA</td><td>NA</td><td>AvrRpt2</td><td>AvrRpt2-6h </td><td>AvrRpt2-6h </td><td> 6</td><td>AvrRpt2</td><td>5</td></tr>\n",
       "\t<tr><th scope=row>R6-B</th><td>R6-B </td><td>R6-B </td><td>WT</td><td>Shoot</td><td>WT</td><td>12</td><td>Col-0</td><td>1/2MS</td><td>2</td><td>R6-B </td><td>NA</td><td>NA</td><td>AvrRpt2</td><td>AvrRpt2-6h </td><td>AvrRpt2-6h </td><td> 6</td><td>AvrRpt2</td><td>5</td></tr>\n",
       "\t<tr><th scope=row>R6-C</th><td>R6-C </td><td>R6-C </td><td>WT</td><td>Shoot</td><td>WT</td><td>12</td><td>Col-0</td><td>1/2MS</td><td>3</td><td>R6-C </td><td>NA</td><td>NA</td><td>AvrRpt2</td><td>AvrRpt2-6h </td><td>AvrRpt2-6h </td><td> 6</td><td>AvrRpt2</td><td>5</td></tr>\n",
       "\t<tr><th scope=row>S6-A</th><td>S6-A </td><td>S6-A </td><td>WT</td><td>Shoot</td><td>WT</td><td>12</td><td>Col-0</td><td>1/2MS</td><td>1</td><td>S6-A </td><td>NA</td><td>NA</td><td>AvrRps4</td><td>AvrRps4-6h </td><td>AvrRps4-6h </td><td> 6</td><td>AvrRps4</td><td>5</td></tr>\n",
       "\t<tr><th scope=row>S6-B</th><td>S6-B </td><td>S6-B </td><td>WT</td><td>Shoot</td><td>WT</td><td>12</td><td>Col-0</td><td>1/2MS</td><td>2</td><td>S6-B </td><td>NA</td><td>NA</td><td>AvrRps4</td><td>AvrRps4-6h </td><td>AvrRps4-6h </td><td> 6</td><td>AvrRps4</td><td>5</td></tr>\n",
       "\t<tr><th scope=row>S6-C</th><td>S6-C </td><td>S6-C </td><td>WT</td><td>Shoot</td><td>WT</td><td>12</td><td>Col-0</td><td>1/2MS</td><td>3</td><td>S6-C </td><td>NA</td><td>NA</td><td>AvrRps4</td><td>AvrRps4-6h </td><td>AvrRps4-6h </td><td> 6</td><td>AvrRps4</td><td>5</td></tr>\n",
       "\t<tr><th scope=row>M12-A</th><td>M12-A</td><td>M12-A</td><td>WT</td><td>Shoot</td><td>WT</td><td>12</td><td>Col-0</td><td>1/2MS</td><td>1</td><td>M12-A</td><td>NA</td><td>NA</td><td>Mock   </td><td>Mock-12h   </td><td>Mock-12h   </td><td>12</td><td>Mock   </td><td>5</td></tr>\n",
       "\t<tr><th scope=row>M12-B</th><td>M12-B</td><td>M12-B</td><td>WT</td><td>Shoot</td><td>WT</td><td>12</td><td>Col-0</td><td>1/2MS</td><td>2</td><td>M12-B</td><td>NA</td><td>NA</td><td>Mock   </td><td>Mock-12h   </td><td>Mock-12h   </td><td>12</td><td>Mock   </td><td>5</td></tr>\n",
       "\t<tr><th scope=row>M12-C</th><td>M12-C</td><td>M12-C</td><td>WT</td><td>Shoot</td><td>WT</td><td>12</td><td>Col-0</td><td>1/2MS</td><td>3</td><td>M12-C</td><td>NA</td><td>NA</td><td>Mock   </td><td>Mock-12h   </td><td>Mock-12h   </td><td>12</td><td>Mock   </td><td>5</td></tr>\n",
       "\t<tr><th scope=row>R12-A</th><td>R12-A</td><td>R12-A</td><td>WT</td><td>Shoot</td><td>WT</td><td>12</td><td>Col-0</td><td>1/2MS</td><td>1</td><td>R12-A</td><td>NA</td><td>NA</td><td>AvrRpt2</td><td>AvrRpt2-12h</td><td>AvrRpt2-12h</td><td>12</td><td>AvrRpt2</td><td>5</td></tr>\n",
       "\t<tr><th scope=row>R12-B</th><td>R12-B</td><td>R12-B</td><td>WT</td><td>Shoot</td><td>WT</td><td>12</td><td>Col-0</td><td>1/2MS</td><td>2</td><td>R12-B</td><td>NA</td><td>NA</td><td>AvrRpt2</td><td>AvrRpt2-12h</td><td>AvrRpt2-12h</td><td>12</td><td>AvrRpt2</td><td>5</td></tr>\n",
       "\t<tr><th scope=row>R12-C</th><td>R12-C</td><td>R12-C</td><td>WT</td><td>Shoot</td><td>WT</td><td>12</td><td>Col-0</td><td>1/2MS</td><td>3</td><td>R12-C</td><td>NA</td><td>NA</td><td>AvrRpt2</td><td>AvrRpt2-12h</td><td>AvrRpt2-12h</td><td>12</td><td>AvrRpt2</td><td>5</td></tr>\n",
       "\t<tr><th scope=row>S12-A</th><td>S12-A</td><td>S12-A</td><td>WT</td><td>Shoot</td><td>WT</td><td>12</td><td>Col-0</td><td>1/2MS</td><td>1</td><td>S12-A</td><td>NA</td><td>NA</td><td>AvrRps4</td><td>AvrRps4-12h</td><td>AvrRps4-12h</td><td>12</td><td>AvrRps4</td><td>5</td></tr>\n",
       "\t<tr><th scope=row>S12-B</th><td>S12-B</td><td>S12-B</td><td>WT</td><td>Shoot</td><td>WT</td><td>12</td><td>Col-0</td><td>1/2MS</td><td>2</td><td>S12-B</td><td>NA</td><td>NA</td><td>AvrRps4</td><td>AvrRps4-12h</td><td>AvrRps4-12h</td><td>12</td><td>AvrRps4</td><td>5</td></tr>\n",
       "\t<tr><th scope=row>S12-C</th><td>S12-C</td><td>S12-C</td><td>WT</td><td>Shoot</td><td>WT</td><td>12</td><td>Col-0</td><td>1/2MS</td><td>3</td><td>S12-C</td><td>NA</td><td>NA</td><td>AvrRps4</td><td>AvrRps4-12h</td><td>AvrRps4-12h</td><td>12</td><td>AvrRps4</td><td>5</td></tr>\n",
       "\t<tr><th scope=row>M20-A</th><td>M20-A</td><td>M20-A</td><td>WT</td><td>Shoot</td><td>WT</td><td>13</td><td>Col-0</td><td>1/2MS</td><td>1</td><td>M20-A</td><td>NA</td><td>NA</td><td>Mock   </td><td>Mock-20h   </td><td>Mock-20h   </td><td>20</td><td>Mock   </td><td>5</td></tr>\n",
       "\t<tr><th scope=row>M20-B</th><td>M20-B</td><td>M20-B</td><td>WT</td><td>Shoot</td><td>WT</td><td>13</td><td>Col-0</td><td>1/2MS</td><td>2</td><td>M20-B</td><td>NA</td><td>NA</td><td>Mock   </td><td>Mock-20h   </td><td>Mock-20h   </td><td>20</td><td>Mock   </td><td>5</td></tr>\n",
       "\t<tr><th scope=row>M20-C</th><td>M20-C</td><td>M20-C</td><td>WT</td><td>Shoot</td><td>WT</td><td>13</td><td>Col-0</td><td>1/2MS</td><td>3</td><td>M20-C</td><td>NA</td><td>NA</td><td>Mock   </td><td>Mock-20h   </td><td>Mock-20h   </td><td>20</td><td>Mock   </td><td>5</td></tr>\n",
       "\t<tr><th scope=row>R20-A</th><td>R20-A</td><td>R20-A</td><td>WT</td><td>Shoot</td><td>WT</td><td>13</td><td>Col-0</td><td>1/2MS</td><td>1</td><td>R20-A</td><td>NA</td><td>NA</td><td>AvrRpt2</td><td>AvrRpt2-20h</td><td>AvrRpt2-20h</td><td>20</td><td>AvrRpt2</td><td>5</td></tr>\n",
       "\t<tr><th scope=row>R20-B</th><td>R20-B</td><td>R20-B</td><td>WT</td><td>Shoot</td><td>WT</td><td>13</td><td>Col-0</td><td>1/2MS</td><td>2</td><td>R20-B</td><td>NA</td><td>NA</td><td>AvrRpt2</td><td>AvrRpt2-20h</td><td>AvrRpt2-20h</td><td>20</td><td>AvrRpt2</td><td>5</td></tr>\n",
       "\t<tr><th scope=row>R20-C</th><td>R20-C</td><td>R20-C</td><td>WT</td><td>Shoot</td><td>WT</td><td>13</td><td>Col-0</td><td>1/2MS</td><td>3</td><td>R20-C</td><td>NA</td><td>NA</td><td>AvrRpt2</td><td>AvrRpt2-20h</td><td>AvrRpt2-20h</td><td>20</td><td>AvrRpt2</td><td>5</td></tr>\n",
       "\t<tr><th scope=row>S20-A</th><td>S20-A</td><td>S20-A</td><td>WT</td><td>Shoot</td><td>WT</td><td>13</td><td>Col-0</td><td>1/2MS</td><td>1</td><td>S20-A</td><td>NA</td><td>NA</td><td>AvrRps4</td><td>AvrRps4-20h</td><td>AvrRps4-20h</td><td>20</td><td>AvrRps4</td><td>5</td></tr>\n",
       "\t<tr><th scope=row>S20-B</th><td>S20-B</td><td>S20-B</td><td>WT</td><td>Shoot</td><td>WT</td><td>13</td><td>Col-0</td><td>1/2MS</td><td>2</td><td>S20-B</td><td>NA</td><td>NA</td><td>AvrRps4</td><td>AvrRps4-20h</td><td>AvrRps4-20h</td><td>20</td><td>AvrRps4</td><td>5</td></tr>\n",
       "\t<tr><th scope=row>S20-C</th><td>S20-C</td><td>S20-C</td><td>WT</td><td>Shoot</td><td>WT</td><td>13</td><td>Col-0</td><td>1/2MS</td><td>3</td><td>S20-C</td><td>NA</td><td>NA</td><td>AvrRps4</td><td>AvrRps4-20h</td><td>AvrRps4-20h</td><td>20</td><td>AvrRps4</td><td>5</td></tr>\n",
       "</tbody>\n",
       "</table>\n"
      ],
      "text/latex": [
       "A data.frame: 82 × 18\n",
       "\\begin{tabular}{r|llllllllllllllllll}\n",
       "  & short\\_name & sample\\_Names & genotype & tissue & DM & DAS & accession & media & replicate & Bam\\_name & ERS & ERR & group1 & group2 & group3 & hpi & treatment & batch2\\\\\n",
       "  & <chr> & <chr> & <chr> & <chr> & <chr> & <chr> & <chr> & <chr> & <chr> & <chr> & <chr> & <chr> & <chr> & <chr> & <chr> & <dbl> & <chr> & <dbl>\\\\\n",
       "\\hline\n",
       "\tDM1/DM2d\\_1 & DM1/DM2d\\_1      & DM1/DM2d\\_Shoot\\_1 & DM & Shoot & DM1/DM2d  & 12 & Col-0     & 1/2MS & 1 & DM2\\_SHOO   & NA         & NA         & DM1/DM2d\\_Shoot        & DM1/DM2d              & DM1/DM2d              & 0 & control & 1\\\\\n",
       "\tCol-0\\_12\\_1 & Col-0\\_12\\_1      & Col-0\\_Shoot\\_1    & WT & Shoot & WT        & 12 & Col-0     & 1/2MS & 1 & COL4\\_SHO   & NA         & NA         & Col-0\\_Shoot           & Col-0\\_12              & Col-0\\_12              & 0 & control & 1\\\\\n",
       "\tDM1/DM2d\\_2 & DM1/DM2d\\_2      & DM1/DM2d\\_Shoot\\_2 & DM & Shoot & DM1/DM2d  & 12 & Col-0     & 1/2MS & 2 & DM6\\_SHOO   & NA         & NA         & DM1/DM2d\\_Shoot        & DM1/DM2d              & DM1/DM2d              & 0 & control & 1\\\\\n",
       "\tCol-0\\_12\\_2 & Col-0\\_12\\_2      & Col-0\\_Shoot\\_2    & WT & Shoot & WT        & 12 & Col-0     & 1/2MS & 2 & COL8\\_SHO   & NA         & NA         & Col-0\\_Shoot           & Col-0\\_12              & Col-0\\_12              & 0 & control & 1\\\\\n",
       "\tDM1/DM2d\\_3 & DM1/DM2d\\_3      & DM1/DM2d\\_Shoot\\_3 & DM & Shoot & DM1/DM2d  & 12 & Col-0     & 1/2MS & 3 & DM14\\_SHO   & NA         & NA         & DM1/DM2d\\_Shoot        & DM1/DM2d              & DM1/DM2d              & 0 & control & 1\\\\\n",
       "\tDM6/DM7\\_1 & DM6/DM7\\_1       & DM6/DM7\\_Shoot\\_1  & DM & Shoot & DM6/DM7   & 14 & Col-0     & 1/2MS & 1 & 12-LCH3315 & NA         & NA         & DM6/DM7\\_Shoot         & DM6/DM7               & DM6/DM7               & 0 & control & 2\\\\\n",
       "\tCol-0\\_14\\_1 & Col-0\\_14\\_1      & Col-0\\_Shoot\\_1    & WT & Shoot & WT        & 14 & Col-0     & 1/2MS & 1 & 14-LCH3317 & NA         & NA         & Col-0\\_Shoot           & Col-0\\_14              & Col-0\\_14              & 0 & control & 2\\\\\n",
       "\tDM6/DM7\\_2 & DM6/DM7\\_2       & DM6/DM7\\_Shoot\\_2  & DM & Shoot & DM6/DM7   & 14 & Col-0     & 1/2MS & 2 & 16-LCH3319 & NA         & NA         & DM6/DM7\\_Shoot         & DM6/DM7               & DM6/DM7               & 0 & control & 2\\\\\n",
       "\tCol-0\\_14\\_2 & Col-0\\_14\\_2      & Col-0\\_Shoot\\_2    & WT & Shoot & WT        & 14 & Col-0     & 1/2MS & 2 & 18-LCH3321 & NA         & NA         & Col-0\\_Shoot           & Col-0\\_14              & Col-0\\_14              & 0 & control & 2\\\\\n",
       "\tDM6/DM7\\_3 & DM6/DM7\\_3       & DM6/DM7\\_Shoot\\_3  & DM & Shoot & DM6/DM7   & 14 & Col-0     & 1/2MS & 3 & 22-LCH3323 & NA         & NA         & DM6/DM7\\_Shoot         & DM6/DM7               & DM6/DM7               & 0 & control & 2\\\\\n",
       "\tCol-0\\_14\\_3 & Col-0\\_14\\_3      & Col-0\\_Shoot\\_3    & WT & Shoot & WT        & 14 & Col-0     & 1/2MS & 3 & 28-LCH3325 & NA         & NA         & Col-0\\_Shoot           & Col-0\\_14              & Col-0\\_14              & 0 & control & 2\\\\\n",
       "\tDM10/DM11\\_6 & DM10/DM11\\_6     & DM10/DM11\\_6      & DM & Shoot & DM10/DM11 & 10 & DM10/DM11 & Soil  & 6 & ERR4138667 & ERS4555963 & ERR4138667 & DM10/DM11             & DM10/DM11             & DM10/DM11             & 0 & control & 3\\\\\n",
       "\tDM10/DM11\\_5 & DM10/DM11\\_5     & DM10/DM11\\_5      & DM & Shoot & DM10/DM11 & 10 & DM10/DM11 & Soil  & 5 & ERR4138668 & ERS4555962 & ERR4138668 & DM10/DM11             & DM10/DM11             & DM10/DM11             & 0 & control & 3\\\\\n",
       "\tDM10/DM11\\_4 & DM10/DM11\\_4     & DM10/DM11\\_4      & DM & Shoot & DM10/DM11 & 10 & DM10/DM11 & Soil  & 4 & ERR4138669 & ERS4555961 & ERR4138669 & DM10/DM11             & DM10/DM11             & DM10/DM11             & 0 & control & 3\\\\\n",
       "\tDM10/DM11\\_3 & DM10/DM11\\_3     & DM10/DM11\\_3      & DM & Shoot & DM10/DM11 & 10 & DM10/DM11 & Soil  & 3 & ERR4138670 & ERS4555960 & ERR4138670 & DM10/DM11             & DM10/DM11             & DM10/DM11             & 0 & control & 3\\\\\n",
       "\tDM10/DM11\\_2 & DM10/DM11\\_2     & DM10/DM11\\_2      & DM & Shoot & DM10/DM11 & 10 & DM10/DM11 & Soil  & 2 & ERR4138671 & ERS4555959 & ERR4138671 & DM10/DM11             & DM10/DM11             & DM10/DM11             & 0 & control & 3\\\\\n",
       "\tDM10/DM11\\_1 & DM10/DM11\\_1     & DM10/DM11\\_1      & DM & Shoot & DM10/DM11 & 10 & DM10/DM11 & Soil  & 1 & ERR4138672 & ERS4555958 & ERR4138672 & DM10/DM11             & DM10/DM11             & DM10/DM11             & 0 & control & 3\\\\\n",
       "\tTuescha-9\\_6 & Tuescha-9\\_6     & Tuescha-9\\_6      & WT & Shoot & WT        & 10 & Tuescha-9 & Soil  & 6 & ERR4138673 & ERS4555957 & ERR4138673 & Tuescha-9             & Tuescha-9             & Parents\\_DM10\\_DM11     & 0 & control & 3\\\\\n",
       "\tTuescha-9\\_5 & Tuescha-9\\_5     & Tuescha-9\\_5      & WT & Shoot & WT        & 10 & Tuescha-9 & Soil  & 5 & ERR4138674 & ERS4555956 & ERR4138674 & Tuescha-9             & Tuescha-9             & Parents\\_DM10\\_DM11     & 0 & control & 3\\\\\n",
       "\tTuescha-9\\_4 & Tuescha-9\\_4     & Tuescha-9\\_4      & WT & Shoot & WT        & 10 & Tuescha-9 & Soil  & 4 & ERR4138675 & ERS4555955 & ERR4138675 & Tuescha-9             & Tuescha-9             & Parents\\_DM10\\_DM11     & 0 & control & 3\\\\\n",
       "\tTuescha-9\\_3 & Tuescha-9\\_3     & Tuescha-9\\_3      & WT & Shoot & WT        & 10 & Tuescha-9 & Soil  & 3 & ERR4138676 & ERS4555954 & ERR4138676 & Tuescha-9             & Tuescha-9             & Parents\\_DM10\\_DM11     & 0 & control & 3\\\\\n",
       "\tTuescha-9\\_2 & Tuescha-9\\_2     & Tuescha-9\\_2      & WT & Shoot & WT        & 10 & Tuescha-9 & Soil  & 2 & ERR4138677 & ERS4555953 & ERR4138677 & Tuescha-9             & Tuescha-9             & Parents\\_DM10\\_DM11     & 0 & control & 3\\\\\n",
       "\tTuescha-9\\_1 & Tuescha-9\\_1     & Tuescha-9\\_1      & WT & Shoot & WT        & 10 & Tuescha-9 & Soil  & 1 & ERR4138678 & ERS4555952 & ERR4138678 & Tuescha-9             & Tuescha-9             & Parents\\_DM10\\_DM11     & 0 & control & 3\\\\\n",
       "\tCdm-0\\_6 & Cdm-0\\_6         & Cdm-0\\_6          & WT & Shoot & WT        & 10 & Cdm-0     & Soil  & 6 & ERR4138679 & ERS4555951 & ERR4138679 & Cdm-0                 & Cdm-0                 & Parents\\_DM10\\_DM11     & 0 & control & 3\\\\\n",
       "\tCdm-0\\_5 & Cdm-0\\_5         & Cdm-0\\_5          & WT & Shoot & WT        & 10 & Cdm-0     & Soil  & 5 & ERR4138680 & ERS4555950 & ERR4138680 & Cdm-0                 & Cdm-0                 & Parents\\_DM10\\_DM11     & 0 & control & 3\\\\\n",
       "\tCdm-0\\_4 & Cdm-0\\_4         & Cdm-0\\_4          & WT & Shoot & WT        & 10 & Cdm-0     & Soil  & 4 & ERR4138681 & ERS4555949 & ERR4138681 & Cdm-0                 & Cdm-0                 & Parents\\_DM10\\_DM11     & 0 & control & 3\\\\\n",
       "\tCdm-0\\_3 & Cdm-0\\_3         & Cdm-0\\_3          & WT & Shoot & WT        & 10 & Cdm-0     & Soil  & 3 & ERR4138682 & ERS4555948 & ERR4138682 & Cdm-0                 & Cdm-0                 & Parents\\_DM10\\_DM11     & 0 & control & 3\\\\\n",
       "\tCdm-0\\_2 & Cdm-0\\_2         & Cdm-0\\_2          & WT & Shoot & WT        & 10 & Cdm-0     & Soil  & 2 & ERR4138683 & ERS4555947 & ERR4138683 & Cdm-0                 & Cdm-0                 & Parents\\_DM10\\_DM11     & 0 & control & 3\\\\\n",
       "\tCdm-0\\_1 & Cdm-0\\_1         & Cdm-0\\_1          & WT & Shoot & WT        & 10 & Cdm-0     & Soil  & 1 & ERR4138684 & ERS4555946 & ERR4138684 & Cdm-0                 & Cdm-0                 & Parents\\_DM10\\_DM11     & 0 & control & 3\\\\\n",
       "\tDM1/DM2d\\_Root\\_1 & DM1/DM2d\\_Root\\_1 & DM1/DM2d\\_Root\\_1  & DM & Root  & DM1\\_DM2d  & 12 & Col-0     & 1/2MS & 1 & DM1\\_ROOT   & NA         & NA         & DM1/DM2d\\_Root\\_1\\_12DAG & DM1/DM2d\\_Root\\_1\\_12DAG & DM1/DM2d\\_Root\\_1\\_12DAG & 2 & control & 1\\\\\n",
       "\t⋮ & ⋮ & ⋮ & ⋮ & ⋮ & ⋮ & ⋮ & ⋮ & ⋮ & ⋮ & ⋮ & ⋮ & ⋮ & ⋮ & ⋮ & ⋮ & ⋮ & ⋮ & ⋮\\\\\n",
       "\tC-A & C-A   & C-A   & WT & Shoot & WT & 12 & Col-0 & 1/2MS & 1 & C-A   & NA & NA & control & control     & control     &  0 & control & 5\\\\\n",
       "\tC-B & C-B   & C-B   & WT & Shoot & WT & 12 & Col-0 & 1/2MS & 2 & C-B   & NA & NA & control & control     & control     &  0 & control & 5\\\\\n",
       "\tC-C & C-C   & C-C   & WT & Shoot & WT & 12 & Col-0 & 1/2MS & 3 & C-C   & NA & NA & control & control     & control     &  0 & control & 5\\\\\n",
       "\tM6-A & M6-A  & M6-A  & WT & Shoot & WT & 12 & Col-0 & 1/2MS & 1 & M6-A  & NA & NA & Mock    & Mock-6h     & Mock-6h     &  6 & Mock    & 5\\\\\n",
       "\tM6-B & M6-B  & M6-B  & WT & Shoot & WT & 12 & Col-0 & 1/2MS & 2 & M6-B  & NA & NA & Mock    & Mock-6h     & Mock-6h     &  6 & Mock    & 5\\\\\n",
       "\tM6-C & M6-C  & M6-C  & WT & Shoot & WT & 12 & Col-0 & 1/2MS & 3 & M6-C  & NA & NA & Mock    & Mock-6h     & Mock-6h     &  6 & Mock    & 5\\\\\n",
       "\tR6-A & R6-A  & R6-A  & WT & Shoot & WT & 12 & Col-0 & 1/2MS & 1 & R6-A  & NA & NA & AvrRpt2 & AvrRpt2-6h  & AvrRpt2-6h  &  6 & AvrRpt2 & 5\\\\\n",
       "\tR6-B & R6-B  & R6-B  & WT & Shoot & WT & 12 & Col-0 & 1/2MS & 2 & R6-B  & NA & NA & AvrRpt2 & AvrRpt2-6h  & AvrRpt2-6h  &  6 & AvrRpt2 & 5\\\\\n",
       "\tR6-C & R6-C  & R6-C  & WT & Shoot & WT & 12 & Col-0 & 1/2MS & 3 & R6-C  & NA & NA & AvrRpt2 & AvrRpt2-6h  & AvrRpt2-6h  &  6 & AvrRpt2 & 5\\\\\n",
       "\tS6-A & S6-A  & S6-A  & WT & Shoot & WT & 12 & Col-0 & 1/2MS & 1 & S6-A  & NA & NA & AvrRps4 & AvrRps4-6h  & AvrRps4-6h  &  6 & AvrRps4 & 5\\\\\n",
       "\tS6-B & S6-B  & S6-B  & WT & Shoot & WT & 12 & Col-0 & 1/2MS & 2 & S6-B  & NA & NA & AvrRps4 & AvrRps4-6h  & AvrRps4-6h  &  6 & AvrRps4 & 5\\\\\n",
       "\tS6-C & S6-C  & S6-C  & WT & Shoot & WT & 12 & Col-0 & 1/2MS & 3 & S6-C  & NA & NA & AvrRps4 & AvrRps4-6h  & AvrRps4-6h  &  6 & AvrRps4 & 5\\\\\n",
       "\tM12-A & M12-A & M12-A & WT & Shoot & WT & 12 & Col-0 & 1/2MS & 1 & M12-A & NA & NA & Mock    & Mock-12h    & Mock-12h    & 12 & Mock    & 5\\\\\n",
       "\tM12-B & M12-B & M12-B & WT & Shoot & WT & 12 & Col-0 & 1/2MS & 2 & M12-B & NA & NA & Mock    & Mock-12h    & Mock-12h    & 12 & Mock    & 5\\\\\n",
       "\tM12-C & M12-C & M12-C & WT & Shoot & WT & 12 & Col-0 & 1/2MS & 3 & M12-C & NA & NA & Mock    & Mock-12h    & Mock-12h    & 12 & Mock    & 5\\\\\n",
       "\tR12-A & R12-A & R12-A & WT & Shoot & WT & 12 & Col-0 & 1/2MS & 1 & R12-A & NA & NA & AvrRpt2 & AvrRpt2-12h & AvrRpt2-12h & 12 & AvrRpt2 & 5\\\\\n",
       "\tR12-B & R12-B & R12-B & WT & Shoot & WT & 12 & Col-0 & 1/2MS & 2 & R12-B & NA & NA & AvrRpt2 & AvrRpt2-12h & AvrRpt2-12h & 12 & AvrRpt2 & 5\\\\\n",
       "\tR12-C & R12-C & R12-C & WT & Shoot & WT & 12 & Col-0 & 1/2MS & 3 & R12-C & NA & NA & AvrRpt2 & AvrRpt2-12h & AvrRpt2-12h & 12 & AvrRpt2 & 5\\\\\n",
       "\tS12-A & S12-A & S12-A & WT & Shoot & WT & 12 & Col-0 & 1/2MS & 1 & S12-A & NA & NA & AvrRps4 & AvrRps4-12h & AvrRps4-12h & 12 & AvrRps4 & 5\\\\\n",
       "\tS12-B & S12-B & S12-B & WT & Shoot & WT & 12 & Col-0 & 1/2MS & 2 & S12-B & NA & NA & AvrRps4 & AvrRps4-12h & AvrRps4-12h & 12 & AvrRps4 & 5\\\\\n",
       "\tS12-C & S12-C & S12-C & WT & Shoot & WT & 12 & Col-0 & 1/2MS & 3 & S12-C & NA & NA & AvrRps4 & AvrRps4-12h & AvrRps4-12h & 12 & AvrRps4 & 5\\\\\n",
       "\tM20-A & M20-A & M20-A & WT & Shoot & WT & 13 & Col-0 & 1/2MS & 1 & M20-A & NA & NA & Mock    & Mock-20h    & Mock-20h    & 20 & Mock    & 5\\\\\n",
       "\tM20-B & M20-B & M20-B & WT & Shoot & WT & 13 & Col-0 & 1/2MS & 2 & M20-B & NA & NA & Mock    & Mock-20h    & Mock-20h    & 20 & Mock    & 5\\\\\n",
       "\tM20-C & M20-C & M20-C & WT & Shoot & WT & 13 & Col-0 & 1/2MS & 3 & M20-C & NA & NA & Mock    & Mock-20h    & Mock-20h    & 20 & Mock    & 5\\\\\n",
       "\tR20-A & R20-A & R20-A & WT & Shoot & WT & 13 & Col-0 & 1/2MS & 1 & R20-A & NA & NA & AvrRpt2 & AvrRpt2-20h & AvrRpt2-20h & 20 & AvrRpt2 & 5\\\\\n",
       "\tR20-B & R20-B & R20-B & WT & Shoot & WT & 13 & Col-0 & 1/2MS & 2 & R20-B & NA & NA & AvrRpt2 & AvrRpt2-20h & AvrRpt2-20h & 20 & AvrRpt2 & 5\\\\\n",
       "\tR20-C & R20-C & R20-C & WT & Shoot & WT & 13 & Col-0 & 1/2MS & 3 & R20-C & NA & NA & AvrRpt2 & AvrRpt2-20h & AvrRpt2-20h & 20 & AvrRpt2 & 5\\\\\n",
       "\tS20-A & S20-A & S20-A & WT & Shoot & WT & 13 & Col-0 & 1/2MS & 1 & S20-A & NA & NA & AvrRps4 & AvrRps4-20h & AvrRps4-20h & 20 & AvrRps4 & 5\\\\\n",
       "\tS20-B & S20-B & S20-B & WT & Shoot & WT & 13 & Col-0 & 1/2MS & 2 & S20-B & NA & NA & AvrRps4 & AvrRps4-20h & AvrRps4-20h & 20 & AvrRps4 & 5\\\\\n",
       "\tS20-C & S20-C & S20-C & WT & Shoot & WT & 13 & Col-0 & 1/2MS & 3 & S20-C & NA & NA & AvrRps4 & AvrRps4-20h & AvrRps4-20h & 20 & AvrRps4 & 5\\\\\n",
       "\\end{tabular}\n"
      ],
      "text/markdown": [
       "\n",
       "A data.frame: 82 × 18\n",
       "\n",
       "| <!--/--> | short_name &lt;chr&gt; | sample_Names &lt;chr&gt; | genotype &lt;chr&gt; | tissue &lt;chr&gt; | DM &lt;chr&gt; | DAS &lt;chr&gt; | accession &lt;chr&gt; | media &lt;chr&gt; | replicate &lt;chr&gt; | Bam_name &lt;chr&gt; | ERS &lt;chr&gt; | ERR &lt;chr&gt; | group1 &lt;chr&gt; | group2 &lt;chr&gt; | group3 &lt;chr&gt; | hpi &lt;dbl&gt; | treatment &lt;chr&gt; | batch2 &lt;dbl&gt; |\n",
       "|---|---|---|---|---|---|---|---|---|---|---|---|---|---|---|---|---|---|---|\n",
       "| DM1/DM2d_1 | DM1/DM2d_1      | DM1/DM2d_Shoot_1 | DM | Shoot | DM1/DM2d  | 12 | Col-0     | 1/2MS | 1 | DM2_SHOO   | NA         | NA         | DM1/DM2d_Shoot        | DM1/DM2d              | DM1/DM2d              | 0 | control | 1 |\n",
       "| Col-0_12_1 | Col-0_12_1      | Col-0_Shoot_1    | WT | Shoot | WT        | 12 | Col-0     | 1/2MS | 1 | COL4_SHO   | NA         | NA         | Col-0_Shoot           | Col-0_12              | Col-0_12              | 0 | control | 1 |\n",
       "| DM1/DM2d_2 | DM1/DM2d_2      | DM1/DM2d_Shoot_2 | DM | Shoot | DM1/DM2d  | 12 | Col-0     | 1/2MS | 2 | DM6_SHOO   | NA         | NA         | DM1/DM2d_Shoot        | DM1/DM2d              | DM1/DM2d              | 0 | control | 1 |\n",
       "| Col-0_12_2 | Col-0_12_2      | Col-0_Shoot_2    | WT | Shoot | WT        | 12 | Col-0     | 1/2MS | 2 | COL8_SHO   | NA         | NA         | Col-0_Shoot           | Col-0_12              | Col-0_12              | 0 | control | 1 |\n",
       "| DM1/DM2d_3 | DM1/DM2d_3      | DM1/DM2d_Shoot_3 | DM | Shoot | DM1/DM2d  | 12 | Col-0     | 1/2MS | 3 | DM14_SHO   | NA         | NA         | DM1/DM2d_Shoot        | DM1/DM2d              | DM1/DM2d              | 0 | control | 1 |\n",
       "| DM6/DM7_1 | DM6/DM7_1       | DM6/DM7_Shoot_1  | DM | Shoot | DM6/DM7   | 14 | Col-0     | 1/2MS | 1 | 12-LCH3315 | NA         | NA         | DM6/DM7_Shoot         | DM6/DM7               | DM6/DM7               | 0 | control | 2 |\n",
       "| Col-0_14_1 | Col-0_14_1      | Col-0_Shoot_1    | WT | Shoot | WT        | 14 | Col-0     | 1/2MS | 1 | 14-LCH3317 | NA         | NA         | Col-0_Shoot           | Col-0_14              | Col-0_14              | 0 | control | 2 |\n",
       "| DM6/DM7_2 | DM6/DM7_2       | DM6/DM7_Shoot_2  | DM | Shoot | DM6/DM7   | 14 | Col-0     | 1/2MS | 2 | 16-LCH3319 | NA         | NA         | DM6/DM7_Shoot         | DM6/DM7               | DM6/DM7               | 0 | control | 2 |\n",
       "| Col-0_14_2 | Col-0_14_2      | Col-0_Shoot_2    | WT | Shoot | WT        | 14 | Col-0     | 1/2MS | 2 | 18-LCH3321 | NA         | NA         | Col-0_Shoot           | Col-0_14              | Col-0_14              | 0 | control | 2 |\n",
       "| DM6/DM7_3 | DM6/DM7_3       | DM6/DM7_Shoot_3  | DM | Shoot | DM6/DM7   | 14 | Col-0     | 1/2MS | 3 | 22-LCH3323 | NA         | NA         | DM6/DM7_Shoot         | DM6/DM7               | DM6/DM7               | 0 | control | 2 |\n",
       "| Col-0_14_3 | Col-0_14_3      | Col-0_Shoot_3    | WT | Shoot | WT        | 14 | Col-0     | 1/2MS | 3 | 28-LCH3325 | NA         | NA         | Col-0_Shoot           | Col-0_14              | Col-0_14              | 0 | control | 2 |\n",
       "| DM10/DM11_6 | DM10/DM11_6     | DM10/DM11_6      | DM | Shoot | DM10/DM11 | 10 | DM10/DM11 | Soil  | 6 | ERR4138667 | ERS4555963 | ERR4138667 | DM10/DM11             | DM10/DM11             | DM10/DM11             | 0 | control | 3 |\n",
       "| DM10/DM11_5 | DM10/DM11_5     | DM10/DM11_5      | DM | Shoot | DM10/DM11 | 10 | DM10/DM11 | Soil  | 5 | ERR4138668 | ERS4555962 | ERR4138668 | DM10/DM11             | DM10/DM11             | DM10/DM11             | 0 | control | 3 |\n",
       "| DM10/DM11_4 | DM10/DM11_4     | DM10/DM11_4      | DM | Shoot | DM10/DM11 | 10 | DM10/DM11 | Soil  | 4 | ERR4138669 | ERS4555961 | ERR4138669 | DM10/DM11             | DM10/DM11             | DM10/DM11             | 0 | control | 3 |\n",
       "| DM10/DM11_3 | DM10/DM11_3     | DM10/DM11_3      | DM | Shoot | DM10/DM11 | 10 | DM10/DM11 | Soil  | 3 | ERR4138670 | ERS4555960 | ERR4138670 | DM10/DM11             | DM10/DM11             | DM10/DM11             | 0 | control | 3 |\n",
       "| DM10/DM11_2 | DM10/DM11_2     | DM10/DM11_2      | DM | Shoot | DM10/DM11 | 10 | DM10/DM11 | Soil  | 2 | ERR4138671 | ERS4555959 | ERR4138671 | DM10/DM11             | DM10/DM11             | DM10/DM11             | 0 | control | 3 |\n",
       "| DM10/DM11_1 | DM10/DM11_1     | DM10/DM11_1      | DM | Shoot | DM10/DM11 | 10 | DM10/DM11 | Soil  | 1 | ERR4138672 | ERS4555958 | ERR4138672 | DM10/DM11             | DM10/DM11             | DM10/DM11             | 0 | control | 3 |\n",
       "| Tuescha-9_6 | Tuescha-9_6     | Tuescha-9_6      | WT | Shoot | WT        | 10 | Tuescha-9 | Soil  | 6 | ERR4138673 | ERS4555957 | ERR4138673 | Tuescha-9             | Tuescha-9             | Parents_DM10_DM11     | 0 | control | 3 |\n",
       "| Tuescha-9_5 | Tuescha-9_5     | Tuescha-9_5      | WT | Shoot | WT        | 10 | Tuescha-9 | Soil  | 5 | ERR4138674 | ERS4555956 | ERR4138674 | Tuescha-9             | Tuescha-9             | Parents_DM10_DM11     | 0 | control | 3 |\n",
       "| Tuescha-9_4 | Tuescha-9_4     | Tuescha-9_4      | WT | Shoot | WT        | 10 | Tuescha-9 | Soil  | 4 | ERR4138675 | ERS4555955 | ERR4138675 | Tuescha-9             | Tuescha-9             | Parents_DM10_DM11     | 0 | control | 3 |\n",
       "| Tuescha-9_3 | Tuescha-9_3     | Tuescha-9_3      | WT | Shoot | WT        | 10 | Tuescha-9 | Soil  | 3 | ERR4138676 | ERS4555954 | ERR4138676 | Tuescha-9             | Tuescha-9             | Parents_DM10_DM11     | 0 | control | 3 |\n",
       "| Tuescha-9_2 | Tuescha-9_2     | Tuescha-9_2      | WT | Shoot | WT        | 10 | Tuescha-9 | Soil  | 2 | ERR4138677 | ERS4555953 | ERR4138677 | Tuescha-9             | Tuescha-9             | Parents_DM10_DM11     | 0 | control | 3 |\n",
       "| Tuescha-9_1 | Tuescha-9_1     | Tuescha-9_1      | WT | Shoot | WT        | 10 | Tuescha-9 | Soil  | 1 | ERR4138678 | ERS4555952 | ERR4138678 | Tuescha-9             | Tuescha-9             | Parents_DM10_DM11     | 0 | control | 3 |\n",
       "| Cdm-0_6 | Cdm-0_6         | Cdm-0_6          | WT | Shoot | WT        | 10 | Cdm-0     | Soil  | 6 | ERR4138679 | ERS4555951 | ERR4138679 | Cdm-0                 | Cdm-0                 | Parents_DM10_DM11     | 0 | control | 3 |\n",
       "| Cdm-0_5 | Cdm-0_5         | Cdm-0_5          | WT | Shoot | WT        | 10 | Cdm-0     | Soil  | 5 | ERR4138680 | ERS4555950 | ERR4138680 | Cdm-0                 | Cdm-0                 | Parents_DM10_DM11     | 0 | control | 3 |\n",
       "| Cdm-0_4 | Cdm-0_4         | Cdm-0_4          | WT | Shoot | WT        | 10 | Cdm-0     | Soil  | 4 | ERR4138681 | ERS4555949 | ERR4138681 | Cdm-0                 | Cdm-0                 | Parents_DM10_DM11     | 0 | control | 3 |\n",
       "| Cdm-0_3 | Cdm-0_3         | Cdm-0_3          | WT | Shoot | WT        | 10 | Cdm-0     | Soil  | 3 | ERR4138682 | ERS4555948 | ERR4138682 | Cdm-0                 | Cdm-0                 | Parents_DM10_DM11     | 0 | control | 3 |\n",
       "| Cdm-0_2 | Cdm-0_2         | Cdm-0_2          | WT | Shoot | WT        | 10 | Cdm-0     | Soil  | 2 | ERR4138683 | ERS4555947 | ERR4138683 | Cdm-0                 | Cdm-0                 | Parents_DM10_DM11     | 0 | control | 3 |\n",
       "| Cdm-0_1 | Cdm-0_1         | Cdm-0_1          | WT | Shoot | WT        | 10 | Cdm-0     | Soil  | 1 | ERR4138684 | ERS4555946 | ERR4138684 | Cdm-0                 | Cdm-0                 | Parents_DM10_DM11     | 0 | control | 3 |\n",
       "| DM1/DM2d_Root_1 | DM1/DM2d_Root_1 | DM1/DM2d_Root_1  | DM | Root  | DM1_DM2d  | 12 | Col-0     | 1/2MS | 1 | DM1_ROOT   | NA         | NA         | DM1/DM2d_Root_1_12DAG | DM1/DM2d_Root_1_12DAG | DM1/DM2d_Root_1_12DAG | 2 | control | 1 |\n",
       "| ⋮ | ⋮ | ⋮ | ⋮ | ⋮ | ⋮ | ⋮ | ⋮ | ⋮ | ⋮ | ⋮ | ⋮ | ⋮ | ⋮ | ⋮ | ⋮ | ⋮ | ⋮ | ⋮ |\n",
       "| C-A | C-A   | C-A   | WT | Shoot | WT | 12 | Col-0 | 1/2MS | 1 | C-A   | NA | NA | control | control     | control     |  0 | control | 5 |\n",
       "| C-B | C-B   | C-B   | WT | Shoot | WT | 12 | Col-0 | 1/2MS | 2 | C-B   | NA | NA | control | control     | control     |  0 | control | 5 |\n",
       "| C-C | C-C   | C-C   | WT | Shoot | WT | 12 | Col-0 | 1/2MS | 3 | C-C   | NA | NA | control | control     | control     |  0 | control | 5 |\n",
       "| M6-A | M6-A  | M6-A  | WT | Shoot | WT | 12 | Col-0 | 1/2MS | 1 | M6-A  | NA | NA | Mock    | Mock-6h     | Mock-6h     |  6 | Mock    | 5 |\n",
       "| M6-B | M6-B  | M6-B  | WT | Shoot | WT | 12 | Col-0 | 1/2MS | 2 | M6-B  | NA | NA | Mock    | Mock-6h     | Mock-6h     |  6 | Mock    | 5 |\n",
       "| M6-C | M6-C  | M6-C  | WT | Shoot | WT | 12 | Col-0 | 1/2MS | 3 | M6-C  | NA | NA | Mock    | Mock-6h     | Mock-6h     |  6 | Mock    | 5 |\n",
       "| R6-A | R6-A  | R6-A  | WT | Shoot | WT | 12 | Col-0 | 1/2MS | 1 | R6-A  | NA | NA | AvrRpt2 | AvrRpt2-6h  | AvrRpt2-6h  |  6 | AvrRpt2 | 5 |\n",
       "| R6-B | R6-B  | R6-B  | WT | Shoot | WT | 12 | Col-0 | 1/2MS | 2 | R6-B  | NA | NA | AvrRpt2 | AvrRpt2-6h  | AvrRpt2-6h  |  6 | AvrRpt2 | 5 |\n",
       "| R6-C | R6-C  | R6-C  | WT | Shoot | WT | 12 | Col-0 | 1/2MS | 3 | R6-C  | NA | NA | AvrRpt2 | AvrRpt2-6h  | AvrRpt2-6h  |  6 | AvrRpt2 | 5 |\n",
       "| S6-A | S6-A  | S6-A  | WT | Shoot | WT | 12 | Col-0 | 1/2MS | 1 | S6-A  | NA | NA | AvrRps4 | AvrRps4-6h  | AvrRps4-6h  |  6 | AvrRps4 | 5 |\n",
       "| S6-B | S6-B  | S6-B  | WT | Shoot | WT | 12 | Col-0 | 1/2MS | 2 | S6-B  | NA | NA | AvrRps4 | AvrRps4-6h  | AvrRps4-6h  |  6 | AvrRps4 | 5 |\n",
       "| S6-C | S6-C  | S6-C  | WT | Shoot | WT | 12 | Col-0 | 1/2MS | 3 | S6-C  | NA | NA | AvrRps4 | AvrRps4-6h  | AvrRps4-6h  |  6 | AvrRps4 | 5 |\n",
       "| M12-A | M12-A | M12-A | WT | Shoot | WT | 12 | Col-0 | 1/2MS | 1 | M12-A | NA | NA | Mock    | Mock-12h    | Mock-12h    | 12 | Mock    | 5 |\n",
       "| M12-B | M12-B | M12-B | WT | Shoot | WT | 12 | Col-0 | 1/2MS | 2 | M12-B | NA | NA | Mock    | Mock-12h    | Mock-12h    | 12 | Mock    | 5 |\n",
       "| M12-C | M12-C | M12-C | WT | Shoot | WT | 12 | Col-0 | 1/2MS | 3 | M12-C | NA | NA | Mock    | Mock-12h    | Mock-12h    | 12 | Mock    | 5 |\n",
       "| R12-A | R12-A | R12-A | WT | Shoot | WT | 12 | Col-0 | 1/2MS | 1 | R12-A | NA | NA | AvrRpt2 | AvrRpt2-12h | AvrRpt2-12h | 12 | AvrRpt2 | 5 |\n",
       "| R12-B | R12-B | R12-B | WT | Shoot | WT | 12 | Col-0 | 1/2MS | 2 | R12-B | NA | NA | AvrRpt2 | AvrRpt2-12h | AvrRpt2-12h | 12 | AvrRpt2 | 5 |\n",
       "| R12-C | R12-C | R12-C | WT | Shoot | WT | 12 | Col-0 | 1/2MS | 3 | R12-C | NA | NA | AvrRpt2 | AvrRpt2-12h | AvrRpt2-12h | 12 | AvrRpt2 | 5 |\n",
       "| S12-A | S12-A | S12-A | WT | Shoot | WT | 12 | Col-0 | 1/2MS | 1 | S12-A | NA | NA | AvrRps4 | AvrRps4-12h | AvrRps4-12h | 12 | AvrRps4 | 5 |\n",
       "| S12-B | S12-B | S12-B | WT | Shoot | WT | 12 | Col-0 | 1/2MS | 2 | S12-B | NA | NA | AvrRps4 | AvrRps4-12h | AvrRps4-12h | 12 | AvrRps4 | 5 |\n",
       "| S12-C | S12-C | S12-C | WT | Shoot | WT | 12 | Col-0 | 1/2MS | 3 | S12-C | NA | NA | AvrRps4 | AvrRps4-12h | AvrRps4-12h | 12 | AvrRps4 | 5 |\n",
       "| M20-A | M20-A | M20-A | WT | Shoot | WT | 13 | Col-0 | 1/2MS | 1 | M20-A | NA | NA | Mock    | Mock-20h    | Mock-20h    | 20 | Mock    | 5 |\n",
       "| M20-B | M20-B | M20-B | WT | Shoot | WT | 13 | Col-0 | 1/2MS | 2 | M20-B | NA | NA | Mock    | Mock-20h    | Mock-20h    | 20 | Mock    | 5 |\n",
       "| M20-C | M20-C | M20-C | WT | Shoot | WT | 13 | Col-0 | 1/2MS | 3 | M20-C | NA | NA | Mock    | Mock-20h    | Mock-20h    | 20 | Mock    | 5 |\n",
       "| R20-A | R20-A | R20-A | WT | Shoot | WT | 13 | Col-0 | 1/2MS | 1 | R20-A | NA | NA | AvrRpt2 | AvrRpt2-20h | AvrRpt2-20h | 20 | AvrRpt2 | 5 |\n",
       "| R20-B | R20-B | R20-B | WT | Shoot | WT | 13 | Col-0 | 1/2MS | 2 | R20-B | NA | NA | AvrRpt2 | AvrRpt2-20h | AvrRpt2-20h | 20 | AvrRpt2 | 5 |\n",
       "| R20-C | R20-C | R20-C | WT | Shoot | WT | 13 | Col-0 | 1/2MS | 3 | R20-C | NA | NA | AvrRpt2 | AvrRpt2-20h | AvrRpt2-20h | 20 | AvrRpt2 | 5 |\n",
       "| S20-A | S20-A | S20-A | WT | Shoot | WT | 13 | Col-0 | 1/2MS | 1 | S20-A | NA | NA | AvrRps4 | AvrRps4-20h | AvrRps4-20h | 20 | AvrRps4 | 5 |\n",
       "| S20-B | S20-B | S20-B | WT | Shoot | WT | 13 | Col-0 | 1/2MS | 2 | S20-B | NA | NA | AvrRps4 | AvrRps4-20h | AvrRps4-20h | 20 | AvrRps4 | 5 |\n",
       "| S20-C | S20-C | S20-C | WT | Shoot | WT | 13 | Col-0 | 1/2MS | 3 | S20-C | NA | NA | AvrRps4 | AvrRps4-20h | AvrRps4-20h | 20 | AvrRps4 | 5 |\n",
       "\n"
      ],
      "text/plain": [
       "                short_name      sample_Names     genotype tissue DM        DAS\n",
       "DM1/DM2d_1      DM1/DM2d_1      DM1/DM2d_Shoot_1 DM       Shoot  DM1/DM2d  12 \n",
       "Col-0_12_1      Col-0_12_1      Col-0_Shoot_1    WT       Shoot  WT        12 \n",
       "DM1/DM2d_2      DM1/DM2d_2      DM1/DM2d_Shoot_2 DM       Shoot  DM1/DM2d  12 \n",
       "Col-0_12_2      Col-0_12_2      Col-0_Shoot_2    WT       Shoot  WT        12 \n",
       "DM1/DM2d_3      DM1/DM2d_3      DM1/DM2d_Shoot_3 DM       Shoot  DM1/DM2d  12 \n",
       "DM6/DM7_1       DM6/DM7_1       DM6/DM7_Shoot_1  DM       Shoot  DM6/DM7   14 \n",
       "Col-0_14_1      Col-0_14_1      Col-0_Shoot_1    WT       Shoot  WT        14 \n",
       "DM6/DM7_2       DM6/DM7_2       DM6/DM7_Shoot_2  DM       Shoot  DM6/DM7   14 \n",
       "Col-0_14_2      Col-0_14_2      Col-0_Shoot_2    WT       Shoot  WT        14 \n",
       "DM6/DM7_3       DM6/DM7_3       DM6/DM7_Shoot_3  DM       Shoot  DM6/DM7   14 \n",
       "Col-0_14_3      Col-0_14_3      Col-0_Shoot_3    WT       Shoot  WT        14 \n",
       "DM10/DM11_6     DM10/DM11_6     DM10/DM11_6      DM       Shoot  DM10/DM11 10 \n",
       "DM10/DM11_5     DM10/DM11_5     DM10/DM11_5      DM       Shoot  DM10/DM11 10 \n",
       "DM10/DM11_4     DM10/DM11_4     DM10/DM11_4      DM       Shoot  DM10/DM11 10 \n",
       "DM10/DM11_3     DM10/DM11_3     DM10/DM11_3      DM       Shoot  DM10/DM11 10 \n",
       "DM10/DM11_2     DM10/DM11_2     DM10/DM11_2      DM       Shoot  DM10/DM11 10 \n",
       "DM10/DM11_1     DM10/DM11_1     DM10/DM11_1      DM       Shoot  DM10/DM11 10 \n",
       "Tuescha-9_6     Tuescha-9_6     Tuescha-9_6      WT       Shoot  WT        10 \n",
       "Tuescha-9_5     Tuescha-9_5     Tuescha-9_5      WT       Shoot  WT        10 \n",
       "Tuescha-9_4     Tuescha-9_4     Tuescha-9_4      WT       Shoot  WT        10 \n",
       "Tuescha-9_3     Tuescha-9_3     Tuescha-9_3      WT       Shoot  WT        10 \n",
       "Tuescha-9_2     Tuescha-9_2     Tuescha-9_2      WT       Shoot  WT        10 \n",
       "Tuescha-9_1     Tuescha-9_1     Tuescha-9_1      WT       Shoot  WT        10 \n",
       "Cdm-0_6         Cdm-0_6         Cdm-0_6          WT       Shoot  WT        10 \n",
       "Cdm-0_5         Cdm-0_5         Cdm-0_5          WT       Shoot  WT        10 \n",
       "Cdm-0_4         Cdm-0_4         Cdm-0_4          WT       Shoot  WT        10 \n",
       "Cdm-0_3         Cdm-0_3         Cdm-0_3          WT       Shoot  WT        10 \n",
       "Cdm-0_2         Cdm-0_2         Cdm-0_2          WT       Shoot  WT        10 \n",
       "Cdm-0_1         Cdm-0_1         Cdm-0_1          WT       Shoot  WT        10 \n",
       "DM1/DM2d_Root_1 DM1/DM2d_Root_1 DM1/DM2d_Root_1  DM       Root   DM1_DM2d  12 \n",
       "⋮               ⋮               ⋮                ⋮        ⋮      ⋮         ⋮  \n",
       "C-A             C-A             C-A              WT       Shoot  WT        12 \n",
       "C-B             C-B             C-B              WT       Shoot  WT        12 \n",
       "C-C             C-C             C-C              WT       Shoot  WT        12 \n",
       "M6-A            M6-A            M6-A             WT       Shoot  WT        12 \n",
       "M6-B            M6-B            M6-B             WT       Shoot  WT        12 \n",
       "M6-C            M6-C            M6-C             WT       Shoot  WT        12 \n",
       "R6-A            R6-A            R6-A             WT       Shoot  WT        12 \n",
       "R6-B            R6-B            R6-B             WT       Shoot  WT        12 \n",
       "R6-C            R6-C            R6-C             WT       Shoot  WT        12 \n",
       "S6-A            S6-A            S6-A             WT       Shoot  WT        12 \n",
       "S6-B            S6-B            S6-B             WT       Shoot  WT        12 \n",
       "S6-C            S6-C            S6-C             WT       Shoot  WT        12 \n",
       "M12-A           M12-A           M12-A            WT       Shoot  WT        12 \n",
       "M12-B           M12-B           M12-B            WT       Shoot  WT        12 \n",
       "M12-C           M12-C           M12-C            WT       Shoot  WT        12 \n",
       "R12-A           R12-A           R12-A            WT       Shoot  WT        12 \n",
       "R12-B           R12-B           R12-B            WT       Shoot  WT        12 \n",
       "R12-C           R12-C           R12-C            WT       Shoot  WT        12 \n",
       "S12-A           S12-A           S12-A            WT       Shoot  WT        12 \n",
       "S12-B           S12-B           S12-B            WT       Shoot  WT        12 \n",
       "S12-C           S12-C           S12-C            WT       Shoot  WT        12 \n",
       "M20-A           M20-A           M20-A            WT       Shoot  WT        13 \n",
       "M20-B           M20-B           M20-B            WT       Shoot  WT        13 \n",
       "M20-C           M20-C           M20-C            WT       Shoot  WT        13 \n",
       "R20-A           R20-A           R20-A            WT       Shoot  WT        13 \n",
       "R20-B           R20-B           R20-B            WT       Shoot  WT        13 \n",
       "R20-C           R20-C           R20-C            WT       Shoot  WT        13 \n",
       "S20-A           S20-A           S20-A            WT       Shoot  WT        13 \n",
       "S20-B           S20-B           S20-B            WT       Shoot  WT        13 \n",
       "S20-C           S20-C           S20-C            WT       Shoot  WT        13 \n",
       "                accession media replicate Bam_name   ERS        ERR       \n",
       "DM1/DM2d_1      Col-0     1/2MS 1         DM2_SHOO   NA         NA        \n",
       "Col-0_12_1      Col-0     1/2MS 1         COL4_SHO   NA         NA        \n",
       "DM1/DM2d_2      Col-0     1/2MS 2         DM6_SHOO   NA         NA        \n",
       "Col-0_12_2      Col-0     1/2MS 2         COL8_SHO   NA         NA        \n",
       "DM1/DM2d_3      Col-0     1/2MS 3         DM14_SHO   NA         NA        \n",
       "DM6/DM7_1       Col-0     1/2MS 1         12-LCH3315 NA         NA        \n",
       "Col-0_14_1      Col-0     1/2MS 1         14-LCH3317 NA         NA        \n",
       "DM6/DM7_2       Col-0     1/2MS 2         16-LCH3319 NA         NA        \n",
       "Col-0_14_2      Col-0     1/2MS 2         18-LCH3321 NA         NA        \n",
       "DM6/DM7_3       Col-0     1/2MS 3         22-LCH3323 NA         NA        \n",
       "Col-0_14_3      Col-0     1/2MS 3         28-LCH3325 NA         NA        \n",
       "DM10/DM11_6     DM10/DM11 Soil  6         ERR4138667 ERS4555963 ERR4138667\n",
       "DM10/DM11_5     DM10/DM11 Soil  5         ERR4138668 ERS4555962 ERR4138668\n",
       "DM10/DM11_4     DM10/DM11 Soil  4         ERR4138669 ERS4555961 ERR4138669\n",
       "DM10/DM11_3     DM10/DM11 Soil  3         ERR4138670 ERS4555960 ERR4138670\n",
       "DM10/DM11_2     DM10/DM11 Soil  2         ERR4138671 ERS4555959 ERR4138671\n",
       "DM10/DM11_1     DM10/DM11 Soil  1         ERR4138672 ERS4555958 ERR4138672\n",
       "Tuescha-9_6     Tuescha-9 Soil  6         ERR4138673 ERS4555957 ERR4138673\n",
       "Tuescha-9_5     Tuescha-9 Soil  5         ERR4138674 ERS4555956 ERR4138674\n",
       "Tuescha-9_4     Tuescha-9 Soil  4         ERR4138675 ERS4555955 ERR4138675\n",
       "Tuescha-9_3     Tuescha-9 Soil  3         ERR4138676 ERS4555954 ERR4138676\n",
       "Tuescha-9_2     Tuescha-9 Soil  2         ERR4138677 ERS4555953 ERR4138677\n",
       "Tuescha-9_1     Tuescha-9 Soil  1         ERR4138678 ERS4555952 ERR4138678\n",
       "Cdm-0_6         Cdm-0     Soil  6         ERR4138679 ERS4555951 ERR4138679\n",
       "Cdm-0_5         Cdm-0     Soil  5         ERR4138680 ERS4555950 ERR4138680\n",
       "Cdm-0_4         Cdm-0     Soil  4         ERR4138681 ERS4555949 ERR4138681\n",
       "Cdm-0_3         Cdm-0     Soil  3         ERR4138682 ERS4555948 ERR4138682\n",
       "Cdm-0_2         Cdm-0     Soil  2         ERR4138683 ERS4555947 ERR4138683\n",
       "Cdm-0_1         Cdm-0     Soil  1         ERR4138684 ERS4555946 ERR4138684\n",
       "DM1/DM2d_Root_1 Col-0     1/2MS 1         DM1_ROOT   NA         NA        \n",
       "⋮               ⋮         ⋮     ⋮         ⋮          ⋮          ⋮         \n",
       "C-A             Col-0     1/2MS 1         C-A        NA         NA        \n",
       "C-B             Col-0     1/2MS 2         C-B        NA         NA        \n",
       "C-C             Col-0     1/2MS 3         C-C        NA         NA        \n",
       "M6-A            Col-0     1/2MS 1         M6-A       NA         NA        \n",
       "M6-B            Col-0     1/2MS 2         M6-B       NA         NA        \n",
       "M6-C            Col-0     1/2MS 3         M6-C       NA         NA        \n",
       "R6-A            Col-0     1/2MS 1         R6-A       NA         NA        \n",
       "R6-B            Col-0     1/2MS 2         R6-B       NA         NA        \n",
       "R6-C            Col-0     1/2MS 3         R6-C       NA         NA        \n",
       "S6-A            Col-0     1/2MS 1         S6-A       NA         NA        \n",
       "S6-B            Col-0     1/2MS 2         S6-B       NA         NA        \n",
       "S6-C            Col-0     1/2MS 3         S6-C       NA         NA        \n",
       "M12-A           Col-0     1/2MS 1         M12-A      NA         NA        \n",
       "M12-B           Col-0     1/2MS 2         M12-B      NA         NA        \n",
       "M12-C           Col-0     1/2MS 3         M12-C      NA         NA        \n",
       "R12-A           Col-0     1/2MS 1         R12-A      NA         NA        \n",
       "R12-B           Col-0     1/2MS 2         R12-B      NA         NA        \n",
       "R12-C           Col-0     1/2MS 3         R12-C      NA         NA        \n",
       "S12-A           Col-0     1/2MS 1         S12-A      NA         NA        \n",
       "S12-B           Col-0     1/2MS 2         S12-B      NA         NA        \n",
       "S12-C           Col-0     1/2MS 3         S12-C      NA         NA        \n",
       "M20-A           Col-0     1/2MS 1         M20-A      NA         NA        \n",
       "M20-B           Col-0     1/2MS 2         M20-B      NA         NA        \n",
       "M20-C           Col-0     1/2MS 3         M20-C      NA         NA        \n",
       "R20-A           Col-0     1/2MS 1         R20-A      NA         NA        \n",
       "R20-B           Col-0     1/2MS 2         R20-B      NA         NA        \n",
       "R20-C           Col-0     1/2MS 3         R20-C      NA         NA        \n",
       "S20-A           Col-0     1/2MS 1         S20-A      NA         NA        \n",
       "S20-B           Col-0     1/2MS 2         S20-B      NA         NA        \n",
       "S20-C           Col-0     1/2MS 3         S20-C      NA         NA        \n",
       "                group1                group2               \n",
       "DM1/DM2d_1      DM1/DM2d_Shoot        DM1/DM2d             \n",
       "Col-0_12_1      Col-0_Shoot           Col-0_12             \n",
       "DM1/DM2d_2      DM1/DM2d_Shoot        DM1/DM2d             \n",
       "Col-0_12_2      Col-0_Shoot           Col-0_12             \n",
       "DM1/DM2d_3      DM1/DM2d_Shoot        DM1/DM2d             \n",
       "DM6/DM7_1       DM6/DM7_Shoot         DM6/DM7              \n",
       "Col-0_14_1      Col-0_Shoot           Col-0_14             \n",
       "DM6/DM7_2       DM6/DM7_Shoot         DM6/DM7              \n",
       "Col-0_14_2      Col-0_Shoot           Col-0_14             \n",
       "DM6/DM7_3       DM6/DM7_Shoot         DM6/DM7              \n",
       "Col-0_14_3      Col-0_Shoot           Col-0_14             \n",
       "DM10/DM11_6     DM10/DM11             DM10/DM11            \n",
       "DM10/DM11_5     DM10/DM11             DM10/DM11            \n",
       "DM10/DM11_4     DM10/DM11             DM10/DM11            \n",
       "DM10/DM11_3     DM10/DM11             DM10/DM11            \n",
       "DM10/DM11_2     DM10/DM11             DM10/DM11            \n",
       "DM10/DM11_1     DM10/DM11             DM10/DM11            \n",
       "Tuescha-9_6     Tuescha-9             Tuescha-9            \n",
       "Tuescha-9_5     Tuescha-9             Tuescha-9            \n",
       "Tuescha-9_4     Tuescha-9             Tuescha-9            \n",
       "Tuescha-9_3     Tuescha-9             Tuescha-9            \n",
       "Tuescha-9_2     Tuescha-9             Tuescha-9            \n",
       "Tuescha-9_1     Tuescha-9             Tuescha-9            \n",
       "Cdm-0_6         Cdm-0                 Cdm-0                \n",
       "Cdm-0_5         Cdm-0                 Cdm-0                \n",
       "Cdm-0_4         Cdm-0                 Cdm-0                \n",
       "Cdm-0_3         Cdm-0                 Cdm-0                \n",
       "Cdm-0_2         Cdm-0                 Cdm-0                \n",
       "Cdm-0_1         Cdm-0                 Cdm-0                \n",
       "DM1/DM2d_Root_1 DM1/DM2d_Root_1_12DAG DM1/DM2d_Root_1_12DAG\n",
       "⋮               ⋮                     ⋮                    \n",
       "C-A             control               control              \n",
       "C-B             control               control              \n",
       "C-C             control               control              \n",
       "M6-A            Mock                  Mock-6h              \n",
       "M6-B            Mock                  Mock-6h              \n",
       "M6-C            Mock                  Mock-6h              \n",
       "R6-A            AvrRpt2               AvrRpt2-6h           \n",
       "R6-B            AvrRpt2               AvrRpt2-6h           \n",
       "R6-C            AvrRpt2               AvrRpt2-6h           \n",
       "S6-A            AvrRps4               AvrRps4-6h           \n",
       "S6-B            AvrRps4               AvrRps4-6h           \n",
       "S6-C            AvrRps4               AvrRps4-6h           \n",
       "M12-A           Mock                  Mock-12h             \n",
       "M12-B           Mock                  Mock-12h             \n",
       "M12-C           Mock                  Mock-12h             \n",
       "R12-A           AvrRpt2               AvrRpt2-12h          \n",
       "R12-B           AvrRpt2               AvrRpt2-12h          \n",
       "R12-C           AvrRpt2               AvrRpt2-12h          \n",
       "S12-A           AvrRps4               AvrRps4-12h          \n",
       "S12-B           AvrRps4               AvrRps4-12h          \n",
       "S12-C           AvrRps4               AvrRps4-12h          \n",
       "M20-A           Mock                  Mock-20h             \n",
       "M20-B           Mock                  Mock-20h             \n",
       "M20-C           Mock                  Mock-20h             \n",
       "R20-A           AvrRpt2               AvrRpt2-20h          \n",
       "R20-B           AvrRpt2               AvrRpt2-20h          \n",
       "R20-C           AvrRpt2               AvrRpt2-20h          \n",
       "S20-A           AvrRps4               AvrRps4-20h          \n",
       "S20-B           AvrRps4               AvrRps4-20h          \n",
       "S20-C           AvrRps4               AvrRps4-20h          \n",
       "                group3                hpi treatment batch2\n",
       "DM1/DM2d_1      DM1/DM2d              0   control   1     \n",
       "Col-0_12_1      Col-0_12              0   control   1     \n",
       "DM1/DM2d_2      DM1/DM2d              0   control   1     \n",
       "Col-0_12_2      Col-0_12              0   control   1     \n",
       "DM1/DM2d_3      DM1/DM2d              0   control   1     \n",
       "DM6/DM7_1       DM6/DM7               0   control   2     \n",
       "Col-0_14_1      Col-0_14              0   control   2     \n",
       "DM6/DM7_2       DM6/DM7               0   control   2     \n",
       "Col-0_14_2      Col-0_14              0   control   2     \n",
       "DM6/DM7_3       DM6/DM7               0   control   2     \n",
       "Col-0_14_3      Col-0_14              0   control   2     \n",
       "DM10/DM11_6     DM10/DM11             0   control   3     \n",
       "DM10/DM11_5     DM10/DM11             0   control   3     \n",
       "DM10/DM11_4     DM10/DM11             0   control   3     \n",
       "DM10/DM11_3     DM10/DM11             0   control   3     \n",
       "DM10/DM11_2     DM10/DM11             0   control   3     \n",
       "DM10/DM11_1     DM10/DM11             0   control   3     \n",
       "Tuescha-9_6     Parents_DM10_DM11     0   control   3     \n",
       "Tuescha-9_5     Parents_DM10_DM11     0   control   3     \n",
       "Tuescha-9_4     Parents_DM10_DM11     0   control   3     \n",
       "Tuescha-9_3     Parents_DM10_DM11     0   control   3     \n",
       "Tuescha-9_2     Parents_DM10_DM11     0   control   3     \n",
       "Tuescha-9_1     Parents_DM10_DM11     0   control   3     \n",
       "Cdm-0_6         Parents_DM10_DM11     0   control   3     \n",
       "Cdm-0_5         Parents_DM10_DM11     0   control   3     \n",
       "Cdm-0_4         Parents_DM10_DM11     0   control   3     \n",
       "Cdm-0_3         Parents_DM10_DM11     0   control   3     \n",
       "Cdm-0_2         Parents_DM10_DM11     0   control   3     \n",
       "Cdm-0_1         Parents_DM10_DM11     0   control   3     \n",
       "DM1/DM2d_Root_1 DM1/DM2d_Root_1_12DAG 2   control   1     \n",
       "⋮               ⋮                     ⋮   ⋮         ⋮     \n",
       "C-A             control                0  control   5     \n",
       "C-B             control                0  control   5     \n",
       "C-C             control                0  control   5     \n",
       "M6-A            Mock-6h                6  Mock      5     \n",
       "M6-B            Mock-6h                6  Mock      5     \n",
       "M6-C            Mock-6h                6  Mock      5     \n",
       "R6-A            AvrRpt2-6h             6  AvrRpt2   5     \n",
       "R6-B            AvrRpt2-6h             6  AvrRpt2   5     \n",
       "R6-C            AvrRpt2-6h             6  AvrRpt2   5     \n",
       "S6-A            AvrRps4-6h             6  AvrRps4   5     \n",
       "S6-B            AvrRps4-6h             6  AvrRps4   5     \n",
       "S6-C            AvrRps4-6h             6  AvrRps4   5     \n",
       "M12-A           Mock-12h              12  Mock      5     \n",
       "M12-B           Mock-12h              12  Mock      5     \n",
       "M12-C           Mock-12h              12  Mock      5     \n",
       "R12-A           AvrRpt2-12h           12  AvrRpt2   5     \n",
       "R12-B           AvrRpt2-12h           12  AvrRpt2   5     \n",
       "R12-C           AvrRpt2-12h           12  AvrRpt2   5     \n",
       "S12-A           AvrRps4-12h           12  AvrRps4   5     \n",
       "S12-B           AvrRps4-12h           12  AvrRps4   5     \n",
       "S12-C           AvrRps4-12h           12  AvrRps4   5     \n",
       "M20-A           Mock-20h              20  Mock      5     \n",
       "M20-B           Mock-20h              20  Mock      5     \n",
       "M20-C           Mock-20h              20  Mock      5     \n",
       "R20-A           AvrRpt2-20h           20  AvrRpt2   5     \n",
       "R20-B           AvrRpt2-20h           20  AvrRpt2   5     \n",
       "R20-C           AvrRpt2-20h           20  AvrRpt2   5     \n",
       "S20-A           AvrRps4-20h           20  AvrRps4   5     \n",
       "S20-B           AvrRps4-20h           20  AvrRps4   5     \n",
       "S20-C           AvrRps4-20h           20  AvrRps4   5     "
      ]
     },
     "metadata": {},
     "output_type": "display_data"
    }
   ],
   "source": [
    "sample_data = readxl::read_excel(\"./refs//3-DM_shoots_root_JC14_adr1s_pathogen.xlsx\") %>% as.data.frame\n",
    "rownames(sample_data) <- sample_data$short_name \n",
    "sample_data"
   ]
  },
  {
   "cell_type": "markdown",
   "metadata": {},
   "source": [
    "### Hisat2"
   ]
  },
  {
   "cell_type": "code",
   "execution_count": null,
   "metadata": {},
   "outputs": [],
   "source": []
  },
  {
   "cell_type": "code",
   "execution_count": 13,
   "metadata": {
    "tags": []
   },
   "outputs": [
    {
     "data": {
      "text/html": [
       "<table class=\"dataframe\">\n",
       "<caption>A data.frame: 1 × 36</caption>\n",
       "<thead>\n",
       "\t<tr><th></th><th scope=col>Geneid</th><th scope=col>Chr</th><th scope=col>Start</th><th scope=col>End</th><th scope=col>Strand</th><th scope=col>Length</th><th scope=col>X.media.HDD3.partial_pathogen_RNA_raw_1.hisat2.2_bam.S6.A.LFC7257_L2_sorted.bam</th><th scope=col>X.media.HDD3.partial_pathogen_RNA_raw_1.hisat2.2_bam.M20.C.LFC7271_L2_sorted.bam</th><th scope=col>X.media.HDD3.partial_pathogen_RNA_raw_1.hisat2.2_bam.C.C.LFC7250_L3_sorted.bam</th><th scope=col>X.media.HDD3.partial_pathogen_RNA_raw_1.hisat2.2_bam.C.B.LFC7249_L3_sorted.bam</th><th scope=col>⋯</th><th scope=col>X.media.HDD3.partial_pathogen_RNA_raw_1.hisat2.2_bam.M20.A.LFC7269_L3_sorted.bam</th><th scope=col>X.media.HDD3.partial_pathogen_RNA_raw_1.hisat2.2_bam.R12.B.LFC7264_L3_sorted.bam</th><th scope=col>X.media.HDD3.partial_pathogen_RNA_raw_1.hisat2.2_bam.R6.B.LFC7255_L2_sorted.bam</th><th scope=col>X.media.HDD3.partial_pathogen_RNA_raw_1.hisat2.2_bam.S6.C.LFC7259_L2_sorted.bam</th><th scope=col>X.media.HDD3.partial_pathogen_RNA_raw_1.hisat2.2_bam.R12.A.LFC7263_L2_sorted.bam</th><th scope=col>X.media.HDD3.partial_pathogen_RNA_raw_1.hisat2.2_bam.M6.A.LFC7251_L2_sorted.bam</th><th scope=col>X.media.HDD3.partial_pathogen_RNA_raw_1.hisat2.2_bam.R12.C.LFC7265_L2_sorted.bam</th><th scope=col>X.media.HDD3.partial_pathogen_RNA_raw_1.hisat2.2_bam.R6.A.LFC7254_L2_sorted.bam</th><th scope=col>X.media.HDD3.partial_pathogen_RNA_raw_1.hisat2.2_bam.S12.A.LFC7266_L3_sorted.bam</th><th scope=col>X.media.HDD3.partial_pathogen_RNA_raw_1.hisat2.2_bam.R20.A.LFC7272_L2_sorted.bam</th></tr>\n",
       "\t<tr><th></th><th scope=col>&lt;chr&gt;</th><th scope=col>&lt;chr&gt;</th><th scope=col>&lt;chr&gt;</th><th scope=col>&lt;chr&gt;</th><th scope=col>&lt;chr&gt;</th><th scope=col>&lt;int&gt;</th><th scope=col>&lt;int&gt;</th><th scope=col>&lt;int&gt;</th><th scope=col>&lt;int&gt;</th><th scope=col>&lt;int&gt;</th><th scope=col>⋯</th><th scope=col>&lt;int&gt;</th><th scope=col>&lt;int&gt;</th><th scope=col>&lt;int&gt;</th><th scope=col>&lt;int&gt;</th><th scope=col>&lt;int&gt;</th><th scope=col>&lt;int&gt;</th><th scope=col>&lt;int&gt;</th><th scope=col>&lt;int&gt;</th><th scope=col>&lt;int&gt;</th><th scope=col>&lt;int&gt;</th></tr>\n",
       "</thead>\n",
       "<tbody>\n",
       "\t<tr><th scope=row>1</th><td>AT1G30814</td><td>1;1;1;1;1;1;1;1;1;1;1;1;1;1;1;1;1;1;1;1;1;1;1;1;1;1;1</td><td>10942648;10942648;10942648;10942663;10943007;10943007;10943007;10943007;10943154;10943154;10943154;10943301;10943644;10943644;10943644;10943644;10943868;10943868;10943868;10943868;10944078;10944078;10944078;10944078;10944317;10944317;10944317</td><td>10942909;10942909;10942909;10942909;10943060;10943060;10943561;10943060;10943561;10943255;10943561;10943561;10943750;10943750;10943750;10943750;10943984;10943984;10943984;10943984;10944282;10944229;10944229;10944229;10944727;10944727;10944727</td><td>-;-;-;-;-;-;-;-;-;-;-;-;-;-;-;-;-;-;-;-;-;-;-;-;-;-;-</td><td>1657</td><td>2</td><td>0</td><td>0</td><td>0</td><td>⋯</td><td>0</td><td>52</td><td>0</td><td>2</td><td>20</td><td>0</td><td>115</td><td>0</td><td>26</td><td>210</td></tr>\n",
       "</tbody>\n",
       "</table>\n"
      ],
      "text/latex": [
       "A data.frame: 1 × 36\n",
       "\\begin{tabular}{r|lllllllllllllllllllll}\n",
       "  & Geneid & Chr & Start & End & Strand & Length & X.media.HDD3.partial\\_pathogen\\_RNA\\_raw\\_1.hisat2.2\\_bam.S6.A.LFC7257\\_L2\\_sorted.bam & X.media.HDD3.partial\\_pathogen\\_RNA\\_raw\\_1.hisat2.2\\_bam.M20.C.LFC7271\\_L2\\_sorted.bam & X.media.HDD3.partial\\_pathogen\\_RNA\\_raw\\_1.hisat2.2\\_bam.C.C.LFC7250\\_L3\\_sorted.bam & X.media.HDD3.partial\\_pathogen\\_RNA\\_raw\\_1.hisat2.2\\_bam.C.B.LFC7249\\_L3\\_sorted.bam & ⋯ & X.media.HDD3.partial\\_pathogen\\_RNA\\_raw\\_1.hisat2.2\\_bam.M20.A.LFC7269\\_L3\\_sorted.bam & X.media.HDD3.partial\\_pathogen\\_RNA\\_raw\\_1.hisat2.2\\_bam.R12.B.LFC7264\\_L3\\_sorted.bam & X.media.HDD3.partial\\_pathogen\\_RNA\\_raw\\_1.hisat2.2\\_bam.R6.B.LFC7255\\_L2\\_sorted.bam & X.media.HDD3.partial\\_pathogen\\_RNA\\_raw\\_1.hisat2.2\\_bam.S6.C.LFC7259\\_L2\\_sorted.bam & X.media.HDD3.partial\\_pathogen\\_RNA\\_raw\\_1.hisat2.2\\_bam.R12.A.LFC7263\\_L2\\_sorted.bam & X.media.HDD3.partial\\_pathogen\\_RNA\\_raw\\_1.hisat2.2\\_bam.M6.A.LFC7251\\_L2\\_sorted.bam & X.media.HDD3.partial\\_pathogen\\_RNA\\_raw\\_1.hisat2.2\\_bam.R12.C.LFC7265\\_L2\\_sorted.bam & X.media.HDD3.partial\\_pathogen\\_RNA\\_raw\\_1.hisat2.2\\_bam.R6.A.LFC7254\\_L2\\_sorted.bam & X.media.HDD3.partial\\_pathogen\\_RNA\\_raw\\_1.hisat2.2\\_bam.S12.A.LFC7266\\_L3\\_sorted.bam & X.media.HDD3.partial\\_pathogen\\_RNA\\_raw\\_1.hisat2.2\\_bam.R20.A.LFC7272\\_L2\\_sorted.bam\\\\\n",
       "  & <chr> & <chr> & <chr> & <chr> & <chr> & <int> & <int> & <int> & <int> & <int> & ⋯ & <int> & <int> & <int> & <int> & <int> & <int> & <int> & <int> & <int> & <int>\\\\\n",
       "\\hline\n",
       "\t1 & AT1G30814 & 1;1;1;1;1;1;1;1;1;1;1;1;1;1;1;1;1;1;1;1;1;1;1;1;1;1;1 & 10942648;10942648;10942648;10942663;10943007;10943007;10943007;10943007;10943154;10943154;10943154;10943301;10943644;10943644;10943644;10943644;10943868;10943868;10943868;10943868;10944078;10944078;10944078;10944078;10944317;10944317;10944317 & 10942909;10942909;10942909;10942909;10943060;10943060;10943561;10943060;10943561;10943255;10943561;10943561;10943750;10943750;10943750;10943750;10943984;10943984;10943984;10943984;10944282;10944229;10944229;10944229;10944727;10944727;10944727 & -;-;-;-;-;-;-;-;-;-;-;-;-;-;-;-;-;-;-;-;-;-;-;-;-;-;- & 1657 & 2 & 0 & 0 & 0 & ⋯ & 0 & 52 & 0 & 2 & 20 & 0 & 115 & 0 & 26 & 210\\\\\n",
       "\\end{tabular}\n"
      ],
      "text/markdown": [
       "\n",
       "A data.frame: 1 × 36\n",
       "\n",
       "| <!--/--> | Geneid &lt;chr&gt; | Chr &lt;chr&gt; | Start &lt;chr&gt; | End &lt;chr&gt; | Strand &lt;chr&gt; | Length &lt;int&gt; | X.media.HDD3.partial_pathogen_RNA_raw_1.hisat2.2_bam.S6.A.LFC7257_L2_sorted.bam &lt;int&gt; | X.media.HDD3.partial_pathogen_RNA_raw_1.hisat2.2_bam.M20.C.LFC7271_L2_sorted.bam &lt;int&gt; | X.media.HDD3.partial_pathogen_RNA_raw_1.hisat2.2_bam.C.C.LFC7250_L3_sorted.bam &lt;int&gt; | X.media.HDD3.partial_pathogen_RNA_raw_1.hisat2.2_bam.C.B.LFC7249_L3_sorted.bam &lt;int&gt; | ⋯ ⋯ | X.media.HDD3.partial_pathogen_RNA_raw_1.hisat2.2_bam.M20.A.LFC7269_L3_sorted.bam &lt;int&gt; | X.media.HDD3.partial_pathogen_RNA_raw_1.hisat2.2_bam.R12.B.LFC7264_L3_sorted.bam &lt;int&gt; | X.media.HDD3.partial_pathogen_RNA_raw_1.hisat2.2_bam.R6.B.LFC7255_L2_sorted.bam &lt;int&gt; | X.media.HDD3.partial_pathogen_RNA_raw_1.hisat2.2_bam.S6.C.LFC7259_L2_sorted.bam &lt;int&gt; | X.media.HDD3.partial_pathogen_RNA_raw_1.hisat2.2_bam.R12.A.LFC7263_L2_sorted.bam &lt;int&gt; | X.media.HDD3.partial_pathogen_RNA_raw_1.hisat2.2_bam.M6.A.LFC7251_L2_sorted.bam &lt;int&gt; | X.media.HDD3.partial_pathogen_RNA_raw_1.hisat2.2_bam.R12.C.LFC7265_L2_sorted.bam &lt;int&gt; | X.media.HDD3.partial_pathogen_RNA_raw_1.hisat2.2_bam.R6.A.LFC7254_L2_sorted.bam &lt;int&gt; | X.media.HDD3.partial_pathogen_RNA_raw_1.hisat2.2_bam.S12.A.LFC7266_L3_sorted.bam &lt;int&gt; | X.media.HDD3.partial_pathogen_RNA_raw_1.hisat2.2_bam.R20.A.LFC7272_L2_sorted.bam &lt;int&gt; |\n",
       "|---|---|---|---|---|---|---|---|---|---|---|---|---|---|---|---|---|---|---|---|---|---|\n",
       "| 1 | AT1G30814 | 1;1;1;1;1;1;1;1;1;1;1;1;1;1;1;1;1;1;1;1;1;1;1;1;1;1;1 | 10942648;10942648;10942648;10942663;10943007;10943007;10943007;10943007;10943154;10943154;10943154;10943301;10943644;10943644;10943644;10943644;10943868;10943868;10943868;10943868;10944078;10944078;10944078;10944078;10944317;10944317;10944317 | 10942909;10942909;10942909;10942909;10943060;10943060;10943561;10943060;10943561;10943255;10943561;10943561;10943750;10943750;10943750;10943750;10943984;10943984;10943984;10943984;10944282;10944229;10944229;10944229;10944727;10944727;10944727 | -;-;-;-;-;-;-;-;-;-;-;-;-;-;-;-;-;-;-;-;-;-;-;-;-;-;- | 1657 | 2 | 0 | 0 | 0 | ⋯ | 0 | 52 | 0 | 2 | 20 | 0 | 115 | 0 | 26 | 210 |\n",
       "\n"
      ],
      "text/plain": [
       "  Geneid    Chr                                                  \n",
       "1 AT1G30814 1;1;1;1;1;1;1;1;1;1;1;1;1;1;1;1;1;1;1;1;1;1;1;1;1;1;1\n",
       "  Start                                                                                                                                                                                                                                             \n",
       "1 10942648;10942648;10942648;10942663;10943007;10943007;10943007;10943007;10943154;10943154;10943154;10943301;10943644;10943644;10943644;10943644;10943868;10943868;10943868;10943868;10944078;10944078;10944078;10944078;10944317;10944317;10944317\n",
       "  End                                                                                                                                                                                                                                               \n",
       "1 10942909;10942909;10942909;10942909;10943060;10943060;10943561;10943060;10943561;10943255;10943561;10943561;10943750;10943750;10943750;10943750;10943984;10943984;10943984;10943984;10944282;10944229;10944229;10944229;10944727;10944727;10944727\n",
       "  Strand                                                Length\n",
       "1 -;-;-;-;-;-;-;-;-;-;-;-;-;-;-;-;-;-;-;-;-;-;-;-;-;-;- 1657  \n",
       "  X.media.HDD3.partial_pathogen_RNA_raw_1.hisat2.2_bam.S6.A.LFC7257_L2_sorted.bam\n",
       "1 2                                                                              \n",
       "  X.media.HDD3.partial_pathogen_RNA_raw_1.hisat2.2_bam.M20.C.LFC7271_L2_sorted.bam\n",
       "1 0                                                                               \n",
       "  X.media.HDD3.partial_pathogen_RNA_raw_1.hisat2.2_bam.C.C.LFC7250_L3_sorted.bam\n",
       "1 0                                                                             \n",
       "  X.media.HDD3.partial_pathogen_RNA_raw_1.hisat2.2_bam.C.B.LFC7249_L3_sorted.bam\n",
       "1 0                                                                             \n",
       "  ⋯\n",
       "1 ⋯\n",
       "  X.media.HDD3.partial_pathogen_RNA_raw_1.hisat2.2_bam.M20.A.LFC7269_L3_sorted.bam\n",
       "1 0                                                                               \n",
       "  X.media.HDD3.partial_pathogen_RNA_raw_1.hisat2.2_bam.R12.B.LFC7264_L3_sorted.bam\n",
       "1 52                                                                              \n",
       "  X.media.HDD3.partial_pathogen_RNA_raw_1.hisat2.2_bam.R6.B.LFC7255_L2_sorted.bam\n",
       "1 0                                                                              \n",
       "  X.media.HDD3.partial_pathogen_RNA_raw_1.hisat2.2_bam.S6.C.LFC7259_L2_sorted.bam\n",
       "1 2                                                                              \n",
       "  X.media.HDD3.partial_pathogen_RNA_raw_1.hisat2.2_bam.R12.A.LFC7263_L2_sorted.bam\n",
       "1 20                                                                              \n",
       "  X.media.HDD3.partial_pathogen_RNA_raw_1.hisat2.2_bam.M6.A.LFC7251_L2_sorted.bam\n",
       "1 0                                                                              \n",
       "  X.media.HDD3.partial_pathogen_RNA_raw_1.hisat2.2_bam.R12.C.LFC7265_L2_sorted.bam\n",
       "1 115                                                                             \n",
       "  X.media.HDD3.partial_pathogen_RNA_raw_1.hisat2.2_bam.R6.A.LFC7254_L2_sorted.bam\n",
       "1 0                                                                              \n",
       "  X.media.HDD3.partial_pathogen_RNA_raw_1.hisat2.2_bam.S12.A.LFC7266_L3_sorted.bam\n",
       "1 26                                                                              \n",
       "  X.media.HDD3.partial_pathogen_RNA_raw_1.hisat2.2_bam.R20.A.LFC7272_L2_sorted.bam\n",
       "1 210                                                                             "
      ]
     },
     "metadata": {},
     "output_type": "display_data"
    }
   ],
   "source": [
    "# skip the first line, it is command of featurecount\n",
    "data <- read.table(\"../RNA_seq_Pathogen/featureCounts//all_feature_of_genes.txt\", header=TRUE, quote=\"\\t\", skip=1)\n",
    "head(data, n= 1)"
   ]
  },
  {
   "cell_type": "code",
   "execution_count": 6,
   "metadata": {
    "scrolled": true,
    "tags": []
   },
   "outputs": [
    {
     "data": {
      "text/html": [
       "36"
      ],
      "text/latex": [
       "36"
      ],
      "text/markdown": [
       "36"
      ],
      "text/plain": [
       "[1] 36"
      ]
     },
     "metadata": {},
     "output_type": "display_data"
    },
    {
     "data": {
      "text/html": [
       "<style>\n",
       ".list-inline {list-style: none; margin:0; padding: 0}\n",
       ".list-inline>li {display: inline-block}\n",
       ".list-inline>li:not(:last-child)::after {content: \"\\00b7\"; padding: 0 .5ex}\n",
       "</style>\n",
       "<ol class=list-inline><li>'S6-A'</li><li>'M20-C'</li><li>'C-C'</li><li>'C-B'</li><li>'R20-B'</li><li>'S6-B'</li><li>'S20-A'</li><li>'S20-C'</li><li>'S20-B'</li><li>'R6-C'</li><li>'R20-C'</li><li>'C-A'</li><li>'M6-B'</li><li>'S12-C'</li><li>'M6-C'</li><li>'M12-A'</li><li>'M12-C'</li><li>'M20-B'</li><li>'M12-B'</li><li>'S12-B'</li><li>'M20-A'</li><li>'R12-B'</li><li>'R6-B'</li><li>'S6-C'</li><li>'R12-A'</li><li>'M6-A'</li><li>'R12-C'</li><li>'R6-A'</li><li>'S12-A'</li><li>'R20-A'</li></ol>\n"
      ],
      "text/latex": [
       "\\begin{enumerate*}\n",
       "\\item 'S6-A'\n",
       "\\item 'M20-C'\n",
       "\\item 'C-C'\n",
       "\\item 'C-B'\n",
       "\\item 'R20-B'\n",
       "\\item 'S6-B'\n",
       "\\item 'S20-A'\n",
       "\\item 'S20-C'\n",
       "\\item 'S20-B'\n",
       "\\item 'R6-C'\n",
       "\\item 'R20-C'\n",
       "\\item 'C-A'\n",
       "\\item 'M6-B'\n",
       "\\item 'S12-C'\n",
       "\\item 'M6-C'\n",
       "\\item 'M12-A'\n",
       "\\item 'M12-C'\n",
       "\\item 'M20-B'\n",
       "\\item 'M12-B'\n",
       "\\item 'S12-B'\n",
       "\\item 'M20-A'\n",
       "\\item 'R12-B'\n",
       "\\item 'R6-B'\n",
       "\\item 'S6-C'\n",
       "\\item 'R12-A'\n",
       "\\item 'M6-A'\n",
       "\\item 'R12-C'\n",
       "\\item 'R6-A'\n",
       "\\item 'S12-A'\n",
       "\\item 'R20-A'\n",
       "\\end{enumerate*}\n"
      ],
      "text/markdown": [
       "1. 'S6-A'\n",
       "2. 'M20-C'\n",
       "3. 'C-C'\n",
       "4. 'C-B'\n",
       "5. 'R20-B'\n",
       "6. 'S6-B'\n",
       "7. 'S20-A'\n",
       "8. 'S20-C'\n",
       "9. 'S20-B'\n",
       "10. 'R6-C'\n",
       "11. 'R20-C'\n",
       "12. 'C-A'\n",
       "13. 'M6-B'\n",
       "14. 'S12-C'\n",
       "15. 'M6-C'\n",
       "16. 'M12-A'\n",
       "17. 'M12-C'\n",
       "18. 'M20-B'\n",
       "19. 'M12-B'\n",
       "20. 'S12-B'\n",
       "21. 'M20-A'\n",
       "22. 'R12-B'\n",
       "23. 'R6-B'\n",
       "24. 'S6-C'\n",
       "25. 'R12-A'\n",
       "26. 'M6-A'\n",
       "27. 'R12-C'\n",
       "28. 'R6-A'\n",
       "29. 'S12-A'\n",
       "30. 'R20-A'\n",
       "\n",
       "\n"
      ],
      "text/plain": [
       " [1] \"S6-A\"  \"M20-C\" \"C-C\"   \"C-B\"   \"R20-B\" \"S6-B\"  \"S20-A\" \"S20-C\" \"S20-B\"\n",
       "[10] \"R6-C\"  \"R20-C\" \"C-A\"   \"M6-B\"  \"S12-C\" \"M6-C\"  \"M12-A\" \"M12-C\" \"M20-B\"\n",
       "[19] \"M12-B\" \"S12-B\" \"M20-A\" \"R12-B\" \"R6-B\"  \"S6-C\"  \"R12-A\" \"M6-A\"  \"R12-C\"\n",
       "[28] \"R6-A\"  \"S12-A\" \"R20-A\""
      ]
     },
     "metadata": {},
     "output_type": "display_data"
    }
   ],
   "source": [
    "length(names(data))\n",
    "#names(data)[7:length(names(data))] # from column 7 are samples's counts\n",
    "\n",
    "names(data)[7:length(names(data))] <- names(data)[7:length(names(data))]  %>% \n",
    "    str_remove('X.media.HDD3.partial_pathogen_RNA_raw_1.hisat2.2_bam.') %>%    \n",
    "    str_remove('.LFC\\\\d{4}_L\\\\d{1,2}_sorted.bam') %>% str_replace_all('\\\\.', '-')\n",
    "names(data)[7:length(names(data))]"
   ]
  },
  {
   "cell_type": "markdown",
   "metadata": {
    "execution": {
     "iopub.execute_input": "2022-07-10T15:20:36.568318Z",
     "iopub.status.busy": "2022-07-10T15:20:36.564721Z",
     "iopub.status.idle": "2022-07-10T15:20:36.587802Z",
     "shell.execute_reply": "2022-07-10T15:20:36.585100Z"
    }
   },
   "source": [
    " <font size=\"4\"><span style=\"color:blue\">\n",
    "    the naming:  \n",
    "               S is Rps4, M is Mock, C is control, R is Rpt2  \n",
    "</span></font>"
   ]
  },
  {
   "cell_type": "code",
   "execution_count": 7,
   "metadata": {
    "scrolled": true,
    "tags": []
   },
   "outputs": [
    {
     "data": {
      "text/html": [
       "<table class=\"dataframe\">\n",
       "<caption>A data.frame: 6 × 30</caption>\n",
       "<thead>\n",
       "\t<tr><th></th><th scope=col>C-A</th><th scope=col>C-B</th><th scope=col>C-C</th><th scope=col>M6-A</th><th scope=col>M6-B</th><th scope=col>M6-C</th><th scope=col>R6-A</th><th scope=col>R6-B</th><th scope=col>R6-C</th><th scope=col>S6-A</th><th scope=col>⋯</th><th scope=col>S12-C</th><th scope=col>M20-A</th><th scope=col>M20-B</th><th scope=col>M20-C</th><th scope=col>R20-A</th><th scope=col>R20-B</th><th scope=col>R20-C</th><th scope=col>S20-A</th><th scope=col>S20-B</th><th scope=col>S20-C</th></tr>\n",
       "\t<tr><th></th><th scope=col>&lt;int&gt;</th><th scope=col>&lt;int&gt;</th><th scope=col>&lt;int&gt;</th><th scope=col>&lt;int&gt;</th><th scope=col>&lt;int&gt;</th><th scope=col>&lt;int&gt;</th><th scope=col>&lt;int&gt;</th><th scope=col>&lt;int&gt;</th><th scope=col>&lt;int&gt;</th><th scope=col>&lt;int&gt;</th><th scope=col>⋯</th><th scope=col>&lt;int&gt;</th><th scope=col>&lt;int&gt;</th><th scope=col>&lt;int&gt;</th><th scope=col>&lt;int&gt;</th><th scope=col>&lt;int&gt;</th><th scope=col>&lt;int&gt;</th><th scope=col>&lt;int&gt;</th><th scope=col>&lt;int&gt;</th><th scope=col>&lt;int&gt;</th><th scope=col>&lt;int&gt;</th></tr>\n",
       "</thead>\n",
       "<tbody>\n",
       "\t<tr><th scope=row>AT1G30814</th><td>   0</td><td>   0</td><td>   0</td><td>   0</td><td>   1</td><td>   0</td><td>   0</td><td>   0</td><td>   0</td><td>   2</td><td>⋯</td><td>  48</td><td>   0</td><td>   0</td><td>   0</td><td> 210</td><td> 208</td><td> 196</td><td> 224</td><td> 179</td><td> 143</td></tr>\n",
       "\t<tr><th scope=row>AT1G78930</th><td> 338</td><td> 263</td><td> 219</td><td> 658</td><td> 717</td><td> 597</td><td> 695</td><td> 476</td><td> 632</td><td> 648</td><td>⋯</td><td> 850</td><td> 461</td><td> 619</td><td> 650</td><td> 301</td><td> 202</td><td> 274</td><td> 259</td><td> 312</td><td> 289</td></tr>\n",
       "\t<tr><th scope=row>AT1G71695</th><td>5683</td><td>4995</td><td>5382</td><td>5477</td><td>5740</td><td>6605</td><td>5307</td><td>4664</td><td>5202</td><td>5263</td><td>⋯</td><td>4132</td><td>4491</td><td>4511</td><td>4365</td><td>2924</td><td>2886</td><td>2595</td><td>3360</td><td>3005</td><td>3381</td></tr>\n",
       "\t<tr><th scope=row>AT1G58983</th><td>  60</td><td>  65</td><td>  58</td><td>  40</td><td>  44</td><td>  37</td><td>  39</td><td>  40</td><td>  38</td><td>  26</td><td>⋯</td><td>  63</td><td>  67</td><td>  51</td><td>  65</td><td>  34</td><td>  33</td><td>  18</td><td>  32</td><td>  28</td><td>  46</td></tr>\n",
       "\t<tr><th scope=row>AT1G12980</th><td>  26</td><td>   6</td><td>   5</td><td>  20</td><td>   8</td><td>   6</td><td>   6</td><td>   0</td><td>   0</td><td>   2</td><td>⋯</td><td>  12</td><td>   0</td><td>   0</td><td>   5</td><td>  10</td><td>   4</td><td>   0</td><td>  10</td><td>  12</td><td>  13</td></tr>\n",
       "\t<tr><th scope=row>AT1G45223</th><td>   0</td><td>   0</td><td>   0</td><td>   0</td><td>   0</td><td>   0</td><td>   0</td><td>   0</td><td>   0</td><td>   0</td><td>⋯</td><td>   0</td><td>   0</td><td>   0</td><td>   0</td><td>   0</td><td>   0</td><td>   0</td><td>   0</td><td>   0</td><td>   0</td></tr>\n",
       "</tbody>\n",
       "</table>\n"
      ],
      "text/latex": [
       "A data.frame: 6 × 30\n",
       "\\begin{tabular}{r|lllllllllllllllllllll}\n",
       "  & C-A & C-B & C-C & M6-A & M6-B & M6-C & R6-A & R6-B & R6-C & S6-A & ⋯ & S12-C & M20-A & M20-B & M20-C & R20-A & R20-B & R20-C & S20-A & S20-B & S20-C\\\\\n",
       "  & <int> & <int> & <int> & <int> & <int> & <int> & <int> & <int> & <int> & <int> & ⋯ & <int> & <int> & <int> & <int> & <int> & <int> & <int> & <int> & <int> & <int>\\\\\n",
       "\\hline\n",
       "\tAT1G30814 &    0 &    0 &    0 &    0 &    1 &    0 &    0 &    0 &    0 &    2 & ⋯ &   48 &    0 &    0 &    0 &  210 &  208 &  196 &  224 &  179 &  143\\\\\n",
       "\tAT1G78930 &  338 &  263 &  219 &  658 &  717 &  597 &  695 &  476 &  632 &  648 & ⋯ &  850 &  461 &  619 &  650 &  301 &  202 &  274 &  259 &  312 &  289\\\\\n",
       "\tAT1G71695 & 5683 & 4995 & 5382 & 5477 & 5740 & 6605 & 5307 & 4664 & 5202 & 5263 & ⋯ & 4132 & 4491 & 4511 & 4365 & 2924 & 2886 & 2595 & 3360 & 3005 & 3381\\\\\n",
       "\tAT1G58983 &   60 &   65 &   58 &   40 &   44 &   37 &   39 &   40 &   38 &   26 & ⋯ &   63 &   67 &   51 &   65 &   34 &   33 &   18 &   32 &   28 &   46\\\\\n",
       "\tAT1G12980 &   26 &    6 &    5 &   20 &    8 &    6 &    6 &    0 &    0 &    2 & ⋯ &   12 &    0 &    0 &    5 &   10 &    4 &    0 &   10 &   12 &   13\\\\\n",
       "\tAT1G45223 &    0 &    0 &    0 &    0 &    0 &    0 &    0 &    0 &    0 &    0 & ⋯ &    0 &    0 &    0 &    0 &    0 &    0 &    0 &    0 &    0 &    0\\\\\n",
       "\\end{tabular}\n"
      ],
      "text/markdown": [
       "\n",
       "A data.frame: 6 × 30\n",
       "\n",
       "| <!--/--> | C-A &lt;int&gt; | C-B &lt;int&gt; | C-C &lt;int&gt; | M6-A &lt;int&gt; | M6-B &lt;int&gt; | M6-C &lt;int&gt; | R6-A &lt;int&gt; | R6-B &lt;int&gt; | R6-C &lt;int&gt; | S6-A &lt;int&gt; | ⋯ ⋯ | S12-C &lt;int&gt; | M20-A &lt;int&gt; | M20-B &lt;int&gt; | M20-C &lt;int&gt; | R20-A &lt;int&gt; | R20-B &lt;int&gt; | R20-C &lt;int&gt; | S20-A &lt;int&gt; | S20-B &lt;int&gt; | S20-C &lt;int&gt; |\n",
       "|---|---|---|---|---|---|---|---|---|---|---|---|---|---|---|---|---|---|---|---|---|---|\n",
       "| AT1G30814 |    0 |    0 |    0 |    0 |    1 |    0 |    0 |    0 |    0 |    2 | ⋯ |   48 |    0 |    0 |    0 |  210 |  208 |  196 |  224 |  179 |  143 |\n",
       "| AT1G78930 |  338 |  263 |  219 |  658 |  717 |  597 |  695 |  476 |  632 |  648 | ⋯ |  850 |  461 |  619 |  650 |  301 |  202 |  274 |  259 |  312 |  289 |\n",
       "| AT1G71695 | 5683 | 4995 | 5382 | 5477 | 5740 | 6605 | 5307 | 4664 | 5202 | 5263 | ⋯ | 4132 | 4491 | 4511 | 4365 | 2924 | 2886 | 2595 | 3360 | 3005 | 3381 |\n",
       "| AT1G58983 |   60 |   65 |   58 |   40 |   44 |   37 |   39 |   40 |   38 |   26 | ⋯ |   63 |   67 |   51 |   65 |   34 |   33 |   18 |   32 |   28 |   46 |\n",
       "| AT1G12980 |   26 |    6 |    5 |   20 |    8 |    6 |    6 |    0 |    0 |    2 | ⋯ |   12 |    0 |    0 |    5 |   10 |    4 |    0 |   10 |   12 |   13 |\n",
       "| AT1G45223 |    0 |    0 |    0 |    0 |    0 |    0 |    0 |    0 |    0 |    0 | ⋯ |    0 |    0 |    0 |    0 |    0 |    0 |    0 |    0 |    0 |    0 |\n",
       "\n"
      ],
      "text/plain": [
       "          C-A  C-B  C-C  M6-A M6-B M6-C R6-A R6-B R6-C S6-A ⋯ S12-C M20-A M20-B\n",
       "AT1G30814    0    0    0    0    1    0    0    0    0    2 ⋯   48     0     0 \n",
       "AT1G78930  338  263  219  658  717  597  695  476  632  648 ⋯  850   461   619 \n",
       "AT1G71695 5683 4995 5382 5477 5740 6605 5307 4664 5202 5263 ⋯ 4132  4491  4511 \n",
       "AT1G58983   60   65   58   40   44   37   39   40   38   26 ⋯   63    67    51 \n",
       "AT1G12980   26    6    5   20    8    6    6    0    0    2 ⋯   12     0     0 \n",
       "AT1G45223    0    0    0    0    0    0    0    0    0    0 ⋯    0     0     0 \n",
       "          M20-C R20-A R20-B R20-C S20-A S20-B S20-C\n",
       "AT1G30814    0   210   208   196   224   179   143 \n",
       "AT1G78930  650   301   202   274   259   312   289 \n",
       "AT1G71695 4365  2924  2886  2595  3360  3005  3381 \n",
       "AT1G58983   65    34    33    18    32    28    46 \n",
       "AT1G12980    5    10     4     0    10    12    13 \n",
       "AT1G45223    0     0     0     0     0     0     0 "
      ]
     },
     "metadata": {},
     "output_type": "display_data"
    }
   ],
   "source": [
    "countData <- data %>% dplyr::select ( sample_data$sample)\n",
    "rownames(countData) <- data$Geneid\n",
    "head(countData)"
   ]
  },
  {
   "cell_type": "markdown",
   "metadata": {},
   "source": [
    "## construct dds"
   ]
  },
  {
   "cell_type": "code",
   "execution_count": 8,
   "metadata": {
    "tags": []
   },
   "outputs": [
    {
     "name": "stderr",
     "output_type": "stream",
     "text": [
      "Warning message in DESeqDataSet(se, design = design, ignoreRank):\n",
      "“some variables in design formula are characters, converting to factors”\n",
      "  the design formula contains one or more numeric variables with integer values,\n",
      "  specifying a model with increasing fold change for higher values.\n",
      "  did you mean for this to be a factor? if so, first convert\n",
      "  this variable to a factor using the factor() function\n",
      "\n",
      "  the design formula contains one or more numeric variables that have mean or\n",
      "  standard deviation larger than 5 (an arbitrary threshold to trigger this message).\n",
      "  Including numeric variables with large mean can induce collinearity with the intercept.\n",
      "  Users should center and scale numeric variables in the design to improve GLM convergence.\n",
      "\n",
      "estimating size factors\n",
      "\n",
      "estimating dispersions\n",
      "\n",
      "gene-wise dispersion estimates\n",
      "\n",
      "mean-dispersion relationship\n",
      "\n",
      "final dispersion estimates\n",
      "\n",
      "fitting model and testing\n",
      "\n"
     ]
    }
   ],
   "source": [
    "## construct dds\n",
    "\n",
    "# put the variable of interest at the end of formula so res function will take condition by default\n",
    "dds <- DESeqDataSetFromMatrix(countData, colData=sample_data, design= ~  hpi + treatment) \n",
    "dds <- dds[ rowSums(counts(dds)) > 5, ]\n",
    "\n",
    "dds <- DESeq(dds)"
   ]
  },
  {
   "cell_type": "code",
   "execution_count": 9,
   "metadata": {
    "tags": []
   },
   "outputs": [],
   "source": [
    "res_AvrRpt2_vs_Control <- results(dds, contrast = c('treatment','AvrRpt2', 'control'))  \n"
   ]
  },
  {
   "cell_type": "code",
   "execution_count": 10,
   "metadata": {
    "tags": []
   },
   "outputs": [],
   "source": [
    "# Estimate Dispersion Trend?\n",
    "vsd <- vst(dds)"
   ]
  },
  {
   "cell_type": "code",
   "execution_count": 11,
   "metadata": {
    "scrolled": true,
    "tags": []
   },
   "outputs": [
    {
     "name": "stdout",
     "output_type": "stream",
     "text": [
      " num [1:25411, 1:30] 3.69 8.47 12.44 6.36 5.57 ...\n",
      " - attr(*, \"dimnames\")=List of 2\n",
      "  ..$ : chr [1:25411] \"AT1G30814\" \"AT1G78930\" \"AT1G71695\" \"AT1G58983\" ...\n",
      "  ..$ : chr [1:30] \"C-A\" \"C-B\" \"C-C\" \"M6-A\" ...\n"
     ]
    }
   ],
   "source": [
    "vst <- vst(dds) %>% assay()\n",
    "vst %>% str"
   ]
  },
  {
   "cell_type": "code",
   "execution_count": 12,
   "metadata": {
    "tags": []
   },
   "outputs": [
    {
     "name": "stderr",
     "output_type": "stream",
     "text": [
      "\n",
      "Attaching package: ‘PCAtools’\n",
      "\n",
      "\n",
      "The following objects are masked from ‘package:stats’:\n",
      "\n",
      "    biplot, screeplot\n",
      "\n",
      "\n",
      "-- removing the lower 10% of variables based on variance\n",
      "\n"
     ]
    }
   ],
   "source": [
    "library(PCAtools)\n",
    "p <- PCAtools::pca(vst, metadata = sample_data, removeVar = 0.1)"
   ]
  },
  {
   "cell_type": "code",
   "execution_count": 13,
   "metadata": {
    "tags": []
   },
   "outputs": [
    {
     "name": "stderr",
     "output_type": "stream",
     "text": [
      "\u001b[1m\u001b[22mSaving 6.67 x 6.67 in image\n"
     ]
    }
   ],
   "source": [
    "options(repr.plot.width=10, repr.plot.height=10, repr.plot.res = 100)\n",
    "# options(jupyter.plot_mimetypes = \"image/svg+xml\") \n",
    "options(jupyter.plot_mimetypes = \"image/png\") \n",
    "screeplot1 <- screeplot(p, axisLabSize = 18, titleLabSize = 22)\n",
    "ggsave(file = paste0(\"./plots/screeplot\", Sys.time(), \".pdf\"), screeplot1) "
   ]
  },
  {
   "cell_type": "raw",
   "metadata": {
    "tags": []
   },
   "source": [
    "options(repr.plot.width=12, repr.plot.height=12, repr.plot.res = 100)\n",
    "biplot(p, showLoadings = TRUE,\n",
    "    labSize = 5, pointSize = 5, sizeLoadingsNames = 5) #+  geom_text_repel(label = p$metadata$sample)"
   ]
  },
  {
   "cell_type": "code",
   "execution_count": 14,
   "metadata": {
    "tags": []
   },
   "outputs": [
    {
     "name": "stderr",
     "output_type": "stream",
     "text": [
      "Warning message:\n",
      "“ggrepel: 6 unlabeled data points (too many overlaps). Consider increasing max.overlaps”\n"
     ]
    }
   ],
   "source": [
    "options(repr.plot.width=12, repr.plot.height=12, repr.plot.res = 100)\n",
    "pca_loading <- biplot(p, showLoadings = TRUE,\n",
    "    labSize = 5, pointSize = 5, sizeLoadingsNames = 5) +  geom_text_repel(label = p$metadata$sample) \n",
    "\n",
    "pca_loading %>%        ggsave(file = paste0(\"./plots/pca_loading\", Sys.time(), \".pdf\") , width = 6, height = 6)"
   ]
  },
  {
   "cell_type": "code",
   "execution_count": 15,
   "metadata": {
    "tags": []
   },
   "outputs": [],
   "source": [
    "options(repr.plot.width=12, repr.plot.height=12, repr.plot.res = 100)\n",
    "pca <- biplot(p, showLoadings = F, \n",
    "\n",
    "  x = \"PC2\",\n",
    "  y = \"PC3\",\n",
    "    labSize = 5, pointSize = 5, sizeLoadingsNames = 5,\n",
    "           lab = p$metadata$group\n",
    "             \n",
    "             ) #+  geom_text_repel(label = p$metadata$sample)\n",
    "\n",
    "ggsave(file = paste0(\"./plots/pca_PC2_PC3\", Sys.time(), \".pdf\") , pca, width = 6, height = 6)"
   ]
  },
  {
   "cell_type": "code",
   "execution_count": 16,
   "metadata": {
    "scrolled": true,
    "tags": []
   },
   "outputs": [],
   "source": [
    "p_for_plot <- p$rotated %>% cbind(p$metadata) "
   ]
  },
  {
   "cell_type": "code",
   "execution_count": null,
   "metadata": {},
   "outputs": [],
   "source": []
  },
  {
   "cell_type": "code",
   "execution_count": 17,
   "metadata": {
    "scrolled": true,
    "tags": []
   },
   "outputs": [],
   "source": [
    "g <- c()\n",
    "for ( i in 1:nrow(p_for_plot)) {\n",
    "    #print(i)\n",
    "    if(p_for_plot$rep[i] == 1) {\n",
    "        g[i] = p_for_plot$group[i]\n",
    "    } else {\n",
    "        g[i] = NA\n",
    "    }\n",
    "}\n",
    "p_for_plot$group3 <- g\n",
    "# p_for_plot"
   ]
  },
  {
   "cell_type": "markdown",
   "metadata": {},
   "source": [
    "## PCA plot"
   ]
  },
  {
   "cell_type": "code",
   "execution_count": 18,
   "metadata": {},
   "outputs": [
    {
     "data": {
      "image/png": "[encoded data removed]"
     },
     "metadata": {
      "image/png": {
       "height": 600,
       "width": 600
      }
     },
     "output_type": "display_data"
    }
   ],
   "source": [
    "options(repr.plot.width=12, repr.plot.height=12, repr.plot.res = 100)\n",
    "# Define custom colors for the groups\n",
    "custom_colors <- c(\"control\" = \"#72A063\",\n",
    "                    \"Mock-6h\" = \"#94B6CD\", \"Mock-12h\" = \"#6D9AB9\", \"Mock-20h\" = \"#4579A1\", \n",
    "                   \"AvrRps4-6h\" = \"#BDA9CB\", \"AvrRps4-12h\" = \"#926EA5\", \"AvrRps4-20h\" = \"#C452B5\", \n",
    "                    \"AvrRpt2-6h\" = \"#F4BB6C\", \"AvrRpt2-12h\" = \"#F2AB5C\", \"AvrRpt2-20h\" = \"#EE8237\")\n",
    "custom_shapes <- c('control' = 19, 'Mock' = 18, 'AvrRps4' = 17, 'AvrRpt2' = 17)\n",
    "\n",
    "# Create the PCA plot\n",
    "pca_gg <- ggplot(p_for_plot, aes(PC1, PC2, color = group, shape = treatment)) + \n",
    "  geom_jitter(size = 5, width = 1.5) +  \n",
    "  xlab(paste0('PC1 ', p$variance[1] %>% round(1), '%')) + \n",
    "  ylab(paste0('PC2 ', p$variance[2] %>% round(1), '%'))+ \n",
    "  theme_Publication() +\n",
    "  geom_text_repel(data = subset(p_for_plot, replicate == 1),\n",
    "    aes(PC1, PC2, label = group3),  size = 7\n",
    "  ) +\n",
    "  scale_shape_manual(values = custom_shapes) +\n",
    "  scale_color_manual(values = custom_colors) +\n",
    "  theme_Publication() +  \n",
    "  theme(legend.position = \"none\")\n",
    "\n",
    "# Display the plot\n",
    "pca_gg\n",
    "\n",
    "ggsave(file = paste0(\"./plots/pca_gg\", Sys.time(), \".pdf\") , pca_gg, width = 6, height = 6)"
   ]
  },
  {
   "cell_type": "code",
   "execution_count": 19,
   "metadata": {
    "tags": []
   },
   "outputs": [
    {
     "name": "stderr",
     "output_type": "stream",
     "text": [
      "-- variables retained:\n",
      "\n",
      "AT4G21830, AT2G30750, AT2G15020, AT2G27420, AT2G24850, AT5G55150, AT2G05070, AT3G20810, AT2G26020, AT5G12030, AT4G31970, AT4G23560\n",
      "\n",
      "Warning message:\n",
      "“ggrepel: 3 unlabeled data points (too many overlaps). Consider increasing max.overlaps”\n"
     ]
    }
   ],
   "source": [
    "options(repr.plot.width=16, repr.plot.height=9)\n",
    "plotloadings(p,\n",
    "    rangeRetain = 0.01,\n",
    "    labSize = 4.0,\n",
    "    title = 'Loadings plot',\n",
    "    subtitle = 'PC1, PC2, PC3, PC4',\n",
    "    caption = 'Top 1% variables',\n",
    "    shape = 24,\n",
    "    col = c('limegreen', 'black', 'red3'),\n",
    "    drawConnectors = TRUE) %>% \n",
    "    ggsave(file = paste0(\"./plots/plotloadings\", Sys.time(), \".pdf\") , width = 10, height = 6)"
   ]
  },
  {
   "cell_type": "code",
   "execution_count": 20,
   "metadata": {
    "tags": []
   },
   "outputs": [
    {
     "name": "stderr",
     "output_type": "stream",
     "text": [
      "-- variables retained:\n",
      "\n",
      "AT4G21830, AT2G30750, AT2G26560, AT4G23700, AT2G15020, AT2G27420, AT2G40610, AT2G24850, AT3G11480, AT5G55150, AT5G59680, AT5G62480, AT3G54530, AT1G74870, AT2G05070, AT3G20810, AT4G25930, AT4G21490, AT2G27690, AT2G26020, AT5G12030, AT1G52560, AT4G31970, AT2G35980, AT3G09950, AT4G23560\n",
      "\n",
      "Warning message:\n",
      "“ggrepel: 8 unlabeled data points (too many overlaps). Consider increasing max.overlaps”\n"
     ]
    }
   ],
   "source": [
    "options(repr.plot.width=16, repr.plot.height=12)\n",
    "plotloadings(p, labSize = 3)  %>% \n",
    "    ggsave(file = paste0(\"./plots/plotloadings2\", Sys.time(), \".pdf\") , width = 10, height = 6)"
   ]
  },
  {
   "cell_type": "markdown",
   "metadata": {},
   "source": [
    "## Volcano"
   ]
  },
  {
   "cell_type": "code",
   "execution_count": null,
   "metadata": {},
   "outputs": [],
   "source": []
  },
  {
   "cell_type": "raw",
   "metadata": {
    "tags": []
   },
   "source": [
    "ntd <- normTransform(dds)\n",
    "library(\"vsn\")\n",
    " meanSdPlot(assay(ntd)) "
   ]
  },
  {
   "cell_type": "raw",
   "metadata": {
    "tags": []
   },
   "source": [
    "options(repr.plot.width=16, repr.plot.height=12)\n",
    "library(\"pheatmap\")\n",
    "select <- order(rowMeans(counts(dds,normalized=TRUE)),\n",
    "                decreasing=TRUE)[1:20]\n",
    "df <- as.data.frame(colData(dds)[,c(\"hpi\",\"treatment\")])\n",
    "pheatmap(assay(ntd)[select,], cluster_rows=FALSE, show_rownames=FALSE,\n",
    "         cluster_cols=FALSE, annotation_col=df) %>% \n",
    "    ggsave(file = paste0(\"./plots/sample_pheatmap\", Sys.time(), \".pdf\") , width = 6, height = 6)"
   ]
  },
  {
   "cell_type": "code",
   "execution_count": 21,
   "metadata": {
    "scrolled": true,
    "tags": []
   },
   "outputs": [],
   "source": [
    "## sample distance\n",
    "options(repr.plot.width=14, repr.plot.height=14)\n",
    "sampleDists <- dist(t(assay(vsd)))\n",
    "library(\"RColorBrewer\")\n",
    "sampleDistMatrix <- as.matrix(sampleDists)"
   ]
  },
  {
   "cell_type": "raw",
   "metadata": {
    "tags": []
   },
   "source": [
    "options(repr.plot.width=16, repr.plot.height=16)\n",
    "colors <- colorRampPalette( rev(brewer.pal(9, \"Blues\")) )(255)\n",
    "pheatmap(sampleDistMatrix,\n",
    "         clustering_distance_rows=sampleDists,\n",
    "         clustering_distance_cols=sampleDists,\n",
    "         col=colors) %>% \n",
    "    ggsave(file = paste0(\"./plots/sampleDistMatrix\", Sys.time(), \".pdf\") , width = 6, height = 6)"
   ]
  },
  {
   "cell_type": "code",
   "execution_count": null,
   "metadata": {},
   "outputs": [],
   "source": []
  },
  {
   "cell_type": "markdown",
   "metadata": {
    "tags": []
   },
   "source": [
    "## Res by group"
   ]
  },
  {
   "cell_type": "code",
   "execution_count": 22,
   "metadata": {
    "tags": []
   },
   "outputs": [
    {
     "name": "stderr",
     "output_type": "stream",
     "text": [
      "Warning message in DESeqDataSet(se, design = design, ignoreRank):\n",
      "“some variables in design formula are characters, converting to factors”\n",
      "  Note: levels of factors in the design contain characters other than\n",
      "  letters, numbers, '_' and '.'. It is recommended (but not required) to use\n",
      "  only letters, numbers, and delimiters '_' or '.', as these are safe characters\n",
      "  for column names in R. [This is a message, not a warning or an error]\n",
      "\n",
      "estimating size factors\n",
      "\n",
      "  Note: levels of factors in the design contain characters other than\n",
      "  letters, numbers, '_' and '.'. It is recommended (but not required) to use\n",
      "  only letters, numbers, and delimiters '_' or '.', as these are safe characters\n",
      "  for column names in R. [This is a message, not a warning or an error]\n",
      "\n",
      "estimating dispersions\n",
      "\n",
      "gene-wise dispersion estimates\n",
      "\n",
      "mean-dispersion relationship\n",
      "\n",
      "  Note: levels of factors in the design contain characters other than\n",
      "  letters, numbers, '_' and '.'. It is recommended (but not required) to use\n",
      "  only letters, numbers, and delimiters '_' or '.', as these are safe characters\n",
      "  for column names in R. [This is a message, not a warning or an error]\n",
      "\n",
      "final dispersion estimates\n",
      "\n",
      "  Note: levels of factors in the design contain characters other than\n",
      "  letters, numbers, '_' and '.'. It is recommended (but not required) to use\n",
      "  only letters, numbers, and delimiters '_' or '.', as these are safe characters\n",
      "  for column names in R. [This is a message, not a warning or an error]\n",
      "\n",
      "fitting model and testing\n",
      "\n"
     ]
    },
    {
     "data": {
      "text/plain": [
       "class: DESeqDataSet \n",
       "dim: 25411 30 \n",
       "metadata(1): version\n",
       "assays(4): counts mu H cooks\n",
       "rownames(25411): AT1G30814 AT1G78930 ... ATCG01180 ATCG00950\n",
       "rowData names(54): baseMean baseVar ... deviance maxCooks\n",
       "colnames(30): C-A C-B ... S20-B S20-C\n",
       "colData names(6): sample hpi ... group sizeFactor"
      ]
     },
     "metadata": {},
     "output_type": "display_data"
    }
   ],
   "source": [
    "dds_group <- DESeqDataSetFromMatrix(countData, colData=sample_data, design= ~  group) \n",
    "dds_group <- dds_group[ rowSums(counts(dds_group)) > 5, ]\n",
    "dds_group <- DESeq(dds_group)\n",
    "dds_group"
   ]
  },
  {
   "cell_type": "code",
   "execution_count": 23,
   "metadata": {
    "tags": []
   },
   "outputs": [],
   "source": [
    "dds = dds_group"
   ]
  },
  {
   "cell_type": "code",
   "execution_count": 24,
   "metadata": {
    "tags": []
   },
   "outputs": [
    {
     "data": {
      "text/html": [
       "<style>\n",
       ".list-inline {list-style: none; margin:0; padding: 0}\n",
       ".list-inline>li {display: inline-block}\n",
       ".list-inline>li:not(:last-child)::after {content: \"\\00b7\"; padding: 0 .5ex}\n",
       "</style>\n",
       "<ol class=list-inline><li>'Intercept'</li><li>'group_AvrRps4.20h_vs_AvrRps4.12h'</li><li>'group_AvrRps4.6h_vs_AvrRps4.12h'</li><li>'group_AvrRpt2.12h_vs_AvrRps4.12h'</li><li>'group_AvrRpt2.20h_vs_AvrRps4.12h'</li><li>'group_AvrRpt2.6h_vs_AvrRps4.12h'</li><li>'group_control_vs_AvrRps4.12h'</li><li>'group_Mock.12h_vs_AvrRps4.12h'</li><li>'group_Mock.20h_vs_AvrRps4.12h'</li><li>'group_Mock.6h_vs_AvrRps4.12h'</li></ol>\n"
      ],
      "text/latex": [
       "\\begin{enumerate*}\n",
       "\\item 'Intercept'\n",
       "\\item 'group\\_AvrRps4.20h\\_vs\\_AvrRps4.12h'\n",
       "\\item 'group\\_AvrRps4.6h\\_vs\\_AvrRps4.12h'\n",
       "\\item 'group\\_AvrRpt2.12h\\_vs\\_AvrRps4.12h'\n",
       "\\item 'group\\_AvrRpt2.20h\\_vs\\_AvrRps4.12h'\n",
       "\\item 'group\\_AvrRpt2.6h\\_vs\\_AvrRps4.12h'\n",
       "\\item 'group\\_control\\_vs\\_AvrRps4.12h'\n",
       "\\item 'group\\_Mock.12h\\_vs\\_AvrRps4.12h'\n",
       "\\item 'group\\_Mock.20h\\_vs\\_AvrRps4.12h'\n",
       "\\item 'group\\_Mock.6h\\_vs\\_AvrRps4.12h'\n",
       "\\end{enumerate*}\n"
      ],
      "text/markdown": [
       "1. 'Intercept'\n",
       "2. 'group_AvrRps4.20h_vs_AvrRps4.12h'\n",
       "3. 'group_AvrRps4.6h_vs_AvrRps4.12h'\n",
       "4. 'group_AvrRpt2.12h_vs_AvrRps4.12h'\n",
       "5. 'group_AvrRpt2.20h_vs_AvrRps4.12h'\n",
       "6. 'group_AvrRpt2.6h_vs_AvrRps4.12h'\n",
       "7. 'group_control_vs_AvrRps4.12h'\n",
       "8. 'group_Mock.12h_vs_AvrRps4.12h'\n",
       "9. 'group_Mock.20h_vs_AvrRps4.12h'\n",
       "10. 'group_Mock.6h_vs_AvrRps4.12h'\n",
       "\n",
       "\n"
      ],
      "text/plain": [
       " [1] \"Intercept\"                        \"group_AvrRps4.20h_vs_AvrRps4.12h\"\n",
       " [3] \"group_AvrRps4.6h_vs_AvrRps4.12h\"  \"group_AvrRpt2.12h_vs_AvrRps4.12h\"\n",
       " [5] \"group_AvrRpt2.20h_vs_AvrRps4.12h\" \"group_AvrRpt2.6h_vs_AvrRps4.12h\" \n",
       " [7] \"group_control_vs_AvrRps4.12h\"     \"group_Mock.12h_vs_AvrRps4.12h\"   \n",
       " [9] \"group_Mock.20h_vs_AvrRps4.12h\"    \"group_Mock.6h_vs_AvrRps4.12h\"    "
      ]
     },
     "metadata": {},
     "output_type": "display_data"
    },
    {
     "data": {
      "text/plain": [
       "class: DESeqDataSet \n",
       "dim: 25411 30 \n",
       "metadata(1): version\n",
       "assays(4): counts mu H cooks\n",
       "rownames(25411): AT1G30814 AT1G78930 ... ATCG01180 ATCG00950\n",
       "rowData names(54): baseMean baseVar ... deviance maxCooks\n",
       "colnames(30): C-A C-B ... S20-B S20-C\n",
       "colData names(6): sample hpi ... group sizeFactor"
      ]
     },
     "metadata": {},
     "output_type": "display_data"
    }
   ],
   "source": [
    "resultsNames(dds)\n",
    "dds"
   ]
  },
  {
   "cell_type": "code",
   "execution_count": 25,
   "metadata": {
    "tags": []
   },
   "outputs": [
    {
     "data": {
      "text/html": [
       "<style>\n",
       ".list-inline {list-style: none; margin:0; padding: 0}\n",
       ".list-inline>li {display: inline-block}\n",
       ".list-inline>li:not(:last-child)::after {content: \"\\00b7\"; padding: 0 .5ex}\n",
       "</style>\n",
       "<ol class=list-inline><li>'control'</li><li>'Mock'</li><li>'AvrRpt2'</li><li>'AvrRps4'</li></ol>\n"
      ],
      "text/latex": [
       "\\begin{enumerate*}\n",
       "\\item 'control'\n",
       "\\item 'Mock'\n",
       "\\item 'AvrRpt2'\n",
       "\\item 'AvrRps4'\n",
       "\\end{enumerate*}\n"
      ],
      "text/markdown": [
       "1. 'control'\n",
       "2. 'Mock'\n",
       "3. 'AvrRpt2'\n",
       "4. 'AvrRps4'\n",
       "\n",
       "\n"
      ],
      "text/plain": [
       "[1] \"control\" \"Mock\"    \"AvrRpt2\" \"AvrRps4\""
      ]
     },
     "metadata": {},
     "output_type": "display_data"
    },
    {
     "data": {
      "text/html": [
       "<style>\n",
       ".list-inline {list-style: none; margin:0; padding: 0}\n",
       ".list-inline>li {display: inline-block}\n",
       ".list-inline>li:not(:last-child)::after {content: \"\\00b7\"; padding: 0 .5ex}\n",
       "</style>\n",
       "<ol class=list-inline><li>0</li><li>6</li><li>12</li><li>20</li></ol>\n"
      ],
      "text/latex": [
       "\\begin{enumerate*}\n",
       "\\item 0\n",
       "\\item 6\n",
       "\\item 12\n",
       "\\item 20\n",
       "\\end{enumerate*}\n"
      ],
      "text/markdown": [
       "1. 0\n",
       "2. 6\n",
       "3. 12\n",
       "4. 20\n",
       "\n",
       "\n"
      ],
      "text/plain": [
       "[1]  0  6 12 20"
      ]
     },
     "metadata": {},
     "output_type": "display_data"
    }
   ],
   "source": [
    "timePoints <- sample_data %>% pull(hpi) %>% unique()\n",
    "treatments <- sample_data %>% pull(treatment) %>% unique()\n",
    "treatments\n",
    "timePoints"
   ]
  },
  {
   "cell_type": "code",
   "execution_count": 26,
   "metadata": {},
   "outputs": [],
   "source": [
    "treatments = c('AvrRpt2','AvrRps4')\n",
    "timePoints = c(6, 12, 20)"
   ]
  },
  {
   "cell_type": "code",
   "execution_count": 27,
   "metadata": {},
   "outputs": [
    {
     "data": {
      "text/html": [
       "'AvrRpt2-20h'"
      ],
      "text/latex": [
       "'AvrRpt2-20h'"
      ],
      "text/markdown": [
       "'AvrRpt2-20h'"
      ],
      "text/plain": [
       "[1] \"AvrRpt2-20h\""
      ]
     },
     "metadata": {},
     "output_type": "display_data"
    }
   ],
   "source": [
    "sample_data %>% \n",
    "        subset( hpi == 20 &  treatment == 'AvrRpt2' ) %>% pull(group) %>% unique"
   ]
  },
  {
   "cell_type": "code",
   "execution_count": 28,
   "metadata": {
    "scrolled": true,
    "tags": []
   },
   "outputs": [
    {
     "name": "stdout",
     "output_type": "stream",
     "text": [
      "Working on  AvrRpt2  vs Mock 6 h\n",
      "AvrRpt2 \t 6 \n",
      "mTest  AvrRpt2-6h \n",
      "[1] \"group\"      \"AvrRpt2-6h\" \"Mock-6h\"   \n",
      "Working on  AvrRpt2  vs Mock 12 h\n",
      "AvrRpt2 \t 12 \n",
      "mTest  AvrRpt2-12h \n",
      "[1] \"group\"       \"AvrRpt2-12h\" \"Mock-12h\"   \n",
      "Working on  AvrRpt2  vs Mock 20 h\n",
      "AvrRpt2 \t 20 \n",
      "mTest  AvrRpt2-20h \n",
      "[1] \"group\"       \"AvrRpt2-20h\" \"Mock-20h\"   \n",
      "Working on  AvrRps4  vs Mock 6 h\n",
      "AvrRps4 \t 6 \n",
      "mTest  AvrRps4-6h \n",
      "[1] \"group\"      \"AvrRps4-6h\" \"Mock-6h\"   \n",
      "Working on  AvrRps4  vs Mock 12 h\n",
      "AvrRps4 \t 12 \n",
      "mTest  AvrRps4-12h \n",
      "[1] \"group\"       \"AvrRps4-12h\" \"Mock-12h\"   \n",
      "Working on  AvrRps4  vs Mock 20 h\n",
      "AvrRps4 \t 20 \n",
      "mTest  AvrRps4-20h \n",
      "[1] \"group\"       \"AvrRps4-20h\" \"Mock-20h\"   \n"
     ]
    }
   ],
   "source": [
    "### Loop over all genotypes to compute the results from the model ###\n",
    "Res <- NULL\n",
    "for(current_treatment in treatments){\n",
    "  for(timePoint in timePoints){\n",
    "\n",
    "    cat(\"Working on \", current_treatment ,\" vs Mock\", timePoint,\"h\\n\")\n",
    "      \n",
    "#       #Extract results from the model\n",
    "    cat(current_treatment,'\\t', timePoint, '\\n' )\n",
    "    mTest <- sample_data %>% \n",
    "        subset( hpi == timePoint &  treatment == current_treatment )   %>% \n",
    "          pull(group) %>% unique\n",
    "    cat('mTest ', mTest, '\\n')\n",
    "    mControl <- sample_data %>% \n",
    "        subset( hpi == timePoint &  treatment == 'Mock' )  %$%\n",
    "        group %>% as.character %>% unique\n",
    "\n",
    "    mcontrast <- c(\"group\",mTest,mControl)\n",
    "    print(mcontrast)\n",
    "\n",
    "      res <- results(object = dds,contrast = mcontrast,parallel = TRUE) %>% as.data.frame\n",
    "      res$Gene <- rownames(res)  \n",
    "\n",
    "      res$Contrast <- paste0(mcontrast[2],\"_vs_\",mcontrast[3])\n",
    "      res$hpi <- timePoint\n",
    "      res$treatment = current_treatment\n",
    "      rownames(res) <- NULL\n",
    "      Res <- rbind(Res,res)\n",
    "    }\n",
    "  }\n"
   ]
  },
  {
   "cell_type": "code",
   "execution_count": 29,
   "metadata": {
    "scrolled": true,
    "tags": []
   },
   "outputs": [],
   "source": [
    "treatments = c('AvrRpt2','AvrRps4', 'Mock')\n",
    "timePoints = c(6, 12, 20)"
   ]
  },
  {
   "cell_type": "code",
   "execution_count": 30,
   "metadata": {
    "tags": []
   },
   "outputs": [
    {
     "name": "stdout",
     "output_type": "stream",
     "text": [
      "Working on  AvrRpt2  vs control 6 h\n",
      "AvrRpt2 \t 6 \n",
      "mTest  AvrRpt2-6h \n",
      "[1] \"group\"      \"AvrRpt2-6h\" \"control\"   \n",
      "Working on  AvrRpt2  vs control 12 h\n",
      "AvrRpt2 \t 12 \n",
      "mTest  AvrRpt2-12h \n",
      "[1] \"group\"       \"AvrRpt2-12h\" \"control\"    \n",
      "Working on  AvrRpt2  vs control 20 h\n",
      "AvrRpt2 \t 20 \n",
      "mTest  AvrRpt2-20h \n",
      "[1] \"group\"       \"AvrRpt2-20h\" \"control\"    \n",
      "Working on  AvrRps4  vs control 6 h\n",
      "AvrRps4 \t 6 \n",
      "mTest  AvrRps4-6h \n",
      "[1] \"group\"      \"AvrRps4-6h\" \"control\"   \n",
      "Working on  AvrRps4  vs control 12 h\n",
      "AvrRps4 \t 12 \n",
      "mTest  AvrRps4-12h \n",
      "[1] \"group\"       \"AvrRps4-12h\" \"control\"    \n",
      "Working on  AvrRps4  vs control 20 h\n",
      "AvrRps4 \t 20 \n",
      "mTest  AvrRps4-20h \n",
      "[1] \"group\"       \"AvrRps4-20h\" \"control\"    \n",
      "Working on  Mock  vs control 6 h\n",
      "Mock \t 6 \n",
      "mTest  Mock-6h \n",
      "[1] \"group\"   \"Mock-6h\" \"control\"\n",
      "Working on  Mock  vs control 12 h\n",
      "Mock \t 12 \n",
      "mTest  Mock-12h \n",
      "[1] \"group\"    \"Mock-12h\" \"control\" \n",
      "Working on  Mock  vs control 20 h\n",
      "Mock \t 20 \n",
      "mTest  Mock-20h \n",
      "[1] \"group\"    \"Mock-20h\" \"control\" \n"
     ]
    }
   ],
   "source": [
    "### Loop over all genotypes to compute the results from the model ###\n",
    "\n",
    "for(current_treatment in treatments){\n",
    "  for(timePoint in timePoints){\n",
    "\n",
    "    cat(\"Working on \", current_treatment ,\" vs control\", timePoint,\"h\\n\")\n",
    "      \n",
    "#       #Extract results from the model\n",
    "    cat(current_treatment,'\\t', timePoint, '\\n' )\n",
    "    mTest <- sample_data %>% \n",
    "        subset( hpi == timePoint &  treatment == current_treatment )   %>% \n",
    "          pull(group) %>% unique\n",
    "    cat('mTest ', mTest, '\\n')\n",
    "    mControl <- sample_data %>% \n",
    "        subset( treatment == 'control' )  %$%\n",
    "        group %>% as.character %>% unique\n",
    "\n",
    "    mcontrast <- c(\"group\",mTest,mControl)\n",
    "    print(mcontrast)\n",
    "\n",
    "      res <- results(object = dds,contrast = mcontrast,parallel = TRUE) %>% as.data.frame\n",
    "      res$Gene <- rownames(res)\n",
    "      res$Contrast <- paste0(mcontrast[2],\"_vs_\",mcontrast[3])\n",
    "      res$hpi <- timePoint\n",
    "      res$treatment = current_treatment\n",
    "      rownames(res) <- NULL\n",
    "      Res <- rbind(Res,res)\n",
    "    }\n",
    "  }\n"
   ]
  },
  {
   "cell_type": "code",
   "execution_count": 31,
   "metadata": {
    "scrolled": true,
    "tags": []
   },
   "outputs": [],
   "source": [
    "Res <- Res %>% dplyr::select(Gene, everything())"
   ]
  },
  {
   "cell_type": "code",
   "execution_count": 32,
   "metadata": {
    "scrolled": true,
    "tags": []
   },
   "outputs": [],
   "source": [
    "Res$hpi <- as.factor(Res$hpi)"
   ]
  },
  {
   "cell_type": "markdown",
   "metadata": {},
   "source": [
    "## Valcano plots"
   ]
  },
  {
   "cell_type": "code",
   "execution_count": 33,
   "metadata": {
    "tags": []
   },
   "outputs": [],
   "source": [
    "constrasts <- Res %>% pull(Contrast) %>% unique() %>% sort() %>% c()"
   ]
  },
  {
   "cell_type": "code",
   "execution_count": 34,
   "metadata": {
    "tags": []
   },
   "outputs": [],
   "source": [
    "constrasts_mock <- constrasts[constrasts %>% str_detect('Mock')]"
   ]
  },
  {
   "cell_type": "code",
   "execution_count": 35,
   "metadata": {
    "scrolled": true,
    "tags": []
   },
   "outputs": [],
   "source": [
    "Res <- Res %>% left_join(map_id_name, by = c('Gene' = 'gene_id'))"
   ]
  },
  {
   "cell_type": "code",
   "execution_count": 36,
   "metadata": {
    "tags": []
   },
   "outputs": [
    {
     "name": "stderr",
     "output_type": "stream",
     "text": [
      "\u001b[1m\u001b[22mScale for \u001b[32mx\u001b[39m is already present.\n",
      "Adding another scale for \u001b[32mx\u001b[39m, which will replace the existing scale.\n",
      "\u001b[1m\u001b[22mScale for \u001b[32mx\u001b[39m is already present.\n",
      "Adding another scale for \u001b[32mx\u001b[39m, which will replace the existing scale.\n",
      "\u001b[1m\u001b[22mScale for \u001b[32mx\u001b[39m is already present.\n",
      "Adding another scale for \u001b[32mx\u001b[39m, which will replace the existing scale.\n",
      "\u001b[1m\u001b[22mScale for \u001b[32mx\u001b[39m is already present.\n",
      "Adding another scale for \u001b[32mx\u001b[39m, which will replace the existing scale.\n",
      "\u001b[1m\u001b[22mScale for \u001b[32mx\u001b[39m is already present.\n",
      "Adding another scale for \u001b[32mx\u001b[39m, which will replace the existing scale.\n",
      "\u001b[1m\u001b[22mScale for \u001b[32mx\u001b[39m is already present.\n",
      "Adding another scale for \u001b[32mx\u001b[39m, which will replace the existing scale.\n"
     ]
    }
   ],
   "source": [
    "plot_volcano <- function(Res_assay, title, subtitle = '') {\n",
    "\n",
    "    plot <- EnhancedVolcano(\n",
    "      Res_assay,\n",
    "      lab = Res_assay$gene_name,\n",
    "      x = 'log2FoldChange',\n",
    "      y = 'pvalue',\n",
    "     # xlim = c(-8, 8),\n",
    "      #  ylim = c(-2, 80),\n",
    "      pCutoff = 0.05,  # smaller can be labelled\n",
    "      FCcutoff = 2,  # higher can be labelled\n",
    "      title = title,\n",
    "        pointSize = 1,\n",
    "        subtitle = subtitle,\n",
    "        labSize = 2,\n",
    "        axisLabSize = 6\n",
    "#       title = deparse(substitute(Res_assay))\n",
    "\n",
    ")+ theme_Publication() + theme(legend.position = \"none\") + \n",
    "    theme(legend.position = \"none\",\n",
    "              plot.title = element_text(size = 8, face = \"bold\"),\n",
    "              plot.subtitle = element_text(size = 8),\n",
    "              axis.title = element_text(size = 8),\n",
    "              axis.text = element_text(size = 8))\n",
    "    return(plot)\n",
    "}\n",
    "\n",
    "defaultW <- getOption(\"warn\")\n",
    "options(warn = -1)\n",
    "\n",
    "AvrRps4_12h <- plot_volcano(Res %>% \n",
    "                            filter(Contrast == 'AvrRps4-12h_vs_Mock-12h'), title = 'AvrRps4-12h_vs_Mock-12h')\n",
    "AvrRps4_6h <- plot_volcano(Res %>% filter(Contrast == 'AvrRps4-6h_vs_Mock-6h'), title = 'AvrRps4-6h_vs_Mock-6h')\n",
    "AvrRps4_20h <- plot_volcano(Res %>% filter(Contrast == 'AvrRps4-20h_vs_Mock-20h'), title = 'AvrRps4-20h_vs_Mock-20h')\n",
    "AvrRpt2_12h <- plot_volcano(Res %>% \n",
    "                            filter(Contrast == 'AvrRpt2-12h_vs_Mock-12h'), title = 'AvrRpt2-12h_vs_Mock-12h')\n",
    "AvrRpt2_6h <- plot_volcano(Res %>% filter(Contrast == 'AvrRpt2-6h_vs_Mock-6h'), title = 'AvrRpt2-6h_vs_Mock-6h')\n",
    "AvrRpt2_20h <- plot_volcano(Res %>% filter(Contrast == 'AvrRpt2-20h_vs_Mock-20h'), title = 'AvrRpt2-20h_vs_Mock-20h')\n",
    "\n",
    "options(warn = defaultW)\n",
    "\n",
    "\n",
    "\n",
    "xmin = -20\n",
    "xmax = 20\n",
    "options(repr.plot.width=30, repr.plot.height=15)\n",
    "volcanos <- arrangeGrob(\n",
    "   AvrRps4_6h + xlim(xmin, xmax) + ylab(label = element_blank()), \n",
    "    AvrRps4_12h + xlim(xmin, xmax) + ylab(label = element_blank()), \n",
    "    AvrRps4_20h + xlim(xmin, xmax) + ylab(label = element_blank()), \n",
    "    \n",
    "    AvrRpt2_6h+ xlim(xmin, xmax) + ylab(label = element_blank()), \n",
    "    AvrRpt2_12h+ xlim(xmin, xmax) + ylab(label = element_blank()), \n",
    "    AvrRpt2_20h+ xlim(xmin, xmax) + ylab(label = element_blank()), \n",
    "     ncol = 3                      ) \n",
    "volcanos %>% ggsave(file = paste0(\"./plots/volcanos_\", Sys.time(), \".pdf\") , width = 8, height = 6)"
   ]
  },
  {
   "cell_type": "code",
   "execution_count": 37,
   "metadata": {
    "scrolled": true,
    "tags": []
   },
   "outputs": [
    {
     "name": "stderr",
     "output_type": "stream",
     "text": [
      "Registering fonts with R\n",
      "\n",
      "aakar already registered with pdfFont().\n",
      "\n",
      "Abyssinica SIL already registered with pdfFont().\n",
      "\n",
      "Ani already registered with pdfFont().\n",
      "\n",
      "AnjaliOldLipi already registered with pdfFont().\n",
      "\n",
      "Chandas already registered with pdfFont().\n",
      "\n",
      "DejaVu Sans already registered with pdfFont().\n",
      "\n",
      "DejaVu Sans Mono already registered with pdfFont().\n",
      "\n",
      "DejaVu Serif already registered with pdfFont().\n",
      "\n",
      "Dhurjati already registered with pdfFont().\n",
      "\n",
      "Droid Sans Fallback already registered with pdfFont().\n",
      "\n",
      "Dyuthi already registered with pdfFont().\n",
      "\n",
      "FreeMono already registered with pdfFont().\n",
      "\n",
      "FreeSans already registered with pdfFont().\n",
      "\n",
      "FreeSerif already registered with pdfFont().\n",
      "\n",
      "Gargi already registered with pdfFont().\n",
      "\n",
      "Garuda already registered with pdfFont().\n",
      "\n",
      "Gidugu already registered with pdfFont().\n",
      "\n",
      "Gubbi already registered with pdfFont().\n",
      "\n",
      "Gurajada already registered with pdfFont().\n",
      "\n",
      "Jamrul already registered with pdfFont().\n",
      "\n",
      "KacstArt already registered with pdfFont().\n",
      "\n",
      "KacstBook already registered with pdfFont().\n",
      "\n",
      "KacstDecorative already registered with pdfFont().\n",
      "\n",
      "KacstDigital already registered with pdfFont().\n",
      "\n",
      "KacstFarsi already registered with pdfFont().\n",
      "\n",
      "KacstLetter already registered with pdfFont().\n",
      "\n",
      "KacstNaskh already registered with pdfFont().\n",
      "\n",
      "KacstOffice already registered with pdfFont().\n",
      "\n",
      "KacstOne already registered with pdfFont().\n",
      "\n",
      "KacstPen already registered with pdfFont().\n",
      "\n",
      "KacstPoster already registered with pdfFont().\n",
      "\n",
      "KacstQurn already registered with pdfFont().\n",
      "\n",
      "KacstScreen already registered with pdfFont().\n",
      "\n",
      "KacstTitle already registered with pdfFont().\n",
      "\n",
      "KacstTitleL already registered with pdfFont().\n",
      "\n",
      "Kalapi already registered with pdfFont().\n",
      "\n",
      "Kalimati already registered with pdfFont().\n",
      "\n",
      "Karumbi already registered with pdfFont().\n",
      "\n",
      "Keraleeyam already registered with pdfFont().\n",
      "\n",
      "Khmer OS already registered with pdfFont().\n",
      "\n",
      "Khmer OS System already registered with pdfFont().\n",
      "\n",
      "More than one version of regular/bold/italic found for Kinnari. Skipping setup for this font.\n",
      "\n",
      "LakkiReddy already registered with pdfFont().\n",
      "\n",
      "Laksaman already registered with pdfFont().\n",
      "\n",
      "More than one version of regular/bold/italic found for Liberation Mono. Skipping setup for this font.\n",
      "\n",
      "More than one version of regular/bold/italic found for Liberation Sans. Skipping setup for this font.\n",
      "\n",
      "Liberation Sans Narrow already registered with pdfFont().\n",
      "\n",
      "More than one version of regular/bold/italic found for Liberation Serif. Skipping setup for this font.\n",
      "\n",
      "Likhan already registered with pdfFont().\n",
      "\n",
      "LKLUG already registered with pdfFont().\n",
      "\n",
      "Lohit Assamese already registered with pdfFont().\n",
      "\n",
      "Lohit Bengali already registered with pdfFont().\n",
      "\n",
      "Lohit Devanagari already registered with pdfFont().\n",
      "\n",
      "Lohit Gujarati already registered with pdfFont().\n",
      "\n",
      "Lohit Gurmukhi already registered with pdfFont().\n",
      "\n",
      "Lohit Kannada already registered with pdfFont().\n",
      "\n",
      "Lohit Malayalam already registered with pdfFont().\n",
      "\n",
      "Lohit Odia already registered with pdfFont().\n",
      "\n",
      "Lohit Tamil already registered with pdfFont().\n",
      "\n",
      "Lohit Tamil Classical already registered with pdfFont().\n",
      "\n",
      "Lohit Telugu already registered with pdfFont().\n",
      "\n",
      "Loma already registered with pdfFont().\n",
      "\n",
      "Mallanna already registered with pdfFont().\n",
      "\n",
      "Mandali already registered with pdfFont().\n",
      "\n",
      "Meera already registered with pdfFont().\n",
      "\n",
      "Mitra  already registered with pdfFont().\n",
      "\n",
      "mry_KacstQurn already registered with pdfFont().\n",
      "\n",
      "More than one version of regular/bold/italic found for Mukti. Skipping setup for this font.\n",
      "\n",
      "Nakula already registered with pdfFont().\n",
      "\n",
      "NATS already registered with pdfFont().\n",
      "\n",
      "Navilu already registered with pdfFont().\n",
      "\n",
      "More than one version of regular/bold/italic found for Norasi. Skipping setup for this font.\n",
      "\n",
      "Noto Mono already registered with pdfFont().\n",
      "\n",
      "Noto Sans Mono already registered with pdfFont().\n",
      "\n",
      "NTR already registered with pdfFont().\n",
      "\n",
      "OpenSymbol already registered with pdfFont().\n",
      "\n",
      "Padauk already registered with pdfFont().\n",
      "\n",
      "Padauk Book already registered with pdfFont().\n",
      "\n",
      "More than one version of regular/bold/italic found for padmaa. Skipping setup for this font.\n",
      "\n",
      "No regular (non-bold, non-italic) version of padmaa-Bold.1.1. Skipping setup for this font.\n",
      "\n",
      "Pagul already registered with pdfFont().\n",
      "\n",
      "Peddana already registered with pdfFont().\n",
      "\n",
      "Phetsarath OT already registered with pdfFont().\n",
      "\n",
      "Ponnala already registered with pdfFont().\n",
      "\n",
      "Pothana2000 already registered with pdfFont().\n",
      "\n",
      "Potti Sreeramulu already registered with pdfFont().\n",
      "\n",
      "Purisa already registered with pdfFont().\n",
      "\n",
      "Rachana already registered with pdfFont().\n",
      "\n",
      "RaghuMalayalamSans already registered with pdfFont().\n",
      "\n",
      "Ramabhadra already registered with pdfFont().\n",
      "\n",
      "Ramaraja already registered with pdfFont().\n",
      "\n",
      "Rasa already registered with pdfFont().\n",
      "\n",
      "Rasa Light already registered with pdfFont().\n",
      "\n",
      "Rasa Medium already registered with pdfFont().\n",
      "\n",
      "Rasa SemiBold already registered with pdfFont().\n",
      "\n",
      "RaviPrakash already registered with pdfFont().\n",
      "\n",
      "Rekha already registered with pdfFont().\n",
      "\n",
      "Saab already registered with pdfFont().\n",
      "\n",
      "Sahadeva already registered with pdfFont().\n",
      "\n",
      "Samanata already registered with pdfFont().\n",
      "\n",
      "Samyak Devanagari already registered with pdfFont().\n",
      "\n",
      "Samyak Gujarati already registered with pdfFont().\n",
      "\n",
      "Samyak Malayalam already registered with pdfFont().\n",
      "\n",
      "Samyak Tamil already registered with pdfFont().\n",
      "\n",
      "Sarai already registered with pdfFont().\n",
      "\n",
      "Sawasdee already registered with pdfFont().\n",
      "\n",
      "Sree Krushnadevaraya already registered with pdfFont().\n",
      "\n",
      "Suranna already registered with pdfFont().\n",
      "\n",
      "Suravaram already registered with pdfFont().\n",
      "\n",
      "Suruma already registered with pdfFont().\n",
      "\n",
      "Syamala Ramana already registered with pdfFont().\n",
      "\n",
      "TenaliRamakrishna already registered with pdfFont().\n",
      "\n",
      "Tibetan Machine Uni already registered with pdfFont().\n",
      "\n",
      "Timmana already registered with pdfFont().\n",
      "\n",
      "Tlwg Typist already registered with pdfFont().\n",
      "\n",
      "Tlwg Typo already registered with pdfFont().\n",
      "\n",
      "TlwgMono already registered with pdfFont().\n",
      "\n",
      "TlwgTypewriter already registered with pdfFont().\n",
      "\n",
      "Ubuntu already registered with pdfFont().\n",
      "\n",
      "Ubuntu Condensed already registered with pdfFont().\n",
      "\n",
      "Ubuntu Light already registered with pdfFont().\n",
      "\n",
      "Ubuntu Mono already registered with pdfFont().\n",
      "\n",
      "Ubuntu Thin already registered with pdfFont().\n",
      "\n",
      "More than one version of regular/bold/italic found for Umpush. Skipping setup for this font.\n",
      "\n",
      "Uroob already registered with pdfFont().\n",
      "\n",
      "utkal already registered with pdfFont().\n",
      "\n",
      "Vemana2000 already registered with pdfFont().\n",
      "\n",
      "Waree already registered with pdfFont().\n",
      "\n",
      "Yrsa already registered with pdfFont().\n",
      "\n",
      "Yrsa Light already registered with pdfFont().\n",
      "\n",
      "Yrsa Medium already registered with pdfFont().\n",
      "\n",
      "Yrsa SemiBold already registered with pdfFont().\n",
      "\n",
      "aakar already registered with postscriptFont().\n",
      "\n",
      "Abyssinica SIL already registered with postscriptFont().\n",
      "\n",
      "Ani already registered with postscriptFont().\n",
      "\n",
      "AnjaliOldLipi already registered with postscriptFont().\n",
      "\n",
      "Chandas already registered with postscriptFont().\n",
      "\n",
      "DejaVu Sans already registered with postscriptFont().\n",
      "\n",
      "DejaVu Sans Mono already registered with postscriptFont().\n",
      "\n",
      "DejaVu Serif already registered with postscriptFont().\n",
      "\n",
      "Dhurjati already registered with postscriptFont().\n",
      "\n",
      "Droid Sans Fallback already registered with postscriptFont().\n",
      "\n",
      "Dyuthi already registered with postscriptFont().\n",
      "\n",
      "FreeMono already registered with postscriptFont().\n",
      "\n",
      "FreeSans already registered with postscriptFont().\n",
      "\n",
      "FreeSerif already registered with postscriptFont().\n",
      "\n",
      "Gargi already registered with postscriptFont().\n",
      "\n",
      "Garuda already registered with postscriptFont().\n",
      "\n",
      "Gidugu already registered with postscriptFont().\n",
      "\n",
      "Gubbi already registered with postscriptFont().\n",
      "\n",
      "Gurajada already registered with postscriptFont().\n",
      "\n",
      "Jamrul already registered with postscriptFont().\n",
      "\n",
      "KacstArt already registered with postscriptFont().\n",
      "\n",
      "KacstBook already registered with postscriptFont().\n",
      "\n",
      "KacstDecorative already registered with postscriptFont().\n",
      "\n",
      "KacstDigital already registered with postscriptFont().\n",
      "\n",
      "KacstFarsi already registered with postscriptFont().\n",
      "\n",
      "KacstLetter already registered with postscriptFont().\n",
      "\n",
      "KacstNaskh already registered with postscriptFont().\n",
      "\n",
      "KacstOffice already registered with postscriptFont().\n",
      "\n",
      "KacstOne already registered with postscriptFont().\n",
      "\n",
      "KacstPen already registered with postscriptFont().\n",
      "\n",
      "KacstPoster already registered with postscriptFont().\n",
      "\n",
      "KacstQurn already registered with postscriptFont().\n",
      "\n",
      "KacstScreen already registered with postscriptFont().\n",
      "\n",
      "KacstTitle already registered with postscriptFont().\n",
      "\n",
      "KacstTitleL already registered with postscriptFont().\n",
      "\n",
      "Kalapi already registered with postscriptFont().\n",
      "\n",
      "Kalimati already registered with postscriptFont().\n",
      "\n",
      "Karumbi already registered with postscriptFont().\n",
      "\n",
      "Keraleeyam already registered with postscriptFont().\n",
      "\n",
      "Khmer OS already registered with postscriptFont().\n",
      "\n",
      "Khmer OS System already registered with postscriptFont().\n",
      "\n",
      "More than one version of regular/bold/italic found for Kinnari. Skipping setup for this font.\n",
      "\n",
      "LakkiReddy already registered with postscriptFont().\n",
      "\n",
      "Laksaman already registered with postscriptFont().\n",
      "\n",
      "More than one version of regular/bold/italic found for Liberation Mono. Skipping setup for this font.\n",
      "\n",
      "More than one version of regular/bold/italic found for Liberation Sans. Skipping setup for this font.\n",
      "\n",
      "Liberation Sans Narrow already registered with postscriptFont().\n",
      "\n",
      "More than one version of regular/bold/italic found for Liberation Serif. Skipping setup for this font.\n",
      "\n",
      "Likhan already registered with postscriptFont().\n",
      "\n",
      "LKLUG already registered with postscriptFont().\n",
      "\n",
      "Lohit Assamese already registered with postscriptFont().\n",
      "\n",
      "Lohit Bengali already registered with postscriptFont().\n",
      "\n",
      "Lohit Devanagari already registered with postscriptFont().\n",
      "\n",
      "Lohit Gujarati already registered with postscriptFont().\n",
      "\n",
      "Lohit Gurmukhi already registered with postscriptFont().\n",
      "\n",
      "Lohit Kannada already registered with postscriptFont().\n",
      "\n",
      "Lohit Malayalam already registered with postscriptFont().\n",
      "\n",
      "Lohit Odia already registered with postscriptFont().\n",
      "\n",
      "Lohit Tamil already registered with postscriptFont().\n",
      "\n",
      "Lohit Tamil Classical already registered with postscriptFont().\n",
      "\n",
      "Lohit Telugu already registered with postscriptFont().\n",
      "\n",
      "Loma already registered with postscriptFont().\n",
      "\n",
      "Mallanna already registered with postscriptFont().\n",
      "\n",
      "Mandali already registered with postscriptFont().\n",
      "\n",
      "Meera already registered with postscriptFont().\n",
      "\n",
      "Mitra  already registered with postscriptFont().\n",
      "\n",
      "mry_KacstQurn already registered with postscriptFont().\n",
      "\n",
      "More than one version of regular/bold/italic found for Mukti. Skipping setup for this font.\n",
      "\n",
      "Nakula already registered with postscriptFont().\n",
      "\n",
      "NATS already registered with postscriptFont().\n",
      "\n",
      "Navilu already registered with postscriptFont().\n",
      "\n",
      "More than one version of regular/bold/italic found for Norasi. Skipping setup for this font.\n",
      "\n",
      "Noto Mono already registered with postscriptFont().\n",
      "\n",
      "Noto Sans Mono already registered with postscriptFont().\n",
      "\n",
      "NTR already registered with postscriptFont().\n",
      "\n",
      "OpenSymbol already registered with postscriptFont().\n",
      "\n",
      "Padauk already registered with postscriptFont().\n",
      "\n",
      "Padauk Book already registered with postscriptFont().\n",
      "\n",
      "More than one version of regular/bold/italic found for padmaa. Skipping setup for this font.\n",
      "\n",
      "No regular (non-bold, non-italic) version of padmaa-Bold.1.1. Skipping setup for this font.\n",
      "\n",
      "Pagul already registered with postscriptFont().\n",
      "\n",
      "Peddana already registered with postscriptFont().\n",
      "\n",
      "Phetsarath OT already registered with postscriptFont().\n",
      "\n",
      "Ponnala already registered with postscriptFont().\n",
      "\n",
      "Pothana2000 already registered with postscriptFont().\n",
      "\n",
      "Potti Sreeramulu already registered with postscriptFont().\n",
      "\n",
      "Purisa already registered with postscriptFont().\n",
      "\n",
      "Rachana already registered with postscriptFont().\n",
      "\n",
      "RaghuMalayalamSans already registered with postscriptFont().\n",
      "\n",
      "Ramabhadra already registered with postscriptFont().\n",
      "\n",
      "Ramaraja already registered with postscriptFont().\n",
      "\n",
      "Rasa already registered with postscriptFont().\n",
      "\n",
      "Rasa Light already registered with postscriptFont().\n",
      "\n",
      "Rasa Medium already registered with postscriptFont().\n",
      "\n",
      "Rasa SemiBold already registered with postscriptFont().\n",
      "\n",
      "RaviPrakash already registered with postscriptFont().\n",
      "\n",
      "Rekha already registered with postscriptFont().\n",
      "\n",
      "Saab already registered with postscriptFont().\n",
      "\n",
      "Sahadeva already registered with postscriptFont().\n",
      "\n",
      "Samanata already registered with postscriptFont().\n",
      "\n",
      "Samyak Devanagari already registered with postscriptFont().\n",
      "\n",
      "Samyak Gujarati already registered with postscriptFont().\n",
      "\n",
      "Samyak Malayalam already registered with postscriptFont().\n",
      "\n",
      "Samyak Tamil already registered with postscriptFont().\n",
      "\n",
      "Sarai already registered with postscriptFont().\n",
      "\n",
      "Sawasdee already registered with postscriptFont().\n",
      "\n",
      "Sree Krushnadevaraya already registered with postscriptFont().\n",
      "\n",
      "Suranna already registered with postscriptFont().\n",
      "\n",
      "Suravaram already registered with postscriptFont().\n",
      "\n",
      "Suruma already registered with postscriptFont().\n",
      "\n",
      "Syamala Ramana already registered with postscriptFont().\n",
      "\n",
      "TenaliRamakrishna already registered with postscriptFont().\n",
      "\n",
      "Tibetan Machine Uni already registered with postscriptFont().\n",
      "\n",
      "Timmana already registered with postscriptFont().\n",
      "\n",
      "Tlwg Typist already registered with postscriptFont().\n",
      "\n",
      "Tlwg Typo already registered with postscriptFont().\n",
      "\n",
      "TlwgMono already registered with postscriptFont().\n",
      "\n",
      "TlwgTypewriter already registered with postscriptFont().\n",
      "\n",
      "Ubuntu already registered with postscriptFont().\n",
      "\n",
      "Ubuntu Condensed already registered with postscriptFont().\n",
      "\n",
      "Ubuntu Light already registered with postscriptFont().\n",
      "\n",
      "Ubuntu Mono already registered with postscriptFont().\n",
      "\n",
      "Ubuntu Thin already registered with postscriptFont().\n",
      "\n",
      "More than one version of regular/bold/italic found for Umpush. Skipping setup for this font.\n",
      "\n",
      "Uroob already registered with postscriptFont().\n",
      "\n",
      "utkal already registered with postscriptFont().\n",
      "\n",
      "Vemana2000 already registered with postscriptFont().\n",
      "\n",
      "Waree already registered with postscriptFont().\n",
      "\n",
      "Yrsa already registered with postscriptFont().\n",
      "\n",
      "Yrsa Light already registered with postscriptFont().\n",
      "\n",
      "Yrsa Medium already registered with postscriptFont().\n",
      "\n",
      "Yrsa SemiBold already registered with postscriptFont().\n",
      "\n",
      "aakar already registered with pdfFont().\n",
      "\n",
      "Abyssinica SIL already registered with pdfFont().\n",
      "\n",
      "Ani already registered with pdfFont().\n",
      "\n",
      "AnjaliOldLipi already registered with pdfFont().\n",
      "\n",
      "Chandas already registered with pdfFont().\n",
      "\n",
      "DejaVu Sans already registered with pdfFont().\n",
      "\n",
      "DejaVu Sans Mono already registered with pdfFont().\n",
      "\n",
      "DejaVu Serif already registered with pdfFont().\n",
      "\n",
      "Dhurjati already registered with pdfFont().\n",
      "\n",
      "Droid Sans Fallback already registered with pdfFont().\n",
      "\n",
      "Dyuthi already registered with pdfFont().\n",
      "\n",
      "FreeMono already registered with pdfFont().\n",
      "\n",
      "FreeSans already registered with pdfFont().\n",
      "\n",
      "FreeSerif already registered with pdfFont().\n",
      "\n",
      "Gargi already registered with pdfFont().\n",
      "\n",
      "Garuda already registered with pdfFont().\n",
      "\n",
      "Gidugu already registered with pdfFont().\n",
      "\n",
      "Gubbi already registered with pdfFont().\n",
      "\n",
      "Gurajada already registered with pdfFont().\n",
      "\n",
      "Jamrul already registered with pdfFont().\n",
      "\n",
      "KacstArt already registered with pdfFont().\n",
      "\n",
      "KacstBook already registered with pdfFont().\n",
      "\n",
      "KacstDecorative already registered with pdfFont().\n",
      "\n",
      "KacstDigital already registered with pdfFont().\n",
      "\n",
      "KacstFarsi already registered with pdfFont().\n",
      "\n",
      "KacstLetter already registered with pdfFont().\n",
      "\n",
      "KacstNaskh already registered with pdfFont().\n",
      "\n",
      "KacstOffice already registered with pdfFont().\n",
      "\n",
      "KacstOne already registered with pdfFont().\n",
      "\n",
      "KacstPen already registered with pdfFont().\n",
      "\n",
      "KacstPoster already registered with pdfFont().\n",
      "\n",
      "KacstQurn already registered with pdfFont().\n",
      "\n",
      "KacstScreen already registered with pdfFont().\n",
      "\n",
      "KacstTitle already registered with pdfFont().\n",
      "\n",
      "KacstTitleL already registered with pdfFont().\n",
      "\n",
      "Kalapi already registered with pdfFont().\n",
      "\n",
      "Kalimati already registered with pdfFont().\n",
      "\n",
      "Karumbi already registered with pdfFont().\n",
      "\n",
      "Keraleeyam already registered with pdfFont().\n",
      "\n",
      "Khmer OS already registered with pdfFont().\n",
      "\n",
      "Khmer OS System already registered with pdfFont().\n",
      "\n",
      "More than one version of regular/bold/italic found for Kinnari. Skipping setup for this font.\n",
      "\n",
      "LakkiReddy already registered with pdfFont().\n",
      "\n",
      "Laksaman already registered with pdfFont().\n",
      "\n",
      "More than one version of regular/bold/italic found for Liberation Mono. Skipping setup for this font.\n",
      "\n",
      "More than one version of regular/bold/italic found for Liberation Sans. Skipping setup for this font.\n",
      "\n",
      "Liberation Sans Narrow already registered with pdfFont().\n",
      "\n",
      "More than one version of regular/bold/italic found for Liberation Serif. Skipping setup for this font.\n",
      "\n",
      "Likhan already registered with pdfFont().\n",
      "\n",
      "LKLUG already registered with pdfFont().\n",
      "\n",
      "Lohit Assamese already registered with pdfFont().\n",
      "\n",
      "Lohit Bengali already registered with pdfFont().\n",
      "\n",
      "Lohit Devanagari already registered with pdfFont().\n",
      "\n",
      "Lohit Gujarati already registered with pdfFont().\n",
      "\n",
      "Lohit Gurmukhi already registered with pdfFont().\n",
      "\n",
      "Lohit Kannada already registered with pdfFont().\n",
      "\n",
      "Lohit Malayalam already registered with pdfFont().\n",
      "\n",
      "Lohit Odia already registered with pdfFont().\n",
      "\n",
      "Lohit Tamil already registered with pdfFont().\n",
      "\n",
      "Lohit Tamil Classical already registered with pdfFont().\n",
      "\n",
      "Lohit Telugu already registered with pdfFont().\n",
      "\n",
      "Loma already registered with pdfFont().\n",
      "\n",
      "Mallanna already registered with pdfFont().\n",
      "\n",
      "Mandali already registered with pdfFont().\n",
      "\n",
      "Meera already registered with pdfFont().\n",
      "\n",
      "Mitra  already registered with pdfFont().\n",
      "\n",
      "mry_KacstQurn already registered with pdfFont().\n",
      "\n",
      "More than one version of regular/bold/italic found for Mukti. Skipping setup for this font.\n",
      "\n",
      "Nakula already registered with pdfFont().\n",
      "\n",
      "NATS already registered with pdfFont().\n",
      "\n",
      "Navilu already registered with pdfFont().\n",
      "\n",
      "More than one version of regular/bold/italic found for Norasi. Skipping setup for this font.\n",
      "\n",
      "Noto Mono already registered with pdfFont().\n",
      "\n",
      "Noto Sans Mono already registered with pdfFont().\n",
      "\n",
      "NTR already registered with pdfFont().\n",
      "\n",
      "OpenSymbol already registered with pdfFont().\n",
      "\n",
      "Padauk already registered with pdfFont().\n",
      "\n",
      "Padauk Book already registered with pdfFont().\n",
      "\n",
      "More than one version of regular/bold/italic found for padmaa. Skipping setup for this font.\n",
      "\n",
      "No regular (non-bold, non-italic) version of padmaa-Bold.1.1. Skipping setup for this font.\n",
      "\n",
      "Pagul already registered with pdfFont().\n",
      "\n",
      "Peddana already registered with pdfFont().\n",
      "\n",
      "Phetsarath OT already registered with pdfFont().\n",
      "\n",
      "Ponnala already registered with pdfFont().\n",
      "\n",
      "Pothana2000 already registered with pdfFont().\n",
      "\n",
      "Potti Sreeramulu already registered with pdfFont().\n",
      "\n",
      "Purisa already registered with pdfFont().\n",
      "\n",
      "Rachana already registered with pdfFont().\n",
      "\n",
      "RaghuMalayalamSans already registered with pdfFont().\n",
      "\n",
      "Ramabhadra already registered with pdfFont().\n",
      "\n",
      "Ramaraja already registered with pdfFont().\n",
      "\n",
      "Rasa already registered with pdfFont().\n",
      "\n",
      "Rasa Light already registered with pdfFont().\n",
      "\n",
      "Rasa Medium already registered with pdfFont().\n",
      "\n",
      "Rasa SemiBold already registered with pdfFont().\n",
      "\n",
      "RaviPrakash already registered with pdfFont().\n",
      "\n",
      "Rekha already registered with pdfFont().\n",
      "\n",
      "Saab already registered with pdfFont().\n",
      "\n",
      "Sahadeva already registered with pdfFont().\n",
      "\n",
      "Samanata already registered with pdfFont().\n",
      "\n",
      "Samyak Devanagari already registered with pdfFont().\n",
      "\n",
      "Samyak Gujarati already registered with pdfFont().\n",
      "\n",
      "Samyak Malayalam already registered with pdfFont().\n",
      "\n",
      "Samyak Tamil already registered with pdfFont().\n",
      "\n",
      "Sarai already registered with pdfFont().\n",
      "\n",
      "Sawasdee already registered with pdfFont().\n",
      "\n",
      "Sree Krushnadevaraya already registered with pdfFont().\n",
      "\n",
      "Suranna already registered with pdfFont().\n",
      "\n",
      "Suravaram already registered with pdfFont().\n",
      "\n",
      "Suruma already registered with pdfFont().\n",
      "\n",
      "Syamala Ramana already registered with pdfFont().\n",
      "\n",
      "TenaliRamakrishna already registered with pdfFont().\n",
      "\n",
      "Tibetan Machine Uni already registered with pdfFont().\n",
      "\n",
      "Timmana already registered with pdfFont().\n",
      "\n",
      "Tlwg Typist already registered with pdfFont().\n",
      "\n",
      "Tlwg Typo already registered with pdfFont().\n",
      "\n",
      "TlwgMono already registered with pdfFont().\n",
      "\n",
      "TlwgTypewriter already registered with pdfFont().\n",
      "\n",
      "Ubuntu already registered with pdfFont().\n",
      "\n",
      "Ubuntu Condensed already registered with pdfFont().\n",
      "\n",
      "Ubuntu Light already registered with pdfFont().\n",
      "\n",
      "Ubuntu Mono already registered with pdfFont().\n",
      "\n",
      "Ubuntu Thin already registered with pdfFont().\n",
      "\n",
      "More than one version of regular/bold/italic found for Umpush. Skipping setup for this font.\n",
      "\n",
      "Uroob already registered with pdfFont().\n",
      "\n",
      "utkal already registered with pdfFont().\n",
      "\n",
      "Vemana2000 already registered with pdfFont().\n",
      "\n",
      "Waree already registered with pdfFont().\n",
      "\n",
      "Yrsa already registered with pdfFont().\n",
      "\n",
      "Yrsa Light already registered with pdfFont().\n",
      "\n",
      "Yrsa Medium already registered with pdfFont().\n",
      "\n",
      "Yrsa SemiBold already registered with pdfFont().\n",
      "\n"
     ]
    }
   ],
   "source": [
    "library(extrafont) \n",
    "# font_import() # only run once\n",
    "loadfonts()\n",
    "loadfonts(device = \"pdf\") # Load the fonts for the PDF device"
   ]
  },
  {
   "cell_type": "markdown",
   "metadata": {},
   "source": [
    "## heatmap"
   ]
  },
  {
   "cell_type": "code",
   "execution_count": 38,
   "metadata": {
    "scrolled": true,
    "tags": []
   },
   "outputs": [],
   "source": [
    "z_assay <- ( vst - mean(vst) ) / sd(vst)"
   ]
  },
  {
   "cell_type": "code",
   "execution_count": 39,
   "metadata": {
    "tags": []
   },
   "outputs": [
    {
     "data": {
      "text/html": [
       "<strong>90%:</strong> 0.106900177750201"
      ],
      "text/latex": [
       "\\textbf{90\\textbackslash{}\\%:} 0.106900177750201"
      ],
      "text/markdown": [
       "**90%:** 0.106900177750201"
      ],
      "text/plain": [
       "      90% \n",
       "0.1069002 "
      ]
     },
     "metadata": {},
     "output_type": "display_data"
    }
   ],
   "source": [
    "# Calculate the variance for each gene\n",
    "variances <- apply(z_assay, 1, var)\n",
    "\n",
    "# Determine the upper quartile variance cutoff value\n",
    "upper_var <- quantile(variances, 0.9)\n",
    "upper_var"
   ]
  },
  {
   "cell_type": "code",
   "execution_count": 40,
   "metadata": {
    "scrolled": true,
    "tags": []
   },
   "outputs": [
    {
     "data": {
      "text/html": [
       "2541"
      ],
      "text/latex": [
       "2541"
      ],
      "text/markdown": [
       "2541"
      ],
      "text/plain": [
       "[1] 2541"
      ]
     },
     "metadata": {},
     "output_type": "display_data"
    }
   ],
   "source": [
    "df_by_var  <- data.frame(z_assay) %>%\n",
    "  dplyr::filter(variances > upper_var)\n",
    "df_by_var %>% nrow()\n",
    "# df_by_var %>% str()"
   ]
  },
  {
   "cell_type": "raw",
   "metadata": {
    "tags": []
   },
   "source": [
    "## very time consuming\n",
    "options(repr.plot.width=16, repr.plot.height=10, repr.plot.res = 100)\n",
    "heatmap <- pheatmap(\n",
    "  z_assay,\n",
    "  cluster_rows = TRUE, # Cluster the rows of the heatmap (genes in this case)\n",
    "  cluster_cols = F, # Cluster the columns of the heatmap (samples),\n",
    "  show_rownames = FALSE, # There are too many genes to clearly show the labels\n",
    "    \n",
    "  annotation_col = sample_data %>% select( hpi, treatment),\n",
    "    \n",
    "  main = \"\",\n",
    "  colorRampPalette(c(\n",
    "    \"deepskyblue\",\n",
    "    \"black\",\n",
    "    \"yellow\"\n",
    "  ))(25\n",
    "  ),\n",
    "  scale = \"row\" # Scale values in the direction of genes (rows)\n",
    ")"
   ]
  },
  {
   "cell_type": "raw",
   "metadata": {
    "tags": []
   },
   "source": [
    "heatmap %>% saveRDS('./Rds_Rdata_hisat2/heatmap_DEG.rds')"
   ]
  },
  {
   "cell_type": "raw",
   "metadata": {
    "tags": []
   },
   "source": [
    "heatmap <- readRDS('./Rds_Rdata_hisat2/heatmap_DEG.rds')\n",
    "heatmap"
   ]
  },
  {
   "cell_type": "code",
   "execution_count": 41,
   "metadata": {
    "scrolled": true,
    "tags": []
   },
   "outputs": [
    {
     "data": {
      "text/html": [
       "<strong>png:</strong> 2"
      ],
      "text/latex": [
       "\\textbf{png:} 2"
      ],
      "text/markdown": [
       "**png:** 2"
      ],
      "text/plain": [
       "png \n",
       "  2 "
      ]
     },
     "metadata": {},
     "output_type": "display_data"
    }
   ],
   "source": [
    "pdf(file=\"./plots/Heatmap.pdf\", width = 18, height = 12)\n",
    "heatmap\n",
    "dev.off()"
   ]
  },
  {
   "cell_type": "code",
   "execution_count": 42,
   "metadata": {
    "scrolled": true,
    "tags": []
   },
   "outputs": [
    {
     "data": {
      "text/html": [
       "<strong>png:</strong> 2"
      ],
      "text/latex": [
       "\\textbf{png:} 2"
      ],
      "text/markdown": [
       "**png:** 2"
      ],
      "text/plain": [
       "png \n",
       "  2 "
      ]
     },
     "metadata": {},
     "output_type": "display_data"
    }
   ],
   "source": [
    "png(file=\"./plots/heatmap.png\", width = 18, height = 12)\n",
    "heatmap\n",
    "dev.off()"
   ]
  },
  {
   "cell_type": "markdown",
   "metadata": {
    "tags": []
   },
   "source": [
    "## DEG"
   ]
  },
  {
   "cell_type": "code",
   "execution_count": 43,
   "metadata": {
    "scrolled": true,
    "tags": []
   },
   "outputs": [
    {
     "data": {
      "text/html": [
       "<table class=\"dataframe\">\n",
       "<caption>A data.frame: 2 × 11</caption>\n",
       "<thead>\n",
       "\t<tr><th></th><th scope=col>Gene</th><th scope=col>baseMean</th><th scope=col>log2FoldChange</th><th scope=col>lfcSE</th><th scope=col>stat</th><th scope=col>pvalue</th><th scope=col>padj</th><th scope=col>Contrast</th><th scope=col>hpi</th><th scope=col>treatment</th><th scope=col>gene_name</th></tr>\n",
       "\t<tr><th></th><th scope=col>&lt;chr&gt;</th><th scope=col>&lt;dbl&gt;</th><th scope=col>&lt;dbl&gt;</th><th scope=col>&lt;dbl&gt;</th><th scope=col>&lt;dbl&gt;</th><th scope=col>&lt;dbl&gt;</th><th scope=col>&lt;dbl&gt;</th><th scope=col>&lt;chr&gt;</th><th scope=col>&lt;fct&gt;</th><th scope=col>&lt;chr&gt;</th><th scope=col>&lt;chr&gt;</th></tr>\n",
       "</thead>\n",
       "<tbody>\n",
       "\t<tr><th scope=row>1</th><td>AT1G53903</td><td>38.11016</td><td>2.878136</td><td>0.6265549</td><td>4.593589</td><td>4.356870e-06</td><td>6.050019e-05</td><td>AvrRpt2-6h_vs_Mock-6h</td><td>6</td><td>AvrRpt2</td><td>AT1G53903</td></tr>\n",
       "\t<tr><th scope=row>2</th><td>AT1G49570</td><td>30.00035</td><td>3.917709</td><td>0.7561996</td><td>5.180787</td><td>2.209522e-07</td><td>4.257991e-06</td><td>AvrRpt2-6h_vs_Mock-6h</td><td>6</td><td>AvrRpt2</td><td>AT1G49570</td></tr>\n",
       "</tbody>\n",
       "</table>\n"
      ],
      "text/latex": [
       "A data.frame: 2 × 11\n",
       "\\begin{tabular}{r|lllllllllll}\n",
       "  & Gene & baseMean & log2FoldChange & lfcSE & stat & pvalue & padj & Contrast & hpi & treatment & gene\\_name\\\\\n",
       "  & <chr> & <dbl> & <dbl> & <dbl> & <dbl> & <dbl> & <dbl> & <chr> & <fct> & <chr> & <chr>\\\\\n",
       "\\hline\n",
       "\t1 & AT1G53903 & 38.11016 & 2.878136 & 0.6265549 & 4.593589 & 4.356870e-06 & 6.050019e-05 & AvrRpt2-6h\\_vs\\_Mock-6h & 6 & AvrRpt2 & AT1G53903\\\\\n",
       "\t2 & AT1G49570 & 30.00035 & 3.917709 & 0.7561996 & 5.180787 & 2.209522e-07 & 4.257991e-06 & AvrRpt2-6h\\_vs\\_Mock-6h & 6 & AvrRpt2 & AT1G49570\\\\\n",
       "\\end{tabular}\n"
      ],
      "text/markdown": [
       "\n",
       "A data.frame: 2 × 11\n",
       "\n",
       "| <!--/--> | Gene &lt;chr&gt; | baseMean &lt;dbl&gt; | log2FoldChange &lt;dbl&gt; | lfcSE &lt;dbl&gt; | stat &lt;dbl&gt; | pvalue &lt;dbl&gt; | padj &lt;dbl&gt; | Contrast &lt;chr&gt; | hpi &lt;fct&gt; | treatment &lt;chr&gt; | gene_name &lt;chr&gt; |\n",
       "|---|---|---|---|---|---|---|---|---|---|---|---|\n",
       "| 1 | AT1G53903 | 38.11016 | 2.878136 | 0.6265549 | 4.593589 | 4.356870e-06 | 6.050019e-05 | AvrRpt2-6h_vs_Mock-6h | 6 | AvrRpt2 | AT1G53903 |\n",
       "| 2 | AT1G49570 | 30.00035 | 3.917709 | 0.7561996 | 5.180787 | 2.209522e-07 | 4.257991e-06 | AvrRpt2-6h_vs_Mock-6h | 6 | AvrRpt2 | AT1G49570 |\n",
       "\n"
      ],
      "text/plain": [
       "  Gene      baseMean log2FoldChange lfcSE     stat     pvalue      \n",
       "1 AT1G53903 38.11016 2.878136       0.6265549 4.593589 4.356870e-06\n",
       "2 AT1G49570 30.00035 3.917709       0.7561996 5.180787 2.209522e-07\n",
       "  padj         Contrast              hpi treatment gene_name\n",
       "1 6.050019e-05 AvrRpt2-6h_vs_Mock-6h 6   AvrRpt2   AT1G53903\n",
       "2 4.257991e-06 AvrRpt2-6h_vs_Mock-6h 6   AvrRpt2   AT1G49570"
      ]
     },
     "metadata": {},
     "output_type": "display_data"
    }
   ],
   "source": [
    "Res_sig <- Res %>% filter(log2FoldChange %>% abs > 2, baseMean > 1, padj < 0.05) \n",
    "Res_sig %>% head(2)"
   ]
  },
  {
   "cell_type": "code",
   "execution_count": null,
   "metadata": {},
   "outputs": [],
   "source": []
  },
  {
   "cell_type": "code",
   "execution_count": 44,
   "metadata": {
    "tags": []
   },
   "outputs": [],
   "source": [
    "Res_sig_AvrRpt2_6h_down <- Res_sig %>% filter( Contrast == 'AvrRpt2-6h_vs_Mock-6h', log2FoldChange < -2)\n",
    "Res_sig_AvrRpt2_12h_down <- Res_sig %>% filter( Contrast == 'AvrRpt2-12h_vs_Mock-12h', log2FoldChange < -2)\n",
    "Res_sig_AvrRpt2_20h_down <- Res_sig %>% filter( Contrast == 'AvrRpt2-20h_vs_Mock-20h', log2FoldChange < -2)\n",
    "Res_sig_AvrRps4_6h_down <- Res_sig %>% filter( Contrast == 'AvrRps4-6h_vs_Mock-6h', log2FoldChange < -2)\n",
    "Res_sig_AvrRps4_12h_down <- Res_sig %>% filter( Contrast == 'AvrRps4-12h_vs_Mock-12h', log2FoldChange < -2)\n",
    "Res_sig_AvrRps4_20h_down <- Res_sig %>% filter( Contrast == 'AvrRps4-20h_vs_Mock-20h', log2FoldChange < -2)\n",
    "\n",
    "Res_sig_AvrRpt2_6h_up <- Res_sig %>% filter( Contrast == 'AvrRpt2-6h_vs_Mock-6h', log2FoldChange > 2)\n",
    "Res_sig_AvrRpt2_12h_up <- Res_sig %>% filter( Contrast == 'AvrRpt2-12h_vs_Mock-12h', log2FoldChange > 2)\n",
    "Res_sig_AvrRpt2_20h_up <- Res_sig %>% filter( Contrast == 'AvrRpt2-20h_vs_Mock-20h', log2FoldChange > 2)\n",
    "Res_sig_AvrRps4_6h_up <- Res_sig %>% filter( Contrast == 'AvrRps4-6h_vs_Mock-6h', log2FoldChange > 2)\n",
    "Res_sig_AvrRps4_12h_up <- Res_sig %>% filter( Contrast == 'AvrRps4-12h_vs_Mock-12h', log2FoldChange > 2)\n",
    "Res_sig_AvrRps4_20h_up <- Res_sig %>% filter( Contrast == 'AvrRps4-20h_vs_Mock-20h', log2FoldChange > 2)"
   ]
  },
  {
   "cell_type": "code",
   "execution_count": 45,
   "metadata": {
    "scrolled": true,
    "tags": []
   },
   "outputs": [],
   "source": [
    "AvrRpt2_down <- list('AvrRpt2_6h_down' = Res_sig_AvrRpt2_6h_down %>% pull(Gene) , \n",
    "               'AvrRpt2_12h_down' = Res_sig_AvrRpt2_12h_down %>% pull(Gene),\n",
    "               'AvrRpt2_20h_down' = Res_sig_AvrRpt2_20h_down %>% pull(Gene))\n",
    "AvrRps4_down <- list('AvrRps4_6h_down' = Res_sig_AvrRps4_6h_down %>% pull(Gene) , \n",
    "               'AvrRps4_12h_down' = Res_sig_AvrRps4_12h_down %>% pull(Gene),\n",
    "               'AvrRps4_20h_down' = Res_sig_AvrRps4_20h_down %>% pull(Gene))\n",
    "\n",
    "AvrRpt2_up <- list('AvrRpt2_6h_up' = Res_sig_AvrRpt2_6h_up %>% pull(Gene) , \n",
    "               'AvrRpt2_12h_up' = Res_sig_AvrRpt2_12h_up %>% pull(Gene),\n",
    "               'AvrRpt2_20h_up' = Res_sig_AvrRpt2_20h_up %>% pull(Gene))\n",
    "AvrRps4_up <- list('AvrRps4_6h_up' = Res_sig_AvrRps4_6h_up %>% pull(Gene) , \n",
    "               'AvrRps4_12h_up' = Res_sig_AvrRps4_12h_up %>% pull(Gene),\n",
    "               'AvrRps4_20h_up' = Res_sig_AvrRps4_20h_up %>% pull(Gene))"
   ]
  },
  {
   "cell_type": "code",
   "execution_count": 46,
   "metadata": {
    "scrolled": true,
    "tags": []
   },
   "outputs": [],
   "source": [
    "AvrRpt2_AvrRps4_up_6h <- list('AvrRpt2_6h_up' = Res_sig_AvrRpt2_6h_up %>% pull(Gene) ,\n",
    "                             'AvrRps4_6h_up' = Res_sig_AvrRps4_6h_up %>% pull(Gene)\n",
    "                             )\n",
    "\n",
    "AvrRpt2_AvrRps4_up_12h <- list('AvrRpt2_12h_up' = Res_sig_AvrRpt2_12h_up %>% pull(Gene),\n",
    "                            'AvrRps4_12h_up' = Res_sig_AvrRps4_12h_up %>% pull(Gene)\n",
    "                             )\n",
    "\n",
    "AvrRpt2_AvrRps4_up_20h <- list('AvrRpt2_20h_up' = Res_sig_AvrRpt2_20h_up %>% pull(Gene),\n",
    "                            'AvrRps4_20h_up' = Res_sig_AvrRps4_20h_up %>% pull(Gene)\n",
    "                             )\n",
    "AvrRpt2_AvrRps4_down_6h <- list('AvrRpt2_6h_down' = Res_sig_AvrRpt2_6h_down %>% pull(Gene) ,\n",
    "                             'AvrRps4_6h_down' = Res_sig_AvrRps4_6h_down %>% pull(Gene)\n",
    "                             )\n",
    "\n",
    "AvrRpt2_AvrRps4_down_12h <- list('AvrRpt2_12h_down' = Res_sig_AvrRpt2_12h_down %>% pull(Gene),\n",
    "                            'AvrRps4_12h_down' = Res_sig_AvrRps4_12h_down %>% pull(Gene)\n",
    "                             )\n",
    "\n",
    "AvrRpt2_AvrRps4_down_20h <- list('AvrRpt2_20h_down' = Res_sig_AvrRpt2_20h_down %>% pull(Gene),\n",
    "                            'AvrRps4_20h_down' = Res_sig_AvrRps4_20h_down %>% pull(Gene)\n",
    "                             )"
   ]
  },
  {
   "cell_type": "code",
   "execution_count": 47,
   "metadata": {
    "tags": []
   },
   "outputs": [
    {
     "name": "stderr",
     "output_type": "stream",
     "text": [
      "Loading required package: futile.logger\n",
      "\n"
     ]
    },
    {
     "data": {
      "text/plain": [
       "NULL"
      ]
     },
     "metadata": {},
     "output_type": "display_data"
    }
   ],
   "source": [
    "library(VennDiagram)\n",
    "futile.logger::flog.threshold(futile.logger::ERROR, name = \"VennDiagramLogger\") ##suppress the log file \n",
    "options(repr.plot.width=10, repr.plot.height=10)\n",
    "## https://wemp.app/posts/4444f152-32e0-4618-89a4-66a146945410\n",
    "plot_venn_three <- function (genes_list, main_title = '',  fill = c(\"green\",  \"#FB61D7\", \"#A58AFF\")) {\n",
    "    font_size = 1\n",
    "    venn.diagram(genes_list, \n",
    "                          fill = fill,\n",
    "                  alpha = c(0.5, 0.5,0.5), \n",
    "                 cat.cex = font_size, ## Vector giving the size for each category name\n",
    "                  cex= 1.4,\n",
    "                 filename=NULL,  \n",
    "                 cat.dist = -0.05, # set name distanc to set\n",
    "                  lty = 'blank', sub.fontfamily = \"sans\",\n",
    "                              cat.fontfamily = \"sans\",\n",
    "                    main =  main_title,\n",
    "                        main.pos = c(0.5, 1), main.fontface = \"plain\",\n",
    "                    main.fontfamily = \"sans\", main.col = \"black\",\n",
    "                    main.cex = font_size, fontfamily = 'sans',\n",
    "                  ggplot = T) \n",
    "}\n",
    "Venn_AvrRpt2_down <-  plot_venn_three(AvrRpt2_down, main_title = 'AvrRpt2_down')\n",
    "Venn_AvrRps4_down <- plot_venn_three(AvrRps4_down, main_title = 'AvrRps4_down')\n",
    "Venn_AvrRpt2_up <-  plot_venn_three(AvrRpt2_up, main_title = 'AvrRpt2_up')\n",
    "Venn_AvrRps4_up <- plot_venn_three(AvrRps4_up, main_title = 'AvrRps4_up')\n",
    "arrangeGrob(Venn_AvrRpt2_down, Venn_AvrRps4_down, Venn_AvrRpt2_up, Venn_AvrRps4_up,\n",
    "            ncol = 2)  %>%\n",
    "    ggsave(file = paste0(\"./plots/venn_3_\", Sys.time(), \".pdf\") , width = 8.2, height = 8.2)"
   ]
  },
  {
   "cell_type": "markdown",
   "metadata": {},
   "source": [
    "## Venn"
   ]
  },
  {
   "cell_type": "code",
   "execution_count": 48,
   "metadata": {},
   "outputs": [],
   "source": [
    "options(repr.plot.width=20, repr.plot.height=8)\n",
    "library(VennDiagram)\n",
    "\n",
    "plot_venn_2 <- function (genes_list, main_title = '') {\n",
    "  \n",
    "  set_colors <- sapply(names(genes_list), function(x) {\n",
    "    if (grepl(\"Rpt2\", x)) {\n",
    "      return(\"#F2AB5C\")\n",
    "    } else if (grepl(\"Rps4\", x)) {\n",
    "      return(\"#926EA5\")\n",
    "    } else {\n",
    "      return(\"green\")\n",
    "    }\n",
    "  })\n",
    "  \n",
    "    font_size = 1\n",
    "  venn.diagram(genes_list,\n",
    "               fill = set_colors,\n",
    "               alpha = c(0.5, 0.5),\n",
    "               cat.cex = font_size,\n",
    "               cex= font_size,\n",
    "               filename=NULL,\n",
    "               cat.dist = 0,\n",
    "               lty = 'blank',\n",
    "               sub.fontfamily = \"sans\",\n",
    "               cat.fontfamily = \"sans\",\n",
    "               main = main_title,\n",
    "               main.pos = c(0.5, 1),\n",
    "               main.fontface = \"plain\",\n",
    "               main.fontfamily = \"sans\",\n",
    "               main.col = \"black\",\n",
    "               main.cex = font_size,\n",
    "               fontfamily = 'sans',\n",
    "               ggplot = T,\n",
    "                )\n",
    "}\n",
    "\n",
    "Venn_AvrRpt2_AvrRps4_up_6h <-  plot_venn_2(AvrRpt2_AvrRps4_up_6h , main_title = 'AvrRpt2_AvrRps4_up_6h')\n",
    "Venn_AvrRpt2_AvrRps4_up_12h <-  plot_venn_2(AvrRpt2_AvrRps4_up_12h , main_title = 'AvrRpt2_AvrRps4_up_12h')\n",
    "Venn_AvrRpt2_AvrRps4_up_20h <-  plot_venn_2(AvrRpt2_AvrRps4_up_20h , main_title = 'AvrRpt2_AvrRps4_up_20h')\n",
    "Venn_AvrRpt2_AvrRps4_down_6h <-  plot_venn_2(AvrRpt2_AvrRps4_down_6h , main_title = 'AvrRpt2_AvrRps4_down_6h')\n",
    "Venn_AvrRpt2_AvrRps4_down_12h <-  plot_venn_2(AvrRpt2_AvrRps4_down_12h , main_title = 'AvrRpt2_AvrRps4_down_12h')\n",
    "Venn_AvrRpt2_AvrRps4_down_20h <-  plot_venn_2(AvrRpt2_AvrRps4_down_20h , main_title = 'AvrRpt2_AvrRps4_down_20h')\n",
    "\n",
    "venn_plot <- arrangeGrob(Venn_AvrRpt2_AvrRps4_up_6h, Venn_AvrRpt2_AvrRps4_up_12h, Venn_AvrRpt2_AvrRps4_up_20h,\n",
    "             Venn_AvrRpt2_AvrRps4_down_6h, Venn_AvrRpt2_AvrRps4_down_12h, Venn_AvrRpt2_AvrRps4_down_20h,\n",
    "            ncol = 3)\n",
    "venn_plot %>% ggsave(file = paste0(\"./plots/venn\", Sys.time(), \".pdf\") , width = 8.2, height = 6)"
   ]
  },
  {
   "cell_type": "markdown",
   "metadata": {},
   "source": [
    "## write DEG to xlsx"
   ]
  },
  {
   "cell_type": "code",
   "execution_count": 49,
   "metadata": {
    "tags": []
   },
   "outputs": [],
   "source": [
    "DEG_list <- list('Res_sig_AvrRpt2_6h_down'  =   Res_sig_AvrRpt2_6h_down,\n",
    "                'Res_sig_AvrRpt2_12h_down' =   Res_sig_AvrRpt2_12h_down,\n",
    "                'Res_sig_AvrRpt2_20h_down' =   Res_sig_AvrRpt2_20h_down,\n",
    "                'Res_sig_AvrRps4_6h_down'  =   Res_sig_AvrRps4_6h_down,\n",
    "                'Res_sig_AvrRps4_12h_down' =   Res_sig_AvrRps4_12h_down,\n",
    "                'Res_sig_AvrRps4_20h_down' =   Res_sig_AvrRps4_20h_down,\n",
    "                'Res_sig_AvrRpt2_6h_up'    =   Res_sig_AvrRpt2_6h_up,\n",
    "                'Res_sig_AvrRpt2_12h_up'   =   Res_sig_AvrRpt2_12h_up,\n",
    "                'Res_sig_AvrRpt2_20h_up'   =   Res_sig_AvrRpt2_20h_up,\n",
    "                'Res_sig_AvrRps4_6h_up'    =   Res_sig_AvrRps4_6h_up,\n",
    "                'Res_sig_AvrRps4_12h_up'   =   Res_sig_AvrRps4_12h_up,\n",
    "                'Res_sig_AvrRps4_20h_up'    =   Res_sig_AvrRps4_20h_up)"
   ]
  },
  {
   "cell_type": "code",
   "execution_count": 50,
   "metadata": {
    "tags": []
   },
   "outputs": [
    {
     "name": "stderr",
     "output_type": "stream",
     "text": [
      "Loading required package: openxlsx\n",
      "\n"
     ]
    }
   ],
   "source": [
    "require(openxlsx)"
   ]
  },
  {
   "cell_type": "code",
   "execution_count": 51,
   "metadata": {
    "tags": []
   },
   "outputs": [],
   "source": [
    "write.xlsx(DEG_list, file = \"./tables/hisat_DEG.xlsx\", overwrite = T)"
   ]
  },
  {
   "cell_type": "markdown",
   "metadata": {},
   "source": [
    "## goprofiler2"
   ]
  },
  {
   "cell_type": "code",
   "execution_count": null,
   "metadata": {},
   "outputs": [],
   "source": []
  },
  {
   "cell_type": "code",
   "execution_count": 52,
   "metadata": {
    "tags": []
   },
   "outputs": [
    {
     "name": "stderr",
     "output_type": "stream",
     "text": [
      "DOSE v3.24.0  For help: https://yulab-smu.top/biomedical-knowledge-mining-book/\n",
      "\n",
      "If you use DOSE in published research, please cite:\n",
      "Guangchuang Yu, Li-Gen Wang, Guang-Rong Yan, Qing-Yu He. DOSE: an R/Bioconductor package for Disease Ontology Semantic and Enrichment analysis. Bioinformatics 2015, 31(4):608-609\n",
      "\n",
      "\n",
      "clusterProfiler v4.6.0  For help: https://yulab-smu.top/biomedical-knowledge-mining-book/\n",
      "\n",
      "If you use clusterProfiler in published research, please cite:\n",
      "T Wu, E Hu, S Xu, M Chen, P Guo, Z Dai, T Feng, L Zhou, W Tang, L Zhan, X Fu, S Liu, X Bo, and G Yu. clusterProfiler 4.0: A universal enrichment tool for interpreting omics data. The Innovation. 2021, 2(3):100141\n",
      "\n",
      "\n",
      "Attaching package: ‘clusterProfiler’\n",
      "\n",
      "\n",
      "The following object is masked from ‘package:IRanges’:\n",
      "\n",
      "    slice\n",
      "\n",
      "\n",
      "The following object is masked from ‘package:S4Vectors’:\n",
      "\n",
      "    rename\n",
      "\n",
      "\n",
      "The following object is masked from ‘package:stats’:\n",
      "\n",
      "    filter\n",
      "\n",
      "\n"
     ]
    }
   ],
   "source": [
    "library('DOSE')\n",
    "library(\"clusterProfiler\")\n",
    "library(gprofiler2)"
   ]
  },
  {
   "cell_type": "markdown",
   "metadata": {},
   "source": [
    "https://yulab-smu.top/biomedical-knowledge-mining-book/clusterprofiler-comparecluster.html"
   ]
  },
  {
   "cell_type": "code",
   "execution_count": 53,
   "metadata": {
    "scrolled": true,
    "tags": []
   },
   "outputs": [],
   "source": [
    "ups <- list( 'AvrRpt2_6h' = Res_sig_AvrRpt2_6h_up %>% pull(Gene),\n",
    "    'AvrRps4_6h' = Res_sig_AvrRps4_6h_up %>% pull(Gene),\n",
    "     'AvrRpt2_12h' = Res_sig_AvrRpt2_12h_up %>% pull(Gene),\n",
    "    'AvrRps4_12h' = Res_sig_AvrRps4_12h_up %>% pull(Gene),\n",
    "     'AvrRpt2_20h' = Res_sig_AvrRpt2_20h_up %>% pull(Gene),\n",
    "    'AvrRps4_20h' = Res_sig_AvrRps4_20h_up %>% pull(Gene)\n",
    "     )"
   ]
  },
  {
   "cell_type": "code",
   "execution_count": 54,
   "metadata": {
    "scrolled": true,
    "tags": []
   },
   "outputs": [],
   "source": [
    "downs <- list( 'AvrRpt2_6h' = Res_sig_AvrRpt2_6h_down %>% pull(Gene),\n",
    "    'AvrRps4_6h' = Res_sig_AvrRps4_6h_down %>% pull(Gene),\n",
    "     'AvrRpt2_12h' = Res_sig_AvrRpt2_12h_down %>% pull(Gene),\n",
    "    'AvrRps4_12h' = Res_sig_AvrRps4_12h_down %>% pull(Gene),\n",
    "     'AvrRpt2_20h' = Res_sig_AvrRpt2_20h_down %>% pull(Gene),\n",
    "    'AvrRps4_20h' = Res_sig_AvrRps4_20h_down %>% pull(Gene)\n",
    "     )"
   ]
  },
  {
   "cell_type": "code",
   "execution_count": 55,
   "metadata": {
    "scrolled": true,
    "tags": []
   },
   "outputs": [],
   "source": [
    "GO_up = gost(ups,   organism = \"athaliana\", \n",
    "             sources = c(\"GO:BP\", \"GO:MF\", \"GO:CC\", \"KEGG\"), multi_query = FALSE, evcodes = TRUE)"
   ]
  },
  {
   "cell_type": "code",
   "execution_count": 56,
   "metadata": {
    "scrolled": true,
    "tags": []
   },
   "outputs": [],
   "source": [
    "GO_down = gost(downs,   organism = \"athaliana\", \n",
    "             sources = c(\"GO:BP\", \"GO:MF\", \"GO:CC\", \"KEGG\"), multi_query = FALSE, evcodes = TRUE)"
   ]
  },
  {
   "cell_type": "code",
   "execution_count": 57,
   "metadata": {
    "scrolled": true,
    "tags": []
   },
   "outputs": [
    {
     "name": "stderr",
     "output_type": "stream",
     "text": [
      "\u001b[1m\u001b[22m`summarise()` has grouped output by 'up_down'. You can override using the\n",
      "`.groups` argument.\n"
     ]
    },
    {
     "data": {
      "text/html": [
       "<table class=\"dataframe\">\n",
       "<caption>A grouped_df: 8 × 3</caption>\n",
       "<thead>\n",
       "\t<tr><th scope=col>up_down</th><th scope=col>source</th><th scope=col>n</th></tr>\n",
       "\t<tr><th scope=col>&lt;chr&gt;</th><th scope=col>&lt;chr&gt;</th><th scope=col>&lt;int&gt;</th></tr>\n",
       "</thead>\n",
       "<tbody>\n",
       "\t<tr><td>Down</td><td>GO:BP</td><td>112</td></tr>\n",
       "\t<tr><td>Down</td><td>GO:CC</td><td> 29</td></tr>\n",
       "\t<tr><td>Down</td><td>GO:MF</td><td> 19</td></tr>\n",
       "\t<tr><td>Down</td><td>KEGG </td><td> 22</td></tr>\n",
       "\t<tr><td>Up  </td><td>GO:BP</td><td>746</td></tr>\n",
       "\t<tr><td>Up  </td><td>GO:CC</td><td> 43</td></tr>\n",
       "\t<tr><td>Up  </td><td>GO:MF</td><td>186</td></tr>\n",
       "\t<tr><td>Up  </td><td>KEGG </td><td> 40</td></tr>\n",
       "</tbody>\n",
       "</table>\n"
      ],
      "text/latex": [
       "A grouped\\_df: 8 × 3\n",
       "\\begin{tabular}{lll}\n",
       " up\\_down & source & n\\\\\n",
       " <chr> & <chr> & <int>\\\\\n",
       "\\hline\n",
       "\t Down & GO:BP & 112\\\\\n",
       "\t Down & GO:CC &  29\\\\\n",
       "\t Down & GO:MF &  19\\\\\n",
       "\t Down & KEGG  &  22\\\\\n",
       "\t Up   & GO:BP & 746\\\\\n",
       "\t Up   & GO:CC &  43\\\\\n",
       "\t Up   & GO:MF & 186\\\\\n",
       "\t Up   & KEGG  &  40\\\\\n",
       "\\end{tabular}\n"
      ],
      "text/markdown": [
       "\n",
       "A grouped_df: 8 × 3\n",
       "\n",
       "| up_down &lt;chr&gt; | source &lt;chr&gt; | n &lt;int&gt; |\n",
       "|---|---|---|\n",
       "| Down | GO:BP | 112 |\n",
       "| Down | GO:CC |  29 |\n",
       "| Down | GO:MF |  19 |\n",
       "| Down | KEGG  |  22 |\n",
       "| Up   | GO:BP | 746 |\n",
       "| Up   | GO:CC |  43 |\n",
       "| Up   | GO:MF | 186 |\n",
       "| Up   | KEGG  |  40 |\n",
       "\n"
      ],
      "text/plain": [
       "  up_down source n  \n",
       "1 Down    GO:BP  112\n",
       "2 Down    GO:CC   29\n",
       "3 Down    GO:MF   19\n",
       "4 Down    KEGG    22\n",
       "5 Up      GO:BP  746\n",
       "6 Up      GO:CC   43\n",
       "7 Up      GO:MF  186\n",
       "8 Up      KEGG    40"
      ]
     },
     "metadata": {},
     "output_type": "display_data"
    }
   ],
   "source": [
    "GOs <- GO_up$result %>% mutate(up_down = 'Up') %>% \n",
    "    rbind(GO_down$result %>% mutate(up_down = 'Down'))\n",
    " GOs %>%  group_by(up_down, source) %>% summarize(n = n())"
   ]
  },
  {
   "cell_type": "code",
   "execution_count": 58,
   "metadata": {},
   "outputs": [
    {
     "data": {
      "text/html": [
       "<style>\n",
       ".list-inline {list-style: none; margin:0; padding: 0}\n",
       ".list-inline>li {display: inline-block}\n",
       ".list-inline>li:not(:last-child)::after {content: \"\\00b7\"; padding: 0 .5ex}\n",
       "</style>\n",
       "<ol class=list-inline><li>'query'</li><li>'significant'</li><li>'p_value'</li><li>'term_size'</li><li>'query_size'</li><li>'intersection_size'</li><li>'precision'</li><li>'recall'</li><li>'term_id'</li><li>'source'</li><li>'term_name'</li><li>'effective_domain_size'</li><li>'source_order'</li><li>'parents'</li><li>'evidence_codes'</li><li>'intersection'</li><li>'up_down'</li></ol>\n"
      ],
      "text/latex": [
       "\\begin{enumerate*}\n",
       "\\item 'query'\n",
       "\\item 'significant'\n",
       "\\item 'p\\_value'\n",
       "\\item 'term\\_size'\n",
       "\\item 'query\\_size'\n",
       "\\item 'intersection\\_size'\n",
       "\\item 'precision'\n",
       "\\item 'recall'\n",
       "\\item 'term\\_id'\n",
       "\\item 'source'\n",
       "\\item 'term\\_name'\n",
       "\\item 'effective\\_domain\\_size'\n",
       "\\item 'source\\_order'\n",
       "\\item 'parents'\n",
       "\\item 'evidence\\_codes'\n",
       "\\item 'intersection'\n",
       "\\item 'up\\_down'\n",
       "\\end{enumerate*}\n"
      ],
      "text/markdown": [
       "1. 'query'\n",
       "2. 'significant'\n",
       "3. 'p_value'\n",
       "4. 'term_size'\n",
       "5. 'query_size'\n",
       "6. 'intersection_size'\n",
       "7. 'precision'\n",
       "8. 'recall'\n",
       "9. 'term_id'\n",
       "10. 'source'\n",
       "11. 'term_name'\n",
       "12. 'effective_domain_size'\n",
       "13. 'source_order'\n",
       "14. 'parents'\n",
       "15. 'evidence_codes'\n",
       "16. 'intersection'\n",
       "17. 'up_down'\n",
       "\n",
       "\n"
      ],
      "text/plain": [
       " [1] \"query\"                 \"significant\"           \"p_value\"              \n",
       " [4] \"term_size\"             \"query_size\"            \"intersection_size\"    \n",
       " [7] \"precision\"             \"recall\"                \"term_id\"              \n",
       "[10] \"source\"                \"term_name\"             \"effective_domain_size\"\n",
       "[13] \"source_order\"          \"parents\"               \"evidence_codes\"       \n",
       "[16] \"intersection\"          \"up_down\"              "
      ]
     },
     "metadata": {},
     "output_type": "display_data"
    }
   ],
   "source": [
    "GOs %>% names"
   ]
  },
  {
   "cell_type": "code",
   "execution_count": 59,
   "metadata": {},
   "outputs": [
    {
     "data": {
      "text/html": [
       "<style>\n",
       ".list-inline {list-style: none; margin:0; padding: 0}\n",
       ".list-inline>li {display: inline-block}\n",
       ".list-inline>li:not(:last-child)::after {content: \"\\00b7\"; padding: 0 .5ex}\n",
       "</style>\n",
       "<ol class=list-inline><li>'query'</li><li>'source'</li><li>'term_id'</li><li>'term_name'</li><li>'p_value'</li><li>'query_size'</li><li>'intersection_size'</li><li>'term_size'</li><li>'effective_domain_size'</li><li>'intersection'</li><li>'up_down'</li><li>'GeneRatio'</li><li>'BgRatio'</li></ol>\n"
      ],
      "text/latex": [
       "\\begin{enumerate*}\n",
       "\\item 'query'\n",
       "\\item 'source'\n",
       "\\item 'term\\_id'\n",
       "\\item 'term\\_name'\n",
       "\\item 'p\\_value'\n",
       "\\item 'query\\_size'\n",
       "\\item 'intersection\\_size'\n",
       "\\item 'term\\_size'\n",
       "\\item 'effective\\_domain\\_size'\n",
       "\\item 'intersection'\n",
       "\\item 'up\\_down'\n",
       "\\item 'GeneRatio'\n",
       "\\item 'BgRatio'\n",
       "\\end{enumerate*}\n"
      ],
      "text/markdown": [
       "1. 'query'\n",
       "2. 'source'\n",
       "3. 'term_id'\n",
       "4. 'term_name'\n",
       "5. 'p_value'\n",
       "6. 'query_size'\n",
       "7. 'intersection_size'\n",
       "8. 'term_size'\n",
       "9. 'effective_domain_size'\n",
       "10. 'intersection'\n",
       "11. 'up_down'\n",
       "12. 'GeneRatio'\n",
       "13. 'BgRatio'\n",
       "\n",
       "\n"
      ],
      "text/plain": [
       " [1] \"query\"                 \"source\"                \"term_id\"              \n",
       " [4] \"term_name\"             \"p_value\"               \"query_size\"           \n",
       " [7] \"intersection_size\"     \"term_size\"             \"effective_domain_size\"\n",
       "[10] \"intersection\"          \"up_down\"               \"GeneRatio\"            \n",
       "[13] \"BgRatio\"              "
      ]
     },
     "metadata": {},
     "output_type": "display_data"
    },
    {
     "data": {
      "text/html": [
       "1197"
      ],
      "text/latex": [
       "1197"
      ],
      "text/markdown": [
       "1197"
      ],
      "text/plain": [
       "[1] 1197"
      ]
     },
     "metadata": {},
     "output_type": "display_data"
    }
   ],
   "source": [
    "gp_mod = GOs[,c(\"query\", \"source\", \"term_id\",\n",
    "                                \"term_name\", \"p_value\", \"query_size\", \n",
    "                                \"intersection_size\", \"term_size\", \n",
    "                                \"effective_domain_size\" , 'intersection', 'up_down')]\n",
    "# names(gp_mod)\n",
    "# gp_mod\n",
    "gp_mod$GeneRatio = paste0(gp_mod$intersection_size,  \"/\", gp_mod$query_size)\n",
    "gp_mod$BgRatio = paste0(gp_mod$term_size, \"/\", gp_mod$effective_domain_size)\n",
    "names(gp_mod)\n",
    "names(gp_mod) = c(\"Cluster\", \"Category\", \"ID\", \"Description\", \"p.adjust\", \n",
    "                    \"query_size\", \"Count\", \"term_size\", \"effective_domain_size\", \n",
    "                    \"geneID\", 'up_down', \"GeneRatio\", \"BgRatio\")\n",
    "gp_mod$geneID = gsub(\",\", \"/\", gp_mod$geneID)\n",
    "gp_mod %>% nrow()\n",
    "# gp_mod <- gp_mod %>% mutate(Cluster =  str_replace_all(Cluster, \"/\", \"/\\n\"))\n",
    "GO_result <- gp_mod %>%\n",
    "  mutate(hpi = str_extract(Cluster, '\\\\d{1,2}h$'),\n",
    "         treatment = str_extract(Cluster, '^Avr\\\\w{3}\\\\d')) %>%\n",
    "  mutate(hpi = factor(hpi, levels = c('6h', '12h', '20h'))) "
   ]
  },
  {
   "cell_type": "code",
   "execution_count": 60,
   "metadata": {},
   "outputs": [],
   "source": [
    "up_include_terms <- c('response to salicylic acid', 'response to jasmonic acid',\n",
    "                      'response to chitin', 'response to bacterium', 'response to abscisic acid',\n",
    "                      'regulation of systemic acquired resistance', 'regulation of jasmonic acid mediated signaling pathway', \n",
    "                      'regulation of cell death', 'programmed cell death', \n",
    "                     'innate immune response', 'defense response',\n",
    "                        'auxin metabolic process', 'jasmonic acid metabolic process', 'leaf senescence',\n",
    "                      'reactive oxygen species metabolic process', 'xenobiotic transport', 'response to hypoxia',\n",
    "                      \n",
    "                      'plasma membrane',  'extracellular region','vacuole', 'secretory vesicle',\n",
    "                      \n",
    "                      'xenobiotic transmembrane transporter activity', 'transmembrane transporter activity', \n",
    "                      'NADH dehydrogenase activity', 'dioxygenase activity', 'chlorophyll binding'\n",
    "                      \n",
    "                      # 'MAPK signaling pathway − plant', 'Plant−pathogen interaction', \n",
    "                  )\n",
    "# Create a pattern using the OR (|) operator, and add start-of-line (^) and end-of-line ($) anchors to each term\n",
    "up_include_terms_pattern <- paste0(\"(?i)^(\", paste(up_include_terms, collapse = \"|\"), \")$\")\n",
    "# up_include_terms_pattern\n"
   ]
  },
  {
   "cell_type": "code",
   "execution_count": 61,
   "metadata": {},
   "outputs": [],
   "source": [
    "down_include_terms <- c(\n",
    "    'Phloem or xylem histogenesis', 'Photosynthesis', 'Hormone−mediated signaling pathway', 'Developmental process',\n",
    "    'Response to hormone', 'Cellular response to auxin stimulus', 'Auxin−activated signaling pathway',\n",
    "    'Response to organic substance', 'Cell communication', 'Meristem maintenance', 'Response to red or far red light',\n",
    "    'Tissue development', 'Wax metabolic process', 'Multicellular organismal process', 'Lipid catabolic process',\n",
    "    \n",
    "    'Thylakoid membrane', 'Plasma membrane', 'Photosystem', 'Extracellular region', 'Apoplast', 'Plastoglobule',\n",
    "    \n",
    "    'Xyloglucan:xyloglucosyl transferase activity',  'Polysaccharide binding', 'Lyase activity'\n",
    " \n",
    "                  )\n",
    "# Create a pattern using the OR (|) operator, and add start-of-line (^) and end-of-line ($) anchors to each term\n",
    "down_include_terms_pattern <- paste0(\"(?i)^(\", paste(down_include_terms, collapse = \"|\"), \")$\")\n",
    "# down_include_terms_pattern\n"
   ]
  },
  {
   "cell_type": "code",
   "execution_count": 62,
   "metadata": {
    "scrolled": true,
    "tags": []
   },
   "outputs": [],
   "source": [
    "options(repr.plot.width=20, repr.plot.height=12)\n",
    "\n",
    "\n",
    "library(grid)\n",
    "library(gridExtra)\n",
    "library(ggh4x)\n",
    "\n",
    "# Function to create a customized dot plot\n",
    "customize_dotplot <- function(data,\n",
    "                              description_width = 40,\n",
    "                              low_color = \"#fe6865\",\n",
    "                              high_color = \"#0fc3c7\",\n",
    "                              text_size = 8,\n",
    "                              panel_spacing_y = 0.05,\n",
    "                              plot_title = \"Customized Dot Plot\") {\n",
    "  \n",
    "  # Wrap the Description text to a fixed width\n",
    "  data$Description <- str_wrap(data$Description, width = description_width)\n",
    "  \n",
    "  # Calculate the proportions of unique Descriptions for each Category\n",
    "  category_proportions <- data %>%\n",
    "    group_by(Category) %>%\n",
    "    summarise(n_unique_descriptions = n_distinct(Description)) %>%\n",
    "    mutate(proportion = n_unique_descriptions / sum(n_unique_descriptions)) %>%\n",
    "    pull(proportion)\n",
    "    \n",
    "  # Create the customized dot plot\n",
    "  go_plot <- ggplot(data, aes(x = treatment, y = reorder(Description, `p.adjust`), , size = Count/query_size, color = `p.adjust`)) +\n",
    "    geom_point() +\n",
    "    scale_color_gradient(low = low_color, high = high_color) +\n",
    "    facet_grid(Category ~ hpi , scales = \"free_y\", #switch = \"y\", \n",
    "               labeller = label_wrap_gen(width = description_width, multi_line = T)) +\n",
    "    labs(title = plot_title,\n",
    "         x = NULL, # Remove x-axis title\n",
    "         y = NULL, # Remove y-axis title\n",
    "         size = \"Gene Ratio\",\n",
    "         color = \"p.adjust\") +\n",
    "    theme_minimal() +\n",
    "    theme(\n",
    "      text = element_text(size = text_size, color = \"black\"),\n",
    "      plot.title = element_text(size = text_size, color = \"black\"), # Set plot title font size\n",
    "      legend.text = element_text(size = text_size, color = \"black\"), # Set legend font size\n",
    "      strip.background = element_rect(fill = \"grey80\"),\n",
    "      panel.border = element_rect(colour = \"black\", fill = NA, linewidth = 1),\n",
    "      panel.spacing.y = unit(panel_spacing_y, \"lines\"), # Set space between facets\n",
    "      legend.margin = margin(0, -10, 0, 0), # Reduced space between legend and plot\n",
    "      axis.text.y = element_text(face = \"bold\"), # Bold Description\n",
    "    axis.text.x = element_text(face = \"bold\"), # Bold Cluster\n",
    "      strip.text.y = element_text(face = \"bold\") # Bold facet name\n",
    "        \n",
    "    ) + \n",
    "    guides(size = guide_legend(order = 0),\n",
    "           color = guide_colourbar( order = 1)) +\n",
    "\n",
    "    force_panelsizes(rows = category_proportions) \n",
    "  return(go_plot)\n",
    "}\n",
    "\n",
    "# Call the function with the data object\n",
    "go_up_plot <- GO_result %>% filter(up_down == 'Up') %>%\n",
    "    filter(str_detect(Description, up_include_terms_pattern)) %>%\n",
    "    mutate(Description = stringr::str_replace(Description, \"^\\\\w\", stringr::str_to_title)) %>% \n",
    "    mutate(treatment = treatment %>% str_remove('Avr')) %>%  ## AvrRtp2 is too long as x-axis label\n",
    "    customize_dotplot(plot_title = 'Up DEG')\n",
    "\n",
    "go_down_plot <- GO_result %>% filter(up_down == 'Down') %>%\n",
    "    filter(str_detect(Description, down_include_terms_pattern)) %>%\n",
    "    mutate(Description = stringr::str_replace(Description, \"^\\\\w\", stringr::str_to_title)) %>% \n",
    "        mutate(treatment = treatment %>% str_remove('Avr')) %>% ## AvrRtp2 is too long as x-axis label\n",
    "    customize_dotplot(plot_title = 'Down DEG')\n",
    "\n",
    "# ggsave(paste0(\"./plots/up_\",  Sys.time(), \".pdf\"),\n",
    "#        go_up_plot, width = 4.3, height = 6, units = \"in\", dpi = 300)\n",
    "\n",
    "# ggsave(paste0(\"./plots/down_\",  Sys.time(), \".pdf\"),\n",
    "#        go_down_plot, width = 4.3, height = 6, units = \"in\", dpi = 300)\n",
    "# Combine the plots and save to a single PDF\n",
    "# combined_plot <- grid.arrange(go_up_plot, go_down_plot, ncol = 2\n",
    "#                               #top = textGrob(\"GO Results\", gp = gpar(fontsize = 14, fontface = \"bold\"))\n",
    "#                              )\n",
    "\n",
    "combined_plot <- arrangeGrob(go_up_plot, go_down_plot, ncol = 2\n",
    "                              #top = textGrob(\"GO Results\", gp = gpar(fontsize = 14, fontface = \"bold\"))\n",
    "                             )\n",
    "\n",
    "ggsave(paste0(\"./plots/up_down_combined_\",  Sys.time(), \".pdf\"),\n",
    "       combined_plot, width = 8.3, height = 11.7/2.5, units = \"in\", dpi = 300)"
   ]
  },
  {
   "cell_type": "raw",
   "metadata": {},
   "source": [
    "save.image(file = \"./Rds_Rdata_hisat2/hisat.rdata\")"
   ]
  },
  {
   "cell_type": "markdown",
   "metadata": {
    "tags": []
   },
   "source": [
    "# NLRs"
   ]
  },
  {
   "cell_type": "code",
   "execution_count": 63,
   "metadata": {
    "scrolled": true,
    "tags": []
   },
   "outputs": [
    {
     "data": {
      "text/html": [
       "<table class=\"dataframe\">\n",
       "<caption>A data.frame: 381165 × 11</caption>\n",
       "<thead>\n",
       "\t<tr><th scope=col>Gene</th><th scope=col>baseMean</th><th scope=col>log2FoldChange</th><th scope=col>lfcSE</th><th scope=col>stat</th><th scope=col>pvalue</th><th scope=col>padj</th><th scope=col>Contrast</th><th scope=col>hpi</th><th scope=col>treatment</th><th scope=col>gene_name</th></tr>\n",
       "\t<tr><th scope=col>&lt;chr&gt;</th><th scope=col>&lt;dbl&gt;</th><th scope=col>&lt;dbl&gt;</th><th scope=col>&lt;dbl&gt;</th><th scope=col>&lt;dbl&gt;</th><th scope=col>&lt;dbl&gt;</th><th scope=col>&lt;dbl&gt;</th><th scope=col>&lt;chr&gt;</th><th scope=col>&lt;fct&gt;</th><th scope=col>&lt;chr&gt;</th><th scope=col>&lt;chr&gt;</th></tr>\n",
       "</thead>\n",
       "<tbody>\n",
       "\t<tr><td>AT1G30814</td><td>   49.195271</td><td>-0.829686864</td><td>1.73204772</td><td>-0.47902079</td><td>6.319238e-01</td><td>7.855322e-01</td><td>AvrRpt2-6h_vs_Mock-6h</td><td>6</td><td>AvrRpt2</td><td>AT1G30814</td></tr>\n",
       "\t<tr><td>AT1G78930</td><td>  588.554366</td><td>-0.011894928</td><td>0.16141488</td><td>-0.07369164</td><td>9.412557e-01</td><td>9.717181e-01</td><td>AvrRpt2-6h_vs_Mock-6h</td><td>6</td><td>AvrRpt2</td><td>AT1G78930</td></tr>\n",
       "\t<tr><td>AT1G71695</td><td> 4433.623286</td><td>-0.098855557</td><td>0.07110892</td><td>-1.39019901</td><td>1.644685e-01</td><td>3.349229e-01</td><td>AvrRpt2-6h_vs_Mock-6h</td><td>6</td><td>AvrRpt2</td><td>AT1G71695</td></tr>\n",
       "\t<tr><td>AT1G58983</td><td>   45.117902</td><td> 0.083782797</td><td>0.31066701</td><td> 0.26968682</td><td>7.874012e-01</td><td>8.839580e-01</td><td>AvrRpt2-6h_vs_Mock-6h</td><td>6</td><td>AvrRpt2</td><td>AT1G58983</td></tr>\n",
       "\t<tr><td>AT1G12980</td><td>    7.460745</td><td>-2.460711255</td><td>1.14448103</td><td>-2.15006732</td><td>3.154989e-02</td><td>1.011066e-01</td><td>AvrRpt2-6h_vs_Mock-6h</td><td>6</td><td>AvrRpt2</td><td>ESR1     </td></tr>\n",
       "\t<tr><td>AT1G56250</td><td>  138.159264</td><td> 0.254901801</td><td>0.33659469</td><td> 0.75729597</td><td>4.488726e-01</td><td>6.408457e-01</td><td>AvrRpt2-6h_vs_Mock-6h</td><td>6</td><td>AvrRpt2</td><td>PP2-B14  </td></tr>\n",
       "\t<tr><td>AT1G69810</td><td>  338.196167</td><td> 0.661998002</td><td>0.24079084</td><td> 2.74926572</td><td>5.972894e-03</td><td>2.803369e-02</td><td>AvrRpt2-6h_vs_Mock-6h</td><td>6</td><td>AvrRpt2</td><td>WRKY36   </td></tr>\n",
       "\t<tr><td>AT1G72450</td><td>11513.685402</td><td> 1.784604326</td><td>0.09144693</td><td>19.51519037</td><td>8.156474e-85</td><td>4.377580e-81</td><td>AvrRpt2-6h_vs_Mock-6h</td><td>6</td><td>AvrRpt2</td><td>JAZ6     </td></tr>\n",
       "\t<tr><td>AT1G76280</td><td>  822.768262</td><td>-0.340306572</td><td>0.09579234</td><td>-3.55254468</td><td>3.815242e-04</td><td>2.866840e-03</td><td>AvrRpt2-6h_vs_Mock-6h</td><td>6</td><td>AvrRpt2</td><td>AT1G76280</td></tr>\n",
       "\t<tr><td>AT1G65630</td><td>    1.821737</td><td> 3.550340403</td><td>1.83261653</td><td> 1.93730677</td><td>5.270786e-02</td><td>          NA</td><td>AvrRpt2-6h_vs_Mock-6h</td><td>6</td><td>AvrRpt2</td><td>DEG3     </td></tr>\n",
       "\t<tr><td>AT1G71390</td><td>   14.878290</td><td> 0.123862863</td><td>1.68349566</td><td> 0.07357480</td><td>9.413487e-01</td><td>9.717369e-01</td><td>AvrRpt2-6h_vs_Mock-6h</td><td>6</td><td>AvrRpt2</td><td>RLP11    </td></tr>\n",
       "\t<tr><td>AT1G15210</td><td>   55.868887</td><td> 0.632287388</td><td>0.45501974</td><td> 1.38958232</td><td>1.646557e-01</td><td>3.351502e-01</td><td>AvrRpt2-6h_vs_Mock-6h</td><td>6</td><td>AvrRpt2</td><td>ABCG35   </td></tr>\n",
       "\t<tr><td>AT1G15250</td><td>  852.689466</td><td> 0.017734817</td><td>0.10221887</td><td> 0.17349847</td><td>8.622596e-01</td><td>9.277762e-01</td><td>AvrRpt2-6h_vs_Mock-6h</td><td>6</td><td>AvrRpt2</td><td>AT1G15250</td></tr>\n",
       "\t<tr><td>AT1G79700</td><td>  400.652958</td><td> 0.251224736</td><td>0.20018193</td><td> 1.25498207</td><td>2.094853e-01</td><td>3.927026e-01</td><td>AvrRpt2-6h_vs_Mock-6h</td><td>6</td><td>AvrRpt2</td><td>WRI4     </td></tr>\n",
       "\t<tr><td>AT1G73360</td><td>  165.682044</td><td>-0.138606596</td><td>0.19219006</td><td>-0.72119544</td><td>4.707893e-01</td><td>6.604093e-01</td><td>AvrRpt2-6h_vs_Mock-6h</td><td>6</td><td>AvrRpt2</td><td>HDG11    </td></tr>\n",
       "\t<tr><td>AT1G16360</td><td>   11.360749</td><td>-0.342953918</td><td>0.67732383</td><td>-0.50633671</td><td>6.126203e-01</td><td>7.717700e-01</td><td>AvrRpt2-6h_vs_Mock-6h</td><td>6</td><td>AvrRpt2</td><td>AT1G16360</td></tr>\n",
       "\t<tr><td>AT1G10225</td><td>   10.061908</td><td>-0.958616702</td><td>0.85017441</td><td>-1.12755300</td><td>2.595087e-01</td><td>4.539550e-01</td><td>AvrRpt2-6h_vs_Mock-6h</td><td>6</td><td>AvrRpt2</td><td>AT1G10225</td></tr>\n",
       "\t<tr><td>AT1G26670</td><td> 2671.854261</td><td> 0.190613016</td><td>0.08252682</td><td> 2.30970982</td><td>2.090423e-02</td><td>7.421397e-02</td><td>AvrRpt2-6h_vs_Mock-6h</td><td>6</td><td>AvrRpt2</td><td>VTI1B    </td></tr>\n",
       "\t<tr><td>AT1G52200</td><td>12703.571950</td><td> 0.765396688</td><td>0.11760551</td><td> 6.50817016</td><td>7.607172e-11</td><td>2.791637e-09</td><td>AvrRpt2-6h_vs_Mock-6h</td><td>6</td><td>AvrRpt2</td><td>AT1G52200</td></tr>\n",
       "\t<tr><td>AT1G57800</td><td>    2.263691</td><td> 0.747376230</td><td>1.49102473</td><td> 0.50125006</td><td>6.161951e-01</td><td>          NA</td><td>AvrRpt2-6h_vs_Mock-6h</td><td>6</td><td>AvrRpt2</td><td>VIM5     </td></tr>\n",
       "\t<tr><td>AT1G69460</td><td> 2317.568140</td><td> 0.180897829</td><td>0.06220458</td><td> 2.90811100</td><td>3.636192e-03</td><td>1.887239e-02</td><td>AvrRpt2-6h_vs_Mock-6h</td><td>6</td><td>AvrRpt2</td><td>AT1G69460</td></tr>\n",
       "\t<tr><td>AT1G04310</td><td>  530.438073</td><td>-0.093463167</td><td>0.13670809</td><td>-0.68366962</td><td>4.941838e-01</td><td>6.801517e-01</td><td>AvrRpt2-6h_vs_Mock-6h</td><td>6</td><td>AvrRpt2</td><td>ERS2     </td></tr>\n",
       "\t<tr><td>AT1G08080</td><td>    1.318553</td><td> 1.613235794</td><td>1.91005683</td><td> 0.84460094</td><td>3.983337e-01</td><td>          NA</td><td>AvrRpt2-6h_vs_Mock-6h</td><td>6</td><td>AvrRpt2</td><td>ACA7     </td></tr>\n",
       "\t<tr><td>AT1G75550</td><td>   38.716409</td><td>-1.370731677</td><td>0.45599650</td><td>-3.00601359</td><td>2.646972e-03</td><td>1.452958e-02</td><td>AvrRpt2-6h_vs_Mock-6h</td><td>6</td><td>AvrRpt2</td><td>AT1G75550</td></tr>\n",
       "\t<tr><td>AT1G71890</td><td>  178.455382</td><td> 0.805276831</td><td>0.40799469</td><td> 1.97374341</td><td>4.841093e-02</td><td>1.398393e-01</td><td>AvrRpt2-6h_vs_Mock-6h</td><td>6</td><td>AvrRpt2</td><td>SUC5     </td></tr>\n",
       "\t<tr><td>AT1G05430</td><td> 1240.384010</td><td> 0.001847888</td><td>0.07976558</td><td> 0.02316648</td><td>9.815175e-01</td><td>9.921470e-01</td><td>AvrRpt2-6h_vs_Mock-6h</td><td>6</td><td>AvrRpt2</td><td>AT1G05430</td></tr>\n",
       "\t<tr><td>AT1G80870</td><td>  322.438676</td><td>-0.416922820</td><td>0.18665195</td><td>-2.23369122</td><td>2.550340e-02</td><td>8.645301e-02</td><td>AvrRpt2-6h_vs_Mock-6h</td><td>6</td><td>AvrRpt2</td><td>AT1G80870</td></tr>\n",
       "\t<tr><td>AT1G75310</td><td>  841.321301</td><td>-0.316744410</td><td>0.15707964</td><td>-2.01645747</td><td>4.375216e-02</td><td>1.295011e-01</td><td>AvrRpt2-6h_vs_Mock-6h</td><td>6</td><td>AvrRpt2</td><td>AUL1     </td></tr>\n",
       "\t<tr><td>AT1G02010</td><td>  494.828404</td><td> 0.006562735</td><td>0.15529630</td><td> 0.04225945</td><td>9.662919e-01</td><td>9.851056e-01</td><td>AvrRpt2-6h_vs_Mock-6h</td><td>6</td><td>AvrRpt2</td><td>SEC1A    </td></tr>\n",
       "\t<tr><td>AT1G47900</td><td>  961.034050</td><td>-0.036902041</td><td>0.13306525</td><td>-0.27732289</td><td>7.815322e-01</td><td>8.798538e-01</td><td>AvrRpt2-6h_vs_Mock-6h</td><td>6</td><td>AvrRpt2</td><td>AT1G47900</td></tr>\n",
       "\t<tr><td>⋮</td><td>⋮</td><td>⋮</td><td>⋮</td><td>⋮</td><td>⋮</td><td>⋮</td><td>⋮</td><td>⋮</td><td>⋮</td><td>⋮</td></tr>\n",
       "\t<tr><td>ATCG01190</td><td>   1.5101685</td><td> 0.662584467</td><td>1.6770868</td><td> 0.39508060</td><td>0.6927834</td><td>       NA</td><td>Mock-20h_vs_control</td><td>20</td><td>Mock</td><td>NA</td></tr>\n",
       "\t<tr><td>ATCG00370</td><td>  17.2696183</td><td> 0.357968187</td><td>0.7125907</td><td> 0.50234757</td><td>0.6154231</td><td>0.7625359</td><td>Mock-20h_vs_control</td><td>20</td><td>Mock</td><td>NA</td></tr>\n",
       "\t<tr><td>ATCG00290</td><td>  50.1425583</td><td> 0.103532136</td><td>0.7746028</td><td> 0.13365836</td><td>0.8936727</td><td>0.9466308</td><td>Mock-20h_vs_control</td><td>20</td><td>Mock</td><td>NA</td></tr>\n",
       "\t<tr><td>ATCG00200</td><td>  10.0225042</td><td> 0.052425911</td><td>0.7193351</td><td> 0.07288107</td><td>0.9419008</td><td>0.9728518</td><td>Mock-20h_vs_control</td><td>20</td><td>Mock</td><td>NA</td></tr>\n",
       "\t<tr><td>ATCG00030</td><td>  19.0133793</td><td> 0.737001378</td><td>0.6924280</td><td> 1.06437261</td><td>0.2871599</td><td>0.4648336</td><td>Mock-20h_vs_control</td><td>20</td><td>Mock</td><td>NA</td></tr>\n",
       "\t<tr><td>ATCG00620</td><td>  28.0427773</td><td> 0.542681153</td><td>0.5867572</td><td> 0.92488200</td><td>0.3550273</td><td>0.5375741</td><td>Mock-20h_vs_control</td><td>20</td><td>Mock</td><td>NA</td></tr>\n",
       "\t<tr><td>ATCG00610</td><td>  18.7774219</td><td>-0.008937109</td><td>0.6000353</td><td>-0.01489430</td><td>0.9881165</td><td>0.9992409</td><td>Mock-20h_vs_control</td><td>20</td><td>Mock</td><td>NA</td></tr>\n",
       "\t<tr><td>ATCG00450</td><td>  29.9792381</td><td>-0.079634187</td><td>0.4787903</td><td>-0.16632373</td><td>0.8679022</td><td>0.9309545</td><td>Mock-20h_vs_control</td><td>20</td><td>Mock</td><td>NA</td></tr>\n",
       "\t<tr><td>ATCG00390</td><td>   5.5256163</td><td> 0.757519152</td><td>0.9235226</td><td> 0.82024973</td><td>0.4120738</td><td>0.5925927</td><td>Mock-20h_vs_control</td><td>20</td><td>Mock</td><td>NA</td></tr>\n",
       "\t<tr><td>ATCG00320</td><td>   1.5654667</td><td>-1.685115313</td><td>2.1357732</td><td>-0.78899543</td><td>0.4301147</td><td>       NA</td><td>Mock-20h_vs_control</td><td>20</td><td>Mock</td><td>NA</td></tr>\n",
       "\t<tr><td>ATCG00100</td><td>  72.9313502</td><td> 0.212647253</td><td>0.5431513</td><td> 0.39150647</td><td>0.6954229</td><td>0.8201582</td><td>Mock-20h_vs_control</td><td>20</td><td>Mock</td><td>NA</td></tr>\n",
       "\t<tr><td>ATCG00400</td><td>  38.3466749</td><td> 0.512890708</td><td>0.6095796</td><td> 0.84138424</td><td>0.4001327</td><td>0.5817452</td><td>Mock-20h_vs_control</td><td>20</td><td>Mock</td><td>NA</td></tr>\n",
       "\t<tr><td>ATCG00930</td><td>   0.6972233</td><td>-1.521744767</td><td>2.6417370</td><td>-0.57603948</td><td>0.5645885</td><td>       NA</td><td>Mock-20h_vs_control</td><td>20</td><td>Mock</td><td>NA</td></tr>\n",
       "\t<tr><td>ATCG00010</td><td>  20.8220113</td><td> 0.059840153</td><td>0.5447451</td><td> 0.10984983</td><td>0.9125285</td><td>0.9562382</td><td>Mock-20h_vs_control</td><td>20</td><td>Mock</td><td>NA</td></tr>\n",
       "\t<tr><td>ATCG00260</td><td>   0.9186281</td><td>-0.091805386</td><td>2.5793576</td><td>-0.03559235</td><td>0.9716074</td><td>       NA</td><td>Mock-20h_vs_control</td><td>20</td><td>Mock</td><td>NA</td></tr>\n",
       "\t<tr><td>ATCG00250</td><td>   0.2147990</td><td>-0.168085217</td><td>6.6115500</td><td>-0.02542297</td><td>0.9797176</td><td>       NA</td><td>Mock-20h_vs_control</td><td>20</td><td>Mock</td><td>NA</td></tr>\n",
       "\t<tr><td>ATCG00940</td><td>   2.0329631</td><td> 0.709980157</td><td>1.2783496</td><td> 0.55538811</td><td>0.5786292</td><td>       NA</td><td>Mock-20h_vs_control</td><td>20</td><td>Mock</td><td>NA</td></tr>\n",
       "\t<tr><td>ATCG00460</td><td>   3.2939555</td><td> 0.793165206</td><td>1.3135692</td><td> 0.60382447</td><td>0.5459603</td><td>       NA</td><td>Mock-20h_vs_control</td><td>20</td><td>Mock</td><td>NA</td></tr>\n",
       "\t<tr><td>ATCG00230</td><td>   1.0793091</td><td> 2.329462356</td><td>2.6128691</td><td> 0.89153427</td><td>0.3726426</td><td>       NA</td><td>Mock-20h_vs_control</td><td>20</td><td>Mock</td><td>NA</td></tr>\n",
       "\t<tr><td>ATCG00310</td><td>   0.6259522</td><td>-0.101676882</td><td>3.9435586</td><td>-0.02578303</td><td>0.9794304</td><td>       NA</td><td>Mock-20h_vs_control</td><td>20</td><td>Mock</td><td>NA</td></tr>\n",
       "\t<tr><td>ATCG00090</td><td>  47.3073909</td><td>-0.157818746</td><td>0.3331645</td><td>-0.47369620</td><td>0.6357166</td><td>0.7776389</td><td>Mock-20h_vs_control</td><td>20</td><td>Mock</td><td>NA</td></tr>\n",
       "\t<tr><td>ATCG01200</td><td>   2.6484448</td><td>-0.338309341</td><td>1.4055222</td><td>-0.24070011</td><td>0.8097876</td><td>       NA</td><td>Mock-20h_vs_control</td><td>20</td><td>Mock</td><td>NA</td></tr>\n",
       "\t<tr><td>ATCG00410</td><td>   6.5351606</td><td>-1.208037940</td><td>0.7750919</td><td>-1.55857380</td><td>0.1190973</td><td>0.2486415</td><td>Mock-20h_vs_control</td><td>20</td><td>Mock</td><td>NA</td></tr>\n",
       "\t<tr><td>ATCG00960</td><td>   7.5157565</td><td> 0.497778452</td><td>1.0580222</td><td> 0.47048015</td><td>0.6380120</td><td>0.7795319</td><td>Mock-20h_vs_control</td><td>20</td><td>Mock</td><td>NA</td></tr>\n",
       "\t<tr><td>ATCG01210</td><td> 844.8444107</td><td> 0.225878842</td><td>0.7872539</td><td> 0.28691995</td><td>0.7741736</td><td>0.8717524</td><td>Mock-20h_vs_control</td><td>20</td><td>Mock</td><td>NA</td></tr>\n",
       "\t<tr><td>ATCG01160</td><td>   0.1784006</td><td>-0.109471644</td><td>6.6633750</td><td>-0.01642886</td><td>0.9868923</td><td>       NA</td><td>Mock-20h_vs_control</td><td>20</td><td>Mock</td><td>NA</td></tr>\n",
       "\t<tr><td>ATCG01170</td><td>  11.1298104</td><td>-0.152956282</td><td>1.0384195</td><td>-0.14729720</td><td>0.8828974</td><td>0.9403206</td><td>Mock-20h_vs_control</td><td>20</td><td>Mock</td><td>NA</td></tr>\n",
       "\t<tr><td>ATCG00920</td><td> 635.3007781</td><td> 0.099323158</td><td>0.7679245</td><td> 0.12933974</td><td>0.8970888</td><td>0.9484617</td><td>Mock-20h_vs_control</td><td>20</td><td>Mock</td><td>NA</td></tr>\n",
       "\t<tr><td>ATCG01180</td><td>2745.8832522</td><td> 0.281525166</td><td>0.7715821</td><td> 0.36486740</td><td>0.7152104</td><td>0.8339654</td><td>Mock-20h_vs_control</td><td>20</td><td>Mock</td><td>NA</td></tr>\n",
       "\t<tr><td>ATCG00950</td><td>1941.4957728</td><td> 0.387945794</td><td>0.7965022</td><td> 0.48706183</td><td>0.6262145</td><td>0.7700964</td><td>Mock-20h_vs_control</td><td>20</td><td>Mock</td><td>NA</td></tr>\n",
       "</tbody>\n",
       "</table>\n"
      ],
      "text/latex": [
       "A data.frame: 381165 × 11\n",
       "\\begin{tabular}{lllllllllll}\n",
       " Gene & baseMean & log2FoldChange & lfcSE & stat & pvalue & padj & Contrast & hpi & treatment & gene\\_name\\\\\n",
       " <chr> & <dbl> & <dbl> & <dbl> & <dbl> & <dbl> & <dbl> & <chr> & <fct> & <chr> & <chr>\\\\\n",
       "\\hline\n",
       "\t AT1G30814 &    49.195271 & -0.829686864 & 1.73204772 & -0.47902079 & 6.319238e-01 & 7.855322e-01 & AvrRpt2-6h\\_vs\\_Mock-6h & 6 & AvrRpt2 & AT1G30814\\\\\n",
       "\t AT1G78930 &   588.554366 & -0.011894928 & 0.16141488 & -0.07369164 & 9.412557e-01 & 9.717181e-01 & AvrRpt2-6h\\_vs\\_Mock-6h & 6 & AvrRpt2 & AT1G78930\\\\\n",
       "\t AT1G71695 &  4433.623286 & -0.098855557 & 0.07110892 & -1.39019901 & 1.644685e-01 & 3.349229e-01 & AvrRpt2-6h\\_vs\\_Mock-6h & 6 & AvrRpt2 & AT1G71695\\\\\n",
       "\t AT1G58983 &    45.117902 &  0.083782797 & 0.31066701 &  0.26968682 & 7.874012e-01 & 8.839580e-01 & AvrRpt2-6h\\_vs\\_Mock-6h & 6 & AvrRpt2 & AT1G58983\\\\\n",
       "\t AT1G12980 &     7.460745 & -2.460711255 & 1.14448103 & -2.15006732 & 3.154989e-02 & 1.011066e-01 & AvrRpt2-6h\\_vs\\_Mock-6h & 6 & AvrRpt2 & ESR1     \\\\\n",
       "\t AT1G56250 &   138.159264 &  0.254901801 & 0.33659469 &  0.75729597 & 4.488726e-01 & 6.408457e-01 & AvrRpt2-6h\\_vs\\_Mock-6h & 6 & AvrRpt2 & PP2-B14  \\\\\n",
       "\t AT1G69810 &   338.196167 &  0.661998002 & 0.24079084 &  2.74926572 & 5.972894e-03 & 2.803369e-02 & AvrRpt2-6h\\_vs\\_Mock-6h & 6 & AvrRpt2 & WRKY36   \\\\\n",
       "\t AT1G72450 & 11513.685402 &  1.784604326 & 0.09144693 & 19.51519037 & 8.156474e-85 & 4.377580e-81 & AvrRpt2-6h\\_vs\\_Mock-6h & 6 & AvrRpt2 & JAZ6     \\\\\n",
       "\t AT1G76280 &   822.768262 & -0.340306572 & 0.09579234 & -3.55254468 & 3.815242e-04 & 2.866840e-03 & AvrRpt2-6h\\_vs\\_Mock-6h & 6 & AvrRpt2 & AT1G76280\\\\\n",
       "\t AT1G65630 &     1.821737 &  3.550340403 & 1.83261653 &  1.93730677 & 5.270786e-02 &           NA & AvrRpt2-6h\\_vs\\_Mock-6h & 6 & AvrRpt2 & DEG3     \\\\\n",
       "\t AT1G71390 &    14.878290 &  0.123862863 & 1.68349566 &  0.07357480 & 9.413487e-01 & 9.717369e-01 & AvrRpt2-6h\\_vs\\_Mock-6h & 6 & AvrRpt2 & RLP11    \\\\\n",
       "\t AT1G15210 &    55.868887 &  0.632287388 & 0.45501974 &  1.38958232 & 1.646557e-01 & 3.351502e-01 & AvrRpt2-6h\\_vs\\_Mock-6h & 6 & AvrRpt2 & ABCG35   \\\\\n",
       "\t AT1G15250 &   852.689466 &  0.017734817 & 0.10221887 &  0.17349847 & 8.622596e-01 & 9.277762e-01 & AvrRpt2-6h\\_vs\\_Mock-6h & 6 & AvrRpt2 & AT1G15250\\\\\n",
       "\t AT1G79700 &   400.652958 &  0.251224736 & 0.20018193 &  1.25498207 & 2.094853e-01 & 3.927026e-01 & AvrRpt2-6h\\_vs\\_Mock-6h & 6 & AvrRpt2 & WRI4     \\\\\n",
       "\t AT1G73360 &   165.682044 & -0.138606596 & 0.19219006 & -0.72119544 & 4.707893e-01 & 6.604093e-01 & AvrRpt2-6h\\_vs\\_Mock-6h & 6 & AvrRpt2 & HDG11    \\\\\n",
       "\t AT1G16360 &    11.360749 & -0.342953918 & 0.67732383 & -0.50633671 & 6.126203e-01 & 7.717700e-01 & AvrRpt2-6h\\_vs\\_Mock-6h & 6 & AvrRpt2 & AT1G16360\\\\\n",
       "\t AT1G10225 &    10.061908 & -0.958616702 & 0.85017441 & -1.12755300 & 2.595087e-01 & 4.539550e-01 & AvrRpt2-6h\\_vs\\_Mock-6h & 6 & AvrRpt2 & AT1G10225\\\\\n",
       "\t AT1G26670 &  2671.854261 &  0.190613016 & 0.08252682 &  2.30970982 & 2.090423e-02 & 7.421397e-02 & AvrRpt2-6h\\_vs\\_Mock-6h & 6 & AvrRpt2 & VTI1B    \\\\\n",
       "\t AT1G52200 & 12703.571950 &  0.765396688 & 0.11760551 &  6.50817016 & 7.607172e-11 & 2.791637e-09 & AvrRpt2-6h\\_vs\\_Mock-6h & 6 & AvrRpt2 & AT1G52200\\\\\n",
       "\t AT1G57800 &     2.263691 &  0.747376230 & 1.49102473 &  0.50125006 & 6.161951e-01 &           NA & AvrRpt2-6h\\_vs\\_Mock-6h & 6 & AvrRpt2 & VIM5     \\\\\n",
       "\t AT1G69460 &  2317.568140 &  0.180897829 & 0.06220458 &  2.90811100 & 3.636192e-03 & 1.887239e-02 & AvrRpt2-6h\\_vs\\_Mock-6h & 6 & AvrRpt2 & AT1G69460\\\\\n",
       "\t AT1G04310 &   530.438073 & -0.093463167 & 0.13670809 & -0.68366962 & 4.941838e-01 & 6.801517e-01 & AvrRpt2-6h\\_vs\\_Mock-6h & 6 & AvrRpt2 & ERS2     \\\\\n",
       "\t AT1G08080 &     1.318553 &  1.613235794 & 1.91005683 &  0.84460094 & 3.983337e-01 &           NA & AvrRpt2-6h\\_vs\\_Mock-6h & 6 & AvrRpt2 & ACA7     \\\\\n",
       "\t AT1G75550 &    38.716409 & -1.370731677 & 0.45599650 & -3.00601359 & 2.646972e-03 & 1.452958e-02 & AvrRpt2-6h\\_vs\\_Mock-6h & 6 & AvrRpt2 & AT1G75550\\\\\n",
       "\t AT1G71890 &   178.455382 &  0.805276831 & 0.40799469 &  1.97374341 & 4.841093e-02 & 1.398393e-01 & AvrRpt2-6h\\_vs\\_Mock-6h & 6 & AvrRpt2 & SUC5     \\\\\n",
       "\t AT1G05430 &  1240.384010 &  0.001847888 & 0.07976558 &  0.02316648 & 9.815175e-01 & 9.921470e-01 & AvrRpt2-6h\\_vs\\_Mock-6h & 6 & AvrRpt2 & AT1G05430\\\\\n",
       "\t AT1G80870 &   322.438676 & -0.416922820 & 0.18665195 & -2.23369122 & 2.550340e-02 & 8.645301e-02 & AvrRpt2-6h\\_vs\\_Mock-6h & 6 & AvrRpt2 & AT1G80870\\\\\n",
       "\t AT1G75310 &   841.321301 & -0.316744410 & 0.15707964 & -2.01645747 & 4.375216e-02 & 1.295011e-01 & AvrRpt2-6h\\_vs\\_Mock-6h & 6 & AvrRpt2 & AUL1     \\\\\n",
       "\t AT1G02010 &   494.828404 &  0.006562735 & 0.15529630 &  0.04225945 & 9.662919e-01 & 9.851056e-01 & AvrRpt2-6h\\_vs\\_Mock-6h & 6 & AvrRpt2 & SEC1A    \\\\\n",
       "\t AT1G47900 &   961.034050 & -0.036902041 & 0.13306525 & -0.27732289 & 7.815322e-01 & 8.798538e-01 & AvrRpt2-6h\\_vs\\_Mock-6h & 6 & AvrRpt2 & AT1G47900\\\\\n",
       "\t ⋮ & ⋮ & ⋮ & ⋮ & ⋮ & ⋮ & ⋮ & ⋮ & ⋮ & ⋮ & ⋮\\\\\n",
       "\t ATCG01190 &    1.5101685 &  0.662584467 & 1.6770868 &  0.39508060 & 0.6927834 &        NA & Mock-20h\\_vs\\_control & 20 & Mock & NA\\\\\n",
       "\t ATCG00370 &   17.2696183 &  0.357968187 & 0.7125907 &  0.50234757 & 0.6154231 & 0.7625359 & Mock-20h\\_vs\\_control & 20 & Mock & NA\\\\\n",
       "\t ATCG00290 &   50.1425583 &  0.103532136 & 0.7746028 &  0.13365836 & 0.8936727 & 0.9466308 & Mock-20h\\_vs\\_control & 20 & Mock & NA\\\\\n",
       "\t ATCG00200 &   10.0225042 &  0.052425911 & 0.7193351 &  0.07288107 & 0.9419008 & 0.9728518 & Mock-20h\\_vs\\_control & 20 & Mock & NA\\\\\n",
       "\t ATCG00030 &   19.0133793 &  0.737001378 & 0.6924280 &  1.06437261 & 0.2871599 & 0.4648336 & Mock-20h\\_vs\\_control & 20 & Mock & NA\\\\\n",
       "\t ATCG00620 &   28.0427773 &  0.542681153 & 0.5867572 &  0.92488200 & 0.3550273 & 0.5375741 & Mock-20h\\_vs\\_control & 20 & Mock & NA\\\\\n",
       "\t ATCG00610 &   18.7774219 & -0.008937109 & 0.6000353 & -0.01489430 & 0.9881165 & 0.9992409 & Mock-20h\\_vs\\_control & 20 & Mock & NA\\\\\n",
       "\t ATCG00450 &   29.9792381 & -0.079634187 & 0.4787903 & -0.16632373 & 0.8679022 & 0.9309545 & Mock-20h\\_vs\\_control & 20 & Mock & NA\\\\\n",
       "\t ATCG00390 &    5.5256163 &  0.757519152 & 0.9235226 &  0.82024973 & 0.4120738 & 0.5925927 & Mock-20h\\_vs\\_control & 20 & Mock & NA\\\\\n",
       "\t ATCG00320 &    1.5654667 & -1.685115313 & 2.1357732 & -0.78899543 & 0.4301147 &        NA & Mock-20h\\_vs\\_control & 20 & Mock & NA\\\\\n",
       "\t ATCG00100 &   72.9313502 &  0.212647253 & 0.5431513 &  0.39150647 & 0.6954229 & 0.8201582 & Mock-20h\\_vs\\_control & 20 & Mock & NA\\\\\n",
       "\t ATCG00400 &   38.3466749 &  0.512890708 & 0.6095796 &  0.84138424 & 0.4001327 & 0.5817452 & Mock-20h\\_vs\\_control & 20 & Mock & NA\\\\\n",
       "\t ATCG00930 &    0.6972233 & -1.521744767 & 2.6417370 & -0.57603948 & 0.5645885 &        NA & Mock-20h\\_vs\\_control & 20 & Mock & NA\\\\\n",
       "\t ATCG00010 &   20.8220113 &  0.059840153 & 0.5447451 &  0.10984983 & 0.9125285 & 0.9562382 & Mock-20h\\_vs\\_control & 20 & Mock & NA\\\\\n",
       "\t ATCG00260 &    0.9186281 & -0.091805386 & 2.5793576 & -0.03559235 & 0.9716074 &        NA & Mock-20h\\_vs\\_control & 20 & Mock & NA\\\\\n",
       "\t ATCG00250 &    0.2147990 & -0.168085217 & 6.6115500 & -0.02542297 & 0.9797176 &        NA & Mock-20h\\_vs\\_control & 20 & Mock & NA\\\\\n",
       "\t ATCG00940 &    2.0329631 &  0.709980157 & 1.2783496 &  0.55538811 & 0.5786292 &        NA & Mock-20h\\_vs\\_control & 20 & Mock & NA\\\\\n",
       "\t ATCG00460 &    3.2939555 &  0.793165206 & 1.3135692 &  0.60382447 & 0.5459603 &        NA & Mock-20h\\_vs\\_control & 20 & Mock & NA\\\\\n",
       "\t ATCG00230 &    1.0793091 &  2.329462356 & 2.6128691 &  0.89153427 & 0.3726426 &        NA & Mock-20h\\_vs\\_control & 20 & Mock & NA\\\\\n",
       "\t ATCG00310 &    0.6259522 & -0.101676882 & 3.9435586 & -0.02578303 & 0.9794304 &        NA & Mock-20h\\_vs\\_control & 20 & Mock & NA\\\\\n",
       "\t ATCG00090 &   47.3073909 & -0.157818746 & 0.3331645 & -0.47369620 & 0.6357166 & 0.7776389 & Mock-20h\\_vs\\_control & 20 & Mock & NA\\\\\n",
       "\t ATCG01200 &    2.6484448 & -0.338309341 & 1.4055222 & -0.24070011 & 0.8097876 &        NA & Mock-20h\\_vs\\_control & 20 & Mock & NA\\\\\n",
       "\t ATCG00410 &    6.5351606 & -1.208037940 & 0.7750919 & -1.55857380 & 0.1190973 & 0.2486415 & Mock-20h\\_vs\\_control & 20 & Mock & NA\\\\\n",
       "\t ATCG00960 &    7.5157565 &  0.497778452 & 1.0580222 &  0.47048015 & 0.6380120 & 0.7795319 & Mock-20h\\_vs\\_control & 20 & Mock & NA\\\\\n",
       "\t ATCG01210 &  844.8444107 &  0.225878842 & 0.7872539 &  0.28691995 & 0.7741736 & 0.8717524 & Mock-20h\\_vs\\_control & 20 & Mock & NA\\\\\n",
       "\t ATCG01160 &    0.1784006 & -0.109471644 & 6.6633750 & -0.01642886 & 0.9868923 &        NA & Mock-20h\\_vs\\_control & 20 & Mock & NA\\\\\n",
       "\t ATCG01170 &   11.1298104 & -0.152956282 & 1.0384195 & -0.14729720 & 0.8828974 & 0.9403206 & Mock-20h\\_vs\\_control & 20 & Mock & NA\\\\\n",
       "\t ATCG00920 &  635.3007781 &  0.099323158 & 0.7679245 &  0.12933974 & 0.8970888 & 0.9484617 & Mock-20h\\_vs\\_control & 20 & Mock & NA\\\\\n",
       "\t ATCG01180 & 2745.8832522 &  0.281525166 & 0.7715821 &  0.36486740 & 0.7152104 & 0.8339654 & Mock-20h\\_vs\\_control & 20 & Mock & NA\\\\\n",
       "\t ATCG00950 & 1941.4957728 &  0.387945794 & 0.7965022 &  0.48706183 & 0.6262145 & 0.7700964 & Mock-20h\\_vs\\_control & 20 & Mock & NA\\\\\n",
       "\\end{tabular}\n"
      ],
      "text/markdown": [
       "\n",
       "A data.frame: 381165 × 11\n",
       "\n",
       "| Gene &lt;chr&gt; | baseMean &lt;dbl&gt; | log2FoldChange &lt;dbl&gt; | lfcSE &lt;dbl&gt; | stat &lt;dbl&gt; | pvalue &lt;dbl&gt; | padj &lt;dbl&gt; | Contrast &lt;chr&gt; | hpi &lt;fct&gt; | treatment &lt;chr&gt; | gene_name &lt;chr&gt; |\n",
       "|---|---|---|---|---|---|---|---|---|---|---|\n",
       "| AT1G30814 |    49.195271 | -0.829686864 | 1.73204772 | -0.47902079 | 6.319238e-01 | 7.855322e-01 | AvrRpt2-6h_vs_Mock-6h | 6 | AvrRpt2 | AT1G30814 |\n",
       "| AT1G78930 |   588.554366 | -0.011894928 | 0.16141488 | -0.07369164 | 9.412557e-01 | 9.717181e-01 | AvrRpt2-6h_vs_Mock-6h | 6 | AvrRpt2 | AT1G78930 |\n",
       "| AT1G71695 |  4433.623286 | -0.098855557 | 0.07110892 | -1.39019901 | 1.644685e-01 | 3.349229e-01 | AvrRpt2-6h_vs_Mock-6h | 6 | AvrRpt2 | AT1G71695 |\n",
       "| AT1G58983 |    45.117902 |  0.083782797 | 0.31066701 |  0.26968682 | 7.874012e-01 | 8.839580e-01 | AvrRpt2-6h_vs_Mock-6h | 6 | AvrRpt2 | AT1G58983 |\n",
       "| AT1G12980 |     7.460745 | -2.460711255 | 1.14448103 | -2.15006732 | 3.154989e-02 | 1.011066e-01 | AvrRpt2-6h_vs_Mock-6h | 6 | AvrRpt2 | ESR1      |\n",
       "| AT1G56250 |   138.159264 |  0.254901801 | 0.33659469 |  0.75729597 | 4.488726e-01 | 6.408457e-01 | AvrRpt2-6h_vs_Mock-6h | 6 | AvrRpt2 | PP2-B14   |\n",
       "| AT1G69810 |   338.196167 |  0.661998002 | 0.24079084 |  2.74926572 | 5.972894e-03 | 2.803369e-02 | AvrRpt2-6h_vs_Mock-6h | 6 | AvrRpt2 | WRKY36    |\n",
       "| AT1G72450 | 11513.685402 |  1.784604326 | 0.09144693 | 19.51519037 | 8.156474e-85 | 4.377580e-81 | AvrRpt2-6h_vs_Mock-6h | 6 | AvrRpt2 | JAZ6      |\n",
       "| AT1G76280 |   822.768262 | -0.340306572 | 0.09579234 | -3.55254468 | 3.815242e-04 | 2.866840e-03 | AvrRpt2-6h_vs_Mock-6h | 6 | AvrRpt2 | AT1G76280 |\n",
       "| AT1G65630 |     1.821737 |  3.550340403 | 1.83261653 |  1.93730677 | 5.270786e-02 |           NA | AvrRpt2-6h_vs_Mock-6h | 6 | AvrRpt2 | DEG3      |\n",
       "| AT1G71390 |    14.878290 |  0.123862863 | 1.68349566 |  0.07357480 | 9.413487e-01 | 9.717369e-01 | AvrRpt2-6h_vs_Mock-6h | 6 | AvrRpt2 | RLP11     |\n",
       "| AT1G15210 |    55.868887 |  0.632287388 | 0.45501974 |  1.38958232 | 1.646557e-01 | 3.351502e-01 | AvrRpt2-6h_vs_Mock-6h | 6 | AvrRpt2 | ABCG35    |\n",
       "| AT1G15250 |   852.689466 |  0.017734817 | 0.10221887 |  0.17349847 | 8.622596e-01 | 9.277762e-01 | AvrRpt2-6h_vs_Mock-6h | 6 | AvrRpt2 | AT1G15250 |\n",
       "| AT1G79700 |   400.652958 |  0.251224736 | 0.20018193 |  1.25498207 | 2.094853e-01 | 3.927026e-01 | AvrRpt2-6h_vs_Mock-6h | 6 | AvrRpt2 | WRI4      |\n",
       "| AT1G73360 |   165.682044 | -0.138606596 | 0.19219006 | -0.72119544 | 4.707893e-01 | 6.604093e-01 | AvrRpt2-6h_vs_Mock-6h | 6 | AvrRpt2 | HDG11     |\n",
       "| AT1G16360 |    11.360749 | -0.342953918 | 0.67732383 | -0.50633671 | 6.126203e-01 | 7.717700e-01 | AvrRpt2-6h_vs_Mock-6h | 6 | AvrRpt2 | AT1G16360 |\n",
       "| AT1G10225 |    10.061908 | -0.958616702 | 0.85017441 | -1.12755300 | 2.595087e-01 | 4.539550e-01 | AvrRpt2-6h_vs_Mock-6h | 6 | AvrRpt2 | AT1G10225 |\n",
       "| AT1G26670 |  2671.854261 |  0.190613016 | 0.08252682 |  2.30970982 | 2.090423e-02 | 7.421397e-02 | AvrRpt2-6h_vs_Mock-6h | 6 | AvrRpt2 | VTI1B     |\n",
       "| AT1G52200 | 12703.571950 |  0.765396688 | 0.11760551 |  6.50817016 | 7.607172e-11 | 2.791637e-09 | AvrRpt2-6h_vs_Mock-6h | 6 | AvrRpt2 | AT1G52200 |\n",
       "| AT1G57800 |     2.263691 |  0.747376230 | 1.49102473 |  0.50125006 | 6.161951e-01 |           NA | AvrRpt2-6h_vs_Mock-6h | 6 | AvrRpt2 | VIM5      |\n",
       "| AT1G69460 |  2317.568140 |  0.180897829 | 0.06220458 |  2.90811100 | 3.636192e-03 | 1.887239e-02 | AvrRpt2-6h_vs_Mock-6h | 6 | AvrRpt2 | AT1G69460 |\n",
       "| AT1G04310 |   530.438073 | -0.093463167 | 0.13670809 | -0.68366962 | 4.941838e-01 | 6.801517e-01 | AvrRpt2-6h_vs_Mock-6h | 6 | AvrRpt2 | ERS2      |\n",
       "| AT1G08080 |     1.318553 |  1.613235794 | 1.91005683 |  0.84460094 | 3.983337e-01 |           NA | AvrRpt2-6h_vs_Mock-6h | 6 | AvrRpt2 | ACA7      |\n",
       "| AT1G75550 |    38.716409 | -1.370731677 | 0.45599650 | -3.00601359 | 2.646972e-03 | 1.452958e-02 | AvrRpt2-6h_vs_Mock-6h | 6 | AvrRpt2 | AT1G75550 |\n",
       "| AT1G71890 |   178.455382 |  0.805276831 | 0.40799469 |  1.97374341 | 4.841093e-02 | 1.398393e-01 | AvrRpt2-6h_vs_Mock-6h | 6 | AvrRpt2 | SUC5      |\n",
       "| AT1G05430 |  1240.384010 |  0.001847888 | 0.07976558 |  0.02316648 | 9.815175e-01 | 9.921470e-01 | AvrRpt2-6h_vs_Mock-6h | 6 | AvrRpt2 | AT1G05430 |\n",
       "| AT1G80870 |   322.438676 | -0.416922820 | 0.18665195 | -2.23369122 | 2.550340e-02 | 8.645301e-02 | AvrRpt2-6h_vs_Mock-6h | 6 | AvrRpt2 | AT1G80870 |\n",
       "| AT1G75310 |   841.321301 | -0.316744410 | 0.15707964 | -2.01645747 | 4.375216e-02 | 1.295011e-01 | AvrRpt2-6h_vs_Mock-6h | 6 | AvrRpt2 | AUL1      |\n",
       "| AT1G02010 |   494.828404 |  0.006562735 | 0.15529630 |  0.04225945 | 9.662919e-01 | 9.851056e-01 | AvrRpt2-6h_vs_Mock-6h | 6 | AvrRpt2 | SEC1A     |\n",
       "| AT1G47900 |   961.034050 | -0.036902041 | 0.13306525 | -0.27732289 | 7.815322e-01 | 8.798538e-01 | AvrRpt2-6h_vs_Mock-6h | 6 | AvrRpt2 | AT1G47900 |\n",
       "| ⋮ | ⋮ | ⋮ | ⋮ | ⋮ | ⋮ | ⋮ | ⋮ | ⋮ | ⋮ | ⋮ |\n",
       "| ATCG01190 |    1.5101685 |  0.662584467 | 1.6770868 |  0.39508060 | 0.6927834 |        NA | Mock-20h_vs_control | 20 | Mock | NA |\n",
       "| ATCG00370 |   17.2696183 |  0.357968187 | 0.7125907 |  0.50234757 | 0.6154231 | 0.7625359 | Mock-20h_vs_control | 20 | Mock | NA |\n",
       "| ATCG00290 |   50.1425583 |  0.103532136 | 0.7746028 |  0.13365836 | 0.8936727 | 0.9466308 | Mock-20h_vs_control | 20 | Mock | NA |\n",
       "| ATCG00200 |   10.0225042 |  0.052425911 | 0.7193351 |  0.07288107 | 0.9419008 | 0.9728518 | Mock-20h_vs_control | 20 | Mock | NA |\n",
       "| ATCG00030 |   19.0133793 |  0.737001378 | 0.6924280 |  1.06437261 | 0.2871599 | 0.4648336 | Mock-20h_vs_control | 20 | Mock | NA |\n",
       "| ATCG00620 |   28.0427773 |  0.542681153 | 0.5867572 |  0.92488200 | 0.3550273 | 0.5375741 | Mock-20h_vs_control | 20 | Mock | NA |\n",
       "| ATCG00610 |   18.7774219 | -0.008937109 | 0.6000353 | -0.01489430 | 0.9881165 | 0.9992409 | Mock-20h_vs_control | 20 | Mock | NA |\n",
       "| ATCG00450 |   29.9792381 | -0.079634187 | 0.4787903 | -0.16632373 | 0.8679022 | 0.9309545 | Mock-20h_vs_control | 20 | Mock | NA |\n",
       "| ATCG00390 |    5.5256163 |  0.757519152 | 0.9235226 |  0.82024973 | 0.4120738 | 0.5925927 | Mock-20h_vs_control | 20 | Mock | NA |\n",
       "| ATCG00320 |    1.5654667 | -1.685115313 | 2.1357732 | -0.78899543 | 0.4301147 |        NA | Mock-20h_vs_control | 20 | Mock | NA |\n",
       "| ATCG00100 |   72.9313502 |  0.212647253 | 0.5431513 |  0.39150647 | 0.6954229 | 0.8201582 | Mock-20h_vs_control | 20 | Mock | NA |\n",
       "| ATCG00400 |   38.3466749 |  0.512890708 | 0.6095796 |  0.84138424 | 0.4001327 | 0.5817452 | Mock-20h_vs_control | 20 | Mock | NA |\n",
       "| ATCG00930 |    0.6972233 | -1.521744767 | 2.6417370 | -0.57603948 | 0.5645885 |        NA | Mock-20h_vs_control | 20 | Mock | NA |\n",
       "| ATCG00010 |   20.8220113 |  0.059840153 | 0.5447451 |  0.10984983 | 0.9125285 | 0.9562382 | Mock-20h_vs_control | 20 | Mock | NA |\n",
       "| ATCG00260 |    0.9186281 | -0.091805386 | 2.5793576 | -0.03559235 | 0.9716074 |        NA | Mock-20h_vs_control | 20 | Mock | NA |\n",
       "| ATCG00250 |    0.2147990 | -0.168085217 | 6.6115500 | -0.02542297 | 0.9797176 |        NA | Mock-20h_vs_control | 20 | Mock | NA |\n",
       "| ATCG00940 |    2.0329631 |  0.709980157 | 1.2783496 |  0.55538811 | 0.5786292 |        NA | Mock-20h_vs_control | 20 | Mock | NA |\n",
       "| ATCG00460 |    3.2939555 |  0.793165206 | 1.3135692 |  0.60382447 | 0.5459603 |        NA | Mock-20h_vs_control | 20 | Mock | NA |\n",
       "| ATCG00230 |    1.0793091 |  2.329462356 | 2.6128691 |  0.89153427 | 0.3726426 |        NA | Mock-20h_vs_control | 20 | Mock | NA |\n",
       "| ATCG00310 |    0.6259522 | -0.101676882 | 3.9435586 | -0.02578303 | 0.9794304 |        NA | Mock-20h_vs_control | 20 | Mock | NA |\n",
       "| ATCG00090 |   47.3073909 | -0.157818746 | 0.3331645 | -0.47369620 | 0.6357166 | 0.7776389 | Mock-20h_vs_control | 20 | Mock | NA |\n",
       "| ATCG01200 |    2.6484448 | -0.338309341 | 1.4055222 | -0.24070011 | 0.8097876 |        NA | Mock-20h_vs_control | 20 | Mock | NA |\n",
       "| ATCG00410 |    6.5351606 | -1.208037940 | 0.7750919 | -1.55857380 | 0.1190973 | 0.2486415 | Mock-20h_vs_control | 20 | Mock | NA |\n",
       "| ATCG00960 |    7.5157565 |  0.497778452 | 1.0580222 |  0.47048015 | 0.6380120 | 0.7795319 | Mock-20h_vs_control | 20 | Mock | NA |\n",
       "| ATCG01210 |  844.8444107 |  0.225878842 | 0.7872539 |  0.28691995 | 0.7741736 | 0.8717524 | Mock-20h_vs_control | 20 | Mock | NA |\n",
       "| ATCG01160 |    0.1784006 | -0.109471644 | 6.6633750 | -0.01642886 | 0.9868923 |        NA | Mock-20h_vs_control | 20 | Mock | NA |\n",
       "| ATCG01170 |   11.1298104 | -0.152956282 | 1.0384195 | -0.14729720 | 0.8828974 | 0.9403206 | Mock-20h_vs_control | 20 | Mock | NA |\n",
       "| ATCG00920 |  635.3007781 |  0.099323158 | 0.7679245 |  0.12933974 | 0.8970888 | 0.9484617 | Mock-20h_vs_control | 20 | Mock | NA |\n",
       "| ATCG01180 | 2745.8832522 |  0.281525166 | 0.7715821 |  0.36486740 | 0.7152104 | 0.8339654 | Mock-20h_vs_control | 20 | Mock | NA |\n",
       "| ATCG00950 | 1941.4957728 |  0.387945794 | 0.7965022 |  0.48706183 | 0.6262145 | 0.7700964 | Mock-20h_vs_control | 20 | Mock | NA |\n",
       "\n"
      ],
      "text/plain": [
       "       Gene      baseMean     log2FoldChange lfcSE      stat       \n",
       "1      AT1G30814    49.195271 -0.829686864   1.73204772 -0.47902079\n",
       "2      AT1G78930   588.554366 -0.011894928   0.16141488 -0.07369164\n",
       "3      AT1G71695  4433.623286 -0.098855557   0.07110892 -1.39019901\n",
       "4      AT1G58983    45.117902  0.083782797   0.31066701  0.26968682\n",
       "5      AT1G12980     7.460745 -2.460711255   1.14448103 -2.15006732\n",
       "6      AT1G56250   138.159264  0.254901801   0.33659469  0.75729597\n",
       "7      AT1G69810   338.196167  0.661998002   0.24079084  2.74926572\n",
       "8      AT1G72450 11513.685402  1.784604326   0.09144693 19.51519037\n",
       "9      AT1G76280   822.768262 -0.340306572   0.09579234 -3.55254468\n",
       "10     AT1G65630     1.821737  3.550340403   1.83261653  1.93730677\n",
       "11     AT1G71390    14.878290  0.123862863   1.68349566  0.07357480\n",
       "12     AT1G15210    55.868887  0.632287388   0.45501974  1.38958232\n",
       "13     AT1G15250   852.689466  0.017734817   0.10221887  0.17349847\n",
       "14     AT1G79700   400.652958  0.251224736   0.20018193  1.25498207\n",
       "15     AT1G73360   165.682044 -0.138606596   0.19219006 -0.72119544\n",
       "16     AT1G16360    11.360749 -0.342953918   0.67732383 -0.50633671\n",
       "17     AT1G10225    10.061908 -0.958616702   0.85017441 -1.12755300\n",
       "18     AT1G26670  2671.854261  0.190613016   0.08252682  2.30970982\n",
       "19     AT1G52200 12703.571950  0.765396688   0.11760551  6.50817016\n",
       "20     AT1G57800     2.263691  0.747376230   1.49102473  0.50125006\n",
       "21     AT1G69460  2317.568140  0.180897829   0.06220458  2.90811100\n",
       "22     AT1G04310   530.438073 -0.093463167   0.13670809 -0.68366962\n",
       "23     AT1G08080     1.318553  1.613235794   1.91005683  0.84460094\n",
       "24     AT1G75550    38.716409 -1.370731677   0.45599650 -3.00601359\n",
       "25     AT1G71890   178.455382  0.805276831   0.40799469  1.97374341\n",
       "26     AT1G05430  1240.384010  0.001847888   0.07976558  0.02316648\n",
       "27     AT1G80870   322.438676 -0.416922820   0.18665195 -2.23369122\n",
       "28     AT1G75310   841.321301 -0.316744410   0.15707964 -2.01645747\n",
       "29     AT1G02010   494.828404  0.006562735   0.15529630  0.04225945\n",
       "30     AT1G47900   961.034050 -0.036902041   0.13306525 -0.27732289\n",
       "⋮      ⋮         ⋮            ⋮              ⋮          ⋮          \n",
       "381136 ATCG01190    1.5101685  0.662584467   1.6770868   0.39508060\n",
       "381137 ATCG00370   17.2696183  0.357968187   0.7125907   0.50234757\n",
       "381138 ATCG00290   50.1425583  0.103532136   0.7746028   0.13365836\n",
       "381139 ATCG00200   10.0225042  0.052425911   0.7193351   0.07288107\n",
       "381140 ATCG00030   19.0133793  0.737001378   0.6924280   1.06437261\n",
       "381141 ATCG00620   28.0427773  0.542681153   0.5867572   0.92488200\n",
       "381142 ATCG00610   18.7774219 -0.008937109   0.6000353  -0.01489430\n",
       "381143 ATCG00450   29.9792381 -0.079634187   0.4787903  -0.16632373\n",
       "381144 ATCG00390    5.5256163  0.757519152   0.9235226   0.82024973\n",
       "381145 ATCG00320    1.5654667 -1.685115313   2.1357732  -0.78899543\n",
       "381146 ATCG00100   72.9313502  0.212647253   0.5431513   0.39150647\n",
       "381147 ATCG00400   38.3466749  0.512890708   0.6095796   0.84138424\n",
       "381148 ATCG00930    0.6972233 -1.521744767   2.6417370  -0.57603948\n",
       "381149 ATCG00010   20.8220113  0.059840153   0.5447451   0.10984983\n",
       "381150 ATCG00260    0.9186281 -0.091805386   2.5793576  -0.03559235\n",
       "381151 ATCG00250    0.2147990 -0.168085217   6.6115500  -0.02542297\n",
       "381152 ATCG00940    2.0329631  0.709980157   1.2783496   0.55538811\n",
       "381153 ATCG00460    3.2939555  0.793165206   1.3135692   0.60382447\n",
       "381154 ATCG00230    1.0793091  2.329462356   2.6128691   0.89153427\n",
       "381155 ATCG00310    0.6259522 -0.101676882   3.9435586  -0.02578303\n",
       "381156 ATCG00090   47.3073909 -0.157818746   0.3331645  -0.47369620\n",
       "381157 ATCG01200    2.6484448 -0.338309341   1.4055222  -0.24070011\n",
       "381158 ATCG00410    6.5351606 -1.208037940   0.7750919  -1.55857380\n",
       "381159 ATCG00960    7.5157565  0.497778452   1.0580222   0.47048015\n",
       "381160 ATCG01210  844.8444107  0.225878842   0.7872539   0.28691995\n",
       "381161 ATCG01160    0.1784006 -0.109471644   6.6633750  -0.01642886\n",
       "381162 ATCG01170   11.1298104 -0.152956282   1.0384195  -0.14729720\n",
       "381163 ATCG00920  635.3007781  0.099323158   0.7679245   0.12933974\n",
       "381164 ATCG01180 2745.8832522  0.281525166   0.7715821   0.36486740\n",
       "381165 ATCG00950 1941.4957728  0.387945794   0.7965022   0.48706183\n",
       "       pvalue       padj         Contrast              hpi treatment gene_name\n",
       "1      6.319238e-01 7.855322e-01 AvrRpt2-6h_vs_Mock-6h 6   AvrRpt2   AT1G30814\n",
       "2      9.412557e-01 9.717181e-01 AvrRpt2-6h_vs_Mock-6h 6   AvrRpt2   AT1G78930\n",
       "3      1.644685e-01 3.349229e-01 AvrRpt2-6h_vs_Mock-6h 6   AvrRpt2   AT1G71695\n",
       "4      7.874012e-01 8.839580e-01 AvrRpt2-6h_vs_Mock-6h 6   AvrRpt2   AT1G58983\n",
       "5      3.154989e-02 1.011066e-01 AvrRpt2-6h_vs_Mock-6h 6   AvrRpt2   ESR1     \n",
       "6      4.488726e-01 6.408457e-01 AvrRpt2-6h_vs_Mock-6h 6   AvrRpt2   PP2-B14  \n",
       "7      5.972894e-03 2.803369e-02 AvrRpt2-6h_vs_Mock-6h 6   AvrRpt2   WRKY36   \n",
       "8      8.156474e-85 4.377580e-81 AvrRpt2-6h_vs_Mock-6h 6   AvrRpt2   JAZ6     \n",
       "9      3.815242e-04 2.866840e-03 AvrRpt2-6h_vs_Mock-6h 6   AvrRpt2   AT1G76280\n",
       "10     5.270786e-02           NA AvrRpt2-6h_vs_Mock-6h 6   AvrRpt2   DEG3     \n",
       "11     9.413487e-01 9.717369e-01 AvrRpt2-6h_vs_Mock-6h 6   AvrRpt2   RLP11    \n",
       "12     1.646557e-01 3.351502e-01 AvrRpt2-6h_vs_Mock-6h 6   AvrRpt2   ABCG35   \n",
       "13     8.622596e-01 9.277762e-01 AvrRpt2-6h_vs_Mock-6h 6   AvrRpt2   AT1G15250\n",
       "14     2.094853e-01 3.927026e-01 AvrRpt2-6h_vs_Mock-6h 6   AvrRpt2   WRI4     \n",
       "15     4.707893e-01 6.604093e-01 AvrRpt2-6h_vs_Mock-6h 6   AvrRpt2   HDG11    \n",
       "16     6.126203e-01 7.717700e-01 AvrRpt2-6h_vs_Mock-6h 6   AvrRpt2   AT1G16360\n",
       "17     2.595087e-01 4.539550e-01 AvrRpt2-6h_vs_Mock-6h 6   AvrRpt2   AT1G10225\n",
       "18     2.090423e-02 7.421397e-02 AvrRpt2-6h_vs_Mock-6h 6   AvrRpt2   VTI1B    \n",
       "19     7.607172e-11 2.791637e-09 AvrRpt2-6h_vs_Mock-6h 6   AvrRpt2   AT1G52200\n",
       "20     6.161951e-01           NA AvrRpt2-6h_vs_Mock-6h 6   AvrRpt2   VIM5     \n",
       "21     3.636192e-03 1.887239e-02 AvrRpt2-6h_vs_Mock-6h 6   AvrRpt2   AT1G69460\n",
       "22     4.941838e-01 6.801517e-01 AvrRpt2-6h_vs_Mock-6h 6   AvrRpt2   ERS2     \n",
       "23     3.983337e-01           NA AvrRpt2-6h_vs_Mock-6h 6   AvrRpt2   ACA7     \n",
       "24     2.646972e-03 1.452958e-02 AvrRpt2-6h_vs_Mock-6h 6   AvrRpt2   AT1G75550\n",
       "25     4.841093e-02 1.398393e-01 AvrRpt2-6h_vs_Mock-6h 6   AvrRpt2   SUC5     \n",
       "26     9.815175e-01 9.921470e-01 AvrRpt2-6h_vs_Mock-6h 6   AvrRpt2   AT1G05430\n",
       "27     2.550340e-02 8.645301e-02 AvrRpt2-6h_vs_Mock-6h 6   AvrRpt2   AT1G80870\n",
       "28     4.375216e-02 1.295011e-01 AvrRpt2-6h_vs_Mock-6h 6   AvrRpt2   AUL1     \n",
       "29     9.662919e-01 9.851056e-01 AvrRpt2-6h_vs_Mock-6h 6   AvrRpt2   SEC1A    \n",
       "30     7.815322e-01 8.798538e-01 AvrRpt2-6h_vs_Mock-6h 6   AvrRpt2   AT1G47900\n",
       "⋮      ⋮            ⋮            ⋮                     ⋮   ⋮         ⋮        \n",
       "381136 0.6927834           NA    Mock-20h_vs_control   20  Mock      NA       \n",
       "381137 0.6154231    0.7625359    Mock-20h_vs_control   20  Mock      NA       \n",
       "381138 0.8936727    0.9466308    Mock-20h_vs_control   20  Mock      NA       \n",
       "381139 0.9419008    0.9728518    Mock-20h_vs_control   20  Mock      NA       \n",
       "381140 0.2871599    0.4648336    Mock-20h_vs_control   20  Mock      NA       \n",
       "381141 0.3550273    0.5375741    Mock-20h_vs_control   20  Mock      NA       \n",
       "381142 0.9881165    0.9992409    Mock-20h_vs_control   20  Mock      NA       \n",
       "381143 0.8679022    0.9309545    Mock-20h_vs_control   20  Mock      NA       \n",
       "381144 0.4120738    0.5925927    Mock-20h_vs_control   20  Mock      NA       \n",
       "381145 0.4301147           NA    Mock-20h_vs_control   20  Mock      NA       \n",
       "381146 0.6954229    0.8201582    Mock-20h_vs_control   20  Mock      NA       \n",
       "381147 0.4001327    0.5817452    Mock-20h_vs_control   20  Mock      NA       \n",
       "381148 0.5645885           NA    Mock-20h_vs_control   20  Mock      NA       \n",
       "381149 0.9125285    0.9562382    Mock-20h_vs_control   20  Mock      NA       \n",
       "381150 0.9716074           NA    Mock-20h_vs_control   20  Mock      NA       \n",
       "381151 0.9797176           NA    Mock-20h_vs_control   20  Mock      NA       \n",
       "381152 0.5786292           NA    Mock-20h_vs_control   20  Mock      NA       \n",
       "381153 0.5459603           NA    Mock-20h_vs_control   20  Mock      NA       \n",
       "381154 0.3726426           NA    Mock-20h_vs_control   20  Mock      NA       \n",
       "381155 0.9794304           NA    Mock-20h_vs_control   20  Mock      NA       \n",
       "381156 0.6357166    0.7776389    Mock-20h_vs_control   20  Mock      NA       \n",
       "381157 0.8097876           NA    Mock-20h_vs_control   20  Mock      NA       \n",
       "381158 0.1190973    0.2486415    Mock-20h_vs_control   20  Mock      NA       \n",
       "381159 0.6380120    0.7795319    Mock-20h_vs_control   20  Mock      NA       \n",
       "381160 0.7741736    0.8717524    Mock-20h_vs_control   20  Mock      NA       \n",
       "381161 0.9868923           NA    Mock-20h_vs_control   20  Mock      NA       \n",
       "381162 0.8828974    0.9403206    Mock-20h_vs_control   20  Mock      NA       \n",
       "381163 0.8970888    0.9484617    Mock-20h_vs_control   20  Mock      NA       \n",
       "381164 0.7152104    0.8339654    Mock-20h_vs_control   20  Mock      NA       \n",
       "381165 0.6262145    0.7700964    Mock-20h_vs_control   20  Mock      NA       "
      ]
     },
     "metadata": {},
     "output_type": "display_data"
    }
   ],
   "source": [
    "Res"
   ]
  },
  {
   "cell_type": "code",
   "execution_count": 64,
   "metadata": {
    "scrolled": true,
    "tags": []
   },
   "outputs": [],
   "source": [
    "NLRs_table <- openxlsx::read.xlsx('../gene_table_and_other_scripts//NLRs_167.xlsx') "
   ]
  },
  {
   "cell_type": "code",
   "execution_count": 65,
   "metadata": {
    "scrolled": true,
    "tags": []
   },
   "outputs": [],
   "source": [
    "Res_NLRs <- Res %>% left_join(NLRs_table %>% select(AGI, Class, Organization, Symbol),\n",
    "    by = c('Gene' = 'AGI')) %>% filter(Symbol != 'NA')\n",
    "Res_NLRs_up <- Res_NLRs %>% filter(log2FoldChange >2, padj < 0.05, baseMean > 5)"
   ]
  },
  {
   "cell_type": "code",
   "execution_count": 66,
   "metadata": {
    "tags": []
   },
   "outputs": [],
   "source": [
    "# Define the color palette\n",
    "cols <- c('TIR-NBS-LRR' = \"#386cb0\",\n",
    "          'TIR'= \"#a6cee3\", \"TIR-NBS\" = \"#2581ba\",\n",
    "          \"CC-NBS-LRR\" = \"#fdb462\",'CC-NBS' =  \"#fb9a99\", 'RPW8-NBS-LRR' = \"#984ea3\",\n",
    "          'NBS-LRR' = \"#ffff33\",\n",
    "          'P-loop' = \"#7fc97f\"\n",
    "         )\n",
    "\n",
    "# Define y-axis limits\n",
    "ymax = 11\n",
    "ymin = -5\n"
   ]
  },
  {
   "cell_type": "code",
   "execution_count": 67,
   "metadata": {},
   "outputs": [
    {
     "data": {
      "text/html": [
       "<strong>$Contrast</strong> = <style>\n",
       ".list-inline {list-style: none; margin:0; padding: 0}\n",
       ".list-inline>li {display: inline-block}\n",
       ".list-inline>li:not(:last-child)::after {content: \"\\00b7\"; padding: 0 .5ex}\n",
       "</style>\n",
       "<ol class=list-inline><li>'AvrRpt2-6h_vs_Mock-6h'</li><li>'AvrRpt2-12h_vs_Mock-12h'</li><li>'AvrRpt2-20h_vs_Mock-20h'</li><li>'AvrRps4-6h_vs_Mock-6h'</li><li>'AvrRps4-12h_vs_Mock-12h'</li><li>'AvrRps4-20h_vs_Mock-20h'</li></ol>\n"
      ],
      "text/latex": [
       "\\textbf{\\$Contrast} = \\begin{enumerate*}\n",
       "\\item 'AvrRpt2-6h\\_vs\\_Mock-6h'\n",
       "\\item 'AvrRpt2-12h\\_vs\\_Mock-12h'\n",
       "\\item 'AvrRpt2-20h\\_vs\\_Mock-20h'\n",
       "\\item 'AvrRps4-6h\\_vs\\_Mock-6h'\n",
       "\\item 'AvrRps4-12h\\_vs\\_Mock-12h'\n",
       "\\item 'AvrRps4-20h\\_vs\\_Mock-20h'\n",
       "\\end{enumerate*}\n"
      ],
      "text/markdown": [
       "**$Contrast** = 1. 'AvrRpt2-6h_vs_Mock-6h'\n",
       "2. 'AvrRpt2-12h_vs_Mock-12h'\n",
       "3. 'AvrRpt2-20h_vs_Mock-20h'\n",
       "4. 'AvrRps4-6h_vs_Mock-6h'\n",
       "5. 'AvrRps4-12h_vs_Mock-12h'\n",
       "6. 'AvrRps4-20h_vs_Mock-20h'\n",
       "\n",
       "\n"
      ],
      "text/plain": [
       "$Contrast\n",
       "[1] \"AvrRpt2-6h_vs_Mock-6h\"   \"AvrRpt2-12h_vs_Mock-12h\"\n",
       "[3] \"AvrRpt2-20h_vs_Mock-20h\" \"AvrRps4-6h_vs_Mock-6h\"  \n",
       "[5] \"AvrRps4-12h_vs_Mock-12h\" \"AvrRps4-20h_vs_Mock-20h\"\n"
      ]
     },
     "metadata": {},
     "output_type": "display_data"
    }
   ],
   "source": [
    "filtered_data <- Res %>%\n",
    "  filter(!str_detect(Contrast, 'control')) %>%\n",
    "  select(Contrast) %>%\n",
    "  unique()\n",
    "filtered_data %>% c()"
   ]
  },
  {
   "cell_type": "code",
   "execution_count": 68,
   "metadata": {
    "scrolled": true,
    "tags": []
   },
   "outputs": [
    {
     "name": "stdout",
     "output_type": "stream",
     "text": [
      "[1] \"AvrRpt2-6h_vs_Mock-6h\"\n",
      "[1] \"AvrRpt2-6h_vs_Mock-6h\"\n"
     ]
    },
    {
     "name": "stderr",
     "output_type": "stream",
     "text": [
      "\u001b[1m\u001b[22mScale for \u001b[32my\u001b[39m is already present.\n",
      "Adding another scale for \u001b[32my\u001b[39m, which will replace the existing scale.\n"
     ]
    },
    {
     "name": "stdout",
     "output_type": "stream",
     "text": [
      "[1] \"AvrRpt2-12h_vs_Mock-12h\"\n",
      "[1] \"AvrRpt2-12h_vs_Mock-12h\"\n"
     ]
    },
    {
     "name": "stderr",
     "output_type": "stream",
     "text": [
      "\u001b[1m\u001b[22mScale for \u001b[32my\u001b[39m is already present.\n",
      "Adding another scale for \u001b[32my\u001b[39m, which will replace the existing scale.\n"
     ]
    },
    {
     "name": "stdout",
     "output_type": "stream",
     "text": [
      "[1] \"AvrRpt2-20h_vs_Mock-20h\"\n",
      "[1] \"AvrRpt2-20h_vs_Mock-20h\"\n"
     ]
    },
    {
     "name": "stderr",
     "output_type": "stream",
     "text": [
      "\u001b[1m\u001b[22mScale for \u001b[32my\u001b[39m is already present.\n",
      "Adding another scale for \u001b[32my\u001b[39m, which will replace the existing scale.\n"
     ]
    },
    {
     "name": "stdout",
     "output_type": "stream",
     "text": [
      "[1] \"AvrRps4-6h_vs_Mock-6h\"\n",
      "[1] \"AvrRps4-6h_vs_Mock-6h\"\n"
     ]
    },
    {
     "name": "stderr",
     "output_type": "stream",
     "text": [
      "\u001b[1m\u001b[22mScale for \u001b[32my\u001b[39m is already present.\n",
      "Adding another scale for \u001b[32my\u001b[39m, which will replace the existing scale.\n"
     ]
    },
    {
     "name": "stdout",
     "output_type": "stream",
     "text": [
      "[1] \"AvrRps4-12h_vs_Mock-12h\"\n",
      "[1] \"AvrRps4-12h_vs_Mock-12h\"\n"
     ]
    },
    {
     "name": "stderr",
     "output_type": "stream",
     "text": [
      "\u001b[1m\u001b[22mScale for \u001b[32my\u001b[39m is already present.\n",
      "Adding another scale for \u001b[32my\u001b[39m, which will replace the existing scale.\n"
     ]
    },
    {
     "name": "stdout",
     "output_type": "stream",
     "text": [
      "[1] \"AvrRps4-20h_vs_Mock-20h\"\n",
      "[1] \"AvrRps4-20h_vs_Mock-20h\"\n"
     ]
    },
    {
     "name": "stderr",
     "output_type": "stream",
     "text": [
      "\u001b[1m\u001b[22mScale for \u001b[32my\u001b[39m is already present.\n",
      "Adding another scale for \u001b[32my\u001b[39m, which will replace the existing scale.\n"
     ]
    }
   ],
   "source": [
    "library(gridExtra)\n",
    "\n",
    "# Set plot dimensions and resolution\n",
    "options(repr.plot.width=18, repr.plot.height=6, repr.plot.res = 140)\n",
    "\n",
    "# Define the function\n",
    "create_NLRs_plot <- function(line_value, ymin, ymax, cols) {\n",
    "    plot.margin = 0.1\n",
    "    print(line_value)\n",
    "  ggplot(\n",
    "    Res_NLRs %>% filter(Contrast == line_value),\n",
    "    aes(x = gene_name, y = log2FoldChange)\n",
    "  ) +\n",
    "    aes(x = reorder(Gene, -log2FoldChange)) +\n",
    "    geom_bar(stat = 'identity', aes(fill = Class), width = 1) +\n",
    "    theme_Publication(base_size = 10) + theme(axis.text.x = element_blank()) + #hide x label\n",
    "    xlab(label = line_value) +\n",
    "    ylim(ymin, ymax) + ylab(label = element_blank()) + geom_hline(yintercept = 2, linetype = 'dashed', col = '#5d606e') +\n",
    "    scale_y_continuous(limits = c(-5, 11), breaks = c(-5, -2, 2, 5, 10)) + scale_fill_manual(values = cols) +\n",
    "    theme(plot.margin = margin(t = plot.margin, r = plot.margin, b = plot.margin, l = plot.margin, unit = \"cm\")) +\n",
    "    theme(axis.ticks.x = element_blank())\n",
    "}\n",
    "\n",
    "# Get unique line values\n",
    "unique_Contrast <- c('AvrRpt2-6h_vs_Mock-6h', 'AvrRpt2-12h_vs_Mock-12h', 'AvrRpt2-20h_vs_Mock-20h',\n",
    "                     'AvrRps4-6h_vs_Mock-6h', 'AvrRps4-12h_vs_Mock-12h','AvrRps4-20h_vs_Mock-20h')\n",
    "\n",
    "# Create a list to store the plots\n",
    "plot_list <- list()\n",
    "\n",
    "# Iterate through unique line values\n",
    "for (i in seq_along(unique_Contrast)) {\n",
    "    print(unique_Contrast[i])\n",
    "  plot_list[[i]] <- create_NLRs_plot(unique_Contrast[i], ymin, ymax, cols)\n",
    "}\n",
    "\n",
    "# Arrange the plots in one row with three columns and control the space between the plots\n",
    "NLRs_bar_plot <- arrangeGrob(grobs = plot_list,  ncol = 3)\n",
    "\n",
    "# Save the plot as a PDF\n",
    "ggsave(file = paste0(\"./plots/NLRs_bar_plot\", Sys.time(), \".pdf\"), plot = NLRs_bar_plot, width = 8.3, height = 6)\n"
   ]
  },
  {
   "cell_type": "code",
   "execution_count": 76,
   "metadata": {},
   "outputs": [
    {
     "data": {
      "image/png": "[encoded data removed]"
     },
     "metadata": {
      "image/png": {
       "height": 420,
       "width": 1260
      }
     },
     "output_type": "display_data"
    }
   ],
   "source": [
    "NLRs_bar_plot %>% plot"
   ]
  },
  {
   "cell_type": "code",
   "execution_count": 69,
   "metadata": {
    "scrolled": true,
    "tags": []
   },
   "outputs": [
    {
     "ename": "ERROR",
     "evalue": "Error in is_data_pronoun(expr): argument \"expr\" is missing, with no default\n",
     "output_type": "error",
     "traceback": [
      "Error in is_data_pronoun(expr): argument \"expr\" is missing, with no default\nTraceback:\n",
      "1. Res_NLRs_up %>% mutate(test = Contrast %>% str_remove(\"_vs_Mock-\\\\d{1,2}h$\"), \n .     control = )",
      "2. mutate(., test = Contrast %>% str_remove(\"_vs_Mock-\\\\d{1,2}h$\"), \n .     control = )",
      "3. mutate.data.frame(., test = Contrast %>% str_remove(\"_vs_Mock-\\\\d{1,2}h$\"), \n .     control = )",
      "4. mutate_cols(.data, dplyr_quosures(...), caller_env = caller_env())",
      "5. withCallingHandlers({\n .     for (i in seq_along(dots)) {\n .         context_poke(\"column\", old_current_column)\n .         quosures <- expand_across(dots[[i]])\n .         quosures_results <- vector(mode = \"list\", length = length(quosures))\n .         for (k in seq_along(quosures)) {\n .             quo <- quosures[[k]]\n .             quo_data <- attr(quo, \"dplyr:::data\")\n .             if (!is.null(quo_data$column)) {\n .                 context_poke(\"column\", quo_data$column)\n .             }\n .             chunks <- NULL\n .             result <- NULL\n .             if (quo_is_symbol(quo)) {\n .                 name <- as_string(quo_get_expr(quo))\n .                 if (name %in% names(new_columns)) {\n .                   result <- new_columns[[name]]\n .                   chunks <- mask$resolve(name)\n .                 }\n .                 else if (name %in% names(.data)) {\n .                   result <- .data[[name]]\n .                   chunks <- mask$resolve(name)\n .                 }\n .                 if (inherits(.data, \"rowwise_df\") && vec_is_list(result)) {\n .                   sizes <- list_sizes(result)\n .                   wrong <- which(sizes != 1)\n .                   if (length(wrong)) {\n .                     group <- wrong[1L]\n .                     mask$set_current_group(group)\n .                     abort(class = c(\"dplyr:::mutate_incompatible_size\", \n .                       \"dplyr:::internal_error\"), dplyr_error_data = list(result_size = sizes[group], \n .                       expected_size = 1))\n .                   }\n .                 }\n .             }\n .             else if (!quo_is_symbolic(quo) && !is.null(quo_get_expr(quo))) {\n .                 result <- quo_get_expr(quo)\n .                 result <- withCallingHandlers(vec_recycle(result, \n .                   vec_size(.data)), error = function(cnd) {\n .                   abort(class = c(\"dplyr:::mutate_constant_recycle_error\", \n .                     \"dplyr:::internal_error\"), constant_size = vec_size(result), \n .                     data_size = vec_size(.data))\n .                 })\n .                 chunks <- vec_chop(result, rows)\n .             }\n .             if (is.null(chunks)) {\n .                 if (is.null(quo_data$column)) {\n .                   chunks <- mask$eval_all_mutate(quo)\n .                 }\n .                 else {\n .                   chunks <- withCallingHandlers(mask$eval_all_mutate(quo), \n .                     error = function(cnd) {\n .                       msg <- glue(\"Problem while computing column `{quo_data$name_auto}`.\")\n .                       abort(msg, call = call(\"across\"), parent = cnd)\n .                     })\n .                 }\n .             }\n .             if (is.null(chunks)) {\n .                 next\n .             }\n .             if (is.null(result)) {\n .                 if (length(rows) == 1) {\n .                   result <- chunks[[1]]\n .                 }\n .                 else {\n .                   chunks <- dplyr_vec_cast_common(chunks, quo_data$name_auto)\n .                   result <- vec_unchop(chunks, rows)\n .                 }\n .             }\n .             quosures_results[[k]] <- list(result = result, chunks = chunks)\n .         }\n .         for (k in seq_along(quosures)) {\n .             quo <- quosures[[k]]\n .             quo_data <- attr(quo, \"dplyr:::data\")\n .             quo_result <- quosures_results[[k]]\n .             if (is.null(quo_result)) {\n .                 if (quo_data$is_named) {\n .                   name <- quo_data$name_given\n .                   new_columns[[name]] <- zap()\n .                   mask$remove(name)\n .                 }\n .                 next\n .             }\n .             result <- quo_result$result\n .             chunks <- quo_result$chunks\n .             if (!quo_data$is_named && is.data.frame(result)) {\n .                 types <- vec_ptype(result)\n .                 types_names <- names(types)\n .                 chunks_extracted <- .Call(dplyr_extract_chunks, \n .                   chunks, types)\n .                 for (j in seq_along(types)) {\n .                   mask$add_one(types_names[j], chunks_extracted[[j]], \n .                     result = result[[j]])\n .                 }\n .                 new_columns[types_names] <- result\n .             }\n .             else {\n .                 name <- quo_data$name_auto\n .                 mask$add_one(name = name, chunks = chunks, result = result)\n .                 new_columns[[name]] <- result\n .             }\n .         }\n .     }\n . }, error = function(e) {\n .     local_error_context(dots = dots, .index = i, mask = mask)\n .     bullets <- c(cnd_bullet_header(\"computing\"), mutate_bullets(e))\n .     abort(bullets, class = \"dplyr:::mutate_error\", parent = skip_internal_condition(e), \n .         bullets = bullets, call = error_call)\n . }, warning = function(w) {\n .     if (check_muffled_warning(w)) {\n .         maybe_restart(\"muffleWarning\")\n .     }\n .     local_error_context(dots = dots, .index = i, mask = mask)\n .     warn(c(cnd_bullet_header(\"computing\"), i = cnd_header(w), \n .         i = cnd_bullet_cur_group_label(what = \"warning\")))\n .     maybe_restart(\"muffleWarning\")\n . })",
      "6. mask$eval_all_mutate(quo)",
      "7. .handleSimpleError(function (e) \n . {\n .     local_error_context(dots = dots, .index = i, mask = mask)\n .     bullets <- c(cnd_bullet_header(\"computing\"), mutate_bullets(e))\n .     abort(bullets, class = \"dplyr:::mutate_error\", parent = skip_internal_condition(e), \n .         bullets = bullets, call = error_call)\n . }, \"object '' not found\", base::quote(mask$eval_all_mutate(quo)))",
      "8. h(simpleError(msg, call))",
      "9. local_error_context(dots = dots, .index = i, mask = mask)",
      "10. quo_as_label(dots[[.index]])",
      "11. is_data_pronoun(expr)",
      "12. is_call(x, c(\"[[\", \"$\"))"
     ]
    }
   ],
   "source": [
    "Res_NLRs_up %>% mutate(test = Contrast %>% str_remove('_vs_Mock-\\\\d{1,2}h$'), control = )"
   ]
  },
  {
   "cell_type": "code",
   "execution_count": 70,
   "metadata": {
    "tags": []
   },
   "outputs": [
    {
     "ename": "ERROR",
     "evalue": "\u001b[1m\u001b[33mError\u001b[39m in `filter()`:\u001b[22m\n\u001b[1m\u001b[22m\u001b[33m!\u001b[39m Problem while computing `..1 = line == \"DM6/DM7\"`.\n\u001b[1mCaused by error in `line == \"DM6/DM7\"`:\u001b[22m\n\u001b[33m!\u001b[39m comparison (==) is possible only for atomic and list types\n",
     "output_type": "error",
     "traceback": [
      "\u001b[1m\u001b[33mError\u001b[39m in `filter()`:\u001b[22m\n\u001b[1m\u001b[22m\u001b[33m!\u001b[39m Problem while computing `..1 = line == \"DM6/DM7\"`.\n\u001b[1mCaused by error in `line == \"DM6/DM7\"`:\u001b[22m\n\u001b[33m!\u001b[39m comparison (==) is possible only for atomic and list types\nTraceback:\n",
      "1. Res_NLRs_up %>% filter(line == \"DM6/DM7\") %>% pull(AGI)",
      "2. pull(., AGI)",
      "3. filter(., line == \"DM6/DM7\")",
      "4. filter.data.frame(., line == \"DM6/DM7\")",
      "5. filter_rows(.data, ..., caller_env = caller_env())",
      "6. filter_eval(dots, mask = mask, error_call = error_call)",
      "7. withCallingHandlers({\n .     mask$eval_all_filter(dots, env_filter)\n . }, error = function(e) {\n .     local_error_context(dots = dots, .index = env_filter$current_expression, \n .         mask = mask)\n .     bullets <- c(cnd_bullet_header(\"computing\"), filter_bullets(e))\n .     abort(bullets, call = error_call, parent = skip_internal_condition(e))\n . })",
      "8. mask$eval_all_filter(dots, env_filter)",
      "9. .handleSimpleError(function (e) \n . {\n .     local_error_context(dots = dots, .index = env_filter$current_expression, \n .         mask = mask)\n .     bullets <- c(cnd_bullet_header(\"computing\"), filter_bullets(e))\n .     abort(bullets, call = error_call, parent = skip_internal_condition(e))\n . }, \"comparison (==) is possible only for atomic and list types\", \n .     base::quote(line == \"DM6/DM7\"))",
      "10. h(simpleError(msg, call))",
      "11. abort(bullets, call = error_call, parent = skip_internal_condition(e))",
      "12. signal_abort(cnd, .file)"
     ]
    }
   ],
   "source": [
    "up_NLRs <-  list( \n",
    "    'DM6/7' = Res_NLRs_up %>% filter(line == 'DM6/DM7') %>% pull(AGI),\n",
    "    'DM1/2d' = Res_NLRs_up %>% filter(line == 'DM1/DM2d') %>% pull(AGI),\n",
    "    'DM10/11' = Res_NLRs_up %>% filter(line == 'DM10/DM11') %>% pull(AGI)\n",
    "    )"
   ]
  },
  {
   "cell_type": "code",
   "execution_count": null,
   "metadata": {},
   "outputs": [],
   "source": [
    "up_venn_shoot <- VennDiagram::venn.diagram(up_NLRs, fill = c(\"#F8766D\",  \"#FB61D7\", \"#A58AFF\"),\n",
    "                  alpha = c(0.5, 0.5,0.5), cat.cex = 2, ## Vector giving the size for each category name\n",
    "                  cex=2,filename=NULL,  cat.dist = 0.06, # set name distanc to set\n",
    "                  lty = 'blank', sub.fontfamily = \"Helvetica\",\n",
    "                              cat.fontfamily = \"Helvetica\",\n",
    "                    main = 'Up-regualted NLRs in Shoot',\n",
    "                        main.pos = c(0.5, 1.05), main.fontface = \"plain\",\n",
    "                    main.fontfamily = \"Helvetica\", main.col = \"black\",\n",
    "                    main.cex = 2.4, fontfamily = 'Helvetica',\n",
    "                  ggplot = T) \n",
    "\n",
    "# grid.newpage()\n",
    "# grid.draw(up_venn_shoot)\n",
    "\n",
    "pdf(file = paste0(\"./plots/venn_NLRs\", Sys.time(), \".pdf\") , width = 6, height = 6)\n",
    "grid.newpage()\n",
    "grid.draw(up_venn_shoot)\n",
    "dev.off()"
   ]
  },
  {
   "cell_type": "code",
   "execution_count": null,
   "metadata": {},
   "outputs": [],
   "source": []
  },
  {
   "cell_type": "code",
   "execution_count": null,
   "metadata": {},
   "outputs": [],
   "source": []
  },
  {
   "cell_type": "code",
   "execution_count": null,
   "metadata": {},
   "outputs": [],
   "source": []
  },
  {
   "cell_type": "markdown",
   "metadata": {
    "tags": []
   },
   "source": [
    "## plot the DEG of time course"
   ]
  },
  {
   "cell_type": "code",
   "execution_count": null,
   "metadata": {
    "scrolled": true,
    "tags": []
   },
   "outputs": [],
   "source": [
    "dds_counts_long <- counts(dds, normalized = TRUE) %>% as.data.frame %>% tibble::rownames_to_column(\"Gene\") %>% \n",
    "    tidyr::pivot_longer(cols = 2:length(.), names_to = 'sample', values_to = 'counts')\n",
    "dds_counts_long <- dds_counts_long %>% left_join(sample_data, by = 'sample')\n",
    "\n",
    "dds_counts_long <- dds_counts_long %>% left_join(Orths, by = c('Gene' = 'BrapaLocus')) %>% \n",
    "    left_join(map_id_name, by = c('AtLocus' = 'gene_id')) %>% \n",
    "     mutate(label = paste0(gene_name, '_', AtLocus, '_', Gene) %>% str_remove_all('NA') %>% \n",
    "               str_remove_all('^_') %>%   str_remove_all('^_')) %>% \n",
    "    mutate(label = label %>%  str_remove('^AT\\\\dG\\\\d{5}_'))\n",
    "\n",
    "dds_counts_long <- dds_counts_long %>% mutate(time =  group %>% str_extract('\\\\d{1,2}$') %>% as.numeric)"
   ]
  },
  {
   "cell_type": "code",
   "execution_count": null,
   "metadata": {
    "tags": []
   },
   "outputs": [],
   "source": [
    "dds_counts_long <- dds_counts_long %>% left_join (\n",
    "    dds_counts_long %>% group_by(group, Gene) %>% summarise(mean_counts = mean(counts), sd=sd(counts)),\n",
    "    by = c('group' = 'group', 'Gene' = 'Gene'))"
   ]
  },
  {
   "cell_type": "code",
   "execution_count": null,
   "metadata": {
    "scrolled": true,
    "tags": []
   },
   "outputs": [],
   "source": [
    "dds_counts_long <- dds_counts_long %>% mutate(line_treatment = group %>% str_remove('\\\\d{1,2}$'))"
   ]
  },
  {
   "cell_type": "code",
   "execution_count": null,
   "metadata": {
    "tags": []
   },
   "outputs": [],
   "source": [
    "dds_counts_long$label2 <- dds_counts_long$label %>% str_replace_all('_', \"\\n\")"
   ]
  },
  {
   "cell_type": "code",
   "execution_count": null,
   "metadata": {
    "tags": []
   },
   "outputs": [],
   "source": [
    "dds_counts_long %>% saveRDS('./hisat2_featurecounts_deseq2/Rds_Rdata/dds_counts_long.rds')"
   ]
  },
  {
   "cell_type": "raw",
   "metadata": {
    "execution": {
     "iopub.execute_input": "2022-07-30T14:25:13.990176Z",
     "iopub.status.busy": "2022-07-30T14:25:13.987023Z",
     "iopub.status.idle": "2022-07-30T14:25:14.914337Z",
     "shell.execute_reply": "2022-07-30T14:25:14.912666Z"
    },
    "tags": []
   },
   "source": [
    "options(repr.plot.width=18, repr.plot.height=6)\n",
    "\n",
    "dds_counts_long %>% filter( Gene %in% common_up_in_B10) %>% \n",
    "    ggplot(  aes(x = time, y = counts, colour  = line_treatment, group = line_treatment)) + \n",
    "     geom_line( aes( y= counts), stat = 'summary', fun = 'mean')  + \n",
    "    geom_point( )  + \n",
    "    geom_ribbon(aes(ymin = mean_counts - sd   , ymax = mean_counts + sd, fill  = line_treatment), color = NA,alpha = 0.15) +\n",
    "    scale_color_manual(values = c('B10-C' = '#2eb053', 'B10-H' = '#e35b40', 'B11-C' = '#5ceded', 'B11-H' = '#c45ced'  )) +\n",
    "    ggh4x::facet_grid2(. ~ label2,   scales = \"free_y\", independent = \"y\" ,\n",
    "                       labeller = labeller( multi_line = TRUE, sep = \"_\"))  +\n",
    "    scale_x_continuous(breaks = c(0, 3, 12, 24)) +\n",
    "    theme_Publication() "
   ]
  },
  {
   "cell_type": "raw",
   "metadata": {
    "execution": {
     "iopub.execute_input": "2022-07-30T15:40:03.093823Z",
     "iopub.status.busy": "2022-07-30T15:40:03.092653Z",
     "iopub.status.idle": "2022-07-30T15:40:03.139106Z",
     "shell.execute_reply": "2022-07-30T15:40:03.137746Z"
    },
    "tags": []
   },
   "source": [
    "Res_sig %>% filter( log2FoldChange < -3, padj < 0.01 ) %>% group_by(Gene) %>% \n",
    "    summarise(count = n()) %>% arrange(desc(count)) %>% filter(count > 3 ) %>% distinct()"
   ]
  },
  {
   "cell_type": "code",
   "execution_count": null,
   "metadata": {
    "tags": []
   },
   "outputs": [],
   "source": [
    "options(repr.plot.width=18, repr.plot.height=12)\n",
    "\n",
    "plot_counts <- function (counts_table, ncol =5) {\n",
    "    plot <- counts_table %>% ggplot(  aes(x = time, y = counts, colour  = line_treatment, group = line_treatment)) + \n",
    "     geom_line( aes( y= counts), stat = 'summary', fun = 'mean')  + \n",
    "    geom_point( )  + \n",
    "    geom_ribbon(aes(ymin = mean_counts - sd   , ymax = mean_counts + sd, fill  = line_treatment), color = NA,alpha = 0.2) +\n",
    "    scale_color_manual(values = c('B10-C' = '#2eb053', 'B10-H' = '#e35b40', 'B11-C' = '#5ceded', 'B11-H' = '#c45ced'  )) +\n",
    "    ggh4x::facet_wrap2(vars(label2),  ncol = ncol , scales = \"free_y\",  #independent = \"y\" ,\n",
    "                       labeller = labeller( multi_line = TRUE, sep = \"_\"))  +\n",
    "    scale_x_continuous(breaks = c(0, 3, 12, 24)) +\n",
    "    theme_Publication() \n",
    "    return(plot)\n",
    "}\n",
    "    "
   ]
  },
  {
   "cell_type": "code",
   "execution_count": null,
   "metadata": {
    "tags": []
   },
   "outputs": [],
   "source": [
    "library(ggforce)"
   ]
  },
  {
   "cell_type": "code",
   "execution_count": null,
   "metadata": {},
   "outputs": [],
   "source": []
  },
  {
   "cell_type": "raw",
   "metadata": {
    "execution": {
     "iopub.execute_input": "2022-07-30T15:40:23.638788Z",
     "iopub.status.busy": "2022-07-30T15:40:23.637716Z",
     "iopub.status.idle": "2022-07-30T15:40:31.899493Z",
     "shell.execute_reply": "2022-07-30T15:40:31.898019Z"
    },
    "tags": []
   },
   "source": [
    "options(repr.plot.width=18, repr.plot.height=8)\n",
    "\n",
    "defaultW <- getOption(\"warn\")\n",
    "options(warn = -1)\n",
    "\n",
    "\n",
    "for (i in 1:2) {\n",
    "    plot <- Res_sig_extend %>% \n",
    "    ggplot(aes(time, log2FoldChange)) + ylim(-4,4) +\n",
    "  geom_line(aes(group = Gene), , alpha = 0.1) +\n",
    "  geom_line(stat = \"summary\", fun = \"median\", colour = \"brown\", size = 1.5, \n",
    "            aes(group = 1)) +\n",
    "  facet_grid_paginate(line ~ cluster, ncol = 5, nrow = 2, page = i) \n",
    "    print(plot)\n",
    "    \n",
    "}\n",
    "\n",
    "\n",
    "options(warn = defaultW)"
   ]
  },
  {
   "cell_type": "markdown",
   "metadata": {},
   "source": [
    "## save environment"
   ]
  },
  {
   "cell_type": "code",
   "execution_count": 71,
   "metadata": {
    "tags": []
   },
   "outputs": [],
   "source": [
    "save.image('./Rds_Rdata_hisat2/hisat.Rdata')"
   ]
  },
  {
   "cell_type": "code",
   "execution_count": null,
   "metadata": {
    "tags": []
   },
   "outputs": [],
   "source": [
    "load('./Rds_Rdata_hisat2/hisat.Rdata')"
   ]
  },
  {
   "cell_type": "code",
   "execution_count": 74,
   "metadata": {},
   "outputs": [],
   "source": [
    "Res %>% saveRDS(file = paste0(\"./Rds_Rdata_hisat2/Res\", Sys.time(), \".rdata\"))"
   ]
  },
  {
   "cell_type": "code",
   "execution_count": null,
   "metadata": {},
   "outputs": [],
   "source": []
  }
 ],
 "metadata": {
  "kernelspec": {
   "display_name": "R",
   "language": "R",
   "name": "ir"
  },
  "language_info": {
   "codemirror_mode": "r",
   "file_extension": ".r",
   "mimetype": "text/x-r-source",
   "name": "R",
   "pygments_lexer": "r",
   "version": "4.2.2"
  }
 },
 "nbformat": 4,
 "nbformat_minor": 4
}
