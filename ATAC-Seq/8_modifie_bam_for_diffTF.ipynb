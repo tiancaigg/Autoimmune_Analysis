{
 "cells": [
  {
   "cell_type": "code",
   "execution_count": 2,
   "id": "491da3e5-07da-4770-92c8-728a39cac24d",
   "metadata": {
    "tags": []
   },
   "outputs": [],
   "source": [
    "import subprocess\n",
    "import glob\n",
    "import os\n",
    "from os.path import exists\n",
    "import re\n",
    "import pandas as pd\n",
    "from multiprocessing import Pool\n",
    "import pyreadr"
   ]
  },
  {
   "cell_type": "code",
   "execution_count": null,
   "id": "5669e04b-fb64-4faf-bfbe-9bc2c71fcf0e",
   "metadata": {},
   "outputs": [],
   "source": []
  },
  {
   "cell_type": "markdown",
   "id": "1c530b77-0f0f-4273-9e9b-e25b48e481cd",
   "metadata": {
    "tags": []
   },
   "source": [
    "/media/HDD2/donghui/bulk_ATAC_DM1_DM2d/scan_motif » nohup fimo --oc fimo_single_thread Ath_TF_binding_motifs_plantTFDB.meme /media/HDD2/Genomes/Ath_Ensembl56/Arabidopsis_thaliana.TAIR10.dna.toplevel.fa &"
   ]
  },
  {
   "cell_type": "code",
   "execution_count": 3,
   "id": "838acdec-4019-42de-8190-09eeeb5b1832",
   "metadata": {
    "tags": []
   },
   "outputs": [],
   "source": [
    "import pysam\n",
    "import os\n",
    "from multiprocessing import Pool\n",
    "\n",
    "def modify_and_save_bam(bam_path, dest_folder):\n",
    "    # Open the BAM file\n",
    "    bam = pysam.AlignmentFile(bam_path, \"rb\")\n",
    "    # Make a copy of the header\n",
    "    header = bam.header.to_dict()\n",
    "    \n",
    "    # Modify the 'SQ' lines in the header (which contain the chromosome names)\n",
    "    for sq in header['SQ']:\n",
    "        # Add 'chr' prefix to chromosome names if not already present\n",
    "        if not sq['SN'].startswith('chr'):\n",
    "            sq['SN'] = 'chr' + sq['SN']\n",
    "\n",
    "    # Define the new BAM file path\n",
    "    new_bam_path = os.path.join(dest_folder, os.path.basename(bam_path))\n",
    "    \n",
    "    # Write the new BAM file with the modified header\n",
    "    with pysam.AlignmentFile(new_bam_path, \"wb\", header=pysam.AlignmentHeader.from_dict(header)) as out_bam:\n",
    "        for read in bam:\n",
    "            out_bam.write(read)\n",
    "    \n",
    "    # Close the original BAM file\n",
    "    bam.close()\n",
    "    \n",
    "    # Index the new BAM file\n",
    "    pysam.index(new_bam_path)\n",
    "\n",
    "\n",
    "source_folder = '/media/HDD3/bulk_ATAC_DMs/DM1_DM2d_Novogene/X401SC23101639-Z01-F001/Analysi_dir/4_intersect_bam/'\n",
    "dest_folder = '/media/HDD2/donghui/diffTF_ath/diffTF/example/stable/input/data/4_intersect_bam_modified'\n",
    "# Create the destination folder if it does not exist\n",
    "if not os.path.exists(dest_folder):\n",
    "    os.makedirs(dest_folder)\n",
    "\n",
    "bam_files = glob.glob(os.path.join(source_folder, '*.bam'))\n",
    "\n",
    "# Use a multiprocessing pool to modify BAM files in parallel\n",
    "with Pool(processes=4) as pool:\n",
    "    pool.starmap(modify_and_save_bam, [(bam_file, dest_folder) for bam_file in bam_files])\n",
    "\n"
   ]
  },
  {
   "cell_type": "code",
   "execution_count": 9,
   "id": "3780eb4a-09c3-407e-8a6e-c8f7ac94150d",
   "metadata": {
    "tags": []
   },
   "outputs": [],
   "source": [
    "import pysam\n",
    "import os\n",
    "from multiprocessing import Pool\n",
    "\n",
    "def modify_and_save_bam(bam_path, dest_folder):\n",
    "    # Open the BAM file\n",
    "    bam = pysam.AlignmentFile(bam_path, \"rb\")\n",
    "    # Make a copy of the header\n",
    "    header = bam.header.to_dict()\n",
    "    \n",
    "    # Modify the 'SQ' lines in the header (which contain the chromosome names)\n",
    "    for sq in header['SQ']:\n",
    "        # Add 'chr' prefix to chromosome names if not already present\n",
    "        if not sq['SN'].startswith('chr'):\n",
    "            sq['SN'] = 'chr' + sq['SN']\n",
    "\n",
    "    # Define the new BAM file path\n",
    "    new_bam_path = os.path.join(dest_folder, os.path.basename(bam_path))\n",
    "    \n",
    "    # Write the new BAM file with the modified header\n",
    "    with pysam.AlignmentFile(new_bam_path, \"wb\", header=pysam.AlignmentHeader.from_dict(header)) as out_bam:\n",
    "        for read in bam:\n",
    "            out_bam.write(read)\n",
    "    \n",
    "    # Close the original BAM file\n",
    "    bam.close()\n",
    "    \n",
    "    # Index the new BAM file\n",
    "    pysam.index(new_bam_path)\n",
    "\n",
    "\n",
    "source_folder = '/media/HDD3/bulk_ATAC_DMs/N2315964_30-927980316_Lib_2023-09-30/Analysi_dir/4_intersect_bam/'\n",
    "dest_folder = '/media/HDD2/donghui/diffTF_ath/diffTF/example/stable/input/data/4_intersect_bam_modified'\n",
    "# Create the destination folder if it does not exist\n",
    "if not os.path.exists(dest_folder):\n",
    "    os.makedirs(dest_folder)\n",
    "\n",
    "bam_files = glob.glob(os.path.join(source_folder, '*.bam'))\n",
    "\n",
    "# Use a multiprocessing pool to modify BAM files in parallel\n",
    "with Pool(processes=4) as pool:\n",
    "    pool.starmap(modify_and_save_bam, [(bam_file, dest_folder) for bam_file in bam_files])\n",
    "\n"
   ]
  },
  {
   "cell_type": "code",
   "execution_count": 13,
   "id": "d6aafb97-4534-4a8f-831a-94b8bf13a418",
   "metadata": {
    "tags": []
   },
   "outputs": [
    {
     "data": {
      "text/plain": [
       "['/media/HDD2/donghui/diffTF_ath/diffTF/example/stable/input/data/4_intersect_bam_modified/OK2_L3_clean_filtered.bam',\n",
       " '/media/HDD2/donghui/diffTF_ath/diffTF/example/stable/input/data/4_intersect_bam_modified/C2_L3_clean_filtered.bam',\n",
       " '/media/HDD2/donghui/diffTF_ath/diffTF/example/stable/input/data/4_intersect_bam_modified/C12B_clean_filtered.bam',\n",
       " '/media/HDD2/donghui/diffTF_ath/diffTF/example/stable/input/data/4_intersect_bam_modified/C1_L3_clean_filtered.bam',\n",
       " '/media/HDD2/donghui/diffTF_ath/diffTF/example/stable/input/data/4_intersect_bam_modified/DM3_clean_filtered.bam',\n",
       " '/media/HDD2/donghui/diffTF_ath/diffTF/example/stable/input/data/4_intersect_bam_modified/C12A_clean_filtered.bam',\n",
       " '/media/HDD2/donghui/diffTF_ath/diffTF/example/stable/input/data/4_intersect_bam_modified/OK1_L3_clean_filtered.bam',\n",
       " '/media/HDD2/donghui/diffTF_ath/diffTF/example/stable/input/data/4_intersect_bam_modified/C12C_clean_filtered.bam',\n",
       " '/media/HDD2/donghui/diffTF_ath/diffTF/example/stable/input/data/4_intersect_bam_modified/DM1_clean_filtered.bam',\n",
       " '/media/HDD2/donghui/diffTF_ath/diffTF/example/stable/input/data/4_intersect_bam_modified/DM2_clean_filtered.bam',\n",
       " '/media/HDD2/donghui/diffTF_ath/diffTF/example/stable/input/data/4_intersect_bam_modified/C3_L3_clean_filtered.bam',\n",
       " '/media/HDD2/donghui/diffTF_ath/diffTF/example/stable/input/data/4_intersect_bam_modified/OK3_L3_clean_filtered.bam']"
      ]
     },
     "execution_count": 13,
     "metadata": {},
     "output_type": "execute_result"
    }
   ],
   "source": [
    "modified_bam_files = glob.glob(os.path.join(dest_folder, '*.bam'))\n",
    "modified_bam_files"
   ]
  },
  {
   "cell_type": "code",
   "execution_count": 11,
   "id": "fc23259c-5d91-4328-a539-79a233b5e22b",
   "metadata": {
    "tags": []
   },
   "outputs": [],
   "source": [
    "def index_bam(bam_path):\n",
    "    # Index the BAM file\n",
    "    pysam.index(bam_path)"
   ]
  },
  {
   "cell_type": "code",
   "execution_count": 12,
   "id": "0f644882-3628-4260-9ad1-41cd168e4bb1",
   "metadata": {
    "tags": []
   },
   "outputs": [],
   "source": [
    "with Pool(processes=12) as pool:\n",
    "    pool.map(index_bam, modified_bam_files)"
   ]
  },
  {
   "cell_type": "code",
   "execution_count": null,
   "id": "0c534a10-1413-4082-9cb0-2e2d6a8c9ea8",
   "metadata": {},
   "outputs": [],
   "source": []
  }
 ],
 "metadata": {
  "kernelspec": {
   "display_name": "Python [conda env:work2] *",
   "language": "python",
   "name": "conda-env-work2-py"
  },
  "language_info": {
   "codemirror_mode": {
    "name": "ipython",
    "version": 3
   },
   "file_extension": ".py",
   "mimetype": "text/x-python",
   "name": "python",
   "nbconvert_exporter": "python",
   "pygments_lexer": "ipython3",
   "version": "3.10.13"
  }
 },
 "nbformat": 4,
 "nbformat_minor": 5
}
